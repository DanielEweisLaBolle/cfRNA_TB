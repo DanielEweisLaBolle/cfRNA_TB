{
 "cells": [
  {
   "cell_type": "code",
   "execution_count": 1,
   "metadata": {
    "vscode": {
     "languageId": "r"
    }
   },
   "outputs": [],
   "source": [
    "suppressMessages(library(tidyverse))\n",
    "suppressMessages(library(clusterProfiler))\n",
    "suppressMessages(library(\"AnnotationDbi\"))\n",
    "suppressMessages(library(\"org.Hs.eg.db\"))\n",
    "library(msigdbr)\n",
    "\n",
    "library(gage)\n",
    "library(gageData)\n",
    "\n",
    "data(kegg.sets.hs)\n",
    "data(sigmet.idx.hs)"
   ]
  },
  {
   "cell_type": "markdown",
   "metadata": {},
   "source": [
    "---\n",
    "## Create signature table"
   ]
  },
  {
   "cell_type": "code",
   "execution_count": 2,
   "metadata": {
    "vscode": {
     "languageId": "r"
    }
   },
   "outputs": [
    {
     "name": "stderr",
     "output_type": "stream",
     "text": [
      "Aggregation function missing: defaulting to length\n",
      "\n"
     ]
    }
   ],
   "source": [
    "sigs <- read.csv(\"./TB_signature_comparisons_all.csv\") %>% mutate(value = 1)\n",
    "\n",
    "sigs %>% \n",
    "    reshape2::dcast(formula = \"List ~ Symbol\", value.var = \"value\") %>% \n",
    "    t() %>% data.frame() %>% \n",
    "    write.table(\"./ALL_SIG_TABLE.csv\", sep = \",\", quote = F, row.names = T, col.names = F)"
   ]
  },
  {
   "cell_type": "markdown",
   "metadata": {},
   "source": [
    "---\n",
    "## Get KEGG, GO, and Hallmark pathways"
   ]
  },
  {
   "cell_type": "code",
   "execution_count": 7,
   "metadata": {
    "vscode": {
     "languageId": "r"
    }
   },
   "outputs": [
    {
     "data": {
      "text/html": [
       "<table class=\"dataframe\">\n",
       "<caption>A data.frame: 6 × 10</caption>\n",
       "<thead>\n",
       "\t<tr><th></th><th scope=col>gene_id</th><th scope=col>baseMean</th><th scope=col>log2FoldChange</th><th scope=col>lfcSE</th><th scope=col>stat</th><th scope=col>pvalue</th><th scope=col>padj</th><th scope=col>gene_name</th><th scope=col>gene_type</th><th scope=col>subID</th></tr>\n",
       "\t<tr><th></th><th scope=col>&lt;chr&gt;</th><th scope=col>&lt;dbl&gt;</th><th scope=col>&lt;dbl&gt;</th><th scope=col>&lt;dbl&gt;</th><th scope=col>&lt;dbl&gt;</th><th scope=col>&lt;dbl&gt;</th><th scope=col>&lt;dbl&gt;</th><th scope=col>&lt;chr&gt;</th><th scope=col>&lt;chr&gt;</th><th scope=col>&lt;chr&gt;</th></tr>\n",
       "</thead>\n",
       "<tbody>\n",
       "\t<tr><th scope=row>1</th><td>ENSG00000223972.5</td><td>0.772045939</td><td>-0.6116703</td><td>0.3454366</td><td>-1.7707167</td><td>0.07660782</td><td>NA</td><td>DDX11L1    </td><td>transcribed_unprocessed_pseudogene</td><td>ENSG00000223972</td></tr>\n",
       "\t<tr><th scope=row>2</th><td>ENSG00000227232.5</td><td>0.524223968</td><td>-0.1007347</td><td>0.2737967</td><td>-0.3679178</td><td>0.71293456</td><td>NA</td><td>WASH7P     </td><td>unprocessed_pseudogene            </td><td>ENSG00000227232</td></tr>\n",
       "\t<tr><th scope=row>3</th><td>ENSG00000278267.1</td><td>0.002551619</td><td>-0.5293662</td><td>2.9216896</td><td>-0.1811849</td><td>0.85622241</td><td>NA</td><td>MIR6859-1  </td><td>miRNA                             </td><td>ENSG00000278267</td></tr>\n",
       "\t<tr><th scope=row>4</th><td>ENSG00000243485.5</td><td>0.093088984</td><td>-0.3774343</td><td>1.0797869</td><td>-0.3495452</td><td>0.72668008</td><td>NA</td><td>MIR1302-2HG</td><td>lncRNA                            </td><td>ENSG00000243485</td></tr>\n",
       "\t<tr><th scope=row>5</th><td>ENSG00000284332.1</td><td>0.000000000</td><td>        NA</td><td>       NA</td><td>        NA</td><td>        NA</td><td>NA</td><td>MIR1302-2  </td><td>miRNA                             </td><td>ENSG00000284332</td></tr>\n",
       "\t<tr><th scope=row>6</th><td>ENSG00000237613.2</td><td>0.062650816</td><td>-0.3624359</td><td>1.4960464</td><td>-0.2422624</td><td>0.80857681</td><td>NA</td><td>FAM138A    </td><td>lncRNA                            </td><td>ENSG00000237613</td></tr>\n",
       "</tbody>\n",
       "</table>\n"
      ],
      "text/latex": [
       "A data.frame: 6 × 10\n",
       "\\begin{tabular}{r|llllllllll}\n",
       "  & gene\\_id & baseMean & log2FoldChange & lfcSE & stat & pvalue & padj & gene\\_name & gene\\_type & subID\\\\\n",
       "  & <chr> & <dbl> & <dbl> & <dbl> & <dbl> & <dbl> & <dbl> & <chr> & <chr> & <chr>\\\\\n",
       "\\hline\n",
       "\t1 & ENSG00000223972.5 & 0.772045939 & -0.6116703 & 0.3454366 & -1.7707167 & 0.07660782 & NA & DDX11L1     & transcribed\\_unprocessed\\_pseudogene & ENSG00000223972\\\\\n",
       "\t2 & ENSG00000227232.5 & 0.524223968 & -0.1007347 & 0.2737967 & -0.3679178 & 0.71293456 & NA & WASH7P      & unprocessed\\_pseudogene             & ENSG00000227232\\\\\n",
       "\t3 & ENSG00000278267.1 & 0.002551619 & -0.5293662 & 2.9216896 & -0.1811849 & 0.85622241 & NA & MIR6859-1   & miRNA                              & ENSG00000278267\\\\\n",
       "\t4 & ENSG00000243485.5 & 0.093088984 & -0.3774343 & 1.0797869 & -0.3495452 & 0.72668008 & NA & MIR1302-2HG & lncRNA                             & ENSG00000243485\\\\\n",
       "\t5 & ENSG00000284332.1 & 0.000000000 &         NA &        NA &         NA &         NA & NA & MIR1302-2   & miRNA                              & ENSG00000284332\\\\\n",
       "\t6 & ENSG00000237613.2 & 0.062650816 & -0.3624359 & 1.4960464 & -0.2422624 & 0.80857681 & NA & FAM138A     & lncRNA                             & ENSG00000237613\\\\\n",
       "\\end{tabular}\n"
      ],
      "text/markdown": [
       "\n",
       "A data.frame: 6 × 10\n",
       "\n",
       "| <!--/--> | gene_id &lt;chr&gt; | baseMean &lt;dbl&gt; | log2FoldChange &lt;dbl&gt; | lfcSE &lt;dbl&gt; | stat &lt;dbl&gt; | pvalue &lt;dbl&gt; | padj &lt;dbl&gt; | gene_name &lt;chr&gt; | gene_type &lt;chr&gt; | subID &lt;chr&gt; |\n",
       "|---|---|---|---|---|---|---|---|---|---|---|\n",
       "| 1 | ENSG00000223972.5 | 0.772045939 | -0.6116703 | 0.3454366 | -1.7707167 | 0.07660782 | NA | DDX11L1     | transcribed_unprocessed_pseudogene | ENSG00000223972 |\n",
       "| 2 | ENSG00000227232.5 | 0.524223968 | -0.1007347 | 0.2737967 | -0.3679178 | 0.71293456 | NA | WASH7P      | unprocessed_pseudogene             | ENSG00000227232 |\n",
       "| 3 | ENSG00000278267.1 | 0.002551619 | -0.5293662 | 2.9216896 | -0.1811849 | 0.85622241 | NA | MIR6859-1   | miRNA                              | ENSG00000278267 |\n",
       "| 4 | ENSG00000243485.5 | 0.093088984 | -0.3774343 | 1.0797869 | -0.3495452 | 0.72668008 | NA | MIR1302-2HG | lncRNA                             | ENSG00000243485 |\n",
       "| 5 | ENSG00000284332.1 | 0.000000000 |         NA |        NA |         NA |         NA | NA | MIR1302-2   | miRNA                              | ENSG00000284332 |\n",
       "| 6 | ENSG00000237613.2 | 0.062650816 | -0.3624359 | 1.4960464 | -0.2422624 | 0.80857681 | NA | FAM138A     | lncRNA                             | ENSG00000237613 |\n",
       "\n"
      ],
      "text/plain": [
       "  gene_id           baseMean    log2FoldChange lfcSE     stat       pvalue    \n",
       "1 ENSG00000223972.5 0.772045939 -0.6116703     0.3454366 -1.7707167 0.07660782\n",
       "2 ENSG00000227232.5 0.524223968 -0.1007347     0.2737967 -0.3679178 0.71293456\n",
       "3 ENSG00000278267.1 0.002551619 -0.5293662     2.9216896 -0.1811849 0.85622241\n",
       "4 ENSG00000243485.5 0.093088984 -0.3774343     1.0797869 -0.3495452 0.72668008\n",
       "5 ENSG00000284332.1 0.000000000         NA            NA         NA         NA\n",
       "6 ENSG00000237613.2 0.062650816 -0.3624359     1.4960464 -0.2422624 0.80857681\n",
       "  padj gene_name   gene_type                          subID          \n",
       "1 NA   DDX11L1     transcribed_unprocessed_pseudogene ENSG00000223972\n",
       "2 NA   WASH7P      unprocessed_pseudogene             ENSG00000227232\n",
       "3 NA   MIR6859-1   miRNA                              ENSG00000278267\n",
       "4 NA   MIR1302-2HG lncRNA                             ENSG00000243485\n",
       "5 NA   MIR1302-2   miRNA                              ENSG00000284332\n",
       "6 NA   FAM138A     lncRNA                             ENSG00000237613"
      ]
     },
     "metadata": {},
     "output_type": "display_data"
    },
    {
     "name": "stderr",
     "output_type": "stream",
     "text": [
      "'select()' returned 1:many mapping between keys and columns\n",
      "\n"
     ]
    },
    {
     "data": {
      "text/html": [
       "<table class=\"dataframe\">\n",
       "<caption>A data.frame: 6 × 11</caption>\n",
       "<thead>\n",
       "\t<tr><th></th><th scope=col>subID</th><th scope=col>gene_id</th><th scope=col>baseMean</th><th scope=col>log2FoldChange</th><th scope=col>lfcSE</th><th scope=col>stat</th><th scope=col>pvalue</th><th scope=col>padj</th><th scope=col>gene_name</th><th scope=col>gene_type</th><th scope=col>entrez</th></tr>\n",
       "\t<tr><th></th><th scope=col>&lt;chr&gt;</th><th scope=col>&lt;chr&gt;</th><th scope=col>&lt;dbl&gt;</th><th scope=col>&lt;dbl&gt;</th><th scope=col>&lt;dbl&gt;</th><th scope=col>&lt;dbl&gt;</th><th scope=col>&lt;dbl&gt;</th><th scope=col>&lt;dbl&gt;</th><th scope=col>&lt;chr&gt;</th><th scope=col>&lt;chr&gt;</th><th scope=col>&lt;chr&gt;</th></tr>\n",
       "</thead>\n",
       "<tbody>\n",
       "\t<tr><th scope=row>1</th><td>ENSG00000000419</td><td>ENSG00000000419.14</td><td> 17.538688</td><td> 0.05683359</td><td>0.07020492</td><td> 0.8095385</td><td>0.41820547</td><td>0.6762803</td><td>DPM1    </td><td>protein_coding</td><td>8813 </td></tr>\n",
       "\t<tr><th scope=row>2</th><td>ENSG00000000457</td><td>ENSG00000000457.14</td><td>  9.700100</td><td>-0.14844600</td><td>0.07844468</td><td>-1.8923655</td><td>0.05844230</td><td>0.2266374</td><td>SCYL3   </td><td>protein_coding</td><td>57147</td></tr>\n",
       "\t<tr><th scope=row>3</th><td>ENSG00000000460</td><td>ENSG00000000460.17</td><td> 13.238671</td><td>-0.19583813</td><td>0.19131023</td><td>-1.0236678</td><td>0.30599219</td><td>0.5756441</td><td>C1orf112</td><td>protein_coding</td><td>55732</td></tr>\n",
       "\t<tr><th scope=row>4</th><td>ENSG00000000938</td><td>ENSG00000000938.13</td><td>111.488393</td><td> 0.13024416</td><td>0.07056582</td><td> 1.8457118</td><td>0.06493407</td><td>0.2417467</td><td>FGR     </td><td>protein_coding</td><td>2268 </td></tr>\n",
       "\t<tr><th scope=row>5</th><td>ENSG00000000971</td><td>ENSG00000000971.16</td><td>  6.797092</td><td>-0.16201445</td><td>0.16668660</td><td>-0.9719704</td><td>0.33106527</td><td>0.5993624</td><td>CFH     </td><td>protein_coding</td><td>3075 </td></tr>\n",
       "\t<tr><th scope=row>6</th><td>ENSG00000001036</td><td>ENSG00000001036.14</td><td>  4.814409</td><td> 0.14246335</td><td>0.13347059</td><td> 1.0673763</td><td>0.28580194</td><td>0.5547198</td><td>FUCA2   </td><td>protein_coding</td><td>2519 </td></tr>\n",
       "</tbody>\n",
       "</table>\n"
      ],
      "text/latex": [
       "A data.frame: 6 × 11\n",
       "\\begin{tabular}{r|lllllllllll}\n",
       "  & subID & gene\\_id & baseMean & log2FoldChange & lfcSE & stat & pvalue & padj & gene\\_name & gene\\_type & entrez\\\\\n",
       "  & <chr> & <chr> & <dbl> & <dbl> & <dbl> & <dbl> & <dbl> & <dbl> & <chr> & <chr> & <chr>\\\\\n",
       "\\hline\n",
       "\t1 & ENSG00000000419 & ENSG00000000419.14 &  17.538688 &  0.05683359 & 0.07020492 &  0.8095385 & 0.41820547 & 0.6762803 & DPM1     & protein\\_coding & 8813 \\\\\n",
       "\t2 & ENSG00000000457 & ENSG00000000457.14 &   9.700100 & -0.14844600 & 0.07844468 & -1.8923655 & 0.05844230 & 0.2266374 & SCYL3    & protein\\_coding & 57147\\\\\n",
       "\t3 & ENSG00000000460 & ENSG00000000460.17 &  13.238671 & -0.19583813 & 0.19131023 & -1.0236678 & 0.30599219 & 0.5756441 & C1orf112 & protein\\_coding & 55732\\\\\n",
       "\t4 & ENSG00000000938 & ENSG00000000938.13 & 111.488393 &  0.13024416 & 0.07056582 &  1.8457118 & 0.06493407 & 0.2417467 & FGR      & protein\\_coding & 2268 \\\\\n",
       "\t5 & ENSG00000000971 & ENSG00000000971.16 &   6.797092 & -0.16201445 & 0.16668660 & -0.9719704 & 0.33106527 & 0.5993624 & CFH      & protein\\_coding & 3075 \\\\\n",
       "\t6 & ENSG00000001036 & ENSG00000001036.14 &   4.814409 &  0.14246335 & 0.13347059 &  1.0673763 & 0.28580194 & 0.5547198 & FUCA2    & protein\\_coding & 2519 \\\\\n",
       "\\end{tabular}\n"
      ],
      "text/markdown": [
       "\n",
       "A data.frame: 6 × 11\n",
       "\n",
       "| <!--/--> | subID &lt;chr&gt; | gene_id &lt;chr&gt; | baseMean &lt;dbl&gt; | log2FoldChange &lt;dbl&gt; | lfcSE &lt;dbl&gt; | stat &lt;dbl&gt; | pvalue &lt;dbl&gt; | padj &lt;dbl&gt; | gene_name &lt;chr&gt; | gene_type &lt;chr&gt; | entrez &lt;chr&gt; |\n",
       "|---|---|---|---|---|---|---|---|---|---|---|---|\n",
       "| 1 | ENSG00000000419 | ENSG00000000419.14 |  17.538688 |  0.05683359 | 0.07020492 |  0.8095385 | 0.41820547 | 0.6762803 | DPM1     | protein_coding | 8813  |\n",
       "| 2 | ENSG00000000457 | ENSG00000000457.14 |   9.700100 | -0.14844600 | 0.07844468 | -1.8923655 | 0.05844230 | 0.2266374 | SCYL3    | protein_coding | 57147 |\n",
       "| 3 | ENSG00000000460 | ENSG00000000460.17 |  13.238671 | -0.19583813 | 0.19131023 | -1.0236678 | 0.30599219 | 0.5756441 | C1orf112 | protein_coding | 55732 |\n",
       "| 4 | ENSG00000000938 | ENSG00000000938.13 | 111.488393 |  0.13024416 | 0.07056582 |  1.8457118 | 0.06493407 | 0.2417467 | FGR      | protein_coding | 2268  |\n",
       "| 5 | ENSG00000000971 | ENSG00000000971.16 |   6.797092 | -0.16201445 | 0.16668660 | -0.9719704 | 0.33106527 | 0.5993624 | CFH      | protein_coding | 3075  |\n",
       "| 6 | ENSG00000001036 | ENSG00000001036.14 |   4.814409 |  0.14246335 | 0.13347059 |  1.0673763 | 0.28580194 | 0.5547198 | FUCA2    | protein_coding | 2519  |\n",
       "\n"
      ],
      "text/plain": [
       "  subID           gene_id            baseMean   log2FoldChange lfcSE     \n",
       "1 ENSG00000000419 ENSG00000000419.14  17.538688  0.05683359    0.07020492\n",
       "2 ENSG00000000457 ENSG00000000457.14   9.700100 -0.14844600    0.07844468\n",
       "3 ENSG00000000460 ENSG00000000460.17  13.238671 -0.19583813    0.19131023\n",
       "4 ENSG00000000938 ENSG00000000938.13 111.488393  0.13024416    0.07056582\n",
       "5 ENSG00000000971 ENSG00000000971.16   6.797092 -0.16201445    0.16668660\n",
       "6 ENSG00000001036 ENSG00000001036.14   4.814409  0.14246335    0.13347059\n",
       "  stat       pvalue     padj      gene_name gene_type      entrez\n",
       "1  0.8095385 0.41820547 0.6762803 DPM1      protein_coding 8813  \n",
       "2 -1.8923655 0.05844230 0.2266374 SCYL3     protein_coding 57147 \n",
       "3 -1.0236678 0.30599219 0.5756441 C1orf112  protein_coding 55732 \n",
       "4  1.8457118 0.06493407 0.2417467 FGR       protein_coding 2268  \n",
       "5 -0.9719704 0.33106527 0.5993624 CFH       protein_coding 3075  \n",
       "6  1.0673763 0.28580194 0.5547198 FUCA2     protein_coding 2519  "
      ]
     },
     "metadata": {},
     "output_type": "display_data"
    }
   ],
   "source": [
    "### load deseq output\n",
    "deseq_output = read.delim(\"./deseq_results (4).tsv\") %>% mutate(subID = gsub(\"\\\\..*\",\"\",gene_id))\n",
    "deseq_output %>% head()\n",
    "\n",
    "\n",
    "### Add entrez ids\n",
    "entrez = mapIds(org.Hs.eg.db,\n",
    "                    keys= deseq_output$subID, #Column containing Ensembl gene ids\n",
    "                    column=\"ENTREZID\",\n",
    "                    keytype=\"ENSEMBL\",\n",
    "                    multiVals=\"first\")\n",
    "\n",
    "entrez <- entrez %>% data.frame() \n",
    "colnames(entrez) <- \"entrez\"\n",
    "deseq_output <- merge(deseq_output, entrez, by.x = \"subID\", by.y = 0,all.x=TRUE)\n",
    "\n",
    "deseq_output %>% head()"
   ]
  },
  {
   "cell_type": "code",
   "execution_count": 8,
   "metadata": {
    "vscode": {
     "languageId": "r"
    }
   },
   "outputs": [
    {
     "name": "stderr",
     "output_type": "stream",
     "text": [
      "Warning message in preparePathwaysAndStats(pathways, stats, minSize, maxSize, gseaParam, :\n",
      "“There are ties in the preranked stats (1.45% of the list).\n",
      "The order of those tied genes will be arbitrary, which may produce unexpected results.”\n",
      "Warning message in fgseaMultilevel(...):\n",
      "“There were 444 pathways for which P-values were not calculated properly due to unbalanced (positive and negative) gene-level statistic values. For such pathways pval, padj, NES, log2err are set to NA. You can try to increase the value of the argument nPermSimple (for example set it nPermSimple = 10000)”\n",
      "Warning message in fgseaMultilevel(...):\n",
      "“For some of the pathways the P-values were likely overestimated. For such pathways log2err is set to NA.”\n",
      "Warning message in fgseaMultilevel(...):\n",
      "“For some pathways, in reality P-values are less than 1e-10. You can set the `eps` argument to zero for better estimation.”\n"
     ]
    },
    {
     "data": {
      "text/html": [
       "<table class=\"dataframe\">\n",
       "<caption>A data.frame: 6 × 11</caption>\n",
       "<thead>\n",
       "\t<tr><th></th><th scope=col>ID</th><th scope=col>Description</th><th scope=col>setSize</th><th scope=col>enrichmentScore</th><th scope=col>NES</th><th scope=col>pvalue</th><th scope=col>p.adjust</th><th scope=col>qvalues</th><th scope=col>rank</th><th scope=col>leading_edge</th><th scope=col>core_enrichment</th></tr>\n",
       "\t<tr><th></th><th scope=col>&lt;chr&gt;</th><th scope=col>&lt;chr&gt;</th><th scope=col>&lt;int&gt;</th><th scope=col>&lt;dbl&gt;</th><th scope=col>&lt;dbl&gt;</th><th scope=col>&lt;dbl&gt;</th><th scope=col>&lt;dbl&gt;</th><th scope=col>&lt;dbl&gt;</th><th scope=col>&lt;dbl&gt;</th><th scope=col>&lt;chr&gt;</th><th scope=col>&lt;chr&gt;</th></tr>\n",
       "</thead>\n",
       "<tbody>\n",
       "\t<tr><th scope=row>GO:0000070</th><td>GO:0000070</td><td>mitotic sister chromatid segregation              </td><td>162</td><td>0.4008520</td><td>2.251412</td><td>1e-10</td><td>1.965703e-09</td><td>5.802814e-10</td><td>5915</td><td>tags=35%, list=19%, signal=28%</td><td>701/285643/9232/11004/81620/9700/83540/113130/5347/4751/9055/79075/990/9212/11065/699/11130/10615/7272/29127/51529/64151/55143/27127/9787/83903/3833/642636/9493/151648/3834/146909/10540/54892/9555/991/4085/9735/10300/10459/10403/26271/151246/7283/1843/79998/1062/5119/84722/90417/10460/128866/3837/9587/23636/56984                                                                                                                                      </td></tr>\n",
       "\t<tr><th scope=row>GO:0000819</th><td>GO:0000819</td><td>sister chromatid segregation                      </td><td>189</td><td>0.3825177</td><td>2.201965</td><td>1e-10</td><td>1.965703e-09</td><td>5.802814e-10</td><td>5915</td><td>tags=33%, list=19%, signal=27%</td><td>701/285643/9232/11004/81620/9700/83540/113130/5347/4751/9055/79075/990/9212/11065/7153/699/11130/10615/7272/29127/2237/51529/116028/150280/64151/55143/27127/9787/83903/3833/642636/9493/151648/3834/146909/10734/157570/10540/79892/54892/9555/991/4085/9735/10300/10459/10403/26271/151246/7283/1843/79998/1062/5119/84722/90417/10460/128866/3837/9587/23636/56984                                                                                           </td></tr>\n",
       "\t<tr><th scope=row>GO:0001505</th><td>GO:0001505</td><td>regulation of neurotransmitter levels             </td><td>200</td><td>0.3851766</td><td>2.202084</td><td>1e-10</td><td>1.965703e-09</td><td>5.802814e-10</td><td>5681</td><td>tags=42%, list=18%, signal=35%</td><td>3766/116443/6539/2572/9152/440279/143425/2914/590/8825/8499/145270/6861/6507/25953/5582/6512/2901/8618/6582/9699/120892/815/339302/5865/3176/6511/27445/26002/148/5413/8447/8775/1312/6529/148281/23621/808/1812/11315/2571/8676/150/783/80736/43/9378/41/10211/90019/23396/3690/2555/8541/3688/8773/222962/6506/10497/9342/6854/1103/79772/5538/6530/477/55784/5023/6809/9379/5071/23413/63908/2030/112755/84062/8224/3356/2670/23557/6804/100289017/23208/6813</td></tr>\n",
       "\t<tr><th scope=row>GO:0001906</th><td>GO:0001906</td><td>cell killing                                      </td><td>175</td><td>0.4222374</td><td>2.375054</td><td>1e-10</td><td>1.965703e-09</td><td>5.802814e-10</td><td>4532</td><td>tags=33%, list=15%, signal=28%</td><td>1669/1668/1991/566/1511/8993/820/4057/383/81494/735/3606/6283/4069/634/3105/1113/3151/7305/3805/57823/149233/3952/3106/3135/3916/10383/8807/2597/4589/8970/3133/59067/3078/6688/80329/64581/3140/140823/409/909/85236/9437/146850/3684/4615/10859/3902/201294/3594/5027/4843/3592/11035/3965/3273/57817/5196                                                                                                                                                    </td></tr>\n",
       "\t<tr><th scope=row>GO:0002221</th><td>GO:0002221</td><td>pattern recognition receptor signaling pathway    </td><td>158</td><td>0.4293770</td><td>2.392785</td><td>1e-10</td><td>1.965703e-09</td><td>5.802814e-10</td><td>6408</td><td>tags=44%, list=21%, signal=35%</td><td>4057/57402/26253/9971/2867/3659/2672/3304/3430/7301/2219/92610/10062/2099/23643/4814/55765/80216/57590/64127/285852/26007/6565/1520/57864/11314/3303/1535/7867/409/9111/10211/8638/929/9261/55366/4615/4940/353376/8767/11213/3665/56927/118788/79671/81570/64135/7353/388325/3929/7096/114609/338382/11027/7100/4067/146722/84282/7099/25921/6397/7097/3146/81035/10333/4938/130120/23586/148022                                                               </td></tr>\n",
       "\t<tr><th scope=row>GO:0002833</th><td>GO:0002833</td><td>positive regulation of response to biotic stimulus</td><td>155</td><td>0.4426869</td><td>2.480737</td><td>1e-10</td><td>1.965703e-09</td><td>5.802814e-10</td><td>5503</td><td>tags=40%, list=18%, signal=33%</td><td>115362/29126/383/9447/5225/338322/2867/58484/117854/3430/2219/7305/3805/2358/400709/4332/3135/3916/83666/5359/8807/23643/5322/3133/6714/59067/29108/6688/55122/64127/64581/3140/1535/5058/9111/8638/3148/3902/2896/3665/3592/6352/3273/388325/3929/3263/3134/3055/5819/114609/354/3593/11027/3428/4067/115004/57506/84166/7099/3320/5578/81030                                                                                                                  </td></tr>\n",
       "</tbody>\n",
       "</table>\n"
      ],
      "text/latex": [
       "A data.frame: 6 × 11\n",
       "\\begin{tabular}{r|lllllllllll}\n",
       "  & ID & Description & setSize & enrichmentScore & NES & pvalue & p.adjust & qvalues & rank & leading\\_edge & core\\_enrichment\\\\\n",
       "  & <chr> & <chr> & <int> & <dbl> & <dbl> & <dbl> & <dbl> & <dbl> & <dbl> & <chr> & <chr>\\\\\n",
       "\\hline\n",
       "\tGO:0000070 & GO:0000070 & mitotic sister chromatid segregation               & 162 & 0.4008520 & 2.251412 & 1e-10 & 1.965703e-09 & 5.802814e-10 & 5915 & tags=35\\%, list=19\\%, signal=28\\% & 701/285643/9232/11004/81620/9700/83540/113130/5347/4751/9055/79075/990/9212/11065/699/11130/10615/7272/29127/51529/64151/55143/27127/9787/83903/3833/642636/9493/151648/3834/146909/10540/54892/9555/991/4085/9735/10300/10459/10403/26271/151246/7283/1843/79998/1062/5119/84722/90417/10460/128866/3837/9587/23636/56984                                                                                                                                      \\\\\n",
       "\tGO:0000819 & GO:0000819 & sister chromatid segregation                       & 189 & 0.3825177 & 2.201965 & 1e-10 & 1.965703e-09 & 5.802814e-10 & 5915 & tags=33\\%, list=19\\%, signal=27\\% & 701/285643/9232/11004/81620/9700/83540/113130/5347/4751/9055/79075/990/9212/11065/7153/699/11130/10615/7272/29127/2237/51529/116028/150280/64151/55143/27127/9787/83903/3833/642636/9493/151648/3834/146909/10734/157570/10540/79892/54892/9555/991/4085/9735/10300/10459/10403/26271/151246/7283/1843/79998/1062/5119/84722/90417/10460/128866/3837/9587/23636/56984                                                                                           \\\\\n",
       "\tGO:0001505 & GO:0001505 & regulation of neurotransmitter levels              & 200 & 0.3851766 & 2.202084 & 1e-10 & 1.965703e-09 & 5.802814e-10 & 5681 & tags=42\\%, list=18\\%, signal=35\\% & 3766/116443/6539/2572/9152/440279/143425/2914/590/8825/8499/145270/6861/6507/25953/5582/6512/2901/8618/6582/9699/120892/815/339302/5865/3176/6511/27445/26002/148/5413/8447/8775/1312/6529/148281/23621/808/1812/11315/2571/8676/150/783/80736/43/9378/41/10211/90019/23396/3690/2555/8541/3688/8773/222962/6506/10497/9342/6854/1103/79772/5538/6530/477/55784/5023/6809/9379/5071/23413/63908/2030/112755/84062/8224/3356/2670/23557/6804/100289017/23208/6813\\\\\n",
       "\tGO:0001906 & GO:0001906 & cell killing                                       & 175 & 0.4222374 & 2.375054 & 1e-10 & 1.965703e-09 & 5.802814e-10 & 4532 & tags=33\\%, list=15\\%, signal=28\\% & 1669/1668/1991/566/1511/8993/820/4057/383/81494/735/3606/6283/4069/634/3105/1113/3151/7305/3805/57823/149233/3952/3106/3135/3916/10383/8807/2597/4589/8970/3133/59067/3078/6688/80329/64581/3140/140823/409/909/85236/9437/146850/3684/4615/10859/3902/201294/3594/5027/4843/3592/11035/3965/3273/57817/5196                                                                                                                                                    \\\\\n",
       "\tGO:0002221 & GO:0002221 & pattern recognition receptor signaling pathway     & 158 & 0.4293770 & 2.392785 & 1e-10 & 1.965703e-09 & 5.802814e-10 & 6408 & tags=44\\%, list=21\\%, signal=35\\% & 4057/57402/26253/9971/2867/3659/2672/3304/3430/7301/2219/92610/10062/2099/23643/4814/55765/80216/57590/64127/285852/26007/6565/1520/57864/11314/3303/1535/7867/409/9111/10211/8638/929/9261/55366/4615/4940/353376/8767/11213/3665/56927/118788/79671/81570/64135/7353/388325/3929/7096/114609/338382/11027/7100/4067/146722/84282/7099/25921/6397/7097/3146/81035/10333/4938/130120/23586/148022                                                               \\\\\n",
       "\tGO:0002833 & GO:0002833 & positive regulation of response to biotic stimulus & 155 & 0.4426869 & 2.480737 & 1e-10 & 1.965703e-09 & 5.802814e-10 & 5503 & tags=40\\%, list=18\\%, signal=33\\% & 115362/29126/383/9447/5225/338322/2867/58484/117854/3430/2219/7305/3805/2358/400709/4332/3135/3916/83666/5359/8807/23643/5322/3133/6714/59067/29108/6688/55122/64127/64581/3140/1535/5058/9111/8638/3148/3902/2896/3665/3592/6352/3273/388325/3929/3263/3134/3055/5819/114609/354/3593/11027/3428/4067/115004/57506/84166/7099/3320/5578/81030                                                                                                                  \\\\\n",
       "\\end{tabular}\n"
      ],
      "text/markdown": [
       "\n",
       "A data.frame: 6 × 11\n",
       "\n",
       "| <!--/--> | ID &lt;chr&gt; | Description &lt;chr&gt; | setSize &lt;int&gt; | enrichmentScore &lt;dbl&gt; | NES &lt;dbl&gt; | pvalue &lt;dbl&gt; | p.adjust &lt;dbl&gt; | qvalues &lt;dbl&gt; | rank &lt;dbl&gt; | leading_edge &lt;chr&gt; | core_enrichment &lt;chr&gt; |\n",
       "|---|---|---|---|---|---|---|---|---|---|---|---|\n",
       "| GO:0000070 | GO:0000070 | mitotic sister chromatid segregation               | 162 | 0.4008520 | 2.251412 | 1e-10 | 1.965703e-09 | 5.802814e-10 | 5915 | tags=35%, list=19%, signal=28% | 701/285643/9232/11004/81620/9700/83540/113130/5347/4751/9055/79075/990/9212/11065/699/11130/10615/7272/29127/51529/64151/55143/27127/9787/83903/3833/642636/9493/151648/3834/146909/10540/54892/9555/991/4085/9735/10300/10459/10403/26271/151246/7283/1843/79998/1062/5119/84722/90417/10460/128866/3837/9587/23636/56984                                                                                                                                       |\n",
       "| GO:0000819 | GO:0000819 | sister chromatid segregation                       | 189 | 0.3825177 | 2.201965 | 1e-10 | 1.965703e-09 | 5.802814e-10 | 5915 | tags=33%, list=19%, signal=27% | 701/285643/9232/11004/81620/9700/83540/113130/5347/4751/9055/79075/990/9212/11065/7153/699/11130/10615/7272/29127/2237/51529/116028/150280/64151/55143/27127/9787/83903/3833/642636/9493/151648/3834/146909/10734/157570/10540/79892/54892/9555/991/4085/9735/10300/10459/10403/26271/151246/7283/1843/79998/1062/5119/84722/90417/10460/128866/3837/9587/23636/56984                                                                                            |\n",
       "| GO:0001505 | GO:0001505 | regulation of neurotransmitter levels              | 200 | 0.3851766 | 2.202084 | 1e-10 | 1.965703e-09 | 5.802814e-10 | 5681 | tags=42%, list=18%, signal=35% | 3766/116443/6539/2572/9152/440279/143425/2914/590/8825/8499/145270/6861/6507/25953/5582/6512/2901/8618/6582/9699/120892/815/339302/5865/3176/6511/27445/26002/148/5413/8447/8775/1312/6529/148281/23621/808/1812/11315/2571/8676/150/783/80736/43/9378/41/10211/90019/23396/3690/2555/8541/3688/8773/222962/6506/10497/9342/6854/1103/79772/5538/6530/477/55784/5023/6809/9379/5071/23413/63908/2030/112755/84062/8224/3356/2670/23557/6804/100289017/23208/6813 |\n",
       "| GO:0001906 | GO:0001906 | cell killing                                       | 175 | 0.4222374 | 2.375054 | 1e-10 | 1.965703e-09 | 5.802814e-10 | 4532 | tags=33%, list=15%, signal=28% | 1669/1668/1991/566/1511/8993/820/4057/383/81494/735/3606/6283/4069/634/3105/1113/3151/7305/3805/57823/149233/3952/3106/3135/3916/10383/8807/2597/4589/8970/3133/59067/3078/6688/80329/64581/3140/140823/409/909/85236/9437/146850/3684/4615/10859/3902/201294/3594/5027/4843/3592/11035/3965/3273/57817/5196                                                                                                                                                     |\n",
       "| GO:0002221 | GO:0002221 | pattern recognition receptor signaling pathway     | 158 | 0.4293770 | 2.392785 | 1e-10 | 1.965703e-09 | 5.802814e-10 | 6408 | tags=44%, list=21%, signal=35% | 4057/57402/26253/9971/2867/3659/2672/3304/3430/7301/2219/92610/10062/2099/23643/4814/55765/80216/57590/64127/285852/26007/6565/1520/57864/11314/3303/1535/7867/409/9111/10211/8638/929/9261/55366/4615/4940/353376/8767/11213/3665/56927/118788/79671/81570/64135/7353/388325/3929/7096/114609/338382/11027/7100/4067/146722/84282/7099/25921/6397/7097/3146/81035/10333/4938/130120/23586/148022                                                                |\n",
       "| GO:0002833 | GO:0002833 | positive regulation of response to biotic stimulus | 155 | 0.4426869 | 2.480737 | 1e-10 | 1.965703e-09 | 5.802814e-10 | 5503 | tags=40%, list=18%, signal=33% | 115362/29126/383/9447/5225/338322/2867/58484/117854/3430/2219/7305/3805/2358/400709/4332/3135/3916/83666/5359/8807/23643/5322/3133/6714/59067/29108/6688/55122/64127/64581/3140/1535/5058/9111/8638/3148/3902/2896/3665/3592/6352/3273/388325/3929/3263/3134/3055/5819/114609/354/3593/11027/3428/4067/115004/57506/84166/7099/3320/5578/81030                                                                                                                   |\n",
       "\n"
      ],
      "text/plain": [
       "           ID         Description                                       \n",
       "GO:0000070 GO:0000070 mitotic sister chromatid segregation              \n",
       "GO:0000819 GO:0000819 sister chromatid segregation                      \n",
       "GO:0001505 GO:0001505 regulation of neurotransmitter levels             \n",
       "GO:0001906 GO:0001906 cell killing                                      \n",
       "GO:0002221 GO:0002221 pattern recognition receptor signaling pathway    \n",
       "GO:0002833 GO:0002833 positive regulation of response to biotic stimulus\n",
       "           setSize enrichmentScore NES      pvalue p.adjust     qvalues     \n",
       "GO:0000070 162     0.4008520       2.251412 1e-10  1.965703e-09 5.802814e-10\n",
       "GO:0000819 189     0.3825177       2.201965 1e-10  1.965703e-09 5.802814e-10\n",
       "GO:0001505 200     0.3851766       2.202084 1e-10  1.965703e-09 5.802814e-10\n",
       "GO:0001906 175     0.4222374       2.375054 1e-10  1.965703e-09 5.802814e-10\n",
       "GO:0002221 158     0.4293770       2.392785 1e-10  1.965703e-09 5.802814e-10\n",
       "GO:0002833 155     0.4426869       2.480737 1e-10  1.965703e-09 5.802814e-10\n",
       "           rank leading_edge                  \n",
       "GO:0000070 5915 tags=35%, list=19%, signal=28%\n",
       "GO:0000819 5915 tags=33%, list=19%, signal=27%\n",
       "GO:0001505 5681 tags=42%, list=18%, signal=35%\n",
       "GO:0001906 4532 tags=33%, list=15%, signal=28%\n",
       "GO:0002221 6408 tags=44%, list=21%, signal=35%\n",
       "GO:0002833 5503 tags=40%, list=18%, signal=33%\n",
       "           core_enrichment                                                                                                                                                                                                                                                                                                                                                                                                                                                 \n",
       "GO:0000070 701/285643/9232/11004/81620/9700/83540/113130/5347/4751/9055/79075/990/9212/11065/699/11130/10615/7272/29127/51529/64151/55143/27127/9787/83903/3833/642636/9493/151648/3834/146909/10540/54892/9555/991/4085/9735/10300/10459/10403/26271/151246/7283/1843/79998/1062/5119/84722/90417/10460/128866/3837/9587/23636/56984                                                                                                                                      \n",
       "GO:0000819 701/285643/9232/11004/81620/9700/83540/113130/5347/4751/9055/79075/990/9212/11065/7153/699/11130/10615/7272/29127/2237/51529/116028/150280/64151/55143/27127/9787/83903/3833/642636/9493/151648/3834/146909/10734/157570/10540/79892/54892/9555/991/4085/9735/10300/10459/10403/26271/151246/7283/1843/79998/1062/5119/84722/90417/10460/128866/3837/9587/23636/56984                                                                                           \n",
       "GO:0001505 3766/116443/6539/2572/9152/440279/143425/2914/590/8825/8499/145270/6861/6507/25953/5582/6512/2901/8618/6582/9699/120892/815/339302/5865/3176/6511/27445/26002/148/5413/8447/8775/1312/6529/148281/23621/808/1812/11315/2571/8676/150/783/80736/43/9378/41/10211/90019/23396/3690/2555/8541/3688/8773/222962/6506/10497/9342/6854/1103/79772/5538/6530/477/55784/5023/6809/9379/5071/23413/63908/2030/112755/84062/8224/3356/2670/23557/6804/100289017/23208/6813\n",
       "GO:0001906 1669/1668/1991/566/1511/8993/820/4057/383/81494/735/3606/6283/4069/634/3105/1113/3151/7305/3805/57823/149233/3952/3106/3135/3916/10383/8807/2597/4589/8970/3133/59067/3078/6688/80329/64581/3140/140823/409/909/85236/9437/146850/3684/4615/10859/3902/201294/3594/5027/4843/3592/11035/3965/3273/57817/5196                                                                                                                                                    \n",
       "GO:0002221 4057/57402/26253/9971/2867/3659/2672/3304/3430/7301/2219/92610/10062/2099/23643/4814/55765/80216/57590/64127/285852/26007/6565/1520/57864/11314/3303/1535/7867/409/9111/10211/8638/929/9261/55366/4615/4940/353376/8767/11213/3665/56927/118788/79671/81570/64135/7353/388325/3929/7096/114609/338382/11027/7100/4067/146722/84282/7099/25921/6397/7097/3146/81035/10333/4938/130120/23586/148022                                                               \n",
       "GO:0002833 115362/29126/383/9447/5225/338322/2867/58484/117854/3430/2219/7305/3805/2358/400709/4332/3135/3916/83666/5359/8807/23643/5322/3133/6714/59067/29108/6688/55122/64127/64581/3140/1535/5058/9111/8638/3148/3902/2896/3665/3592/6352/3273/388325/3929/3263/3134/3055/5819/114609/354/3593/11027/3428/4067/115004/57506/84166/7099/3320/5578/81030                                                                                                                  "
      ]
     },
     "metadata": {},
     "output_type": "display_data"
    },
    {
     "name": "stderr",
     "output_type": "stream",
     "text": [
      "preparing geneSet collections...\n",
      "\n",
      "GSEA analysis...\n",
      "\n",
      "Warning message in preparePathwaysAndStats(pathways, stats, minSize, maxSize, gseaParam, :\n",
      "“There are ties in the preranked stats (1.45% of the list).\n",
      "The order of those tied genes will be arbitrary, which may produce unexpected results.”\n",
      "Warning message in fgseaMultilevel(...):\n",
      "“There were 10 pathways for which P-values were not calculated properly due to unbalanced (positive and negative) gene-level statistic values. For such pathways pval, padj, NES, log2err are set to NA. You can try to increase the value of the argument nPermSimple (for example set it nPermSimple = 10000)”\n",
      "Warning message in fgseaMultilevel(...):\n",
      "“For some pathways, in reality P-values are less than 1e-10. You can set the `eps` argument to zero for better estimation.”\n",
      "leading edge analysis...\n",
      "\n",
      "done...\n",
      "\n"
     ]
    }
   ],
   "source": [
    "###-------------------------\n",
    "### CREATE GENELIST\n",
    "###-------------------------\n",
    "## remove doubles\n",
    "doubles <- deseq_output %>% group_by(entrez) %>% count() %>% filter(n>1) %>% pull(entrez)\n",
    "deseq_output <- deseq_output %>% filter(!(entrez %in% doubles))\n",
    "\n",
    "## create gene list\n",
    "geneList <- as.numeric(deseq_output$log2FoldChange)\n",
    "names(geneList) = as.character(deseq_output$entrez)\n",
    "geneList = sort(geneList, decreasing = TRUE)\n",
    "\n",
    "\n",
    "###-------------------------\n",
    "### GO\n",
    "###-------------------------\n",
    "GO_res <- gseGO(geneList     = geneList,\n",
    "              OrgDb        = org.Hs.eg.db,\n",
    "              ont          = \"BP\",\n",
    "              minGSSize    = 100,\n",
    "              maxGSSize    = 500,\n",
    "              pvalueCutoff = 0.05,\n",
    "              verbose      = FALSE)\n",
    "\n",
    "GO_res %>% head()\n",
    "\n",
    "\n",
    "###-------------------------\n",
    "### KEGG\n",
    "###-------------------------\n",
    "kegg.sets.hs = kegg.sets.hs[sigmet.idx.hs]\n",
    "\n",
    "KEGG_res <- gage(geneList, gsets = kegg.sets.hs, same.dir=TRUE)\n",
    "KEGG_res <- rbind(KEGG_res$greater %>% data.frame() %>% mutate(dir = \"greater\"),\n",
    "                    KEGG_res$less %>% data.frame() %>% mutate(dir = \"less\")) %>% \n",
    "            data.frame()\n",
    "\n",
    "\n",
    "###-------------------------\n",
    "### HALLMARK\n",
    "###-------------------------\n",
    "H_t2g <- msigdbr(species = \"Homo sapiens\", category = \"H\") %>% \n",
    "  dplyr::select(gs_name, entrez_gene)\n",
    "HM_res <- GSEA(geneList, TERM2GENE = H_t2g)\n"
   ]
  },
  {
   "cell_type": "code",
   "execution_count": 15,
   "metadata": {
    "vscode": {
     "languageId": "r"
    }
   },
   "outputs": [],
   "source": [
    "GO_res %>% write.csv(\"./2024.01.04_GO-RES.csv\",quote=FALSE, row.names=TRUE)\n",
    "KEGG_res %>% write.csv(\"./2024.01.04_KEGG-RES.csv\",quote=FALSE, row.names=TRUE)\n",
    "HM_res %>% write.csv(\"./2024.01.04_HM-RES.csv\",quote=FALSE, row.names=TRUE)"
   ]
  },
  {
   "cell_type": "code",
   "execution_count": null,
   "metadata": {
    "vscode": {
     "languageId": "r"
    }
   },
   "outputs": [],
   "source": []
  }
 ],
 "metadata": {
  "kernelspec": {
   "display_name": "R",
   "language": "R",
   "name": "ir"
  },
  "language_info": {
   "codemirror_mode": "r",
   "file_extension": ".r",
   "mimetype": "text/x-r-source",
   "name": "R",
   "pygments_lexer": "r",
   "version": "4.1.1"
  },
  "orig_nbformat": 4
 },
 "nbformat": 4,
 "nbformat_minor": 2
}
