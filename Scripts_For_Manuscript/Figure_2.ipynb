{
 "cells": [
  {
   "cell_type": "code",
   "execution_count": 1,
   "id": "079f9ec9-c831-4a25-ac43-0af20f2a0fbc",
   "metadata": {},
   "outputs": [
    {
     "name": "stderr",
     "output_type": "stream",
     "text": [
      "Warning message:\n",
      "“package ‘DESeq2’ was built under R version 4.2.2”\n",
      "Warning message:\n",
      "“package ‘S4Vectors’ was built under R version 4.2.1”\n",
      "Warning message:\n",
      "“package ‘BiocGenerics’ was built under R version 4.2.1”\n",
      "Warning message:\n",
      "“package ‘IRanges’ was built under R version 4.2.1”\n",
      "Warning message:\n",
      "“package ‘GenomicRanges’ was built under R version 4.2.2”\n",
      "Warning message:\n",
      "“package ‘GenomeInfoDb’ was built under R version 4.2.3”\n",
      "Warning message:\n",
      "“package ‘SummarizedExperiment’ was built under R version 4.2.2”\n",
      "Warning message:\n",
      "“package ‘MatrixGenerics’ was built under R version 4.2.1”\n",
      "Warning message:\n",
      "“package ‘Biobase’ was built under R version 4.2.1”\n"
     ]
    }
   ],
   "source": [
    "suppressMessages(library(caret))\n",
    "suppressMessages(library(dplyr))\n",
    "suppressMessages(library(ggplot2))\n",
    "suppressMessages(library(ggvenn))\n",
    "suppressMessages(library(reshape2))\n",
    "suppressMessages(library(pROC))\n",
    "suppressMessages(library(magrittr))\n",
    "suppressMessages(library(tidyr))\n",
    "suppressMessages(library(stringr))\n",
    "suppressMessages(library(DESeq2))\n",
    "suppressMessages(library(binom))\n",
    "suppressMessages(library(polycor))\n",
    "gene.list = read.delim(\"../Files_For_Manuscript/gencode.biotype.name.key.tsv\")\n"
   ]
  },
  {
   "cell_type": "code",
   "execution_count": 26,
   "id": "7a85299d-0ca5-4df8-9d13-efc947fb8c9c",
   "metadata": {},
   "outputs": [
    {
     "data": {
      "text/plain": [
       "\n",
       "Female   Male \n",
       "    41     57 "
      ]
     },
     "metadata": {},
     "output_type": "display_data"
    },
    {
     "data": {
      "text/plain": [
       "\n",
       "Female   Male \n",
       "    35     58 "
      ]
     },
     "metadata": {},
     "output_type": "display_data"
    },
    {
     "data": {
      "text/plain": [
       "\n",
       "Female   Male \n",
       "    19     41 "
      ]
     },
     "metadata": {},
     "output_type": "display_data"
    },
    {
     "data": {
      "text/plain": [
       "\n",
       "negative positive \n",
       "      48       50 "
      ]
     },
     "metadata": {},
     "output_type": "display_data"
    },
    {
     "data": {
      "text/plain": [
       "\n",
       "negative positive \n",
       "      36       57 "
      ]
     },
     "metadata": {},
     "output_type": "display_data"
    },
    {
     "data": {
      "text/plain": [
       "\n",
       "negative positive \n",
       "      25       35 "
      ]
     },
     "metadata": {},
     "output_type": "display_data"
    },
    {
     "data": {
      "text/html": [
       "251"
      ],
      "text/latex": [
       "251"
      ],
      "text/markdown": [
       "251"
      ],
      "text/plain": [
       "[1] 251"
      ]
     },
     "metadata": {},
     "output_type": "display_data"
    }
   ],
   "source": [
    "r = metadata_all %>% filter(cohort == \"R2D2\")\n",
    "table(r$sex)\n",
    "r = metadata_all %>% filter(cohort == \"GHL\")\n",
    "table(r$sex)\n",
    "r = metadata_all %>% filter(cohort == \"TBSQUARE\")\n",
    "table(r$sex)\n",
    "\n",
    "\n",
    "\n",
    "r = metadata_all %>% filter(cohort == \"R2D2\")\n",
    "table(r$tb)\n",
    "r = metadata_all %>% filter(cohort == \"GHL\")\n",
    "table(r$tb)\n",
    "r = metadata_all %>% filter(cohort == \"TBSQUARE\")\n",
    "table(r$tb)\n",
    "\n",
    "nrow(norm_plot_dat_all)"
   ]
  },
  {
   "cell_type": "markdown",
   "id": "9876b9f4",
   "metadata": {
    "tags": []
   },
   "source": [
    "---\n",
    "## Data Prep"
   ]
  },
  {
   "cell_type": "markdown",
   "id": "953f343e-b7d2-4680-9be0-24802475fc49",
   "metadata": {},
   "source": [
    "    ###### NOTE ###### \n",
    "\n",
    "Cohort 1, 2 and 3 from\n",
    "the manuscript are named  \n",
    "by their original sample id and \n",
    "cohort names in the  \n",
    "metadata and\n",
    "count matrices.  \n",
    "\n",
    "**For all code used here:  \n",
    "Cohort 1 = GHL  \n",
    "Cohort 2 = R2D2  \n",
    "Cohort 3 (validation) = TBSQUARE**\n",
    "\n"
   ]
  },
  {
   "cell_type": "code",
   "execution_count": 2,
   "id": "302524dc",
   "metadata": {
    "tags": [],
    "vscode": {
     "languageId": "r"
    }
   },
   "outputs": [],
   "source": [
    "#Set Seed \n",
    "set.seed(87)\n",
    "\n",
    "# # Read in  Counts\n",
    "counts_train = read.delim(\"../Files_For_Manuscript/counts.train.tsv\")\n",
    "counts_test = read.delim(\"../Files_For_Manuscript/counts.test.tsv\")\n",
    "counts_val = read.delim(\"../Files_For_Manuscript/counts.val.tsv\")\n",
    "\n",
    "# Read in Metadata\n",
    "metadata_train = read.delim(\"../Files_For_Manuscript/metadata.train.tsv\")\n",
    "metadata_test = read.delim(\"../Files_For_Manuscript/metadata.test.tsv\")\n",
    "metadata_val = read.delim(\"../Files_For_Manuscript/metadata.val.tsv\")\n",
    "\n",
    "#Kisenyi and Mulago are sample collection sites from Uganda.\n",
    "#We relabel them here as one country\n",
    "metadata_train <- metadata_train %>%\n",
    "  mutate(Country = ifelse(site %in% c(\"Kisenyi\", \"Mulago\"), \"Uganda\", site))\n",
    "\n",
    "metadata_test <- metadata_test %>%\n",
    "  mutate(Country = ifelse(site %in% c(\"Kisenyi\", \"Mulago\"), \"Uganda\", site))\n",
    "\n",
    "metadata_val <- metadata_val %>%\n",
    "  mutate(Country = ifelse(site %in% c(\"Kisenyi\", \"Mulago\"), \"Uganda\", site))\n",
    "\n",
    "\n",
    "metadata_all = rbind(metadata_train, metadata_test, metadata_val)"
   ]
  },
  {
   "cell_type": "markdown",
   "id": "ca7d5aba-95cd-4b91-b32f-46bbfbd6a1b5",
   "metadata": {},
   "source": [
    "# DESEQ2"
   ]
  },
  {
   "cell_type": "code",
   "execution_count": 3,
   "id": "7424900c-ae67-451d-a274-36cac593298b",
   "metadata": {
    "tags": [],
    "vscode": {
     "languageId": "r"
    }
   },
   "outputs": [
    {
     "data": {
      "text/html": [
       "TRUE"
      ],
      "text/latex": [
       "TRUE"
      ],
      "text/markdown": [
       "TRUE"
      ],
      "text/plain": [
       "[1] TRUE"
      ]
     },
     "metadata": {},
     "output_type": "display_data"
    },
    {
     "name": "stderr",
     "output_type": "stream",
     "text": [
      "Warning message in DESeqDataSet(se, design = design, ignoreRank):\n",
      "“some variables in design formula are characters, converting to factors”\n",
      "estimating size factors\n",
      "\n",
      "estimating dispersions\n",
      "\n",
      "gene-wise dispersion estimates\n",
      "\n",
      "mean-dispersion relationship\n",
      "\n",
      "final dispersion estimates\n",
      "\n",
      "fitting model and testing\n",
      "\n",
      "-- replacing outliers and refitting for 312 genes\n",
      "-- DESeq argument 'minReplicatesForReplace' = 7 \n",
      "-- original counts are preserved in counts(dds)\n",
      "\n",
      "estimating dispersions\n",
      "\n",
      "fitting model and testing\n",
      "\n"
     ]
    }
   ],
   "source": [
    "## Prepare data for Deseq2\n",
    "meta_col = metadata_train\n",
    "disc_cts = counts_train\n",
    "#Subset Columns\n",
    "meta_col = meta_col %>% select(\"sample_id\", \"tb\")\n",
    "rownames(meta_col) = meta_col$sample_id\n",
    "#Check for alignment\n",
    "all(colnames(disc_cts) == rownames(meta_col))\n",
    "\n",
    "\n",
    "## run Deseq2 & extract results\n",
    "dds <- DESeqDataSetFromMatrix(countData = disc_cts,\n",
    "                             colData = meta_col,\n",
    "                             design = ~ tb)\n",
    "dds <- DESeq(dds)\n",
    "res <- results(dds)\n",
    "\n",
    "## Extract results\n",
    "res_df = results(dds,alpha=0.05,contrast = c(\"tb\",\"positive\", \"negative\")) %>% data.frame()\n",
    "#Get the Gene ID's as a column\n",
    "res_df$gene_num = rownames(res_df)\n",
    "#Merge with out labeled gene list to acquire gene names and info\n",
    "res_df = merge(res_df, gene.list, by.x = \"gene_num\", by.y = \"gene_id\")\n",
    "#Signifcant genes using padj<0.05\n",
    "sigs = res_df %>% arrange(padj) %>% filter(padj < 0.05)"
   ]
  },
  {
   "cell_type": "markdown",
   "id": "5e77c6c9-6d79-4d8d-870e-0d69e4b0b51d",
   "metadata": {},
   "source": [
    "---\n",
    "## Normalize & wrangle data"
   ]
  },
  {
   "cell_type": "code",
   "execution_count": 4,
   "id": "d0b2049e-8fd8-419e-bf95-7720efb9305a",
   "metadata": {
    "vscode": {
     "languageId": "r"
    }
   },
   "outputs": [],
   "source": [
    "\n",
    "#------------------------------------------------\n",
    "## Normalize via VST\n",
    "#------------------------------------------------\n",
    "\n",
    "counts_train_norm <- DESeq2::varianceStabilizingTransformation(as.matrix(counts_train)) %>% data.frame() \n",
    "counts_test_norm <- DESeq2::varianceStabilizingTransformation(as.matrix(counts_test)) %>% data.frame() \n",
    "counts_val_norm <- DESeq2::varianceStabilizingTransformation(as.matrix(counts_val)) %>% data.frame() \n",
    "\n",
    "\n",
    "#------------------------------------------------\n",
    "## Wrangle data into Plot Friendly Format\n",
    "#------------------------------------------------\n",
    "\n",
    "#Train data\n",
    "norm_plot_dat_train = counts_train_norm %>%\n",
    "    as.data.frame() %>% \n",
    "    tibble::rownames_to_column(., var = \"gene_id\") %>%\n",
    "    gather(sample_id, value, -gene_id) %>%\n",
    "    spread(gene_id, value)\n",
    "\n",
    "norm_plot_dat_train = merge(norm_plot_dat_train, metadata_train, by.x = \"sample_id\")\n",
    "\n",
    "#Test data\n",
    "norm_plot_dat_test = counts_test_norm %>%\n",
    "    as.data.frame() %>% \n",
    "    tibble::rownames_to_column(., var = \"gene_id\") %>%\n",
    "    gather(sample_id, value, -gene_id) %>%\n",
    "    spread(gene_id, value)\n",
    "\n",
    "norm_plot_dat_test = merge(norm_plot_dat_test, metadata_test, by.x = \"sample_id\")\n",
    "\n",
    "#Validation data\n",
    "norm_plot_dat_val = counts_val_norm %>%\n",
    "    as.data.frame() %>% \n",
    "    tibble::rownames_to_column(., var = \"gene_id\") %>%\n",
    "    gather(sample_id, value, -gene_id) %>%\n",
    "    spread(gene_id, value)\n",
    "\n",
    "norm_plot_dat_val = merge(norm_plot_dat_val, metadata_val, by.x = \"sample_id\")\n",
    "\n",
    "#Merge all for later figures\n",
    "norm_plot_dat_all = rbind(norm_plot_dat_train, norm_plot_dat_test, norm_plot_dat_val)\n"
   ]
  },
  {
   "cell_type": "markdown",
   "id": "061b1809",
   "metadata": {},
   "source": [
    "---\n",
    "# Run Greedy Forward Search (GFS)"
   ]
  },
  {
   "cell_type": "code",
   "execution_count": 5,
   "id": "a50a8a7b-379a-4310-9c92-183d69ad9722",
   "metadata": {},
   "outputs": [
    {
     "data": {
      "text/html": [
       "<table class=\"dataframe\">\n",
       "<caption>A data.frame: 6 × 9</caption>\n",
       "<thead>\n",
       "\t<tr><th scope=col>gene_num</th><th scope=col>baseMean</th><th scope=col>log2FoldChange</th><th scope=col>lfcSE</th><th scope=col>stat</th><th scope=col>pvalue</th><th scope=col>padj</th><th scope=col>gene_name</th><th scope=col>gene_type</th></tr>\n",
       "\t<tr><th scope=col>&lt;chr&gt;</th><th scope=col>&lt;dbl&gt;</th><th scope=col>&lt;dbl&gt;</th><th scope=col>&lt;dbl&gt;</th><th scope=col>&lt;dbl&gt;</th><th scope=col>&lt;dbl&gt;</th><th scope=col>&lt;dbl&gt;</th><th scope=col>&lt;chr&gt;</th><th scope=col>&lt;chr&gt;</th></tr>\n",
       "</thead>\n",
       "<tbody>\n",
       "\t<tr><td>ENSG00000154451.14</td><td>231.3465</td><td> 1.4119155</td><td>0.15483242</td><td> 9.118992</td><td>7.582640e-20</td><td>1.223762e-15</td><td>GBP5  </td><td>protein_coding</td></tr>\n",
       "\t<tr><td>ENSG00000104765.16</td><td>902.3648</td><td>-0.9075995</td><td>0.15070091</td><td>-6.022522</td><td>1.717203e-09</td><td>1.154748e-06</td><td>BNIP3L</td><td>protein_coding</td></tr>\n",
       "\t<tr><td>ENSG00000135636.15</td><td>121.5238</td><td> 0.6862966</td><td>0.13919540</td><td> 4.930454</td><td>8.203859e-07</td><td>1.801677e-04</td><td>DYSF  </td><td>protein_coding</td></tr>\n",
       "\t<tr><td>ENSG00000002834.18</td><td>221.7770</td><td> 0.2199719</td><td>0.05435484</td><td> 4.046961</td><td>5.188696e-05</td><td>3.705326e-03</td><td>LASP1 </td><td>protein_coding</td></tr>\n",
       "\t<tr><td>ENSG00000169564.7 </td><td>402.5393</td><td> 0.3121914</td><td>0.08413228</td><td> 3.710721</td><td>2.066695e-04</td><td>9.421552e-03</td><td>PCBP1 </td><td>protein_coding</td></tr>\n",
       "\t<tr><td>ENSG00000067082.15</td><td>103.0598</td><td>-0.4359739</td><td>0.12053530</td><td>-3.616981</td><td>2.980589e-04</td><td>1.184821e-02</td><td>KLF6  </td><td>protein_coding</td></tr>\n",
       "</tbody>\n",
       "</table>\n"
      ],
      "text/latex": [
       "A data.frame: 6 × 9\n",
       "\\begin{tabular}{lllllllll}\n",
       " gene\\_num & baseMean & log2FoldChange & lfcSE & stat & pvalue & padj & gene\\_name & gene\\_type\\\\\n",
       " <chr> & <dbl> & <dbl> & <dbl> & <dbl> & <dbl> & <dbl> & <chr> & <chr>\\\\\n",
       "\\hline\n",
       "\t ENSG00000154451.14 & 231.3465 &  1.4119155 & 0.15483242 &  9.118992 & 7.582640e-20 & 1.223762e-15 & GBP5   & protein\\_coding\\\\\n",
       "\t ENSG00000104765.16 & 902.3648 & -0.9075995 & 0.15070091 & -6.022522 & 1.717203e-09 & 1.154748e-06 & BNIP3L & protein\\_coding\\\\\n",
       "\t ENSG00000135636.15 & 121.5238 &  0.6862966 & 0.13919540 &  4.930454 & 8.203859e-07 & 1.801677e-04 & DYSF   & protein\\_coding\\\\\n",
       "\t ENSG00000002834.18 & 221.7770 &  0.2199719 & 0.05435484 &  4.046961 & 5.188696e-05 & 3.705326e-03 & LASP1  & protein\\_coding\\\\\n",
       "\t ENSG00000169564.7  & 402.5393 &  0.3121914 & 0.08413228 &  3.710721 & 2.066695e-04 & 9.421552e-03 & PCBP1  & protein\\_coding\\\\\n",
       "\t ENSG00000067082.15 & 103.0598 & -0.4359739 & 0.12053530 & -3.616981 & 2.980589e-04 & 1.184821e-02 & KLF6   & protein\\_coding\\\\\n",
       "\\end{tabular}\n"
      ],
      "text/markdown": [
       "\n",
       "A data.frame: 6 × 9\n",
       "\n",
       "| gene_num &lt;chr&gt; | baseMean &lt;dbl&gt; | log2FoldChange &lt;dbl&gt; | lfcSE &lt;dbl&gt; | stat &lt;dbl&gt; | pvalue &lt;dbl&gt; | padj &lt;dbl&gt; | gene_name &lt;chr&gt; | gene_type &lt;chr&gt; |\n",
       "|---|---|---|---|---|---|---|---|---|\n",
       "| ENSG00000154451.14 | 231.3465 |  1.4119155 | 0.15483242 |  9.118992 | 7.582640e-20 | 1.223762e-15 | GBP5   | protein_coding |\n",
       "| ENSG00000104765.16 | 902.3648 | -0.9075995 | 0.15070091 | -6.022522 | 1.717203e-09 | 1.154748e-06 | BNIP3L | protein_coding |\n",
       "| ENSG00000135636.15 | 121.5238 |  0.6862966 | 0.13919540 |  4.930454 | 8.203859e-07 | 1.801677e-04 | DYSF   | protein_coding |\n",
       "| ENSG00000002834.18 | 221.7770 |  0.2199719 | 0.05435484 |  4.046961 | 5.188696e-05 | 3.705326e-03 | LASP1  | protein_coding |\n",
       "| ENSG00000169564.7  | 402.5393 |  0.3121914 | 0.08413228 |  3.710721 | 2.066695e-04 | 9.421552e-03 | PCBP1  | protein_coding |\n",
       "| ENSG00000067082.15 | 103.0598 | -0.4359739 | 0.12053530 | -3.616981 | 2.980589e-04 | 1.184821e-02 | KLF6   | protein_coding |\n",
       "\n"
      ],
      "text/plain": [
       "  gene_num           baseMean log2FoldChange lfcSE      stat      pvalue      \n",
       "1 ENSG00000154451.14 231.3465  1.4119155     0.15483242  9.118992 7.582640e-20\n",
       "2 ENSG00000104765.16 902.3648 -0.9075995     0.15070091 -6.022522 1.717203e-09\n",
       "3 ENSG00000135636.15 121.5238  0.6862966     0.13919540  4.930454 8.203859e-07\n",
       "4 ENSG00000002834.18 221.7770  0.2199719     0.05435484  4.046961 5.188696e-05\n",
       "5 ENSG00000169564.7  402.5393  0.3121914     0.08413228  3.710721 2.066695e-04\n",
       "6 ENSG00000067082.15 103.0598 -0.4359739     0.12053530 -3.616981 2.980589e-04\n",
       "  padj         gene_name gene_type     \n",
       "1 1.223762e-15 GBP5      protein_coding\n",
       "2 1.154748e-06 BNIP3L    protein_coding\n",
       "3 1.801677e-04 DYSF      protein_coding\n",
       "4 3.705326e-03 LASP1     protein_coding\n",
       "5 9.421552e-03 PCBP1     protein_coding\n",
       "6 1.184821e-02 KLF6      protein_coding"
      ]
     },
     "metadata": {},
     "output_type": "display_data"
    }
   ],
   "source": [
    "# set new seed\n",
    "set.seed(87)\n",
    "\n",
    "# Get gene list\n",
    "candidate_genes = res_df %>% \n",
    "    arrange(padj) %>% \n",
    "    #filter by padj\n",
    "    filter(padj < 0.05) %>% \n",
    "    #Filter by baseMean\n",
    "    filter(baseMean > 100) %>% \n",
    "    pull(gene_num)\n",
    "\n",
    "# Load training data\n",
    "df = norm_plot_dat_train \n",
    "# Prepare metadata (tb as factor)\n",
    "df$tb <- ifelse(df$tb == \"positive\", 1, 0)\n",
    "df$tb <- as.factor(df$tb)\n",
    "\n",
    "# Initialize variables for while loop\n",
    "top_genes = c()\n",
    "best_score <- 0\n",
    "last_best_score = 0\n",
    "while_var = 0\n",
    "\n",
    "# Correlation will be used as a tie breaker\n",
    "# in the case that two genes have an equal score\n",
    "cor_plot_dat = norm_plot_dat_train\n",
    "\n",
    "#------------------------------------------------\n",
    "## Execute GFS on Training Data  \n",
    "#------------------------------------------------\n",
    "suppressWarnings(suppressMessages({\n",
    "while(while_var != 1){\n",
    "\n",
    "  gfs_output <- list()\n",
    "  #------------------------------------------------\n",
    "  # Loop through each candidate gene\n",
    "  for (gene in candidate_genes) {\n",
    "\n",
    "    # Create a temporary vector combining top_genes and the current gene\n",
    "    temp_genes <- c(top_genes, gene)\n",
    "    \n",
    "    # Construct the formula and fit a GLM\n",
    "    formula <- as.formula(paste(\"tb ~\", paste(temp_genes, collapse = \" + \"), \"- 1\"))\n",
    "    model_train <- glm(formula, data = df, family = \"binomial\")\n",
    "    \n",
    "    # Make predictions\n",
    "    probs <- predict(model_train, newdata = df, type = \"response\")\n",
    "    \n",
    "    # Calculate roc object\n",
    "    roc_train <- roc(df$tb, probs)\n",
    "    coords_df <- data.frame(coords(roc_train, \"all\"))\n",
    "\n",
    "    # Calculate the Youden's index for each row\n",
    "    coords_df$youden <- coords_df$sensitivity + coords_df$specificity - 1\n",
    "\n",
    "    # Choose the cutoff based on the optimal Youden's index\n",
    "    optimal <- coords_df[which.max(coords_df$youden),]\n",
    "    # Calculate the score at this cutoff\n",
    "    all_score =  (optimal$specificity + optimal$sensitivity + auc(roc_train))\n",
    "\n",
    "    # Caclulate the absolute value of the average correation\n",
    "    # of all genes currently in the model with the current gene\n",
    "    current_gene_data = cor_plot_dat[[gene]]\n",
    "    top_genes_data = cor_plot_dat[, top_genes]\n",
    "    cor_values = cor(current_gene_data, top_genes_data)\n",
    "    average_cor = mean(cor_values)\n",
    "\n",
    "    current_cor <- abs(average_cor)\n",
    "\n",
    "    gfs_output[[gene]] <- c(all_score,current_cor)      \n",
    "    }\n",
    "    \n",
    "  # Prepare dataframe to compare the score of all genes against one another\n",
    "  gfs_res <- do.call(\"rbind\", gfs_output) %>% data.frame()\n",
    "  colnames(gfs_res) <- c(\"all_score\",\"correlation\")\n",
    "  # Pick the single gene with the highest score, if there are ties, pick\n",
    "  # lowest correlation to all previous genes\n",
    "  top_performer <- gfs_res %>%\n",
    "    arrange(desc(all_score),correlation) %>%\n",
    "    head(1)\n",
    "  # Save the score for the current set of genes\n",
    "  best_score <- top_performer$all_score\n",
    "  # Save the gene name for the best gene\n",
    "  best_gene = top_performer %>% rownames()\n",
    "\n",
    "  #------------------------------------------------\n",
    "  # Check if the score increase is significant\n",
    "  if ((best_score - last_best_score) > 0.01) {\n",
    "    # if yes, add to gene list and save the score\n",
    "    top_genes <- c(top_genes, best_gene)\n",
    "    last_best_score <- best_score\n",
    "  } else {\n",
    "    # if not finish while loop and do not add the gene\n",
    "    while_var <- 1 \n",
    "  }\n",
    "}\n",
    "}))\n",
    "#Print the significance of the genes\n",
    "sigs %>% filter(gene_num %in% top_genes)\n",
    "\n",
    "fin_genes = top_genes"
   ]
  },
  {
   "cell_type": "markdown",
   "id": "bf0a0376",
   "metadata": {},
   "source": [
    "---\n",
    "## Final Genes"
   ]
  },
  {
   "cell_type": "code",
   "execution_count": 6,
   "id": "ce0c07ae-ea89-40d3-9181-70fc10343f96",
   "metadata": {},
   "outputs": [
    {
     "data": {
      "text/html": [
       "<table class=\"dataframe\">\n",
       "<caption>A data.frame: 6 × 3</caption>\n",
       "<thead>\n",
       "\t<tr><th scope=col>gene_id</th><th scope=col>gene_name</th><th scope=col>gene_type</th></tr>\n",
       "\t<tr><th scope=col>&lt;chr&gt;</th><th scope=col>&lt;chr&gt;</th><th scope=col>&lt;chr&gt;</th></tr>\n",
       "</thead>\n",
       "<tbody>\n",
       "\t<tr><td>ENSG00000154451.14</td><td>GBP5  </td><td>protein_coding</td></tr>\n",
       "\t<tr><td>ENSG00000104765.16</td><td>BNIP3L</td><td>protein_coding</td></tr>\n",
       "\t<tr><td>ENSG00000067082.15</td><td>KLF6  </td><td>protein_coding</td></tr>\n",
       "\t<tr><td>ENSG00000135636.15</td><td>DYSF  </td><td>protein_coding</td></tr>\n",
       "\t<tr><td>ENSG00000002834.18</td><td>LASP1 </td><td>protein_coding</td></tr>\n",
       "\t<tr><td>ENSG00000169564.7 </td><td>PCBP1 </td><td>protein_coding</td></tr>\n",
       "</tbody>\n",
       "</table>\n"
      ],
      "text/latex": [
       "A data.frame: 6 × 3\n",
       "\\begin{tabular}{lll}\n",
       " gene\\_id & gene\\_name & gene\\_type\\\\\n",
       " <chr> & <chr> & <chr>\\\\\n",
       "\\hline\n",
       "\t ENSG00000154451.14 & GBP5   & protein\\_coding\\\\\n",
       "\t ENSG00000104765.16 & BNIP3L & protein\\_coding\\\\\n",
       "\t ENSG00000067082.15 & KLF6   & protein\\_coding\\\\\n",
       "\t ENSG00000135636.15 & DYSF   & protein\\_coding\\\\\n",
       "\t ENSG00000002834.18 & LASP1  & protein\\_coding\\\\\n",
       "\t ENSG00000169564.7  & PCBP1  & protein\\_coding\\\\\n",
       "\\end{tabular}\n"
      ],
      "text/markdown": [
       "\n",
       "A data.frame: 6 × 3\n",
       "\n",
       "| gene_id &lt;chr&gt; | gene_name &lt;chr&gt; | gene_type &lt;chr&gt; |\n",
       "|---|---|---|\n",
       "| ENSG00000154451.14 | GBP5   | protein_coding |\n",
       "| ENSG00000104765.16 | BNIP3L | protein_coding |\n",
       "| ENSG00000067082.15 | KLF6   | protein_coding |\n",
       "| ENSG00000135636.15 | DYSF   | protein_coding |\n",
       "| ENSG00000002834.18 | LASP1  | protein_coding |\n",
       "| ENSG00000169564.7  | PCBP1  | protein_coding |\n",
       "\n"
      ],
      "text/plain": [
       "  gene_id            gene_name gene_type     \n",
       "1 ENSG00000154451.14 GBP5      protein_coding\n",
       "2 ENSG00000104765.16 BNIP3L    protein_coding\n",
       "3 ENSG00000067082.15 KLF6      protein_coding\n",
       "4 ENSG00000135636.15 DYSF      protein_coding\n",
       "5 ENSG00000002834.18 LASP1     protein_coding\n",
       "6 ENSG00000169564.7  PCBP1     protein_coding"
      ]
     },
     "metadata": {},
     "output_type": "display_data"
    }
   ],
   "source": [
    "# List the genes in the order selected by the GFS\n",
    "ordered_gene_list <- gene.list %>%\n",
    "  filter(gene_id %in% top_genes) %>%\n",
    "  mutate(order = match(gene_id,top_genes)) %>%\n",
    "  arrange(order) %>%\n",
    "  select(-order)\n",
    "ordered_gene_list\n"
   ]
  },
  {
   "cell_type": "markdown",
   "id": "80c2f126-1d51-478f-9152-41d9a6df26c0",
   "metadata": {},
   "source": [
    "---\n",
    "## Calculate Performance Metrics\n",
    "### Used throughout the paper and in figures"
   ]
  },
  {
   "cell_type": "code",
   "execution_count": 7,
   "id": "a31f5995-6cb8-4056-8be6-0feea4d12829",
   "metadata": {},
   "outputs": [
    {
     "name": "stderr",
     "output_type": "stream",
     "text": [
      "Setting levels: control = 0, case = 1\n",
      "\n",
      "Setting direction: controls < cases\n",
      "\n"
     ]
    },
    {
     "name": "stdout",
     "output_type": "stream",
     "text": [
      "[1] \"Training ROC-AUC: 0.921\"\n",
      "[1] \"Training ROC-AUC 95% CI: [0.872--0.971]\"\n",
      "[1] \"Optimal threshold:  0.498\"\n",
      "[1] \"Train Accuracy:  0.915\"\n",
      "[1] \"Train Sensitivity:  0.945\"\n",
      "[1] \"Train Sensitivity:  95% CI: [ 0.893 , 0.9974 ]\"\n",
      "[1] \"Train Specificity:  0.877\"\n",
      "[1] \"Train Specificity:  95% CI: [ 0.792 , 0.9624 ]\"\n"
     ]
    },
    {
     "name": "stderr",
     "output_type": "stream",
     "text": [
      "Setting levels: control = 0, case = 1\n",
      "\n",
      "Setting direction: controls < cases\n",
      "\n"
     ]
    },
    {
     "name": "stdout",
     "output_type": "stream",
     "text": [
      "[1] \"Test ROC-AUC: 0.947\"\n",
      "[1] \"Test ROC-AUC 95% CI: [0.888--1]\"\n",
      "[1] \"Test Accuracy:  0.918\"\n",
      "[1] \"Test Sensitivity:  0.971\"\n",
      "[1] \"Test Sensitivity:  95% CI: [ 0.851 , 0.995 ]\"\n",
      "[1] \"Test Specificity:  0.852\"\n",
      "[1] \"Test Specificity:  95% CI: [ 0.675 , 0.941 ]\"\n"
     ]
    },
    {
     "name": "stderr",
     "output_type": "stream",
     "text": [
      "Setting levels: control = 0, case = 1\n",
      "\n",
      "Setting direction: controls < cases\n",
      "\n"
     ]
    },
    {
     "name": "stdout",
     "output_type": "stream",
     "text": [
      "[1] \"Validation ROC-AUC: 0.946\"\n",
      "[1] \"Validation ROC-AUC 95% CI: [0.894--0.999]\"\n",
      "[1] \"Validation Accuracy:  0.883\"\n",
      "[1] \"Validation Sensitivity:  0.971\"\n",
      "[1] \"Validation Sensitivity:  95% CI: [ 0.855 , 0.995 ]\"\n",
      "[1] \"Validation Specificity:  0.76\"\n",
      "[1] \"Validation Specificity:  95% CI: [ 0.566 , 0.885 ]\"\n"
     ]
    }
   ],
   "source": [
    "#----------------------------------\n",
    "\n",
    "### TRAINING SET ####\n",
    "\n",
    "#----------------------------------\n",
    "df = norm_plot_dat_train\n",
    "df$tb <- ifelse(df$tb == \"positive\", 1, 0)\n",
    "df$tb <- as.factor(df$tb)\n",
    "\n",
    "gene_names <- as.character(top_genes)\n",
    "\n",
    "# Construct the formula\n",
    "formula <- as.formula(paste(\"tb ~\", paste(gene_names, collapse = \"+\"), \"- 1\"))\n",
    "\n",
    "# Create the GLM model\n",
    "model_train <- glm(formula, data = df, family = \"binomial\")\n",
    "#Calculate predictions\n",
    "probs <- predict(model_train, newdata = df, type = \"response\")\n",
    "# Create Calculate ROC and AUC\n",
    "roc_train <- roc(df$tb, probs)\n",
    "auc_train <- auc(roc_train)\n",
    "roc_train_ci = ci.auc(roc_train)\n",
    "coords_df <- data.frame(coords(roc_train, \"all\"))\n",
    "\n",
    "# Calculate Youden's index for each row\n",
    "coords_df$youden <- coords_df$sensitivity + coords_df$specificity - 1\n",
    "\n",
    "# Choose the optimal Youden's index\n",
    "optimal <- coords_df[which.max(coords_df$youden),]\n",
    "\n",
    "# Print the AUC value\n",
    "print(paste0(\"Training ROC-AUC: \", round(auc(roc_train),3)))\n",
    "print(paste0(\"Training ROC-AUC 95% CI: [\", round(roc_train_ci[1],3), \"--\", round(roc_train_ci[3],3), \"]\"))\n",
    "\n",
    "# Print the optimal Youden threshold\n",
    "print(paste(\"Optimal threshold: \", round(optimal$threshold,3)))\n",
    "\n",
    "# Assign labels using optimal threshold\n",
    "df$predicted <- ifelse(probs > optimal$threshold, 1, 0)\n",
    "# Create Confusion matrix\n",
    "conf_matrix_train <- table(df$tb, df$predicted)\n",
    "# True positive\n",
    "tp_train <- conf_matrix_train[2, 2]\n",
    "# True Negative\n",
    "tn_train <- conf_matrix_train[1, 1]\n",
    "# Calculate the Accuracy\n",
    "accuracy_train <- (tp_train + tn_train) / sum(conf_matrix_train)\n",
    "print(paste(\"Train Accuracy: \", round(accuracy_train, 3)))\n",
    "\n",
    "# Calculate the Sensitivity\n",
    "sensitivity_train <- tp_train / (tp_train + conf_matrix_train[2, 1])\n",
    "# Calculate the Specificity\n",
    "specificity_train <- tn_train / (tn_train + conf_matrix_train[1, 2])\n",
    "\n",
    "### 95% CI for Sensitivity and Specificity ###\n",
    "# Set z-score for a two tailed 95% confidence test\n",
    "z <- qnorm(0.975)\n",
    "\n",
    "# Calculate the number of true positives and true negatives\n",
    "n_tp <- tp_train + conf_matrix_train[2, 1]  # TP + FN\n",
    "n_tn <- tn_train + conf_matrix_train[1, 2]  # TN + FP\n",
    "\n",
    "# Calculate the standard error for sensitivity and specificity\n",
    "se_sensitivity <- sqrt(sensitivity_train * (1 - sensitivity_train) / n_tp)\n",
    "se_specificity <- sqrt(specificity_train * (1 - specificity_train) / n_tn)\n",
    "\n",
    "# Calculate 95% CI for sensitivity\n",
    "ci_lower_sensitivity <- sensitivity_train - z * se_sensitivity\n",
    "ci_upper_sensitivity <- sensitivity_train + z * se_sensitivity\n",
    "\n",
    "# Calculate 95% CI for specificity\n",
    "ci_lower_specificity <- specificity_train - z * se_specificity\n",
    "ci_upper_specificity <- specificity_train + z * se_specificity\n",
    "\n",
    "# Print 95% CI\n",
    "print(paste(\"Train Sensitivity: \", round(sensitivity_train, 3)))\n",
    "print(paste(\"Train Sensitivity:  95% CI: [\", round(ci_lower_sensitivity, 3), \",\", round(ci_upper_sensitivity, 4), \"]\"))\n",
    "print(paste(\"Train Specificity: \", round(specificity_train, 3)))\n",
    "print(paste(\"Train Specificity:  95% CI: [\", round(ci_lower_specificity, 3), \",\", round(ci_upper_specificity, 4), \"]\"))\n",
    "\n",
    "#----------------------------------\n",
    "\n",
    "### TEST SET ####\n",
    "\n",
    "#----------------------------------\n",
    "df = norm_plot_dat_test\n",
    "\n",
    "df$tb <- ifelse(df$tb == \"positive\", 1, 0)\n",
    "\n",
    "df$tb <- as.factor(df$tb)\n",
    "\n",
    "gene_names <- as.character(top_genes)\n",
    "\n",
    "\n",
    "# Calculate predictions\n",
    "probs <- predict(model_train, newdata = df, type = \"response\")\n",
    "\n",
    "# Calculate ROC and AUC\n",
    "roc_test <- roc(df$tb, probs)\n",
    "roc_test_ci = ci.auc(roc_test)\n",
    "print(paste0(\"Test ROC-AUC: \",round(auc(roc_test),3)))\n",
    "print(paste0(\"Test ROC-AUC 95% CI: [\", round(roc_test_ci[1],3), \"--\", round(roc_test_ci[3],3), \"]\"))\n",
    "\n",
    "# Assign labels using optimal threshold\n",
    "df$predicted <- ifelse(probs > optimal$threshold, 1, 0)\n",
    "\n",
    "# Create a confusion matrix\n",
    "conf_matrix <- table(df$tb, df$predicted)\n",
    "\n",
    "# Get all labels for true positive, false positive, etc...\n",
    "tp <- conf_matrix[2,2]\n",
    "tn <- conf_matrix[1,1]\n",
    "fp <- conf_matrix[1,2]\n",
    "fn <- conf_matrix[2,1]\n",
    "\n",
    "# Calculate Accuracy\n",
    "accuracy_test <- (tp + tn) / sum(conf_matrix)\n",
    "print(paste(\"Test Accuracy: \", round(accuracy_test, 3)))\n",
    "# Calculate Sensitivity and Specificity\n",
    "sensitivity <- tp / (tp + fn)\n",
    "specificity <- tn / (tn + fp)\n",
    "\n",
    "print(paste(\"Test\", \"Sensitivity: \", round(sensitivity, 3)))\n",
    "sensitivity_ci <- binom.confint(tp, tp + fn, conf.level = 0.95, methods = \"wilson\")\n",
    "print(paste(\"Test Sensitivity: \", \n",
    "            \"95% CI: [\", round(sensitivity_ci$lower, 3), \",\", round(sensitivity_ci$upper, 3), \"]\"))\n",
    "\n",
    "# Calculate 95% CI for specificity\n",
    "print(paste(\"Test\", \"Specificity: \", round(specificity, 3)))\n",
    "specificity_ci <- binom.confint(tn, tn + fp, conf.level = 0.95, methods = \"wilson\")\n",
    "print(paste(\"Test Specificity: \", \n",
    "            \"95% CI: [\", round(specificity_ci$lower, 3), \",\", round(specificity_ci$upper, 3), \"]\"))\n",
    "\n",
    "#----------------------------------\n",
    "\n",
    "### VALIDATION SET ####\n",
    "\n",
    "#----------------------------------\n",
    "\n",
    "df = norm_plot_dat_val\n",
    "df$tb <- ifelse(df$tb == \"positive\", 1, 0)\n",
    "df$tb <- as.factor(df$tb)\n",
    "gene_names <- as.character(top_genes)\n",
    "\n",
    "# Make predictions \n",
    "probs <- predict(model_train, newdata = df, type = \"response\")\n",
    "\n",
    "# Calculate coordinates & scores\n",
    "roc_val <- roc(df$tb, probs)\n",
    "roc_val_ci = ci.auc(roc_val)\n",
    "print(paste0(\"Validation ROC-AUC: \",round(auc(roc_val),3)))\n",
    "print(paste0(\"Validation ROC-AUC 95% CI: [\", round(roc_val_ci[1],3), \"--\", round(roc_val_ci[3],3), \"]\"))\n",
    "\n",
    "\n",
    "# Assign class labels based on the threshold\n",
    "df$predicted <- ifelse(probs > optimal$threshold, 1, 0)\n",
    "\n",
    "# Create a confusion matrix and calculate sensitivity and specificity\n",
    "conf_matrix <- table(df$tb, df$predicted)\n",
    "tp <- conf_matrix[2,2]\n",
    "tn <- conf_matrix[1,1]\n",
    "fp <- conf_matrix[1,2]\n",
    "fn <- conf_matrix[2,1]\n",
    "sensitivity <- tp / (tp + fn)\n",
    "specificity <- tn / (tn + fp)\n",
    "\n",
    "\n",
    "# Calculate accuracy\n",
    "accuracy_val <- (tp + tn) / sum(conf_matrix)\n",
    "print(paste(\"Validation Accuracy: \", round(accuracy_val, 3)))\n",
    "\n",
    "# Calculate sensitivity and specificity\n",
    "sensitivity <- tp / (tp + fn)\n",
    "specificity <- tn / (tn + fp)\n",
    "\n",
    "print(paste(\"Validation\", \"Sensitivity: \", round(sensitivity, 3)))\n",
    "sensitivity_ci <- binom.confint(tp, tp + fn, conf.level = 0.95, methods = \"wilson\")\n",
    "print(paste(\"Validation Sensitivity: \", \n",
    "            \"95% CI: [\", round(sensitivity_ci$lower, 3), \",\", round(sensitivity_ci$upper, 3), \"]\"))\n",
    "\n",
    "# Calculate 95% CI for specificity\n",
    "print(paste(\"Validation\", \"Specificity: \", round(specificity, 3)))\n",
    "specificity_ci <- binom.confint(tn, tn + fp, conf.level = 0.95, methods = \"wilson\")\n",
    "print(paste(\"Validation Specificity: \", \n",
    "            \"95% CI: [\", round(specificity_ci$lower, 3), \",\", round(specificity_ci$upper, 3), \"]\"))\n"
   ]
  },
  {
   "cell_type": "markdown",
   "id": "60c18b9d-eb80-4f89-ba4c-ac173085f0a2",
   "metadata": {},
   "source": [
    "---\n",
    "# BEGIN FIGURES\n",
    "---"
   ]
  },
  {
   "cell_type": "markdown",
   "id": "90c0ff51-ee4c-4091-84f9-d02e87e2b37c",
   "metadata": {},
   "source": [
    "# Figure 2A"
   ]
  },
  {
   "cell_type": "code",
   "execution_count": 8,
   "id": "2d25aad7-866f-4e6e-8667-b1a3bd2c1b9c",
   "metadata": {},
   "outputs": [
    {
     "data": {
      "image/png": "[encoded data removed]",
      "text/plain": [
       "plot without title"
      ]
     },
     "metadata": {
      "image/png": {
       "height": 390,
       "width": 390
      }
     },
     "output_type": "display_data"
    }
   ],
   "source": [
    "## Note:\n",
    "## Arrows and gene names were inserted manually\n",
    "## in adobe illustrator\n",
    "\n",
    "options(repr.plot.height=6.5, repr.plot.width= 6.5)\n",
    "suppressWarnings(suppressMessages({\n",
    "\n",
    "# Set genes\n",
    "genes = top_genes\n",
    "# Set training data\n",
    "df= norm_plot_dat_train\n",
    "# Prepare training data for plotting\n",
    "df$tb <- ifelse(df$tb == \"positive\", 1, 0)\n",
    "df$tb <- as.factor(df$tb)\n",
    "# Order significant genes according to the stepwise GFS \n",
    "ordered_genes = sigs %>% filter(gene_num %in% top_genes) %>% arrange(match(gene_num, top_genes))\n",
    "# Extract gene names in the order they appear in top_genes\n",
    "gene_names = ordered_genes$gene_name\n",
    "auc_values <- numeric(length(top_genes))\n",
    "\n",
    "# Create a list which represents the AUC at each step of the GFS\n",
    "# Trains a GLM for each step of the GFS and saves the result\n",
    "for(i in 1:length(top_genes)){\n",
    "  genes = top_genes %>% head(i)\n",
    "  formula <- as.formula(paste(\"tb ~\", paste(genes, collapse = \"+\"), \"- 1\"))\n",
    "  model <- glm(formula, data = df, family = \"binomial\")\n",
    "  probs <- predict(model, newdata = df, type = \"response\")\n",
    "  roc_obj <- roc(df$tb, probs)\n",
    "  auc_values[i] <- auc(roc_obj)\n",
    "}\n",
    "\n",
    "# Create the plot dataframe with x = iteration, y = auc, label = gene name\n",
    "df_plot <- data.frame(GenesAdded = 1:length(top_genes), AUC = auc_values, GeneName = gene_names)\n",
    "\n",
    "# Plot data\n",
    "p = ggplot(df_plot, aes(x = GenesAdded, y = AUC, label = GeneName)) +\n",
    "  geom_line(group = 1, color=\"grey50\", size = 3.7) +\n",
    "  geom_point(color = \"deeppink\", size = 4) +\n",
    "  # To create plot without labels remove the line below this\n",
    "  geom_text(nudge_y = 0.005,nudge_x = -0.07, check_overlap = TRUE, size = 4) +\n",
    "  labs(x = \"Iteration\", y = \"ROC-AUC\") +\n",
    "  scale_x_continuous(breaks = scales::pretty_breaks()) +\n",
    "  theme_bw(base_size=6) + xlab(\"Iteration\") + ylab(\"ROC-AUC\") + \n",
    "  ylim(0.86, 0.93) + theme_minimal() +\n",
    "  theme(axis.text = element_text(size=22, color=\"black\"),\n",
    "        axis.title = element_text(size=22, color=\"black\"),\n",
    "        axis.line = element_line(size = 0, color = \"black\"),\n",
    "        panel.border = element_rect(color = \"black\", fill = NA, size = 3))\n",
    "\n",
    "}))\n",
    "p\n",
    "ggsave(\"../Figure_Output/Figure_2/Fig2A.png\", plot = p, width = 5.3, height = 5.5, dpi = 300)\n",
    "ggsave(\"../Figure_Output/Figure_2/Fig2A.pdf\", plot = p, width = 3, height = 3, dpi = 300, device = \"pdf\")"
   ]
  },
  {
   "cell_type": "markdown",
   "id": "3070f144-63a8-4436-8588-3f973fe4e402",
   "metadata": {},
   "source": [
    "---\n",
    "# FIGURE 2 B"
   ]
  },
  {
   "cell_type": "code",
   "execution_count": 9,
   "id": "65d6503a-2e01-4b58-9546-598e583d8fa4",
   "metadata": {
    "vscode": {
     "languageId": "r"
    }
   },
   "outputs": [
    {
     "data": {
      "image/png": "[encoded data removed]",
      "text/plain": [
       "plot without title"
      ]
     },
     "metadata": {
      "image/png": {
       "height": 390,
       "width": 390
      }
     },
     "output_type": "display_data"
    }
   ],
   "source": [
    "p = ggroc(list(\"Train\"= roc_train, \"Test\" = roc_test, \"Validation\"=roc_val), aes=c(\"color\"))  +\n",
    "    theme_bw(base_size=6) + guides(color=\"none\", linetype=\"none\") +\n",
    "    geom_line(size=1,alpha=0.5) + scale_color_manual(values=c(\"#218380\",\"#B5179E\",\"#F88C1A\")) +\n",
    "    xlab(\"Specificty\") + ylab(\"Sensitivity\") +\n",
    "    theme(axis.text=element_text(size=12, color=\"black\"), \n",
    "          axis.title=element_text(size=12, color=\"black\"),\n",
    "          panel.border = element_rect(size = 1.5, color =\"black\"))  # Adjust this line to change the thickness\n",
    "\n",
    "ggsave(\"../Figure_Output/Figure_2/Fig2B.png\", plot = p, width = 3, height = 2.85, dpi = 300)\n",
    "ggsave(\"../Figure_Output/Figure_2/Fig2B.pdf\", plot = p, width = 3, height = 2.85, device = \"pdf\")\n",
    "\n",
    "p"
   ]
  },
  {
   "cell_type": "markdown",
   "id": "41d49dbb-4474-4ddb-ad78-185f74fcfc80",
   "metadata": {},
   "source": [
    "---\n",
    "# Figure 2C\n",
    "### Legend for this plot was created manually in adobe illustrator"
   ]
  },
  {
   "cell_type": "code",
   "execution_count": 10,
   "id": "f1dfef50-2d42-4a0d-b95d-5d21962d2602",
   "metadata": {},
   "outputs": [
    {
     "name": "stderr",
     "output_type": "stream",
     "text": [
      "Setting levels: control = 0, case = 1\n",
      "\n",
      "Setting direction: controls < cases\n",
      "\n"
     ]
    },
    {
     "data": {
      "image/png": "[encoded data removed]",
      "text/plain": [
       "plot without title"
      ]
     },
     "metadata": {
      "image/png": {
       "height": 240,
       "width": 480
      }
     },
     "output_type": "display_data"
    }
   ],
   "source": [
    "options( repr.plot.width=8, repr.plot.height=4)\n",
    "set.seed(87)\n",
    "palette <- c(\"#1967d2ff\", \"#FF70A6\")\n",
    "# Train model again here to ensure code reproducibility across code blocks\n",
    "#------------------------\n",
    "df = norm_plot_dat_train\n",
    "df$tb <- ifelse(df$tb == \"positive\", 1, 0)\n",
    "df$tb <- as.factor(df$tb)\n",
    "gene_names <- as.character(top_genes)\n",
    "# Construct the formula\n",
    "formula <- as.formula(paste(\"tb ~\", paste(gene_names, collapse = \"+\"), \"- 1\"))\n",
    "# Create the GLM model\n",
    "model_train <- glm(formula, data = df, family = \"binomial\")\n",
    "probs <- predict(model_train, newdata = df, type = \"response\")\n",
    "roc_train <- roc(df$tb, probs)\n",
    "coords_df <- data.frame(coords(roc_train, \"all\"))\n",
    "# Calculate Youden's index for each row\n",
    "coords_df$youden <- coords_df$sensitivity + coords_df$specificity - 1\n",
    "# Choose the optimal Youden's index\n",
    "optimal <- coords_df[which.max(coords_df$youden),]\n",
    "#--------------------------------------------------------------------\n",
    "\n",
    "# Create temporary plotting dataframes for train, test, validation\n",
    "# And use the model to predict on all of them\n",
    "df_train = norm_plot_dat_train\n",
    "df_train$tb <- ifelse(df_train$tb == \"positive\", 1, 0)\n",
    "df_train$tb <- as.factor(df_train$tb)\n",
    "df_train$predicted_probs <- predict(model_train, newdata = df_train, type = \"response\")\n",
    "\n",
    "df_test = norm_plot_dat_test\n",
    "df_test$tb <- ifelse(df_test$tb == \"positive\", 1, 0)\n",
    "df_test$tb <- as.factor(df_test$tb)\n",
    "df_test$predicted_probs <- predict(model_train, newdata = df_test, type = \"response\")\n",
    "\n",
    "df_val = norm_plot_dat_val\n",
    "df_val$tb <- ifelse(df_val$tb == \"positive\", 1, 0)\n",
    "df_val$tb <- as.factor(df_val$tb)\n",
    "df_val$predicted_probs <- predict(model_train, newdata = df_val, type = \"response\")\n",
    "\n",
    "# Assign labels for each dataframe\n",
    "df_train$type <- \"Train\"\n",
    "df_test$type <- \"Test\"\n",
    "df_val$type <- \"Validation\"\n",
    "# Combine the dataframes for plotting\n",
    "combined_df <- rbind(df_train, df_test, df_val)\n",
    "# Set the train, test, val labels as levels\n",
    "combined_df$type <- factor(combined_df$type, levels = c(\"Train\", \"Test\", \"Validation\"))\n",
    "\n",
    "# Create a plot with facet_wrap for horizontal layout\n",
    "combined_plot <- ggplot(combined_df, aes(x = tb, y = predicted_probs, fill = tb)) +\n",
    "  geom_violin(color = NA, alpha = 0.2) +\n",
    "  geom_jitter(aes(color = tb, shape = hiv), size = 1, position = position_jitter(width = 0.2, height = 0)) +\n",
    "# Plot the threshold\n",
    "  geom_hline(yintercept = optimal$threshold, linetype = \"dashed\") +\n",
    "  scale_fill_manual(values = palette) +\n",
    "  scale_color_manual(values = palette) +\n",
    "  scale_x_discrete(labels = c(`0` = \"TB Negative\", `1` = \"TB Positive\")) +\n",
    "  facet_wrap(~ type, ncol = 3, scales = \"free_x\") +\n",
    "  labs(y = \"Predicted Probability\", x = \"\") +\n",
    "  theme_bw(base_size = 8) +\n",
    "  theme(legend.position = \"none\",\n",
    "        axis.text = element_text(size = 6, color = \"black\"),\n",
    "        strip.background = element_rect(color = \"#FFFFFF\", fill = \"#FFFFFF\", size = 0),\n",
    "        strip.text.x = element_text(size = 8, color = \"black\"),\n",
    "        panel.border = element_rect(colour = \"black\", fill = NA, size = 1)) +\n",
    "  ylab(\"6-gene TB Score\")\n",
    "\n",
    "# Display the combined plot\n",
    "print(combined_plot)\n",
    "\n",
    "# Save the combined plot with adjusted width\n",
    "ggsave(\"../Figure_Output/Figure_2/Fig2C.png\", plot = combined_plot, width = 4, height = 2, dpi = 300)\n",
    "ggsave(\"../Figure_Output/Figure_2/Fig2C.pdf\", plot = combined_plot, width = 4, height = 2, dpi = 300, device = \"pdf\")\n"
   ]
  },
  {
   "cell_type": "markdown",
   "id": "e892b721-ccb8-435f-bdbc-3c9fe9a4432f",
   "metadata": {},
   "source": [
    "---\n",
    "# Figure 2D"
   ]
  },
  {
   "cell_type": "code",
   "execution_count": 11,
   "id": "88367d7c-c762-493f-9111-78e8c58aa740",
   "metadata": {},
   "outputs": [
    {
     "data": {
      "image/png": "[encoded data removed]",
      "text/plain": [
       "plot without title"
      ]
     },
     "metadata": {
      "image/png": {
       "height": 300,
       "width": 600
      }
     },
     "output_type": "display_data"
    }
   ],
   "source": [
    "options(repr.plot.width = 10, repr.plot.height = 5)\n",
    "# Create temporary dataframe for all samples\n",
    "df = norm_plot_dat_all\n",
    "\n",
    "# Filter the data for the gene GBP5\n",
    "df_gbp5 <- df %>%\n",
    "  select(cohort, semiquant, ENSG00000154451.14) %>%\n",
    "  #Remove any samples that are missing semiquant values\n",
    "  filter(!is.na(semiquant)) %>%\n",
    "  filter(semiquant != \"\") %>%\n",
    "  #Set semiquant as a factor for plotting\n",
    "  mutate(semiquant = factor(semiquant, levels = c(\"Negative\", \"Low\", \"Medium\", \"High\")))\n",
    "\n",
    "# Plot\n",
    "p = ggplot(df_gbp5, aes(x = cohort, y = ENSG00000154451.14, fill = semiquant)) +\n",
    "  geom_boxplot(outlier.size = 0.5, color = \"black\") + \n",
    "  theme_bw(base_size = 12) +\n",
    "  theme(axis.text.x = element_text(color = \"black\"),\n",
    "        axis.title.x = element_blank(),\n",
    "        axis.text = element_text(color = \"black\"), \n",
    "        axis.title = element_text(color = \"black\"), \n",
    "        title = element_text(size = 12, color = \"black\"), \n",
    "        strip.background = element_rect(color = \"#FFFFFF\", fill = \"#FFFFFF\", size = 0),\n",
    "        strip.text.x = element_text(size = 12, color = \"black\", face = \"bold.italic\"),\n",
    "        panel.border = element_rect(colour = \"black\", fill = NA, size = 1.5),\n",
    "        panel.spacing.y = unit(0.15, \"mm\"),\n",
    "        aspect.ratio = 0.8) +\n",
    "  scale_fill_manual(values = c(\"#1967d2ff\", \"#218380\", \"#FFB802\", \"#D81159\", \"#D81159\")) + \n",
    "  scale_x_discrete(labels = c(\"Cohort 1\", \"Cohort 2\", \"Cohort 3\")) +\n",
    "  ylab(\"Normalized Gene Counts\") +\n",
    "  ggtitle(\"GBP5\") +\n",
    "  theme(plot.title = element_text(hjust = 0.5, color = \"black\", size = 12, face = \"bold.italic\"))\n",
    "\n",
    "# Display the plot\n",
    "p\n",
    "\n",
    "# Saving the plot with the styled title\n",
    "ggsave(filename = \"../Figure_Output/Figure_2/Fig2D.png\", plot = p, width = 7, height = 2.3, dpi = 300)\n",
    "ggsave(filename = \"../Figure_Output/Figure_2/Fig2D.pdf\", plot = p, width = 7, height = 2.3, dpi = 300, device = \"pdf\")\n"
   ]
  },
  {
   "cell_type": "markdown",
   "id": "40d220a9-37e0-409d-8f03-f91a2b97f2e4",
   "metadata": {},
   "source": [
    "---\n",
    "# Figure 2E"
   ]
  },
  {
   "cell_type": "code",
   "execution_count": 12,
   "id": "bb198327-6881-4992-bd2e-675aa43ff482",
   "metadata": {},
   "outputs": [
    {
     "name": "stderr",
     "output_type": "stream",
     "text": [
      "Setting levels: control = 0, case = 1\n",
      "\n",
      "Setting direction: controls < cases\n",
      "\n",
      "Setting levels: control = 0, case = 1\n",
      "\n",
      "Setting direction: controls < cases\n",
      "\n"
     ]
    },
    {
     "name": "stdout",
     "output_type": "stream",
     "text": [
      "[1] \"Train ROC-AUC: 0.914\"\n",
      "[1] \"Train ROC-AUC 95% CI: [0.856--0.972]\"\n",
      "[1] \"Train Accuracy:  0.912\"\n",
      "[1] \"Train Sensitivity:  0.939\"\n",
      "[1] \"Train Sensitivity:  95% CI: [ 0.854 , 0.976 ]\"\n",
      "[1] \"Train Specificity:  0.872\"\n",
      "[1] \"Train Specificity:  95% CI: [ 0.748 , 0.94 ]\"\n"
     ]
    },
    {
     "name": "stderr",
     "output_type": "stream",
     "text": [
      "Setting levels: control = 0, case = 1\n",
      "\n",
      "Setting direction: controls < cases\n",
      "\n"
     ]
    },
    {
     "name": "stdout",
     "output_type": "stream",
     "text": [
      "[1] \"Test ROC-AUC: 0.971\"\n",
      "[1] \"Test ROC-AUC 95% CI: [0.915--1]\"\n",
      "[1] \"Test Accuracy:  0.98\"\n",
      "[1] \"Test Sensitivity:  0.967\"\n",
      "[1] \"Test Sensitivity:  95% CI: [ 0.833 , 0.994 ]\"\n",
      "[1] \"Test Specificity:  1\"\n",
      "[1] \"Test Specificity:  95% CI: [ 0.845 , 1 ]\"\n"
     ]
    },
    {
     "name": "stderr",
     "output_type": "stream",
     "text": [
      "Setting levels: control = 0, case = 1\n",
      "\n",
      "Setting direction: controls < cases\n",
      "\n"
     ]
    },
    {
     "name": "stdout",
     "output_type": "stream",
     "text": [
      "[1] \"Validation ROC-AUC: 0.966\"\n",
      "[1] \"Validation ROC-AUC 95% CI: [0.925--1]\"\n",
      "[1] \"Validation Accuracy:  0.92\"\n",
      "[1] \"Validation Sensitivity:  1\"\n",
      "[1] \"Validation Sensitivity:  95% CI: [ 0.879 , 1 ]\"\n",
      "[1] \"Validation Specificity:  0.818\"\n",
      "[1] \"Validation Specificity:  95% CI: [ 0.615 , 0.927 ]\"\n"
     ]
    }
   ],
   "source": [
    "#----------------------------------\n",
    "\n",
    "### Train the model ####\n",
    "\n",
    "#----------------------------------\n",
    "df = norm_plot_dat_train\n",
    "df$tb <- ifelse(df$tb == \"positive\", 1, 0)\n",
    "df$tb <- as.factor(df$tb)\n",
    "\n",
    "gene_names <- as.character(top_genes)\n",
    "\n",
    "# Construct the formula\n",
    "formula <- as.formula(paste(\"tb ~\", paste(gene_names, collapse = \"+\"), \"- 1\"))\n",
    "\n",
    "# Create the GLM model\n",
    "model_train <- glm(formula, data = df, family = \"binomial\")\n",
    "#Calculate predictions\n",
    "probs <- predict(model_train, newdata = df, type = \"response\")\n",
    "# Create Calculate ROC and AUC\n",
    "roc_train <- roc(df$tb, probs)\n",
    "auc_train <- auc(roc_train)\n",
    "roc_train_ci = ci.auc(roc_train)\n",
    "coords_df <- data.frame(coords(roc_train, \"all\"))\n",
    "\n",
    "# Calculate Youden's index for each row\n",
    "coords_df$youden <- coords_df$sensitivity + coords_df$specificity - 1\n",
    "\n",
    "# Choose the optimal Youden's index\n",
    "optimal <- coords_df[which.max(coords_df$youden),]\n",
    "\n",
    "#----------------------------------\n",
    "\n",
    "### Training Set ####\n",
    "\n",
    "#----------------------------------\n",
    "\n",
    "df = norm_plot_dat_train\n",
    "# Filter for patients without HIV\n",
    "df = df %>% filter(hiv == \"Negative\")\n",
    "df$tb <- ifelse(df$tb == \"positive\", 1, 0)\n",
    "\n",
    "df$tb <- as.factor(df$tb)\n",
    "\n",
    "gene_names <- as.character(top_genes)\n",
    "\n",
    "\n",
    "# Calculate predictions\n",
    "probs <- predict(model_train, newdata = df, type = \"response\")\n",
    "\n",
    "# Calculate ROC and AUC\n",
    "roc_train <- roc(df$tb, probs)\n",
    "roc_train_ci = ci.auc(roc_train)\n",
    "print(paste0(\"Train ROC-AUC: \",round(auc(roc_train),3)))\n",
    "print(paste0(\"Train ROC-AUC 95% CI: [\", round(roc_train_ci[1],3), \"--\", round(roc_train_ci[3],3), \"]\"))\n",
    "\n",
    "# Assign labels using optimal threshold\n",
    "df$predicted <- ifelse(probs > optimal$threshold, 1, 0)\n",
    "\n",
    "# Create a confusion matrix\n",
    "conf_matrix <- table(df$tb, df$predicted)\n",
    "\n",
    "# Get all labels for true positive, false positive, etc...\n",
    "tp <- conf_matrix[2,2]\n",
    "tn <- conf_matrix[1,1]\n",
    "fp <- conf_matrix[1,2]\n",
    "fn <- conf_matrix[2,1]\n",
    "\n",
    "# Calculate Accuracy\n",
    "accuracy_test <- (tp + tn) / sum(conf_matrix)\n",
    "print(paste(\"Train Accuracy: \", round(accuracy_test, 3)))\n",
    "# Calculate Sensitivity and Specificity\n",
    "sensitivity <- tp / (tp + fn)\n",
    "specificity <- tn / (tn + fp)\n",
    "\n",
    "print(paste(\"Train\", \"Sensitivity: \", round(sensitivity, 3)))\n",
    "sensitivity_ci <- binom.confint(tp, tp + fn, conf.level = 0.95, methods = \"wilson\")\n",
    "print(paste(\"Train Sensitivity: \", \n",
    "            \"95% CI: [\", round(sensitivity_ci$lower, 3), \",\", round(sensitivity_ci$upper, 3), \"]\"))\n",
    "\n",
    "# Calculate 95% CI for specificity\n",
    "print(paste(\"Train\", \"Specificity: \", round(specificity, 3)))\n",
    "specificity_ci <- binom.confint(tn, tn + fp, conf.level = 0.95, methods = \"wilson\")\n",
    "print(paste(\"Train Specificity: \", \n",
    "            \"95% CI: [\", round(specificity_ci$lower, 3), \",\", round(specificity_ci$upper, 3), \"]\"))\n",
    "\n",
    "#----------------------------------\n",
    "\n",
    "### TEST SET ####\n",
    "\n",
    "#----------------------------------\n",
    "df = norm_plot_dat_test\n",
    "df = df %>% filter(hiv == \"Negative\")\n",
    "df$tb <- ifelse(df$tb == \"positive\", 1, 0)\n",
    "\n",
    "df$tb <- as.factor(df$tb)\n",
    "\n",
    "gene_names <- as.character(top_genes)\n",
    "\n",
    "\n",
    "# Calculate predictions\n",
    "probs <- predict(model_train, newdata = df, type = \"response\")\n",
    "\n",
    "# Calculate ROC and AUC\n",
    "roc_test <- roc(df$tb, probs)\n",
    "roc_test_ci = ci.auc(roc_test)\n",
    "print(paste0(\"Test ROC-AUC: \",round(auc(roc_test),3)))\n",
    "print(paste0(\"Test ROC-AUC 95% CI: [\", round(roc_test_ci[1],3), \"--\", round(roc_test_ci[3],3), \"]\"))\n",
    "\n",
    "# Assign labels using optimal threshold\n",
    "df$predicted <- ifelse(probs > optimal$threshold, 1, 0)\n",
    "\n",
    "# Create a confusion matrix\n",
    "conf_matrix <- table(df$tb, df$predicted)\n",
    "\n",
    "# Get all labels for true positive, false positive, etc...\n",
    "tp <- conf_matrix[2,2]\n",
    "tn <- conf_matrix[1,1]\n",
    "fp <- conf_matrix[1,2]\n",
    "fn <- conf_matrix[2,1]\n",
    "\n",
    "# Calculate Accuracy\n",
    "accuracy_test <- (tp + tn) / sum(conf_matrix)\n",
    "print(paste(\"Test Accuracy: \", round(accuracy_test, 3)))\n",
    "# Calculate Sensitivity and Specificity\n",
    "sensitivity <- tp / (tp + fn)\n",
    "specificity <- tn / (tn + fp)\n",
    "\n",
    "print(paste(\"Test\", \"Sensitivity: \", round(sensitivity, 3)))\n",
    "sensitivity_ci <- binom.confint(tp, tp + fn, conf.level = 0.95, methods = \"wilson\")\n",
    "print(paste(\"Test Sensitivity: \", \n",
    "            \"95% CI: [\", round(sensitivity_ci$lower, 3), \",\", round(sensitivity_ci$upper, 3), \"]\"))\n",
    "\n",
    "# Calculate 95% CI for specificity\n",
    "print(paste(\"Test\", \"Specificity: \", round(specificity, 3)))\n",
    "specificity_ci <- binom.confint(tn, tn + fp, conf.level = 0.95, methods = \"wilson\")\n",
    "print(paste(\"Test Specificity: \", \n",
    "            \"95% CI: [\", round(specificity_ci$lower, 3), \",\", round(specificity_ci$upper, 3), \"]\"))\n",
    "\n",
    "#----------------------------------\n",
    "\n",
    "### VALIDATION SET ####\n",
    "\n",
    "#----------------------------------\n",
    "\n",
    "df = norm_plot_dat_val\n",
    "df = df %>% filter(hiv == \"Negative\")\n",
    "df$tb <- ifelse(df$tb == \"positive\", 1, 0)\n",
    "df$tb <- as.factor(df$tb)\n",
    "gene_names <- as.character(top_genes)\n",
    "\n",
    "# Make predictions \n",
    "probs <- predict(model_train, newdata = df, type = \"response\")\n",
    "\n",
    "# Calculate coordinates & scores\n",
    "roc_val <- roc(df$tb, probs)\n",
    "roc_val_ci = ci.auc(roc_val)\n",
    "print(paste0(\"Validation ROC-AUC: \",round(auc(roc_val),3)))\n",
    "print(paste0(\"Validation ROC-AUC 95% CI: [\", round(roc_val_ci[1],3), \"--\", round(roc_val_ci[3],3), \"]\"))\n",
    "\n",
    "\n",
    "# Assign class labels based on the threshold\n",
    "df$predicted <- ifelse(probs > optimal$threshold, 1, 0)\n",
    "\n",
    "# Create a confusion matrix and calculate sensitivity and specificity\n",
    "conf_matrix <- table(df$tb, df$predicted)\n",
    "tp <- conf_matrix[2,2]\n",
    "tn <- conf_matrix[1,1]\n",
    "fp <- conf_matrix[1,2]\n",
    "fn <- conf_matrix[2,1]\n",
    "sensitivity <- tp / (tp + fn)\n",
    "specificity <- tn / (tn + fp)\n",
    "\n",
    "\n",
    "# Calculate accuracy\n",
    "accuracy_val <- (tp + tn) / sum(conf_matrix)\n",
    "print(paste(\"Validation Accuracy: \", round(accuracy_val, 3)))\n",
    "\n",
    "# Calculate sensitivity and specificity\n",
    "sensitivity <- tp / (tp + fn)\n",
    "specificity <- tn / (tn + fp)\n",
    "\n",
    "print(paste(\"Validation\", \"Sensitivity: \", round(sensitivity, 3)))\n",
    "sensitivity_ci <- binom.confint(tp, tp + fn, conf.level = 0.95, methods = \"wilson\")\n",
    "print(paste(\"Validation Sensitivity: \", \n",
    "            \"95% CI: [\", round(sensitivity_ci$lower, 3), \",\", round(sensitivity_ci$upper, 3), \"]\"))\n",
    "\n",
    "# Calculate 95% CI for specificity\n",
    "print(paste(\"Validation\", \"Specificity: \", round(specificity, 3)))\n",
    "specificity_ci <- binom.confint(tn, tn + fp, conf.level = 0.95, methods = \"wilson\")\n",
    "print(paste(\"Validation Specificity: \", \n",
    "            \"95% CI: [\", round(specificity_ci$lower, 3), \",\", round(specificity_ci$upper, 3), \"]\"))\n"
   ]
  },
  {
   "cell_type": "code",
   "execution_count": 13,
   "id": "44bacc84-863b-4217-908d-4a0a3f700d80",
   "metadata": {},
   "outputs": [
    {
     "data": {
      "image/png": "[encoded data removed]",
      "text/plain": [
       "plot without title"
      ]
     },
     "metadata": {
      "image/png": {
       "height": 300,
       "width": 600
      }
     },
     "output_type": "display_data"
    }
   ],
   "source": [
    "## Save ROC Curves of HIV Negative Patients ##\n",
    "p = ggroc(list(\"Train\"= roc_train, \"Test\" = roc_test, \"Validation\"=roc_val), aes=c(\"color\"))  +\n",
    "    theme_bw(base_size=6) + guides(color=\"none\", linetype=\"none\") +\n",
    "    geom_line(size=1,alpha=0.5) + scale_color_manual(values=c(\"#218380\",\"#B5179E\",\"#F88C1A\")) +\n",
    "    xlab(\"Specificty\") + ylab(\"Sensitivity\") +\n",
    "    theme(axis.text=element_text(size=12, color=\"black\"), \n",
    "          axis.title=element_text(size=12, color=\"black\"),\n",
    "          panel.border = element_rect(size = 1.5, color =\"black\"))  # Adjust this line to change the thickness\n",
    "\n",
    "ggsave(\"../Figure_Output/Figure_2/Fig2E.png\", plot = p, width = 3, height = 2.85, dpi = 300)\n",
    "ggsave(\"../Figure_Output/Figure_2/Fig2E.pdf\", plot = p, width = 3, height = 2.85, device = \"pdf\")\n",
    "\n",
    "p"
   ]
  },
  {
   "cell_type": "markdown",
   "id": "e169226f-3b58-4bf1-8867-9b1d0f3bbfd8",
   "metadata": {},
   "source": [
    "---\n",
    "# Figure 2F"
   ]
  },
  {
   "cell_type": "code",
   "execution_count": 14,
   "id": "e8875e56-13af-4347-88d9-d7d6712ca153",
   "metadata": {},
   "outputs": [
    {
     "name": "stderr",
     "output_type": "stream",
     "text": [
      "Setting levels: control = 0, case = 1\n",
      "\n",
      "Setting direction: controls < cases\n",
      "\n",
      "Setting levels: control = 0, case = 1\n",
      "\n",
      "Setting direction: controls < cases\n",
      "\n"
     ]
    },
    {
     "name": "stdout",
     "output_type": "stream",
     "text": [
      "[1] \"Uganda ROC-AUC: 0.927\"\n",
      "[1] \"Uganda ROC-AUC 95% CI: [0.89--0.964]\"\n",
      "[1] \"Uganda Accuracy:  0.905\"\n",
      "[1] \"Uganda Sensitivity:  0.964\"\n",
      "[1] \"Uganda Sensitivity:  95% CI: [ 0.911 , 0.986 ]\"\n",
      "[1] \"Uganda Specificity:  0.821\"\n",
      "[1] \"Uganda Specificity:  95% CI: [ 0.721 , 0.89 ]\"\n"
     ]
    },
    {
     "name": "stderr",
     "output_type": "stream",
     "text": [
      "Setting levels: control = 0, case = 1\n",
      "\n",
      "Setting direction: controls < cases\n",
      "\n"
     ]
    },
    {
     "name": "stdout",
     "output_type": "stream",
     "text": [
      "[1] \"Vietnam ROC-AUC: 0.903\"\n",
      "[1] \"Vietnam ROC-AUC 95% CI: [0.799--1]\"\n",
      "[1] \"Vietnam Accuracy:  0.889\"\n",
      "[1] \"Vietnam Sensitivity:  0.9\"\n",
      "[1] \"Vietnam Sensitivity:  95% CI: [ 0.699 , 0.972 ]\"\n",
      "[1] \"Vietnam Specificity:  0.875\"\n",
      "[1] \"Vietnam Specificity:  95% CI: [ 0.64 , 0.965 ]\"\n"
     ]
    },
    {
     "name": "stderr",
     "output_type": "stream",
     "text": [
      "Setting levels: control = 0, case = 1\n",
      "\n",
      "Setting direction: controls < cases\n",
      "\n"
     ]
    },
    {
     "name": "stdout",
     "output_type": "stream",
     "text": [
      "[1] \"Philippines ROC-AUC: 0.964\"\n",
      "[1] \"Philippines ROC-AUC 95% CI: [0.889--1]\"\n",
      "[1] \"Philippines Accuracy:  0.962\"\n",
      "[1] \"Philippines Sensitivity:  1\"\n",
      "[1] \"Philippines Sensitivity:  95% CI: [ 0.741 , 1 ]\"\n",
      "[1] \"Philippines Specificity:  0.933\"\n",
      "[1] \"Philippines Specificity:  95% CI: [ 0.702 , 0.988 ]\"\n"
     ]
    }
   ],
   "source": [
    "#----------------------------------\n",
    "\n",
    "### TRAIN THE MODEL ####\n",
    "\n",
    "#----------------------------------\n",
    "df = norm_plot_dat_train\n",
    "df$tb <- ifelse(df$tb == \"positive\", 1, 0)\n",
    "df$tb <- as.factor(df$tb)\n",
    "\n",
    "gene_names <- as.character(top_genes)\n",
    "\n",
    "# Construct the formula\n",
    "formula <- as.formula(paste(\"tb ~\", paste(gene_names, collapse = \"+\"), \"- 1\"))\n",
    "\n",
    "# Create the GLM model\n",
    "model_train <- glm(formula, data = df, family = \"binomial\")\n",
    "#Calculate predictions\n",
    "probs <- predict(model_train, newdata = df, type = \"response\")\n",
    "# Create Calculate ROC and AUC\n",
    "roc_train <- roc(df$tb, probs)\n",
    "auc_train <- auc(roc_train)\n",
    "roc_train_ci = ci.auc(roc_train)\n",
    "coords_df <- data.frame(coords(roc_train, \"all\"))\n",
    "\n",
    "# Calculate Youden's index for each row\n",
    "coords_df$youden <- coords_df$sensitivity + coords_df$specificity - 1\n",
    "\n",
    "# Choose the optimal Youden's index\n",
    "optimal <- coords_df[which.max(coords_df$youden),]\n",
    "\n",
    "#----------------------------------\n",
    "\n",
    "### Uganda Patients Only ####\n",
    "\n",
    "#----------------------------------\n",
    "# Read in all sample\n",
    "df = norm_plot_dat_all\n",
    "# Filter for samples from Uganda\n",
    "df = df %>% filter(Country == \"Uganda\")\n",
    "\n",
    "df$tb <- ifelse(df$tb == \"positive\", 1, 0)\n",
    "df$tb <- as.factor(df$tb)\n",
    "gene_names <- as.character(top_genes)\n",
    "\n",
    "\n",
    "# Calculate predictions\n",
    "probs <- predict(model_train, newdata = df, type = \"response\")\n",
    "\n",
    "# Calculate ROC and AUC\n",
    "roc_ug <- roc(df$tb, probs)\n",
    "roc_ug_ci = ci.auc(roc_ug)\n",
    "print(paste0(\"Uganda ROC-AUC: \",round(auc(roc_ug),3)))\n",
    "print(paste0(\"Uganda ROC-AUC 95% CI: [\", round(roc_ug_ci[1],3), \"--\", round(roc_ug_ci[3],3), \"]\"))\n",
    "\n",
    "# Assign labels using optimal threshold\n",
    "df$predicted <- ifelse(probs > optimal$threshold, 1, 0)\n",
    "\n",
    "# Create a confusion matrix\n",
    "conf_matrix <- table(df$tb, df$predicted)\n",
    "\n",
    "# Get all labels for true positive, false positive, etc...\n",
    "tp <- conf_matrix[2,2]\n",
    "tn <- conf_matrix[1,1]\n",
    "fp <- conf_matrix[1,2]\n",
    "fn <- conf_matrix[2,1]\n",
    "\n",
    "# Calculate Accuracy\n",
    "accuracy_test <- (tp + tn) / sum(conf_matrix)\n",
    "print(paste(\"Uganda Accuracy: \", round(accuracy_test, 3)))\n",
    "# Calculate Sensitivity and Specificity\n",
    "sensitivity <- tp / (tp + fn)\n",
    "specificity <- tn / (tn + fp)\n",
    "\n",
    "print(paste(\"Uganda\", \"Sensitivity: \", round(sensitivity, 3)))\n",
    "sensitivity_ci <- binom.confint(tp, tp + fn, conf.level = 0.95, methods = \"wilson\")\n",
    "print(paste(\"Uganda Sensitivity: \", \n",
    "            \"95% CI: [\", round(sensitivity_ci$lower, 3), \",\", round(sensitivity_ci$upper, 3), \"]\"))\n",
    "\n",
    "# Calculate 95% CI for specificity\n",
    "print(paste(\"Uganda\", \"Specificity: \", round(specificity, 3)))\n",
    "specificity_ci <- binom.confint(tn, tn + fp, conf.level = 0.95, methods = \"wilson\")\n",
    "print(paste(\"Uganda Specificity: \", \n",
    "            \"95% CI: [\", round(specificity_ci$lower, 3), \",\", round(specificity_ci$upper, 3), \"]\"))\n",
    "\n",
    "#----------------------------------\n",
    "\n",
    "### Vietnam Patients Only ####\n",
    "\n",
    "#----------------------------------\n",
    "df = norm_plot_dat_all\n",
    "df = df %>% filter(Country == \"Vietnam\")\n",
    "df$tb <- ifelse(df$tb == \"positive\", 1, 0)\n",
    "\n",
    "df$tb <- as.factor(df$tb)\n",
    "\n",
    "gene_names <- as.character(top_genes)\n",
    "\n",
    "\n",
    "# Calculate predictions\n",
    "probs <- predict(model_train, newdata = df, type = \"response\")\n",
    "\n",
    "# Calculate ROC and AUC\n",
    "roc_vi <- roc(df$tb, probs)\n",
    "roc_vi_ci = ci.auc(roc_vi)\n",
    "print(paste0(\"Vietnam ROC-AUC: \",round(auc(roc_vi),3)))\n",
    "print(paste0(\"Vietnam ROC-AUC 95% CI: [\", round(roc_vi_ci[1],3), \"--\", round(roc_vi_ci[3],3), \"]\"))\n",
    "\n",
    "# Assign labels using optimal threshold\n",
    "df$predicted <- ifelse(probs > optimal$threshold, 1, 0)\n",
    "\n",
    "# Create a confusion matrix\n",
    "conf_matrix <- table(df$tb, df$predicted)\n",
    "\n",
    "# Get all labels for true positive, false positive, etc...\n",
    "tp <- conf_matrix[2,2]\n",
    "tn <- conf_matrix[1,1]\n",
    "fp <- conf_matrix[1,2]\n",
    "fn <- conf_matrix[2,1]\n",
    "\n",
    "# Calculate Accuracy\n",
    "accuracy_test <- (tp + tn) / sum(conf_matrix)\n",
    "print(paste(\"Vietnam Accuracy: \", round(accuracy_test, 3)))\n",
    "# Calculate Sensitivity and Specificity\n",
    "sensitivity <- tp / (tp + fn)\n",
    "specificity <- tn / (tn + fp)\n",
    "\n",
    "print(paste(\"Vietnam\", \"Sensitivity: \", round(sensitivity, 3)))\n",
    "sensitivity_ci <- binom.confint(tp, tp + fn, conf.level = 0.95, methods = \"wilson\")\n",
    "print(paste(\"Vietnam Sensitivity: \", \n",
    "            \"95% CI: [\", round(sensitivity_ci$lower, 3), \",\", round(sensitivity_ci$upper, 3), \"]\"))\n",
    "\n",
    "# Calculate 95% CI for specificity\n",
    "print(paste(\"Vietnam\", \"Specificity: \", round(specificity, 3)))\n",
    "specificity_ci <- binom.confint(tn, tn + fp, conf.level = 0.95, methods = \"wilson\")\n",
    "print(paste(\"Vietnam Specificity: \", \n",
    "            \"95% CI: [\", round(specificity_ci$lower, 3), \",\", round(specificity_ci$upper, 3), \"]\"))\n",
    "\n",
    "#----------------------------------\n",
    "\n",
    "### Philippines Patients Only ####\n",
    "\n",
    "#----------------------------------\n",
    "\n",
    "df = norm_plot_dat_all\n",
    "df = df %>% filter(Country == \"Philippines\")\n",
    "df$tb <- ifelse(df$tb == \"positive\", 1, 0)\n",
    "df$tb <- as.factor(df$tb)\n",
    "gene_names <- as.character(top_genes)\n",
    "\n",
    "# Make predictions \n",
    "probs <- predict(model_train, newdata = df, type = \"response\")\n",
    "\n",
    "# Calculate coordinates & scores\n",
    "roc_ph <- roc(df$tb, probs)\n",
    "roc_ph_ci = ci.auc(roc_ph)\n",
    "print(paste0(\"Philippines ROC-AUC: \",round(auc(roc_ph),3)))\n",
    "print(paste0(\"Philippines ROC-AUC 95% CI: [\", round(roc_ph_ci[1],3), \"--\", round(roc_ph_ci[3],3), \"]\"))\n",
    "\n",
    "\n",
    "# Assign class labels based on the threshold\n",
    "df$predicted <- ifelse(probs > optimal$threshold, 1, 0)\n",
    "\n",
    "# Create a confusion matrix and calculate sensitivity and specificity\n",
    "conf_matrix <- table(df$tb, df$predicted)\n",
    "tp <- conf_matrix[2,2]\n",
    "tn <- conf_matrix[1,1]\n",
    "fp <- conf_matrix[1,2]\n",
    "fn <- conf_matrix[2,1]\n",
    "sensitivity <- tp / (tp + fn)\n",
    "specificity <- tn / (tn + fp)\n",
    "\n",
    "\n",
    "# Calculate accuracy\n",
    "accuracy_val <- (tp + tn) / sum(conf_matrix)\n",
    "print(paste(\"Philippines Accuracy: \", round(accuracy_val, 3)))\n",
    "\n",
    "# Calculate sensitivity and specificity\n",
    "sensitivity <- tp / (tp + fn)\n",
    "specificity <- tn / (tn + fp)\n",
    "\n",
    "print(paste(\"Philippines\", \"Sensitivity: \", round(sensitivity, 3)))\n",
    "sensitivity_ci <- binom.confint(tp, tp + fn, conf.level = 0.95, methods = \"wilson\")\n",
    "print(paste(\"Philippines Sensitivity: \", \n",
    "            \"95% CI: [\", round(sensitivity_ci$lower, 3), \",\", round(sensitivity_ci$upper, 3), \"]\"))\n",
    "\n",
    "# Calculate 95% CI for specificity\n",
    "print(paste(\"Philippines\", \"Specificity: \", round(specificity, 3)))\n",
    "specificity_ci <- binom.confint(tn, tn + fp, conf.level = 0.95, methods = \"wilson\")\n",
    "print(paste(\"Philippines Specificity: \", \n",
    "            \"95% CI: [\", round(specificity_ci$lower, 3), \",\", round(specificity_ci$upper, 3), \"]\"))\n"
   ]
  },
  {
   "cell_type": "code",
   "execution_count": 15,
   "id": "ebf39fa7-5b7e-429f-8e97-dd16be4ea2ad",
   "metadata": {},
   "outputs": [
    {
     "data": {
      "image/png": "[encoded data removed]",
      "text/plain": [
       "plot without title"
      ]
     },
     "metadata": {
      "image/png": {
       "height": 360,
       "width": 360
      }
     },
     "output_type": "display_data"
    }
   ],
   "source": [
    "## Plot the Country ROC Curves ##\n",
    "options(repr.plot.height=6, repr.plot.width=6)\n",
    "p = ggroc(list(\"Train\"= roc_ug, \"Test\" = roc_ph, \"Validation\"=roc_vi), aes=c(\"color\"))  +\n",
    "    theme_bw(base_size=6) + guides(color=\"none\", linetype=\"none\") +\n",
    "    geom_line(size=1,alpha=0.5) + scale_color_manual(values=c(\"#EE2C39\",\"#00B2EC\",\"#3FB349\")) +\n",
    "    xlab(\"Specificty\") + ylab(\"Sensitivity\") +\n",
    "    theme(axis.text=element_text(size=12, color=\"black\"), \n",
    "          axis.title=element_text(size=12, color=\"black\"),\n",
    "          panel.border = element_rect(size = 1.5, color =\"black\"))  # Adjust this line to change the thickness\n",
    "\n",
    "ggsave(\"../Figure_Output/Figure_2/Fig2F.png\", plot = p, width = 3, height = 2.85, dpi = 300)\n",
    "ggsave(\"../Figure_Output/Figure_2/Fig2F.pdf\", plot = p, width = 3, height = 2.85, device = \"pdf\")\n",
    "\n",
    "p"
   ]
  },
  {
   "cell_type": "markdown",
   "id": "b3e4b18c-c98a-4d76-acec-440e8a1623c4",
   "metadata": {},
   "source": [
    "---\n",
    "# Figure 2G"
   ]
  },
  {
   "cell_type": "code",
   "execution_count": 16,
   "id": "aeef8aeb-ac4d-4b85-bfd1-17c4c6cecce7",
   "metadata": {},
   "outputs": [
    {
     "data": {
      "image/png": "[encoded data removed]",
      "text/plain": [
       "plot without title"
      ]
     },
     "metadata": {
      "image/png": {
       "height": 96,
       "width": 114
      }
     },
     "output_type": "display_data"
    }
   ],
   "source": [
    "## Note \n",
    "## the Key To label the Cohorts colors was \n",
    "## added in adobe illustrator\n",
    "## For this plot Teal = Cohort 1, Brown = Cohort 2, Yellow = Cohort 3\n",
    "\n",
    "## Train the model to ensure reproducibility of code blocks\n",
    "df =  norm_plot_dat_train\n",
    "df$tb <- ifelse(df$tb == \"positive\", 1, 0)\n",
    "df$tb <- as.factor(df$tb)\n",
    "gene_names <- as.character(top_genes)\n",
    "\n",
    "# Construct the formula using the gene names\n",
    "formula <- as.formula(paste(\"tb ~\", paste(gene_names, collapse = \"+\"), \"- 1\"))\n",
    "\n",
    "# Next, create the logistic regression model\n",
    "model_train <- glm(formula,\n",
    "             data = df, family = \"binomial\")\n",
    "\n",
    "# Predict the probabilities for the positive class\n",
    "probs <- predict(model_train, newdata = df, type = \"response\")\n",
    "\n",
    "\n",
    "# Predict make the predictions on all samples as save as a column\n",
    "norm_plot_dat_all$probs <- predict(model_train, newdata = norm_plot_dat_all, type = \"response\")\n",
    "\n",
    "# Function to compute error bar stats\n",
    "compute_summary <- function(df){\n",
    "  df %>%\n",
    "    filter(!is.na(semiquant)) %>%\n",
    "    mutate(semiquant = factor(semiquant, levels = c(\"Negative\", \"Low\", \"Medium\", \"High\"))) %>%\n",
    "    group_by(semiquant, cohort) %>%\n",
    "    summarise(mean = mean(probs, na.rm = TRUE),\n",
    "              sd = sd(probs, na.rm = TRUE),\n",
    "              n = n(),\n",
    "              se = sd / sqrt(n),\n",
    "              lower.ci = ifelse(n == 1, NA, mean - qt(1 - (0.05 / 2), n - 1) * se),\n",
    "              upper.ci = ifelse(n == 1, NA, mean + qt(1 - (0.05 / 2), n - 1) * se),\n",
    "              .groups = 'drop')\n",
    "}\n",
    "\n",
    "\n",
    "# Apply function\n",
    "combined_df  <- compute_summary(norm_plot_dat_all)\n",
    "\n",
    "combined_df$cohort <- factor(combined_df$cohort, levels = unique(combined_df$cohort))\n",
    "\n",
    "# Plotting\n",
    "options(repr.plot.height=1.6, repr.plot.width=1.9)\n",
    "p <- combined_df %>%\n",
    "  filter(!is.na(semiquant)) %>%\n",
    "  ggplot(aes(x = semiquant, y = mean, color = cohort, group = cohort)) + \n",
    "  geom_line(size = 1, alpha = 0.9) + \n",
    "  geom_errorbar(aes(ymin = lower.ci, ymax = upper.ci)) + \n",
    "  geom_point(size = 1, alpha = 0.9) + \n",
    "  theme_bw(base_size = 6) +\n",
    "   theme(legend.position = \"none\",\n",
    "        axis.text = element_text(color = \"black\", size = 7),\n",
    "        axis.title.x = element_text(color = \"black\", size = 7),\n",
    "        axis.title.y = element_text(color = \"black\", size = 11), # Y-axis label size increased\n",
    "        panel.border = element_rect(colour = \"black\", fill = NA, size = 1)) +\n",
    "  xlab(\"Xpert Ultra Semiquantitative Result\") + \n",
    "  ylab(\"6-gene TB score\") +\n",
    "  scale_color_manual(values = c(\"#00D2DE\", \"#8B4514\", \"#F88C1A\")) + # Ensure these colors match your cohorts\n",
    "  geom_hline(yintercept = optimal$threshold, linetype = \"dashed\")\n",
    "p\n",
    "\n",
    "ggsave(filename = \"../Figure_Output/Figure_2/Fig2G.png\", plot = p, width = 2.4, height = 1.9, dpi = 300)\n",
    "ggsave(filename = \"../Figure_Output/Figure_2/fig2G.pdf\", plot = p, width = 2.2, height = 1.9, dpi = 300, device = \"pdf\")"
   ]
  },
  {
   "cell_type": "code",
   "execution_count": 17,
   "id": "276bba20-59fa-46a5-8a7b-f953dd7d5182",
   "metadata": {},
   "outputs": [
    {
     "name": "stdout",
     "output_type": "stream",
     "text": [
      "\n",
      "Two-Step Estimates\n",
      "\n",
      "Correlations/Type of Correlation:\n",
      "           probs  semiquant\n",
      "probs          1 Polyserial\n",
      "semiquant 0.7574          1\n",
      "\n",
      "Standard Errors:\n",
      "[1] \"\"        \"0.02738\"\n",
      "\n",
      "n = 244 \n",
      "\n",
      "P-values for Tests of Bivariate Normality:\n",
      "[1] \"\"          \"2.053e-29\"\n",
      "[1] \"Polychoric correlation: 0.757\"\n"
     ]
    }
   ],
   "source": [
    "# Calculate the polychoric correlation between semiquantitative groups\n",
    "df = norm_plot_dat_all\n",
    "# Check if both 'probs' and 'semiquant' columns exist in df\n",
    "\n",
    "  # Set semiquant as an ordered factor\n",
    "  df$semiquant <- factor(df$semiquant, levels = c(\"Negative\", \"Low\", \"Medium\", \"High\"), ordered = TRUE)\n",
    "\n",
    "  # Calculate polychoric correlation\n",
    "  polychoric_correlation <- hetcor(df[, c(\"probs\", \"semiquant\")])\n",
    "\n",
    "  # Print the polychoric correlation\n",
    "  print(polychoric_correlation)\n",
    "print(paste0(\"Polychoric correlation: \",round(polychoric_correlation$correlations[2],3)))"
   ]
  },
  {
   "cell_type": "markdown",
   "id": "d37a2cc0-15ae-4c9d-a600-de6058c3aed1",
   "metadata": {
    "tags": []
   },
   "source": [
    "---\n",
    "# Figure 2H"
   ]
  },
  {
   "cell_type": "markdown",
   "id": "8e782e32-af52-4543-bd19-edf279bb3a2a",
   "metadata": {},
   "source": [
    "## Plot 1: CAD4TB plot\n",
    "### Legends for this plot were created manually in adobe illustrator"
   ]
  },
  {
   "cell_type": "code",
   "execution_count": 18,
   "id": "867bd90d-66fa-4ce5-ae09-1e9d10301f37",
   "metadata": {},
   "outputs": [
    {
     "name": "stderr",
     "output_type": "stream",
     "text": [
      "\u001b[1m\u001b[22m`geom_smooth()` using formula = 'y ~ x'\n",
      "Warning message:\n",
      "“\u001b[1m\u001b[22mRemoved 104 rows containing non-finite values (`stat_smooth()`).”\n",
      "Warning message:\n",
      "“\u001b[1m\u001b[22mRemoved 104 rows containing missing values (`geom_point()`).”\n",
      "\u001b[1m\u001b[22m`geom_smooth()` using formula = 'y ~ x'\n",
      "Warning message:\n",
      "“\u001b[1m\u001b[22mRemoved 104 rows containing non-finite values (`stat_smooth()`).”\n",
      "Warning message:\n",
      "“\u001b[1m\u001b[22mRemoved 104 rows containing missing values (`geom_point()`).”\n",
      "\u001b[1m\u001b[22m`geom_smooth()` using formula = 'y ~ x'\n",
      "Warning message:\n",
      "“\u001b[1m\u001b[22mRemoved 104 rows containing non-finite values (`stat_smooth()`).”\n",
      "Warning message:\n",
      "“\u001b[1m\u001b[22mRemoved 104 rows containing missing values (`geom_point()`).”\n"
     ]
    },
    {
     "data": {
      "text/html": [
       "<table class=\"dataframe\">\n",
       "<caption>A data.frame: 1 × 1</caption>\n",
       "<thead>\n",
       "\t<tr><th scope=col>cor</th></tr>\n",
       "\t<tr><th scope=col>&lt;dbl&gt;</th></tr>\n",
       "</thead>\n",
       "<tbody>\n",
       "\t<tr><td>0.616099</td></tr>\n",
       "</tbody>\n",
       "</table>\n"
      ],
      "text/latex": [
       "A data.frame: 1 × 1\n",
       "\\begin{tabular}{l}\n",
       " cor\\\\\n",
       " <dbl>\\\\\n",
       "\\hline\n",
       "\t 0.616099\\\\\n",
       "\\end{tabular}\n"
      ],
      "text/markdown": [
       "\n",
       "A data.frame: 1 × 1\n",
       "\n",
       "| cor &lt;dbl&gt; |\n",
       "|---|\n",
       "| 0.616099 |\n",
       "\n"
      ],
      "text/plain": [
       "  cor     \n",
       "1 0.616099"
      ]
     },
     "metadata": {},
     "output_type": "display_data"
    },
    {
     "data": {
      "image/png": "[encoded data removed]",
      "text/plain": [
       "plot without title"
      ]
     },
     "metadata": {
      "image/png": {
       "height": 192,
       "width": 192
      }
     },
     "output_type": "display_data"
    }
   ],
   "source": [
    "options(repr.plot.height=3.2, repr.plot.width=3.2)\n",
    "\n",
    "# Set temorary dataframe for all sample points\n",
    "comb_df = norm_plot_dat_all\n",
    "\n",
    "# Plot\n",
    "p = comb_df %>% \n",
    "  \n",
    "  ggplot(aes(x=CAD4TB_score, y=probs, color=tb)) + \n",
    "  geom_point(size=0.5) +\n",
    "  theme_bw(base_size=8) + \n",
    "  geom_smooth(method=\"loess\", span=2, color=\"black\") + scale_y_continuous(limits=c(0, 1.1)) +\n",
    "  theme( \n",
    "    axis.text=element_text(size=6, color=\"black\"), \n",
    "    axis.title=element_blank()\n",
    "  ) +\n",
    "  xlab(\"CAD4TB Score\")+\n",
    "  ylab(\"6-gene TB Score\") + \n",
    "  scale_color_manual(values=c(\"#1967d2ff\", \"#FF70A6\")) +\n",
    "  theme(\n",
    "    aspect.ratio = 1,\n",
    "    strip.background = element_blank(),\n",
    "    strip.placement = \"outside\",\n",
    "    axis.text=element_text(size=6.5, color=\"black\"),\n",
    "    axis.title=element_text(size=8, color=\"black\"),\n",
    "    panel.border = element_rect(colour = \"black\", fill = NA, size = 1)\n",
    "  )\n",
    "p\n",
    "ggsave(filename = \"../Figure_Output/Figure_2/Fig2H_1.png\", plot = p, width = 1.6, height = 4.6, dpi = 300)\n",
    "ggsave(filename = \"../Figure_Output/Figure_2/Fig2H_1.pdf\", plot = p, width = 1.6, height = 4.6, dpi = 300, device = pdf)\n",
    "\n",
    "# Filter only for matching correlation values (probs and CAD4TB exist)\n",
    "comb_df_filtered <- comb_df[complete.cases(comb_df$CAD4TB_score, comb_df$probs), ]\n",
    "# Calculate Correlation\n",
    "comb_df_filtered %>% summarise(cor = cor(CAD4TB_score, probs, method=\"pearson\"))\n"
   ]
  },
  {
   "cell_type": "markdown",
   "id": "90d56698-3637-466a-bd46-07f017bf38b1",
   "metadata": {},
   "source": [
    "## Plot 2: qXR Score Plot"
   ]
  },
  {
   "cell_type": "code",
   "execution_count": 19,
   "id": "72549997-1622-481b-9ac0-6e8c74ec6567",
   "metadata": {},
   "outputs": [
    {
     "name": "stderr",
     "output_type": "stream",
     "text": [
      "\u001b[1m\u001b[22m`geom_smooth()` using formula = 'y ~ x'\n",
      "Warning message:\n",
      "“\u001b[1m\u001b[22mRemoved 101 rows containing non-finite values (`stat_smooth()`).”\n",
      "Warning message:\n",
      "“\u001b[1m\u001b[22mRemoved 101 rows containing missing values (`geom_point()`).”\n",
      "\u001b[1m\u001b[22m`geom_smooth()` using formula = 'y ~ x'\n",
      "Warning message:\n",
      "“\u001b[1m\u001b[22mRemoved 101 rows containing non-finite values (`stat_smooth()`).”\n",
      "Warning message:\n",
      "“\u001b[1m\u001b[22mRemoved 101 rows containing missing values (`geom_point()`).”\n",
      "\u001b[1m\u001b[22m`geom_smooth()` using formula = 'y ~ x'\n",
      "Warning message:\n",
      "“\u001b[1m\u001b[22mRemoved 101 rows containing non-finite values (`stat_smooth()`).”\n",
      "Warning message:\n",
      "“\u001b[1m\u001b[22mRemoved 101 rows containing missing values (`geom_point()`).”\n"
     ]
    },
    {
     "data": {
      "text/html": [
       "<table class=\"dataframe\">\n",
       "<caption>A data.frame: 1 × 1</caption>\n",
       "<thead>\n",
       "\t<tr><th scope=col>cor</th></tr>\n",
       "\t<tr><th scope=col>&lt;dbl&gt;</th></tr>\n",
       "</thead>\n",
       "<tbody>\n",
       "\t<tr><td>0.4973201</td></tr>\n",
       "</tbody>\n",
       "</table>\n"
      ],
      "text/latex": [
       "A data.frame: 1 × 1\n",
       "\\begin{tabular}{l}\n",
       " cor\\\\\n",
       " <dbl>\\\\\n",
       "\\hline\n",
       "\t 0.4973201\\\\\n",
       "\\end{tabular}\n"
      ],
      "text/markdown": [
       "\n",
       "A data.frame: 1 × 1\n",
       "\n",
       "| cor &lt;dbl&gt; |\n",
       "|---|\n",
       "| 0.4973201 |\n",
       "\n"
      ],
      "text/plain": [
       "  cor      \n",
       "1 0.4973201"
      ]
     },
     "metadata": {},
     "output_type": "display_data"
    },
    {
     "data": {
      "image/png": "[encoded data removed]",
      "text/plain": [
       "plot without title"
      ]
     },
     "metadata": {
      "image/png": {
       "height": 192,
       "width": 192
      }
     },
     "output_type": "display_data"
    }
   ],
   "source": [
    "\n",
    "# Plot\n",
    "p = comb_df %>% \n",
    "  ggplot(aes(x=qXR_score, y=probs, color=tb)) + \n",
    "  geom_point(size=0.5) +\n",
    "  theme_bw(base_size=8) + \n",
    "  geom_smooth(method=\"loess\", span=2, color=\"black\") + scale_y_continuous(limits=c(0, 1.1)) +\n",
    "  theme(\n",
    "    axis.text=element_text(size=6, color=\"black\"), \n",
    "    axis.title=element_blank()\n",
    "  ) +\n",
    "  xlab(\"qXR Score\") +\n",
    "  ylab(\"6-gene TB Score\") + \n",
    "  scale_color_manual(values=c(\"#1967d2ff\", \"#FF70A6\")) +\n",
    "  theme(\n",
    "    aspect.ratio = 1,\n",
    "    strip.background = element_blank(),\n",
    "    strip.placement = \"outside\",\n",
    "    axis.text=element_text(size=6.5, color=\"black\"),\n",
    "    axis.title=element_text(size=8, color=\"black\"),\n",
    "    panel.border = element_rect(colour = \"black\", fill = NA, size = 1)\n",
    "  )\n",
    "p\n",
    "ggsave(filename = \"../Figure_Output/Figure_2/Fig2H_2.png\", plot = p, width = 1.6, height = 4.6, dpi = 300)\n",
    "ggsave(filename = \"../Figure_Output/Figure_2/Fig2H_2.pdf\", plot = p, width = 1.6, height = 4.6, dpi = 300, device = pdf)\n",
    "\n",
    "comb_df_filtered <- comb_df[complete.cases(comb_df$qXR_score, comb_df$probs), ]\n",
    "comb_df_filtered %>% summarise(cor = cor(qXR_score, probs, method=\"pearson\"))\n"
   ]
  },
  {
   "cell_type": "markdown",
   "id": "dfc57417-3803-49a2-8c2a-7080ce682186",
   "metadata": {},
   "source": [
    "## Plot 3: Lunit Score Plot"
   ]
  },
  {
   "cell_type": "code",
   "execution_count": 20,
   "id": "badf61b9-35d3-456b-a962-208530d666de",
   "metadata": {},
   "outputs": [
    {
     "name": "stderr",
     "output_type": "stream",
     "text": [
      "\u001b[1m\u001b[22m`geom_smooth()` using formula = 'y ~ x'\n",
      "Warning message:\n",
      "“\u001b[1m\u001b[22mRemoved 101 rows containing non-finite values (`stat_smooth()`).”\n",
      "Warning message:\n",
      "“\u001b[1m\u001b[22mRemoved 101 rows containing missing values (`geom_point()`).”\n",
      "\u001b[1m\u001b[22m`geom_smooth()` using formula = 'y ~ x'\n",
      "Warning message:\n",
      "“\u001b[1m\u001b[22mRemoved 101 rows containing non-finite values (`stat_smooth()`).”\n",
      "Warning message:\n",
      "“\u001b[1m\u001b[22mRemoved 101 rows containing missing values (`geom_point()`).”\n",
      "\u001b[1m\u001b[22m`geom_smooth()` using formula = 'y ~ x'\n",
      "Warning message:\n",
      "“\u001b[1m\u001b[22mRemoved 101 rows containing non-finite values (`stat_smooth()`).”\n",
      "Warning message:\n",
      "“\u001b[1m\u001b[22mRemoved 101 rows containing missing values (`geom_point()`).”\n"
     ]
    },
    {
     "data": {
      "text/html": [
       "<table class=\"dataframe\">\n",
       "<caption>A data.frame: 1 × 1</caption>\n",
       "<thead>\n",
       "\t<tr><th scope=col>cor</th></tr>\n",
       "\t<tr><th scope=col>&lt;dbl&gt;</th></tr>\n",
       "</thead>\n",
       "<tbody>\n",
       "\t<tr><td>0.5209263</td></tr>\n",
       "</tbody>\n",
       "</table>\n"
      ],
      "text/latex": [
       "A data.frame: 1 × 1\n",
       "\\begin{tabular}{l}\n",
       " cor\\\\\n",
       " <dbl>\\\\\n",
       "\\hline\n",
       "\t 0.5209263\\\\\n",
       "\\end{tabular}\n"
      ],
      "text/markdown": [
       "\n",
       "A data.frame: 1 × 1\n",
       "\n",
       "| cor &lt;dbl&gt; |\n",
       "|---|\n",
       "| 0.5209263 |\n",
       "\n"
      ],
      "text/plain": [
       "  cor      \n",
       "1 0.5209263"
      ]
     },
     "metadata": {},
     "output_type": "display_data"
    },
    {
     "data": {
      "image/png": "[encoded data removed]",
      "text/plain": [
       "plot without title"
      ]
     },
     "metadata": {
      "image/png": {
       "height": 192,
       "width": 192
      }
     },
     "output_type": "display_data"
    }
   ],
   "source": [
    "\n",
    "# Plotting the data\n",
    "p = comb_df %>% \n",
    "  ggplot(aes(x=Lunit_score, y=probs, color=tb)) + \n",
    "  geom_point(size=0.5) +\n",
    "  theme_bw(base_size=8) + \n",
    "  geom_smooth(method=\"loess\", span=2, color=\"black\") + scale_y_continuous(limits=c(0, 1.1)) +\n",
    "  theme( \n",
    "    axis.text=element_text(size=6, color=\"black\"), \n",
    "    axis.title=element_blank()\n",
    "  ) +\n",
    "  xlab(\"Lunit Score\") +\n",
    "  ylab(\"6-gene TB Score\") + \n",
    "  scale_color_manual(values=c(\"#1967d2ff\", \"#FF70A6\")) +\n",
    "  theme(\n",
    "    aspect.ratio = 1,\n",
    "    strip.background = element_blank(),\n",
    "    strip.placement = \"outside\",\n",
    "    axis.text=element_text(size=6.5, color=\"black\"),\n",
    "    axis.title=element_text(size=8, color=\"black\"),\n",
    "    panel.border = element_rect(colour = \"black\", fill = NA, size = 1)\n",
    "  )\n",
    "p\n",
    "ggsave(filename = \"../Figure_Output/Figure_2/Fig2H_3.png\", plot = p, width = 1.6, height = 4.6, dpi = 300)\n",
    "ggsave(filename = \"../Figure_Output/Figure_2/Fig2H_3.pdf\", plot = p, width = 1.6, height = 4.6, dpi = 300, device = pdf)\n",
    "\n",
    "\n",
    "comb_df_filtered <- comb_df[complete.cases(comb_df$Lunit_score, comb_df$probs), ]\n",
    "comb_df_filtered %>% summarise(cor = cor(Lunit_score, probs, method=\"pearson\"))\n"
   ]
  },
  {
   "cell_type": "code",
   "execution_count": null,
   "id": "54da6b14-e204-412c-95fb-2a728c0a2061",
   "metadata": {},
   "outputs": [],
   "source": []
  },
  {
   "cell_type": "code",
   "execution_count": null,
   "id": "4b1c4ffc-3132-449b-8556-52b418bbc70f",
   "metadata": {},
   "outputs": [],
   "source": []
  }
 ],
 "metadata": {
  "kernelspec": {
   "display_name": "R",
   "language": "R",
   "name": "ir"
  },
  "language_info": {
   "codemirror_mode": "r",
   "file_extension": ".r",
   "mimetype": "text/x-r-source",
   "name": "R",
   "pygments_lexer": "r",
   "version": "4.2.0"
  }
 },
 "nbformat": 4,
 "nbformat_minor": 5
}
