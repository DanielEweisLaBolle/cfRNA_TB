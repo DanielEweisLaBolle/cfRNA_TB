{
 "cells": [
  {
   "cell_type": "code",
   "execution_count": 1,
   "id": "fd9bfd49",
   "metadata": {},
   "outputs": [
    {
     "name": "stderr",
     "output_type": "stream",
     "text": [
      "Warning message:\n",
      "“package ‘genefilter’ was built under R version 4.2.2”\n",
      "Warning message:\n",
      "“package ‘DESeq2’ was built under R version 4.2.2”\n",
      "Warning message:\n",
      "“package ‘S4Vectors’ was built under R version 4.2.1”\n",
      "Warning message:\n",
      "“package ‘BiocGenerics’ was built under R version 4.2.1”\n",
      "Warning message:\n",
      "“package ‘IRanges’ was built under R version 4.2.1”\n",
      "Warning message:\n",
      "“package ‘GenomicRanges’ was built under R version 4.2.2”\n",
      "Warning message:\n",
      "“package ‘GenomeInfoDb’ was built under R version 4.2.3”\n",
      "Warning message:\n",
      "“package ‘SummarizedExperiment’ was built under R version 4.2.2”\n",
      "Warning message:\n",
      "“package ‘MatrixGenerics’ was built under R version 4.2.1”\n",
      "Warning message:\n",
      "“package ‘Biobase’ was built under R version 4.2.1”\n",
      "Warning message:\n",
      "“package ‘edgeR’ was built under R version 4.2.3”\n",
      "Warning message:\n",
      "“package ‘limma’ was built under R version 4.2.3”\n",
      "Warning message:\n",
      "“package ‘ggpubr’ was built under R version 4.2.2”\n"
     ]
    }
   ],
   "source": [
    "suppressMessages(library(magrittr)) \n",
    "suppressMessages(library(genefilter))\n",
    "suppressMessages(library(DESeq2))\n",
    "suppressMessages(library(readr))\n",
    "suppressMessages(library(data.table))\n",
    "suppressMessages(library(matrixStats))\n",
    "suppressMessages(library(pheatmap))\n",
    "suppressMessages(library(gplots))\n",
    "suppressMessages(library(matrixStats))\n",
    "suppressMessages(library(ggvenn))\n",
    "suppressMessages(library(edgeR))\n",
    "suppressMessages(library(pROC))\n",
    "suppressMessages(library(ggpubr))\n",
    "suppressMessages(library(eulerr))\n",
    "suppressMessages(library(stringr))\n",
    "suppressMessages(library(qualpalr))\n",
    "suppressMessages(library(stats))\n",
    "suppressMessages(library(tidyr))\n",
    "suppressMessages(library(pROC))\n",
    "suppressMessages(library(binom))\n",
    "options(stringsAsFactors = FALSE)\n",
    "set.seed(42)\n",
    "gene.list = read.delim(\"../Files_For_Manuscript/gencode.biotype.name.key.tsv\")\n"
   ]
  },
  {
   "cell_type": "markdown",
   "id": "7ae734b6-1f4e-4c81-b91a-6676291db085",
   "metadata": {},
   "source": [
    "# Create the Metadata for this "
   ]
  },
  {
   "cell_type": "code",
   "execution_count": 2,
   "id": "acb3fd4f",
   "metadata": {},
   "outputs": [
    {
     "data": {
      "text/html": [
       "251"
      ],
      "text/latex": [
       "251"
      ],
      "text/markdown": [
       "251"
      ],
      "text/plain": [
       "[1] 251"
      ]
     },
     "metadata": {},
     "output_type": "display_data"
    },
    {
     "data": {
      "text/html": [
       "60"
      ],
      "text/latex": [
       "60"
      ],
      "text/markdown": [
       "60"
      ],
      "text/plain": [
       "[1] 60"
      ]
     },
     "metadata": {},
     "output_type": "display_data"
    }
   ],
   "source": [
    "# Read in cfRNA files\n",
    "metadata_train = read.delim(\"../Files_For_Manuscript/metadata.train.tsv\")\n",
    "metadata_test = read.delim(\"../Files_For_Manuscript/metadata.test.tsv\")\n",
    "metadata_val = read.delim(\"../Files_For_Manuscript/metadata.val.tsv\")\n",
    "cto_discovery =read.delim(\"../Files_For_Manuscript/discovery_cell_types.tsv\")\n",
    "# Read in whole blood files\n",
    "cto_wb =  read.delim(\"../Files_For_Manuscript/cto_wb.txt\")\n",
    "meta_wb =read.delim(\"../Files_For_Manuscript/wb_metadata.txt\")\n",
    "\n",
    "# Assign label for wbRNA samples\n",
    "meta = meta_wb %>% select(sample_id, site, cohort, hiv, tb) %>% tibble::add_column(\"Biofluid\"=\"WBRNA\")\n",
    "\n",
    "metadata_discovery = rbind(metadata_train, metadata_test, metadata_val)\n",
    "\n",
    "# Select only valid columns\n",
    "cto_discovery <- cto_discovery %>% \n",
    "   filter(sample_id %in% metadata_discovery$sample_id)\n",
    "\n",
    "# Select only valid columns\n",
    "meta = meta %>% \n",
    "   filter(sample_id %in% cto_wb$sample_id)\n",
    "nrow(cto_discovery)\n",
    "nrow(meta)\n",
    "\n",
    "# Combine metadata for plasma samples and wbRNA samples\n",
    "combined_metadata = metadata_discovery %>% select(sample_id, site, cohort, hiv, tb) %>% \n",
    "tibble::add_column(\"Biofluid\"=\"plasma\") %>% \n",
    "rbind(. , meta)\n"
   ]
  },
  {
   "cell_type": "code",
   "execution_count": 3,
   "id": "66c1edfe",
   "metadata": {
    "scrolled": true
   },
   "outputs": [
    {
     "name": "stderr",
     "output_type": "stream",
     "text": [
      "Warning message in melt(decon, id.vars = \"sample_id\"):\n",
      "“The melt generic in data.table has been passed a data.frame and will attempt to redirect to the relevant reshape2 method; please note that reshape2 is deprecated, and this redirection is now deprecated as well. To continue using melt methods from reshape2 while both libraries are attached, e.g. melt.list, you can prepend the namespace like reshape2::melt(decon). In the next version, this warning will become an error.”\n"
     ]
    }
   ],
   "source": [
    "# Combine the cell type dataframes from Whole blood and cfRNA\n",
    "decon = rbind(cto_discovery, cto_wb)\n",
    "# Melt the dataframe, reassign column names for legibility and merge with metadata\n",
    "decon_melt = unique(melt(decon, id.vars=\"sample_id\") %>% rename(celltype = variable, fraction = value)  %>%\n",
    "    merge(. , combined_metadata, by.x=\"sample_id\", by.y=\"sample_id\"))\n"
   ]
  },
  {
   "cell_type": "code",
   "execution_count": 4,
   "id": "9d15bcd3",
   "metadata": {},
   "outputs": [],
   "source": [
    "# Calculate the average fraction across cell types\n",
    "results <- decon_melt\n",
    "sum <- results %>% group_by(celltype) %>% summarize(mean=mean(fraction))\n",
    "sum <- sum[order(sum$mean,decreasing=TRUE),]\n",
    "\n",
    "genes = sum$celltype\n",
    "\n",
    "num_cells = length(genes)\n",
    "pal = sample(rev(qualpal(num_cells, colorspace=list(h=c(0,360), s=c(0.3,1), l=c(0.2,0.8)))$hex))\n",
    "pal = c('#1362AB','#740C33','#2C8DAF','#FB927F','#5CFBF4','#0234C1','#86C35E','#B414A8','#F191B8','#949D0A','#700862','#F5DB9E','#209510','#DBB008','#5C6BFA','#B27DF2','#D6F306','#5EFE36','#A9DAC9','#B2040D','#203760','#4D5D0D','#4A1E80','#F63DFA','#F8169B','#175738','#0C8559','#A1506B','#861FF1','#2BBBB3','#5E210C','#36B976','#CAA376','#D75E16','#73480D','#39F9AD','#85D2F8','#65A2FC','#FC092B','#94A514','#AEBBE6')\n",
    "\n",
    "colors = pal\n",
    "labels = genes\n",
    "\n",
    "val_vector = colors\n",
    "names(val_vector) = labels"
   ]
  },
  {
   "cell_type": "code",
   "execution_count": 5,
   "id": "f2e88dce",
   "metadata": {
    "scrolled": true
   },
   "outputs": [],
   "source": [
    "solid_labels = c('Fibroblast mesenchymal stem cell',\n",
    "                'Endothelial.cell',\n",
    "    'Respiratory.ciliated.cell',\n",
    "                 'Ionocyte.luminal.epithelial.cell.of.mammary.gland','Kidney.epithelial.cell',\n",
    "                 'Cell.of.skeletal.muscle','Intestinal.tuft.cell',\n",
    "    'Intestinal.enterocyte',\n",
    "                 'Prostate.epithelia',\n",
    "    'Salivary.bronchial.secretory.cell',\n",
    "    'Intestinal.secretory.cell',\n",
    "                 'Secretory.cell','Respiratory.secretory.cell','Basal.prostate.cell','Basal.cell',\n",
    "                 'Salivary.gland.cell','Pancreatic.Stellate.cell','Type.II.Pneumocyte',\n",
    "                 'Intrahepatic.cholangiocyte','Gland.cell','Mesothelial cell',\n",
    "    'Schwann.cell',\n",
    "                 'Pancreatic.alpha.beta.cell','Tendon cell',\n",
    "    'Pericyte.cell')\n",
    "solid_colors = colors[1:25]\n",
    "\n",
    "val_vector_solid = solid_colors\n",
    "\n",
    "names(val_vector_solid) = solid_labels\n",
    "\n",
    "val_vector_solid = val_vector_solid[order(match(names(val_vector_solid),genes))]"
   ]
  },
  {
   "cell_type": "code",
   "execution_count": 6,
   "id": "2124372a",
   "metadata": {},
   "outputs": [],
   "source": [
    "newtot =results  %>% filter(celltype !=\"Platelet\") %>% group_by(sample_id) %>% summarise(newtot = sum(fraction))\n",
    "newresults = results %>% filter(celltype != \"Platelet\")\n",
    "newresults = merge(newtot, newresults, by=\"sample_id\")\n",
    "newresults$newfraction = (newresults$fraction)*(1/newresults$newtot)\n",
    "newresults$cohort[grepl(\"WBRNA\", newresults$sample_id)]=\"WBRNA\"\n",
    "res_melt_solid = newresults[which(newresults$celltype %in% names(val_vector_solid)),]\n"
   ]
  },
  {
   "cell_type": "code",
   "execution_count": 7,
   "id": "de3e8414",
   "metadata": {
    "scrolled": true
   },
   "outputs": [
    {
     "name": "stderr",
     "output_type": "stream",
     "text": [
      "\u001b[1m\u001b[22m`summarise()` has grouped output by 'sample_id'. You can override using the `.groups` argument.\n",
      "Warning message:\n",
      "“\u001b[1m\u001b[22mThe `size` argument of `element_rect()` is deprecated as of ggplot2 3.4.0.\n",
      "\u001b[36mℹ\u001b[39m Please use the `linewidth` argument instead.”\n"
     ]
    },
    {
     "data": {
      "image/png": "[encoded data removed]",
      "text/plain": [
       "plot without title"
      ]
     },
     "metadata": {
      "image/png": {
       "height": 300,
       "width": 300
      }
     },
     "output_type": "display_data"
    }
   ],
   "source": [
    "options(repr.plot.height=5, repr.plot.width=5)\n",
    "my_comparisons <- list( c(\"END TB\", \"WBRNA\"), c(\"R2D2\", \"WBRNA\"), c(\"TB2\", \"WBRNA\") )\n",
    "\n",
    "p = res_melt_solid %>% \n",
    "    mutate(celltype = factor(celltype,levels=genes)) %>% group_by(sample_id, cohort) %>% summarise(val=sum(newfraction)) %>%\n",
    "    ggplot(aes(x=cohort,y=val, fill=cohort)) + geom_boxplot() + theme_bw(base_size=8) + \n",
    "scale_x_discrete(labels=c(\"Cohort 1\\nn = 93\", \"Cohort 2\\nn = 98\",\"Cohort 3\\nn=60\", \"Cohort 3\\nn = 60\")) + \n",
    "theme(axis.title.x=element_blank(),\n",
    "      axis.text.x=element_text(color=\"black\", angle=0, size=8.5),\n",
    "     axis.text.y=element_text(color=\"black\", size=8.5),\n",
    "     axis.title.y=element_text(color=\"black\", size=8.5),\n",
    "     legend.position=\"none\", panel.border = element_rect(size = 1, color =\"black\")) + \n",
    "ylab(\"Solid Organ Fraction\") +ylim(0,1) +\n",
    "scale_fill_manual(values=c(\"#00D2DE\", \"#8B4514\", \"#F88C1A\", \"#F88C1A\"))\n",
    "\n",
    "\n",
    "p \n",
    "ggsave(\"../Figure_Output/Figure_3/Figure_3C.pdf\", plot = p, width = 2.85, height = 2, device = \"pdf\")\n",
    "\n",
    "ggsave(\"../Figure_Output/Figure_3/Figure_3C.png\", plot = p, width = 2.85, height = 2)\n"
   ]
  },
  {
   "cell_type": "code",
   "execution_count": 8,
   "id": "aa6e8b5b-be1d-4731-8ad1-36923b5d49cb",
   "metadata": {},
   "outputs": [
    {
     "name": "stderr",
     "output_type": "stream",
     "text": [
      "\u001b[1m\u001b[22m`summarise()` has grouped output by 'sample_id'. You can override using the `.groups` argument.\n"
     ]
    },
    {
     "name": "stdout",
     "output_type": "stream",
     "text": [
      "[1] \"padj values for solid organ comparisons\"\n",
      "[1] \"Cohort 1 <-> wbRNA: 6.5691628804906e-25\"\n",
      "[1] \"Cohort 2 <-> wbRNA: 1.86163393818428e-25\"\n",
      "[1] \"Cohort 3 <-> wbRNA: 4.56784091382928e-21\"\n"
     ]
    }
   ],
   "source": [
    "## Calculate the padj significance for each comparison ##\n",
    "# Set comparisons\n",
    "comparisons <- list(\n",
    "  c(\"GHL\", \"WBRNA\"), \n",
    "  c(\"R2D2\", \"WBRNA\"), \n",
    "  c(\"TBSQUARE\", \"WBRNA\")\n",
    ")\n",
    "\n",
    "# Initialize empty vector for p-values\n",
    "p_values <- numeric(length(comparisons))\n",
    "\n",
    "# Temp dataframe\n",
    "df_stat = res_melt_solid %>% \n",
    "mutate(celltype = factor(celltype,levels=genes)) %>% \n",
    "group_by(sample_id, cohort) %>% summarise(val=sum(newfraction))\n",
    "# Loop through each comparison and perform Wilcoxon test\n",
    "for (i in seq_along(comparisons)) {\n",
    "  group1 <- comparisons[[i]][1]\n",
    "  group2 <- comparisons[[i]][2]\n",
    "\n",
    "  data_group1 <- filter(df_stat, cohort == group1)$val\n",
    "  data_group2 <- filter(df_stat, cohort == group2)$val\n",
    "\n",
    "  test_result <- wilcox.test(data_group1, data_group2)\n",
    "  p_values[i] <- test_result$p.value\n",
    "}\n",
    "\n",
    "# Adjust the p-values using Benjamini-Hochberg method\n",
    "adjusted_p_values <- p.adjust(p_values, method = \"BH\")\n",
    "\n",
    "print(\"padj values for solid organ comparisons\")\n",
    "print(paste0(\"Cohort 1 <-> wbRNA: \", adjusted_p_values[1]))\n",
    "print(paste0(\"Cohort 2 <-> wbRNA: \", adjusted_p_values[2]))\n",
    "print(paste0(\"Cohort 3 <-> wbRNA: \", adjusted_p_values[3]))"
   ]
  },
  {
   "cell_type": "markdown",
   "id": "8e7fb86c",
   "metadata": {},
   "source": [
    "## FIG 4D"
   ]
  },
  {
   "cell_type": "markdown",
   "id": "4d4e3ef1-e42b-4c63-85b2-ed38aba8dcfc",
   "metadata": {},
   "source": [
    "## DESEQ for cfRNA"
   ]
  },
  {
   "cell_type": "code",
   "execution_count": 9,
   "id": "93b0c869-821c-42cf-9dd0-763a20012e55",
   "metadata": {},
   "outputs": [],
   "source": [
    "#Set Seed \n",
    "set.seed(87)\n",
    "\n",
    "# Read in  Counts\n",
    "counts_train = read.delim(\"../Files_For_Manuscript/counts.train.tsv\") %>%t()\n",
    "counts_test = read.delim(\"../Files_For_Manuscript/counts.test.tsv\") %>%t()\n",
    "counts_val = read.delim(\"../Files_For_Manuscript/counts.val.tsv\") %>%t()\n",
    "# Cobine Counts\n",
    "counts_all = rbind(counts_train, counts_test, counts_val) %>% t()\n",
    "\n",
    "# Read in Metadata\n",
    "metadata_train = read.delim(\"../Files_For_Manuscript/metadata.train.tsv\")\n",
    "metadata_test = read.delim(\"../Files_For_Manuscript/metadata.test.tsv\")\n",
    "metadata_val = read.delim(\"../Files_For_Manuscript/metadata.val.tsv\")\n",
    "# Combine Metadata\n",
    "metadata_all = rbind(metadata_train, metadata_test, metadata_val)"
   ]
  },
  {
   "cell_type": "code",
   "execution_count": 10,
   "id": "27f6fd2d-5b48-4bd6-8668-075bc487640d",
   "metadata": {
    "tags": []
   },
   "outputs": [
    {
     "data": {
      "text/html": [
       "TRUE"
      ],
      "text/latex": [
       "TRUE"
      ],
      "text/markdown": [
       "TRUE"
      ],
      "text/plain": [
       "[1] TRUE"
      ]
     },
     "metadata": {},
     "output_type": "display_data"
    },
    {
     "name": "stderr",
     "output_type": "stream",
     "text": [
      "Warning message in DESeqDataSet(se, design = design, ignoreRank):\n",
      "“some variables in design formula are characters, converting to factors”\n",
      "estimating size factors\n",
      "\n",
      "estimating dispersions\n",
      "\n",
      "gene-wise dispersion estimates\n",
      "\n",
      "mean-dispersion relationship\n",
      "\n",
      "final dispersion estimates\n",
      "\n",
      "fitting model and testing\n",
      "\n",
      "-- replacing outliers and refitting for 357 genes\n",
      "-- DESeq argument 'minReplicatesForReplace' = 7 \n",
      "-- original counts are preserved in counts(dds)\n",
      "\n",
      "estimating dispersions\n",
      "\n",
      "fitting model and testing\n",
      "\n"
     ]
    }
   ],
   "source": [
    "## Prepare data for Deseq2\n",
    "meta_col = metadata_all\n",
    "disc_cts = counts_all\n",
    "meta_col = meta_col %>% select(\"sample_id\", \"tb\")\n",
    "rownames(meta_col) = meta_col$sample_id  \n",
    "\n",
    "all(colnames(disc_cts) == rownames(meta_col))       \n",
    "\n",
    "\n",
    "## run Deseq2 & extract results\n",
    "dds <- DESeqDataSetFromMatrix(countData = disc_cts,\n",
    "                             colData = meta_col,\n",
    "                             design = ~ tb)\n",
    "dds <- DESeq(dds)\n",
    "res <- results(dds)\n",
    "\n",
    "## Extract results\n",
    "res_df_cf = results(dds,alpha=0.05,contrast = c(\"tb\",\"positive\", \"negative\")) %>% data.frame()\n",
    "res_df_cf$gene_num = rownames(res_df_cf)\n",
    "sigs_cf = res_df_cf %>% filter(padj<0.05)\n",
    "\n"
   ]
  },
  {
   "cell_type": "markdown",
   "id": "2cf349e1-cb1c-4217-8b54-36cc24aa0cf7",
   "metadata": {},
   "source": [
    "## DESEQ Whole Blood"
   ]
  },
  {
   "cell_type": "code",
   "execution_count": 11,
   "id": "f8756b94-8852-47f3-9ed9-9597b4721195",
   "metadata": {},
   "outputs": [
    {
     "data": {
      "text/html": [
       "TRUE"
      ],
      "text/latex": [
       "TRUE"
      ],
      "text/markdown": [
       "TRUE"
      ],
      "text/plain": [
       "[1] TRUE"
      ]
     },
     "metadata": {},
     "output_type": "display_data"
    },
    {
     "name": "stderr",
     "output_type": "stream",
     "text": [
      "Warning message in DESeqDataSet(se, design = design, ignoreRank):\n",
      "“some variables in design formula are characters, converting to factors”\n",
      "estimating size factors\n",
      "\n",
      "estimating dispersions\n",
      "\n",
      "gene-wise dispersion estimates\n",
      "\n",
      "mean-dispersion relationship\n",
      "\n",
      "-- note: fitType='parametric', but the dispersion trend was not well captured by the\n",
      "   function: y = a/x + b, and a local regression fit was automatically substituted.\n",
      "   specify fitType='local' or 'mean' to avoid this message next time.\n",
      "\n",
      "final dispersion estimates\n",
      "\n",
      "fitting model and testing\n",
      "\n",
      "-- replacing outliers and refitting for 27869 genes\n",
      "-- DESeq argument 'minReplicatesForReplace' = 7 \n",
      "-- original counts are preserved in counts(dds)\n",
      "\n",
      "estimating dispersions\n",
      "\n",
      "fitting model and testing\n",
      "\n"
     ]
    }
   ],
   "source": [
    "## Prepare data for Deseq2\n",
    "## Filter out blacklist genes\n",
    "## This same step was done to cfRNA samples pre-processing\n",
    "blacklist = read.delim(\"../Files_For_Manuscript/genes_to_exlude.tsv\",header=F)\n",
    "counts_wb = read.delim(\"../Files_For_Manuscript/count_matrix_wbrna.txt\")\n",
    "row.names(counts_wb) = counts_wb$geneID\n",
    "counts_wb = counts_wb %>% select(-geneID)\n",
    "# Remove blacklist genes\n",
    "counts_wb = counts_wb[!(gsub(\"\\\\..*\",\"\",rownames(counts_wb)) %in% blacklist$V2),]\n",
    "meta_wb = read.delim(\"../Files_For_Manuscript/wb_metadata.txt\")\n",
    "\n",
    "meta_col = meta_wb\n",
    "\n",
    "disc_cts = counts_wb\n",
    "\n",
    "meta_col = meta_col %>% select(\"sample_id\", \"tb\")        \n",
    "rownames(meta_col) = meta_col$sample_id \n",
    "\n",
    "disc_cts<- disc_cts[, match(rownames(meta_col), colnames(disc_cts))]\n",
    "\n",
    "all(colnames(disc_cts) == rownames(meta_col))   \n",
    "\n",
    "\n",
    "## run Deseq2 & extract results\n",
    "dds <- DESeqDataSetFromMatrix(countData = disc_cts,\n",
    "                             colData = meta_col,\n",
    "                             design = ~ tb)\n",
    "dds <- DESeq(dds)\n",
    "res <- results(dds)\n",
    "\n",
    "## Extract results\n",
    "res_df = results(dds,alpha=0.05,contrast = c(\"tb\",\"Positive\", \"Negative\")) %>% data.frame()\n",
    "res_df$gene_num = rownames(res_df)\n",
    "sigs_wb = res_df %>% filter(padj<0.05)\n"
   ]
  },
  {
   "cell_type": "code",
   "execution_count": 12,
   "id": "f50595ea",
   "metadata": {
    "scrolled": true
   },
   "outputs": [
    {
     "data": {
      "text/html": [
       "517"
      ],
      "text/latex": [
       "517"
      ],
      "text/markdown": [
       "517"
      ],
      "text/plain": [
       "[1] 517"
      ]
     },
     "metadata": {},
     "output_type": "display_data"
    }
   ],
   "source": [
    "# Total number of significant plasma genes\n",
    "sig_genes_plasma = sigs_cf %>% row.names()\n",
    "# Total number of significant whole blood RNA genes\n",
    "sig_genes_wb = sigs_wb %>% row.names() \n",
    "# Number that intersect\n",
    "intersect(sig_genes_plasma,sig_genes_wb) %>% length()\n",
    "u_pl = length(sig_genes_plasma)\n",
    "u_wb = length(sig_genes_wb)\n",
    "int =  intersect(sig_genes_plasma,sig_genes_wb) %>% length()"
   ]
  },
  {
   "cell_type": "code",
   "execution_count": 13,
   "id": "d06dacf9-2f7c-42b6-aab7-ceb16ee9748b",
   "metadata": {},
   "outputs": [
    {
     "data": {
      "image/png": "[encoded data removed]",
      "text/plain": [
       "plot without title"
      ]
     },
     "metadata": {
      "image/png": {
       "height": 108,
       "width": 180
      }
     },
     "output_type": "display_data"
    }
   ],
   "source": [
    "options(repr.plot.height=1.8, repr.plot.width=3)\n",
    "\n",
    "VennDiag = euler(c(\"cfRNA\"=u_pl, \"wbRNA\"=u_wb, \"cfRNA&wbRNA\"=int))\n",
    "p = plot(VennDiag, counts=TRUE, fill=c(\"#F88C1A\", \"#00AC00\"), alpha=0.3)\n",
    "p\n",
    "ggsave(\"../Figure_Output/Figure_3/Figure_3D.pdf\", plot = p, width = 7.2, height = 12, device = \"pdf\")\n",
    "\n",
    "ggsave(\"../Figure_Output/Figure_3/Figure_3D.png\", plot = p, width = 7.2, height = 12)\n"
   ]
  },
  {
   "cell_type": "markdown",
   "id": "d8f9f8b8",
   "metadata": {},
   "source": [
    "---\n",
    "## FIG 3E"
   ]
  },
  {
   "cell_type": "code",
   "execution_count": 14,
   "id": "686e7152-cbe9-41d4-b0d0-b2f1330a0a63",
   "metadata": {},
   "outputs": [],
   "source": [
    "# Read and Wrangle Data #\n",
    "\n",
    "# Read in Counts\n",
    "counts_train = read.delim(\"../Files_For_Manuscript/counts.train.tsv\")\n",
    "counts_test = read.delim(\"../Files_For_Manuscript/counts.test.tsv\")\n",
    "counts_val = read.delim(\"../Files_For_Manuscript/counts.val.tsv\")\n",
    "\n",
    "# Read in Metadata\n",
    "metadata_train = read.delim(\"../Files_For_Manuscript/metadata.train.tsv\")\n",
    "metadata_test = read.delim(\"../Files_For_Manuscript/metadata.test.tsv\")\n",
    "metadata_val = read.delim(\"../Files_For_Manuscript/metadata.val.tsv\")\n",
    "\n",
    "counts_train_norm <- DESeq2::varianceStabilizingTransformation(as.matrix(counts_train)) %>% data.frame() \n",
    "counts_test_norm <- DESeq2::varianceStabilizingTransformation(as.matrix(counts_test)) %>% data.frame() \n",
    "counts_val_norm <- DESeq2::varianceStabilizingTransformation(as.matrix(counts_val)) %>% data.frame() \n",
    "\n",
    "#train data\n",
    "norm_plot_dat_train = counts_train_norm %>% #t() %>%\n",
    "    as.data.frame() %>% \n",
    "    tibble::rownames_to_column(., var = \"gene_id\") %>%\n",
    "    gather(sample_id, value, -gene_id) %>%\n",
    "    spread(gene_id, value)\n",
    "\n",
    "norm_plot_dat_train = merge(norm_plot_dat_train, metadata_train, by.x = \"sample_id\")\n",
    "\n",
    "#test data\n",
    "norm_plot_dat_test = counts_test_norm %>% #t() %>%\n",
    "    as.data.frame() %>% \n",
    "    tibble::rownames_to_column(., var = \"gene_id\") %>%\n",
    "    gather(sample_id, value, -gene_id) %>%\n",
    "    spread(gene_id, value)\n",
    "\n",
    "norm_plot_dat_test = merge(norm_plot_dat_test, metadata_test, by.x = \"sample_id\")\n",
    "\n",
    "#Validation data\n",
    "norm_plot_dat_val = counts_val_norm %>%# t() %>%\n",
    "    as.data.frame() %>% \n",
    "    tibble::rownames_to_column(., var = \"gene_id\") %>%\n",
    "    gather(sample_id, value, -gene_id) %>%\n",
    "    spread(gene_id, value)\n",
    "\n",
    "norm_plot_dat_val = merge(norm_plot_dat_val, metadata_val, by.x = \"sample_id\")\n",
    "\n",
    "# Combine all samples\n",
    "norm_plot_dat_all = rbind(norm_plot_dat_train, norm_plot_dat_test, norm_plot_dat_val)"
   ]
  },
  {
   "cell_type": "code",
   "execution_count": 15,
   "id": "fb1b5158-2546-418c-9222-200d9d05a518",
   "metadata": {},
   "outputs": [
    {
     "name": "stderr",
     "output_type": "stream",
     "text": [
      "Setting levels: control = 0, case = 1\n",
      "\n",
      "Setting direction: controls < cases\n",
      "\n"
     ]
    },
    {
     "name": "stdout",
     "output_type": "stream",
     "text": [
      "[1] \"GBP5 ROC-AUC: 0.879\"\n",
      "[1] \"GBP5 ROC-AUC 95% CI: [0.836--0.922]\"\n",
      "[1] \"GBP5 Sensitivity:  0.831 95% CI: [ 0.761 , 0.884 ]\"\n",
      "[1] \"GBP5 Specificity:  0.826 95% CI: [ 0.744 , 0.885 ]\"\n"
     ]
    },
    {
     "name": "stderr",
     "output_type": "stream",
     "text": [
      "Warning message:\n",
      "“\u001b[1m\u001b[22mUsing `size` aesthetic for lines was deprecated in ggplot2 3.4.0.\n",
      "\u001b[36mℹ\u001b[39m Please use `linewidth` instead.”\n"
     ]
    },
    {
     "data": {
      "image/png": "[encoded data removed]",
      "text/plain": [
       "plot without title"
      ]
     },
     "metadata": {
      "image/png": {
       "height": 300,
       "width": 300
      }
     },
     "output_type": "display_data"
    }
   ],
   "source": [
    "options(repr.plot.height=5, repr.plot.width=5)\n",
    "\n",
    "# Temporary dataframe for all points\n",
    "df <- norm_plot_dat_all\n",
    "\n",
    "# Make tb binary factor\n",
    "df$tb <- ifelse(df$tb == \"positive\", 1, 0)\n",
    "df$tb <- as.factor(df$tb)\n",
    "\n",
    "# Use GBP5 counts for ROC analysis\n",
    "gbp5_counts <- df$ENSG00000154451.14\n",
    "\n",
    "# Compute ROC-AUC\n",
    "roc_train <- roc(df$tb, gbp5_counts)\n",
    "auc_train = auc(roc_train)\n",
    "\n",
    "# Calculate Youden index and find the best threshold\n",
    "coords_df <- data.frame(coords(roc_train, \"all\"))\n",
    "coords_df$youden <- coords_df$sensitivity + coords_df$specificity - 1\n",
    "optimal <- coords_df[which.max(coords_df$youden),]\n",
    "\n",
    "# Print ROC and 95% CI\n",
    "roc_train_ci = ci.auc(roc_train)\n",
    "print(paste0(\"GBP5 ROC-AUC: \", round(auc_train, 3)))\n",
    "print(paste0(\"GBP5 ROC-AUC 95% CI: [\", round(roc_train_ci[1], 3), \"--\", round(roc_train_ci[3], 3), \"]\"))\n",
    "\n",
    "# Assign labels using optimal threshold\n",
    "df$predicted <- ifelse(gbp5_counts > optimal$threshold, 1, 0)\n",
    "\n",
    "# Create a confusion matrix\n",
    "conf_matrix <- table(df$tb, df$predicted)\n",
    "\n",
    "# Calculate True Positives (TP), True Negatives (TN), False Positives (FP), and False Negatives (FN)\n",
    "tp <- conf_matrix[2,2]\n",
    "tn <- conf_matrix[1,1]\n",
    "fp <- conf_matrix[1,2]\n",
    "fn <- conf_matrix[2,1]\n",
    "\n",
    "# Calculate Sensitivity and Specificity\n",
    "sensitivity <- tp / (tp + fn)\n",
    "specificity <- tn / (tn + fp)\n",
    "\n",
    "# Calculate 95% Confidence Intervals for Sensitivity and Specificity\n",
    "sensitivity_ci <- binom.confint(tp, tp + fn, conf.level = 0.95, methods = \"wilson\")\n",
    "specificity_ci <- binom.confint(tn, tn + fp, conf.level = 0.95, methods = \"wilson\")\n",
    "\n",
    "# Print Sensitivity, Specificity and their CIs\n",
    "print(paste(\"GBP5 Sensitivity: \", round(sensitivity, 3), \n",
    "            \"95% CI: [\", round(sensitivity_ci$lower, 3), \",\", round(sensitivity_ci$upper, 3), \"]\"))\n",
    "print(paste(\"GBP5 Specificity: \", round(specificity, 3), \n",
    "            \"95% CI: [\", round(specificity_ci$lower, 3), \",\", round(specificity_ci$upper, 3), \"]\"))\n",
    "\n",
    "# Plotting the ROC curve\n",
    "p <- ggroc(list(\"Train\" = roc_train), aes = c(\"color\"))  +\n",
    "    theme_bw(base_size = 6) + guides(color = \"none\", linetype = \"none\") +\n",
    "    geom_line(size = 1, alpha = 0.5) + scale_color_manual(values = c(\"#D71B5A\")) +\n",
    "    xlab(\"Specificity\") + ylab(\"Sensitivity\") +\n",
    "    theme(axis.text = element_text(size = 9, color = \"black\"), \n",
    "          axis.title = element_text(size = 9, color = \"black\"),\n",
    "          panel.border = element_rect(size = 1, color =\"black\"),\n",
    "          plot.margin = margin(5.5, 5.5, 5.5, 5.5, \"points\"))\n",
    "\n",
    "# Display the plot\n",
    "print(p)\n",
    "\n",
    "# Save the plot\n",
    "ggsave(\"../Figure_Output/Figure_3/Figure_3E.pdf\", plot = p, width = 2, height = 2, device = \"pdf\")\n",
    "ggsave(\"../Figure_Output/Figure_3/Figure_3E.png\", plot = p, width = 2, height = 3.5, dpi = 300)\n"
   ]
  },
  {
   "cell_type": "code",
   "execution_count": null,
   "id": "342958b7-05dd-48b7-a759-8d0c0a6f3a02",
   "metadata": {},
   "outputs": [],
   "source": []
  },
  {
   "cell_type": "code",
   "execution_count": null,
   "id": "8faf0621-de2f-4bd3-aa08-cb5b2bc639eb",
   "metadata": {},
   "outputs": [],
   "source": []
  }
 ],
 "metadata": {
  "kernelspec": {
   "display_name": "R",
   "language": "R",
   "name": "ir"
  },
  "language_info": {
   "codemirror_mode": "r",
   "file_extension": ".r",
   "mimetype": "text/x-r-source",
   "name": "R",
   "pygments_lexer": "r",
   "version": "4.2.0"
  }
 },
 "nbformat": 4,
 "nbformat_minor": 5
}
