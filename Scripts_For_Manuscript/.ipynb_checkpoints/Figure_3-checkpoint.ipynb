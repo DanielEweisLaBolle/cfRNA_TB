{
 "cells": [
  {
   "cell_type": "code",
   "execution_count": 39,
   "id": "fd9bfd49",
   "metadata": {},
   "outputs": [],
   "source": [
    "suppressMessages(library(magrittr))      # provides the %>% operator\n",
    "suppressMessages(library(\"genefilter\"))\n",
    "suppressMessages(library(DESeq2))\n",
    "#suppressMessages(library(tximport))\n",
    "suppressMessages(library(\"readr\"))\n",
    "#suppressMessages(library(\"tximportData\"))\n",
    "suppressMessages(library(data.table))\n",
    "\n",
    "suppressMessages(library(matrixStats))\n",
    "#suppressMessages(library(org.Hs.eg.db))\n",
    "#suppressMessages(library(topGO))\n",
    "\n",
    "suppressMessages(library(pheatmap))\n",
    "suppressMessages(library(gplots))\n",
    "suppressMessages(library(matrixStats))\n",
    "suppressMessages(library(ggvenn))\n",
    "suppressMessages(library(edgeR))\n",
    "suppressMessages(library(pROC))\n",
    "suppressMessages(library(ggpubr))\n",
    "suppressMessages(library(eulerr))\n",
    "library(stringr)\n",
    "options(stringsAsFactors = FALSE)\n",
    "set.seed(42)\n",
    "gene.list = read.delim(\"../Files_For_Manuscript/gencode.biotype.name.key.tsv\")\n"
   ]
  },
  {
   "cell_type": "code",
   "execution_count": 2,
   "id": "8df6a163",
   "metadata": {},
   "outputs": [
    {
     "name": "stderr",
     "output_type": "stream",
     "text": [
      "Warning message in file(file, \"rt\"):\n",
      "“cannot open file '../files_for_manuscript/gencode.biotype.name.key.tsv': No such file or directory”\n"
     ]
    },
    {
     "ename": "ERROR",
     "evalue": "Error in file(file, \"rt\"): cannot open the connection\n",
     "output_type": "error",
     "traceback": [
      "Error in file(file, \"rt\"): cannot open the connection\nTraceback:\n",
      "1. read.delim(gene_name_key)",
      "2. read.table(file = file, header = header, sep = sep, quote = quote, \n .     dec = dec, fill = fill, comment.char = comment.char, ...)",
      "3. file(file, \"rt\")"
     ]
    }
   ],
   "source": [
    "count_matrix_wb = \"./count_matrix_wbrna.txt\"\n",
    "count_file_plasma = \"../files_for_manuscript/count_matrix_validation.txt\"\n",
    "SAMPLE_ID_VAR = \"sample_id\"\n",
    "gene_name_key = \"../files_for_manuscript/gencode.biotype.name.key.tsv\"\n",
    "gene.list = read.delim(gene_name_key)\n",
    "meta = read.delim(\"../files_for_manuscript/metadata_validation.txt\")\n",
    "top150 = read.delim(\"../files_for_manuscript/top150genes.csv\")\n",
    "keep.gene = gene.list[gene.list$gene_name %in% top150$x,1]\n",
    "signature = gene.list[gene.list$gene_name %in% c(\"GBP5\",\"DYSF\",\"VAMP5\",\"SMARCD3\",\"FCGR3B\",\"GPI\",\"CREB5\",\"GBP2\", \"MPO\"),1]"
   ]
  },
  {
   "cell_type": "code",
   "execution_count": null,
   "id": "1b47b437-32d3-40c9-ac26-c4649b6d40f9",
   "metadata": {},
   "outputs": [],
   "source": []
  },
  {
   "cell_type": "code",
   "execution_count": 37,
   "id": "2aa09145",
   "metadata": {},
   "outputs": [],
   "source": [
    "meta$`Semiquant.Xpert.result.3`[meta$Semiquant.Xpert.result.3 == \"Trace\"]= \"Low\"\n",
    "meta$`Semiquant.Xpert.result.3`[meta$Semiquant.Xpert.result.3 == \"Very low\"]= \"Low\"\n",
    "meta$`Semiquant.Xpert.result.3`[meta$tb == \"Negative\"]= \"Negative\""
   ]
  },
  {
   "cell_type": "code",
   "execution_count": 38,
   "id": "4b9af6c6",
   "metadata": {},
   "outputs": [],
   "source": [
    "counts_plasma = read.delim(count_file_plasma, row.names=c(1))\n",
    "counts_wb = read.delim(count_matrix_wb, row.names=c(\"geneID\")) %>% select(-c(row.names))\n",
    "counts_all = merge(counts_plasma, counts_wb, by=\"row.names\") \n",
    "counts_all[is.na(counts_all)]=0\n",
    "rownames(counts_all)=counts_all$Row.names\n",
    "counts_wb = counts_all[,grepl(\"WBRNA\", colnames(counts_all))]\n",
    "counts_plasma = counts_all[,grepl(\"cfRNA\", colnames(counts_all))]"
   ]
  },
  {
   "cell_type": "markdown",
   "id": "fe41f107",
   "metadata": {},
   "source": [
    "## FIG 4A"
   ]
  },
  {
   "cell_type": "code",
   "execution_count": 39,
   "id": "ca89f069",
   "metadata": {
    "scrolled": true
   },
   "outputs": [
    {
     "name": "stderr",
     "output_type": "stream",
     "text": [
      "Setting levels: control = Negative, case = Positive\n",
      "\n",
      "Setting direction: controls < cases\n",
      "\n",
      "Setting levels: control = Negative, case = Positive\n",
      "\n",
      "Setting direction: controls < cases\n",
      "\n"
     ]
    }
   ],
   "source": [
    "plasma_score = counts_plasma[rownames(counts_plasma) %in% keep.gene,] %>% edgeR::cpm() %>% data.frame() %>%\n",
    "filter(rownames(.)%in% signature) %>% data.frame() %>% mutate_all(as.numeric) %>% \n",
    "mutate( log2( . +1))  %>% summarise_all(mean) %>%\n",
    "t() %>% data.frame() %>% magrittr::set_colnames(\"score\" ) %>% tibble::add_column('sample'=rownames( . )) %>%\n",
    "merge(. , meta, by.x=\"sample\",by.y=\"sample_id\") %>%\n",
    "mutate(Semiquant.Xpert.result.3 = factor(Semiquant.Xpert.result.3, levels=c(\"Negative\",\"Low\",\"Medium\",\"High\"))) %>%\n",
    "   group_by(Semiquant.Xpert.result.3, cohort)%>% \n",
    "mutate(tb=factor(tb, levels=c(\"Negative\",\"Positive\")))\n",
    "\n",
    "\n",
    "wb_score = counts_wb[rownames(counts_wb) %in% keep.gene,] %>% edgeR::cpm() %>% data.frame() %>%\n",
    "filter(rownames(.)%in% signature) %>% data.frame() %>% mutate_all(as.numeric) %>% \n",
    "mutate( log2( . +1))  %>% summarise_all(mean) %>%\n",
    "t() %>% data.frame() %>% magrittr::set_colnames(\"score\" ) %>% tibble::add_column('sample'=rownames( . )) %>%\n",
    "merge(. , meta, by.x=\"sample\",by.y=\"sample_id\") %>%\n",
    "mutate(Semiquant.Xpert.result.3 = factor(Semiquant.Xpert.result.3, levels=c(\"Negative\",\"Low\",\"Medium\",\"High\"))) %>%\n",
    "   group_by(Semiquant.Xpert.result.3, cohort) %>%\n",
    "mutate(tb=factor(tb, levels=c(\"Negative\",\"Positive\")))\n",
    "\n",
    "\n",
    "roc_plasma = plasma_score %>% roc(tb, score, percent=T)\n",
    "roc_wb = wb_score %>% roc(tb, score, percent=T)"
   ]
  },
  {
   "cell_type": "code",
   "execution_count": 40,
   "id": "3c1611d3",
   "metadata": {
    "scrolled": true
   },
   "outputs": [
    {
     "data": {
      "image/png": "[encoded data removed]",
      "text/plain": [
       "plot without title"
      ]
     },
     "metadata": {
      "image/png": {
       "height": 84,
       "width": 102
      }
     },
     "output_type": "display_data"
    }
   ],
   "source": [
    "options(repr.plot.height=1.4, repr.plot.width=1.7)\n",
    "ggroc(list(\"TB2 (Plasma)\"= roc_plasma, \"TB2 (WB)\" = roc_wb ),aes=c(\"color\"))  +\n",
    "    theme_bw(base_size=6) + guides(color=\"none\", linetype=\"none\")+\n",
    "    geom_line(size=1,alpha=0.5)+ scale_color_manual(values=c(\"#96BE25\",\"#F88C1A\")) +\n",
    "xlab(\"Specificity (%)\") + ylab(\"Sensitivity (%)\") +\n",
    "theme(axis.text=element_text(size=6, color=\"black\"), axis.title=element_text(size=8, color=\"black\"))\n"
   ]
  },
  {
   "cell_type": "markdown",
   "id": "1101b0ee",
   "metadata": {},
   "source": [
    "## FIG 4B"
   ]
  },
  {
   "cell_type": "code",
   "execution_count": 41,
   "id": "04474711",
   "metadata": {},
   "outputs": [
    {
     "name": "stderr",
     "output_type": "stream",
     "text": [
      "\u001b[1m\u001b[22m`summarise()` has grouped output by 'Semiquant.Xpert.result.3'. You can\n",
      "override using the `.groups` argument.\n",
      "\u001b[1m\u001b[22m`summarise()` has grouped output by 'Semiquant.Xpert.result.3'. You can\n",
      "override using the `.groups` argument.\n"
     ]
    }
   ],
   "source": [
    "plasma_semiq = counts_plasma[rownames(counts_plasma) %in% keep.gene,] %>% edgeR::cpm() %>% data.frame() %>%\n",
    "filter(rownames(.)%in% signature) %>% data.frame() %>% mutate_all(as.numeric) %>% \n",
    "mutate( log2( . +1))  %>% summarise_all(mean) %>%\n",
    "t() %>% data.frame() %>% magrittr::set_colnames(\"score\" ) %>% tibble::add_column('sample'=rownames( . )) %>%\n",
    "merge(. , meta, by.x=\"sample\",by.y=\"sample_id\") %>%filter(Semiquant.Xpert.result.3 !=\"\") %>% \n",
    "mutate(Semiquant.Xpert.result.3 = factor(Semiquant.Xpert.result.3, levels=c(\"Negative\",\"Low\",\"Medium\",\"High\"))) %>%\n",
    "   group_by(Semiquant.Xpert.result.3, cohort)%>% summarise(mean = mean(score, na.rm = TRUE),\n",
    "                                                             sd = sd(score, na.rm = TRUE),\n",
    "                                                             n = n()) %>%\n",
    "    mutate(se = sd / sqrt(n),\n",
    "           lower.ci = mean - qt(1 - (0.05 / 2), n - 1) * se,\n",
    "           upper.ci = mean + qt(1 - (0.05 / 2), n - 1) * se)  %>% tibble::add_column('biofluid'=\"plasma\")\n",
    "\n",
    "\n",
    "wb_semiq = counts_wb[rownames(counts_wb) %in% keep.gene,] %>% edgeR::cpm() %>% data.frame() %>%\n",
    "filter(rownames(.)%in% signature) %>% data.frame() %>% mutate_all(as.numeric) %>% \n",
    "mutate( log2( . +1))  %>% summarise_all(mean) %>%\n",
    "t() %>% data.frame() %>% magrittr::set_colnames(\"score\" ) %>% tibble::add_column('sample'=rownames( . )) %>%\n",
    "merge(. , meta, by.x=\"sample\",by.y=\"sample_id\")%>%\n",
    "filter(Semiquant.Xpert.result.3 !=\"\") %>%\n",
    "mutate(Semiquant.Xpert.result.3 = factor(Semiquant.Xpert.result.3, levels=c(\"Negative\",\"Low\",\"Medium\",\"High\"))) %>%\n",
    "   group_by(Semiquant.Xpert.result.3, cohort)%>% summarise(mean = mean(score, na.rm = TRUE),\n",
    "                                                             sd = sd(score, na.rm = TRUE),\n",
    "                                                             n = n()) %>%\n",
    "    mutate(se = sd / sqrt(n),\n",
    "           lower.ci = mean - qt(1 - (0.05 / 2), n - 1) * se,\n",
    "           upper.ci = mean + qt(1 - (0.05 / 2), n - 1) * se) %>% tibble::add_column('biofluid'=\"wb\")"
   ]
  },
  {
   "cell_type": "code",
   "execution_count": 42,
   "id": "2283e7bc",
   "metadata": {},
   "outputs": [
    {
     "data": {
      "image/png": "[encoded data removed]",
      "text/plain": [
       "plot without title"
      ]
     },
     "metadata": {
      "image/png": {
       "height": 90,
       "width": 102
      }
     },
     "output_type": "display_data"
    }
   ],
   "source": [
    "options(repr.plot.height=1.5, repr.plot.width=1.7)\n",
    "\n",
    "rbind(plasma_semiq, wb_semiq) %>% \n",
    "filter(!is.na(Semiquant.Xpert.result.3)) %>%\n",
    "    ggplot(aes(x=Semiquant.Xpert.result.3, y=mean, color=biofluid, group=biofluid)) + \n",
    "    geom_line(size=1) + geom_errorbar(size=1, aes(ymin=lower.ci, ymax=upper.ci)) + \n",
    " geom_point(size=1) + theme_bw(base_size=8) +\n",
    "    theme( legend.text=element_text(color=\"black\", size=8), legend.position=\"none\", legend.title=element_blank(), \n",
    "          legend.key.size = unit(0.1, 'mm'),\n",
    "         axis.text=element_text(color=\"black\")) +\n",
    "    xlab(\"GeneXpert\\nSemiquantitative Result\") + ylab(\"9-gene TB score\")  +\n",
    "    scale_color_manual(values=c(\"#96BE25\", \"#F88C1A\")) +\n",
    "geom_hline(yintercept=11.6975977111331, linetype=\"dashed\", size=1)"
   ]
  },
  {
   "cell_type": "markdown",
   "id": "52970660",
   "metadata": {},
   "source": [
    "## FIG 4C"
   ]
  },
  {
   "cell_type": "code",
   "execution_count": 6,
   "id": "dfc6ae90",
   "metadata": {},
   "outputs": [],
   "source": [
    "meta_wb =read.delim(\"../Files_For_Manuscript/metadata_validation.txt\")\n",
    "meta_wb <- meta_wb %>% rename(sample_id = Cornell_ID, site = Country, hiv = HIV.status, tb = Microbiologic.reference.standard)\n",
    "# meta_wb = meta_wb %>% \n",
    "#  mutate(\n",
    "#     sample_id = paste(\"TBSQUARE_WBRNA\", as.numeric(str_extract(sample_id, \"\\\\d+\")) + 1, sep = \"_\")\n",
    "#   )\n",
    "cto_wb = read.delim(\"../cto_wb.txt\")\n",
    "\n",
    "metadata_val = read.delim(\"../Files_For_Manuscript/seed_87_all.metadata.val.tsv\")\n",
    "\n",
    "\n",
    "# meta_wb <- meta_wb %>% \n",
    "#    filter(sample_id %in% metadata_val$sample_id)\n",
    "# table(meta_wb$tb)\n",
    "\n",
    "# head(meta_wb)\n",
    "\n",
    "# head(metadata_val)\n",
    "# head(cto_wb)\n",
    "# head(meta_wb)\n",
    "\n"
   ]
  },
  {
   "cell_type": "markdown",
   "id": "7ae734b6-1f4e-4c81-b91a-6676291db085",
   "metadata": {},
   "source": [
    "# Create the Metadata for this "
   ]
  },
  {
   "cell_type": "code",
   "execution_count": 195,
   "id": "626d63d8-524e-4453-b4ec-f3e55c7daa5f",
   "metadata": {},
   "outputs": [
    {
     "data": {
      "text/html": [
       "<table class=\"dataframe\">\n",
       "<caption>A data.frame: 6 × 5</caption>\n",
       "<thead>\n",
       "\t<tr><th></th><th scope=col>sample_id</th><th scope=col>site</th><th scope=col>cohort</th><th scope=col>hiv</th><th scope=col>tb</th></tr>\n",
       "\t<tr><th></th><th scope=col>&lt;chr&gt;</th><th scope=col>&lt;chr&gt;</th><th scope=col>&lt;chr&gt;</th><th scope=col>&lt;chr&gt;</th><th scope=col>&lt;chr&gt;</th></tr>\n",
       "</thead>\n",
       "<tbody>\n",
       "\t<tr><th scope=row>1</th><td>TBSQUARE_WBRNA_553</td><td>Uganda</td><td>TBSQUARE</td><td>Negative</td><td>Positive</td></tr>\n",
       "\t<tr><th scope=row>2</th><td>TBSQUARE_WBRNA_561</td><td>Uganda</td><td>TBSQUARE</td><td>Negative</td><td>Positive</td></tr>\n",
       "\t<tr><th scope=row>3</th><td>TBSQUARE_WBRNA_554</td><td>Uganda</td><td>TBSQUARE</td><td>Negative</td><td>Negative</td></tr>\n",
       "\t<tr><th scope=row>4</th><td>TBSQUARE_WBRNA_555</td><td>Uganda</td><td>TBSQUARE</td><td>Negative</td><td>Positive</td></tr>\n",
       "\t<tr><th scope=row>5</th><td>TBSQUARE_WBRNA_564</td><td>Uganda</td><td>TBSQUARE</td><td>Negative</td><td>Negative</td></tr>\n",
       "\t<tr><th scope=row>6</th><td>TBSQUARE_WBRNA_557</td><td>Uganda</td><td>TBSQUARE</td><td>Negative</td><td>Negative</td></tr>\n",
       "</tbody>\n",
       "</table>\n"
      ],
      "text/latex": [
       "A data.frame: 6 × 5\n",
       "\\begin{tabular}{r|lllll}\n",
       "  & sample\\_id & site & cohort & hiv & tb\\\\\n",
       "  & <chr> & <chr> & <chr> & <chr> & <chr>\\\\\n",
       "\\hline\n",
       "\t1 & TBSQUARE\\_WBRNA\\_553 & Uganda & TBSQUARE & Negative & Positive\\\\\n",
       "\t2 & TBSQUARE\\_WBRNA\\_561 & Uganda & TBSQUARE & Negative & Positive\\\\\n",
       "\t3 & TBSQUARE\\_WBRNA\\_554 & Uganda & TBSQUARE & Negative & Negative\\\\\n",
       "\t4 & TBSQUARE\\_WBRNA\\_555 & Uganda & TBSQUARE & Negative & Positive\\\\\n",
       "\t5 & TBSQUARE\\_WBRNA\\_564 & Uganda & TBSQUARE & Negative & Negative\\\\\n",
       "\t6 & TBSQUARE\\_WBRNA\\_557 & Uganda & TBSQUARE & Negative & Negative\\\\\n",
       "\\end{tabular}\n"
      ],
      "text/markdown": [
       "\n",
       "A data.frame: 6 × 5\n",
       "\n",
       "| <!--/--> | sample_id &lt;chr&gt; | site &lt;chr&gt; | cohort &lt;chr&gt; | hiv &lt;chr&gt; | tb &lt;chr&gt; |\n",
       "|---|---|---|---|---|---|\n",
       "| 1 | TBSQUARE_WBRNA_553 | Uganda | TBSQUARE | Negative | Positive |\n",
       "| 2 | TBSQUARE_WBRNA_561 | Uganda | TBSQUARE | Negative | Positive |\n",
       "| 3 | TBSQUARE_WBRNA_554 | Uganda | TBSQUARE | Negative | Negative |\n",
       "| 4 | TBSQUARE_WBRNA_555 | Uganda | TBSQUARE | Negative | Positive |\n",
       "| 5 | TBSQUARE_WBRNA_564 | Uganda | TBSQUARE | Negative | Negative |\n",
       "| 6 | TBSQUARE_WBRNA_557 | Uganda | TBSQUARE | Negative | Negative |\n",
       "\n"
      ],
      "text/plain": [
       "  sample_id          site   cohort   hiv      tb      \n",
       "1 TBSQUARE_WBRNA_553 Uganda TBSQUARE Negative Positive\n",
       "2 TBSQUARE_WBRNA_561 Uganda TBSQUARE Negative Positive\n",
       "3 TBSQUARE_WBRNA_554 Uganda TBSQUARE Negative Negative\n",
       "4 TBSQUARE_WBRNA_555 Uganda TBSQUARE Negative Positive\n",
       "5 TBSQUARE_WBRNA_564 Uganda TBSQUARE Negative Negative\n",
       "6 TBSQUARE_WBRNA_557 Uganda TBSQUARE Negative Negative"
      ]
     },
     "metadata": {},
     "output_type": "display_data"
    },
    {
     "data": {
      "text/html": [
       "60"
      ],
      "text/latex": [
       "60"
      ],
      "text/markdown": [
       "60"
      ],
      "text/plain": [
       "[1] 60"
      ]
     },
     "metadata": {},
     "output_type": "display_data"
    }
   ],
   "source": [
    "# val_m = read.delim(\"./seed_87_all.metadata.val.tsv\")\n",
    "\n",
    "# meta_unique <- meta %>%\n",
    "#   distinct(sample_id, .keep_all = TRUE)\n",
    "# #meta_wb <- meta_wb %>% rename(sample_id = Cornell_ID, site = Country, hiv = HIV.status, tb = Microbiologic.reference.standard)\n",
    "\n",
    "\n",
    "# val_m$sample_id <- gsub(\"_combined_61bp\", \"\", val_m$sample_id)\n",
    "# val_m$sample_id <- gsub(\"_\", \"_WBRNA_\", val_m$sample_id)\n",
    "# val_m = val_m %>% select(sample_id, site, cohort, hiv, tb)\n",
    "# meta_unique = meta_unique %>% select(-Biofluid)\n",
    "\n",
    "# wb_meta_fin = rbind(meta_unique, val_m)\n",
    "\n",
    "# wb_meta_fin <- wb_meta_fin %>%\n",
    "#   distinct(sample_id, .keep_all = TRUE)\n",
    "\n",
    "# head(wb_meta_fin)\n",
    "# nrow(wb_meta_fin)\n",
    "\n",
    "# write.table(wb_meta_fin, \"wb_metadata.txt\", row.names = FALSE, sep = \"\\t\")"
   ]
  },
  {
   "cell_type": "code",
   "execution_count": 19,
   "id": "acb3fd4f",
   "metadata": {},
   "outputs": [
    {
     "data": {
      "text/html": [
       "251"
      ],
      "text/latex": [
       "251"
      ],
      "text/markdown": [
       "251"
      ],
      "text/plain": [
       "[1] 251"
      ]
     },
     "metadata": {},
     "output_type": "display_data"
    },
    {
     "data": {
      "text/html": [
       "60"
      ],
      "text/latex": [
       "60"
      ],
      "text/markdown": [
       "60"
      ],
      "text/plain": [
       "[1] 60"
      ]
     },
     "metadata": {},
     "output_type": "display_data"
    }
   ],
   "source": [
    "metadata_train = read.delim(\"../Files_For_Manuscript/metadata.train.tsv\")\n",
    "metadata_test = read.delim(\"../Files_For_Manuscript/metadata.test.tsv\")\n",
    "metadata_val = read.delim(\"../Files_For_Manuscript/metadata.val.tsv\")\n",
    "\n",
    "cto_discovery =read.delim(\"../Files_For_Manuscript/mtb_cfrna_BP_celltypes.tsv\")\n",
    "cto_wb =  read.delim(\"/workdir/de256/Adrienne_work/cfrna_pipeline/files_for_manuscript/cto_wb.txt\")#read.delim(\"./cto_wb.txt\")\n",
    "\n",
    "meta_wb =read.delim(\"../Files_For_Manuscript/wb_metadata.txt\")\n",
    "\n",
    "#cto_validation = read.delim(\"../files_for_manuscript/cto_validation.txt\")\n",
    "\n",
    "\n",
    "meta = meta_wb %>% select(sample_id, site, cohort, hiv, tb) %>% tibble::add_column(\"Biofluid\"=\"WBRNA\")\n",
    "\n",
    "metadata_discovery = rbind(metadata_train, metadata_test, metadata_val)\n",
    "metadata = metadata_discovery\n",
    "cto_discovery <- cto_discovery %>% \n",
    "   filter(sample_id %in% metadata$sample_id)\n",
    "\n",
    "meta = meta %>% \n",
    "   filter(sample_id %in% cto_wb$sample_id)\n",
    "nrow(cto_discovery)\n",
    "nrow(meta)\n",
    "# cto_wb <- cto_wb %>% \n",
    "#    filter(sample_id %in% meta$sample_id)\n",
    "\n",
    "\n",
    "\n",
    "\n",
    "#meta_discovery = metadata#read.delim(\"../files_for_manuscript/metadata_discovery.txt\") Semiquant.Xpert.result.3\n",
    "                         \n",
    "combined_metadata = metadata_discovery %>% select(sample_id, site, cohort, hiv, tb) %>% \n",
    "tibble::add_column(\"Biofluid\"=\"plasma\") %>% \n",
    "rbind(. , meta)\n",
    "\n",
    "\n",
    "# combined_metadata <- combined %>% \n",
    "#   filter(sample_id %in% metadata$sample_id)\n",
    "\n"
   ]
  },
  {
   "cell_type": "code",
   "execution_count": 20,
   "id": "66c1edfe",
   "metadata": {
    "scrolled": true
   },
   "outputs": [
    {
     "name": "stderr",
     "output_type": "stream",
     "text": [
      "Warning message in melt(decon, id.vars = \"sample_id\"):\n",
      "“The melt generic in data.table has been passed a data.frame and will attempt to redirect to the relevant reshape2 method; please note that reshape2 is deprecated, and this redirection is now deprecated as well. To continue using melt methods from reshape2 while both libraries are attached, e.g. melt.list, you can prepend the namespace like reshape2::melt(decon). In the next version, this warning will become an error.”\n"
     ]
    },
    {
     "data": {
      "text/plain": [
       "\n",
       "     GHL     R2D2 TBSQUARE \n",
       "    3813     4018     4920 "
      ]
     },
     "metadata": {},
     "output_type": "display_data"
    }
   ],
   "source": [
    "decon = rbind(cto_discovery, cto_wb)\n",
    "\n",
    "decon_melt = unique(melt(decon, id.vars=\"sample_id\") %>% rename(celltype = variable, fraction = value)  %>%\n",
    "    merge(. , combined_metadata, by.x=\"sample_id\", by.y=\"sample_id\"))\n",
    "#head(decon_melt)\n",
    "table(decon_melt$cohort)"
   ]
  },
  {
   "cell_type": "code",
   "execution_count": 21,
   "id": "9d15bcd3",
   "metadata": {},
   "outputs": [],
   "source": [
    "results <- decon_melt\n",
    "sum <- results %>% group_by(celltype) %>% summarize(mean=mean(fraction))\n",
    "sum <- sum[order(sum$mean,decreasing=TRUE),]\n",
    "\n",
    "genes = sum$celltype\n",
    "\n",
    "library(qualpalr)\n",
    "\n",
    "num_cells = length(genes)\n",
    "pal = sample(rev(qualpal(num_cells, colorspace=list(h=c(0,360), s=c(0.3,1), l=c(0.2,0.8)))$hex))\n",
    "pal = c('#1362AB','#740C33','#2C8DAF','#FB927F','#5CFBF4','#0234C1','#86C35E','#B414A8','#F191B8','#949D0A','#700862','#F5DB9E','#209510','#DBB008','#5C6BFA','#B27DF2','#D6F306','#5EFE36','#A9DAC9','#B2040D','#203760','#4D5D0D','#4A1E80','#F63DFA','#F8169B','#175738','#0C8559','#A1506B','#861FF1','#2BBBB3','#5E210C','#36B976','#CAA376','#D75E16','#73480D','#39F9AD','#85D2F8','#65A2FC','#FC092B','#94A514','#AEBBE6')\n",
    "\n",
    "colors = pal\n",
    "labels = genes\n",
    "\n",
    "val_vector = colors\n",
    "names(val_vector) = labels"
   ]
  },
  {
   "cell_type": "code",
   "execution_count": 22,
   "id": "f2e88dce",
   "metadata": {
    "scrolled": true
   },
   "outputs": [],
   "source": [
    "solid_labels = c('Fibroblast mesenchymal stem cell',\n",
    "                'Endothelial.cell',\n",
    "    'Respiratory.ciliated.cell',\n",
    "                 'Ionocyte.luminal.epithelial.cell.of.mammary.gland','Kidney.epithelial.cell',\n",
    "                 'Cell.of.skeletal.muscle','Intestinal.tuft.cell',\n",
    "    'Intestinal.enterocyte',\n",
    "                 'Prostate.epithelia',\n",
    "    'Salivary.bronchial.secretory.cell',\n",
    "    'Intestinal.secretory.cell',\n",
    "                 'Secretory.cell','Respiratory.secretory.cell','Basal.prostate.cell','Basal.cell',\n",
    "                 'Salivary.gland.cell','Pancreatic.Stellate.cell','Type.II.Pneumocyte',\n",
    "                 'Intrahepatic.cholangiocyte','Gland.cell','Mesothelial cell',\n",
    "    'Schwann.cell',\n",
    "                 'Pancreatic.alpha.beta.cell','Tendon cell',\n",
    "    'Pericyte.cell')\n",
    "solid_colors = colors[1:25]\n",
    "\n",
    "val_vector_solid = solid_colors\n",
    "\n",
    "names(val_vector_solid) = solid_labels\n",
    "\n",
    "val_vector_solid = val_vector_solid[order(match(names(val_vector_solid),genes))]"
   ]
  },
  {
   "cell_type": "code",
   "execution_count": 23,
   "id": "2124372a",
   "metadata": {},
   "outputs": [
    {
     "data": {
      "text/plain": [
       "\n",
       "     GHL     R2D2 TBSQUARE \n",
       "    3720     3920     4800 "
      ]
     },
     "metadata": {},
     "output_type": "display_data"
    },
    {
     "data": {
      "text/html": [
       "12440"
      ],
      "text/latex": [
       "12440"
      ],
      "text/markdown": [
       "12440"
      ],
      "text/plain": [
       "[1] 12440"
      ]
     },
     "metadata": {},
     "output_type": "display_data"
    },
    {
     "data": {
      "text/html": [
       "<table class=\"dataframe\">\n",
       "<caption>A data.frame: 6 × 10</caption>\n",
       "<thead>\n",
       "\t<tr><th></th><th scope=col>sample_id</th><th scope=col>newtot</th><th scope=col>celltype</th><th scope=col>fraction</th><th scope=col>site</th><th scope=col>cohort</th><th scope=col>hiv</th><th scope=col>tb</th><th scope=col>Biofluid</th><th scope=col>newfraction</th></tr>\n",
       "\t<tr><th></th><th scope=col>&lt;chr&gt;</th><th scope=col>&lt;dbl&gt;</th><th scope=col>&lt;fct&gt;</th><th scope=col>&lt;dbl&gt;</th><th scope=col>&lt;chr&gt;</th><th scope=col>&lt;chr&gt;</th><th scope=col>&lt;chr&gt;</th><th scope=col>&lt;chr&gt;</th><th scope=col>&lt;chr&gt;</th><th scope=col>&lt;dbl&gt;</th></tr>\n",
       "</thead>\n",
       "<tbody>\n",
       "\t<tr><th scope=row>2</th><td>GHL1_combined_61bp</td><td>0.9563631</td><td>Intrahepatic.cholangiocyte</td><td>1.883862e-04</td><td>Mulago</td><td>GHL</td><td>Negative</td><td>negative</td><td>plasma</td><td>1.969818e-04</td></tr>\n",
       "\t<tr><th scope=row>3</th><td>GHL1_combined_61bp</td><td>0.9563631</td><td>Respiratory.secretory.cell</td><td>1.402726e-05</td><td>Mulago</td><td>GHL</td><td>Negative</td><td>negative</td><td>plasma</td><td>1.466729e-05</td></tr>\n",
       "\t<tr><th scope=row>4</th><td>GHL1_combined_61bp</td><td>0.9563631</td><td>Basal.cell                </td><td>2.804191e-05</td><td>Mulago</td><td>GHL</td><td>Negative</td><td>negative</td><td>plasma</td><td>2.932141e-05</td></tr>\n",
       "\t<tr><th scope=row>5</th><td>GHL1_combined_61bp</td><td>0.9563631</td><td>Endothelial.cell          </td><td>1.738847e-01</td><td>Mulago</td><td>GHL</td><td>Negative</td><td>negative</td><td>plasma</td><td>1.818187e-01</td></tr>\n",
       "\t<tr><th scope=row>6</th><td>GHL1_combined_61bp</td><td>0.9563631</td><td>Basal.prostate.cell       </td><td>3.352356e-05</td><td>Mulago</td><td>GHL</td><td>Negative</td><td>negative</td><td>plasma</td><td>3.505317e-05</td></tr>\n",
       "\t<tr><th scope=row>7</th><td>GHL1_combined_61bp</td><td>0.9563631</td><td>Cell.of.skeletal.muscle   </td><td>8.394593e-05</td><td>Mulago</td><td>GHL</td><td>Negative</td><td>negative</td><td>plasma</td><td>8.777621e-05</td></tr>\n",
       "</tbody>\n",
       "</table>\n"
      ],
      "text/latex": [
       "A data.frame: 6 × 10\n",
       "\\begin{tabular}{r|llllllllll}\n",
       "  & sample\\_id & newtot & celltype & fraction & site & cohort & hiv & tb & Biofluid & newfraction\\\\\n",
       "  & <chr> & <dbl> & <fct> & <dbl> & <chr> & <chr> & <chr> & <chr> & <chr> & <dbl>\\\\\n",
       "\\hline\n",
       "\t2 & GHL1\\_combined\\_61bp & 0.9563631 & Intrahepatic.cholangiocyte & 1.883862e-04 & Mulago & GHL & Negative & negative & plasma & 1.969818e-04\\\\\n",
       "\t3 & GHL1\\_combined\\_61bp & 0.9563631 & Respiratory.secretory.cell & 1.402726e-05 & Mulago & GHL & Negative & negative & plasma & 1.466729e-05\\\\\n",
       "\t4 & GHL1\\_combined\\_61bp & 0.9563631 & Basal.cell                 & 2.804191e-05 & Mulago & GHL & Negative & negative & plasma & 2.932141e-05\\\\\n",
       "\t5 & GHL1\\_combined\\_61bp & 0.9563631 & Endothelial.cell           & 1.738847e-01 & Mulago & GHL & Negative & negative & plasma & 1.818187e-01\\\\\n",
       "\t6 & GHL1\\_combined\\_61bp & 0.9563631 & Basal.prostate.cell        & 3.352356e-05 & Mulago & GHL & Negative & negative & plasma & 3.505317e-05\\\\\n",
       "\t7 & GHL1\\_combined\\_61bp & 0.9563631 & Cell.of.skeletal.muscle    & 8.394593e-05 & Mulago & GHL & Negative & negative & plasma & 8.777621e-05\\\\\n",
       "\\end{tabular}\n"
      ],
      "text/markdown": [
       "\n",
       "A data.frame: 6 × 10\n",
       "\n",
       "| <!--/--> | sample_id &lt;chr&gt; | newtot &lt;dbl&gt; | celltype &lt;fct&gt; | fraction &lt;dbl&gt; | site &lt;chr&gt; | cohort &lt;chr&gt; | hiv &lt;chr&gt; | tb &lt;chr&gt; | Biofluid &lt;chr&gt; | newfraction &lt;dbl&gt; |\n",
       "|---|---|---|---|---|---|---|---|---|---|---|\n",
       "| 2 | GHL1_combined_61bp | 0.9563631 | Intrahepatic.cholangiocyte | 1.883862e-04 | Mulago | GHL | Negative | negative | plasma | 1.969818e-04 |\n",
       "| 3 | GHL1_combined_61bp | 0.9563631 | Respiratory.secretory.cell | 1.402726e-05 | Mulago | GHL | Negative | negative | plasma | 1.466729e-05 |\n",
       "| 4 | GHL1_combined_61bp | 0.9563631 | Basal.cell                 | 2.804191e-05 | Mulago | GHL | Negative | negative | plasma | 2.932141e-05 |\n",
       "| 5 | GHL1_combined_61bp | 0.9563631 | Endothelial.cell           | 1.738847e-01 | Mulago | GHL | Negative | negative | plasma | 1.818187e-01 |\n",
       "| 6 | GHL1_combined_61bp | 0.9563631 | Basal.prostate.cell        | 3.352356e-05 | Mulago | GHL | Negative | negative | plasma | 3.505317e-05 |\n",
       "| 7 | GHL1_combined_61bp | 0.9563631 | Cell.of.skeletal.muscle    | 8.394593e-05 | Mulago | GHL | Negative | negative | plasma | 8.777621e-05 |\n",
       "\n"
      ],
      "text/plain": [
       "  sample_id          newtot    celltype                   fraction     site  \n",
       "2 GHL1_combined_61bp 0.9563631 Intrahepatic.cholangiocyte 1.883862e-04 Mulago\n",
       "3 GHL1_combined_61bp 0.9563631 Respiratory.secretory.cell 1.402726e-05 Mulago\n",
       "4 GHL1_combined_61bp 0.9563631 Basal.cell                 2.804191e-05 Mulago\n",
       "5 GHL1_combined_61bp 0.9563631 Endothelial.cell           1.738847e-01 Mulago\n",
       "6 GHL1_combined_61bp 0.9563631 Basal.prostate.cell        3.352356e-05 Mulago\n",
       "7 GHL1_combined_61bp 0.9563631 Cell.of.skeletal.muscle    8.394593e-05 Mulago\n",
       "  cohort hiv      tb       Biofluid newfraction \n",
       "2 GHL    Negative negative plasma   1.969818e-04\n",
       "3 GHL    Negative negative plasma   1.466729e-05\n",
       "4 GHL    Negative negative plasma   2.932141e-05\n",
       "5 GHL    Negative negative plasma   1.818187e-01\n",
       "6 GHL    Negative negative plasma   3.505317e-05\n",
       "7 GHL    Negative negative plasma   8.777621e-05"
      ]
     },
     "metadata": {},
     "output_type": "display_data"
    },
    {
     "data": {
      "text/html": [
       "<table class=\"dataframe\">\n",
       "<caption>A data.frame: 6 × 10</caption>\n",
       "<thead>\n",
       "\t<tr><th></th><th scope=col>sample_id</th><th scope=col>newtot</th><th scope=col>celltype</th><th scope=col>fraction</th><th scope=col>site</th><th scope=col>cohort</th><th scope=col>hiv</th><th scope=col>tb</th><th scope=col>Biofluid</th><th scope=col>newfraction</th></tr>\n",
       "\t<tr><th></th><th scope=col>&lt;chr&gt;</th><th scope=col>&lt;dbl&gt;</th><th scope=col>&lt;fct&gt;</th><th scope=col>&lt;dbl&gt;</th><th scope=col>&lt;chr&gt;</th><th scope=col>&lt;chr&gt;</th><th scope=col>&lt;chr&gt;</th><th scope=col>&lt;chr&gt;</th><th scope=col>&lt;chr&gt;</th><th scope=col>&lt;dbl&gt;</th></tr>\n",
       "</thead>\n",
       "<tbody>\n",
       "\t<tr><th scope=row>1</th><td>GHL1_combined_61bp</td><td>0.9563631</td><td>Stromal.cell              </td><td>4.664151e-05</td><td>Mulago</td><td>GHL</td><td>Negative</td><td>negative</td><td>plasma</td><td>4.876966e-05</td></tr>\n",
       "\t<tr><th scope=row>2</th><td>GHL1_combined_61bp</td><td>0.9563631</td><td>Intrahepatic.cholangiocyte</td><td>1.883862e-04</td><td>Mulago</td><td>GHL</td><td>Negative</td><td>negative</td><td>plasma</td><td>1.969818e-04</td></tr>\n",
       "\t<tr><th scope=row>3</th><td>GHL1_combined_61bp</td><td>0.9563631</td><td>Respiratory.secretory.cell</td><td>1.402726e-05</td><td>Mulago</td><td>GHL</td><td>Negative</td><td>negative</td><td>plasma</td><td>1.466729e-05</td></tr>\n",
       "\t<tr><th scope=row>4</th><td>GHL1_combined_61bp</td><td>0.9563631</td><td>Basal.cell                </td><td>2.804191e-05</td><td>Mulago</td><td>GHL</td><td>Negative</td><td>negative</td><td>plasma</td><td>2.932141e-05</td></tr>\n",
       "\t<tr><th scope=row>5</th><td>GHL1_combined_61bp</td><td>0.9563631</td><td>Endothelial.cell          </td><td>1.738847e-01</td><td>Mulago</td><td>GHL</td><td>Negative</td><td>negative</td><td>plasma</td><td>1.818187e-01</td></tr>\n",
       "\t<tr><th scope=row>6</th><td>GHL1_combined_61bp</td><td>0.9563631</td><td>Basal.prostate.cell       </td><td>3.352356e-05</td><td>Mulago</td><td>GHL</td><td>Negative</td><td>negative</td><td>plasma</td><td>3.505317e-05</td></tr>\n",
       "</tbody>\n",
       "</table>\n"
      ],
      "text/latex": [
       "A data.frame: 6 × 10\n",
       "\\begin{tabular}{r|llllllllll}\n",
       "  & sample\\_id & newtot & celltype & fraction & site & cohort & hiv & tb & Biofluid & newfraction\\\\\n",
       "  & <chr> & <dbl> & <fct> & <dbl> & <chr> & <chr> & <chr> & <chr> & <chr> & <dbl>\\\\\n",
       "\\hline\n",
       "\t1 & GHL1\\_combined\\_61bp & 0.9563631 & Stromal.cell               & 4.664151e-05 & Mulago & GHL & Negative & negative & plasma & 4.876966e-05\\\\\n",
       "\t2 & GHL1\\_combined\\_61bp & 0.9563631 & Intrahepatic.cholangiocyte & 1.883862e-04 & Mulago & GHL & Negative & negative & plasma & 1.969818e-04\\\\\n",
       "\t3 & GHL1\\_combined\\_61bp & 0.9563631 & Respiratory.secretory.cell & 1.402726e-05 & Mulago & GHL & Negative & negative & plasma & 1.466729e-05\\\\\n",
       "\t4 & GHL1\\_combined\\_61bp & 0.9563631 & Basal.cell                 & 2.804191e-05 & Mulago & GHL & Negative & negative & plasma & 2.932141e-05\\\\\n",
       "\t5 & GHL1\\_combined\\_61bp & 0.9563631 & Endothelial.cell           & 1.738847e-01 & Mulago & GHL & Negative & negative & plasma & 1.818187e-01\\\\\n",
       "\t6 & GHL1\\_combined\\_61bp & 0.9563631 & Basal.prostate.cell        & 3.352356e-05 & Mulago & GHL & Negative & negative & plasma & 3.505317e-05\\\\\n",
       "\\end{tabular}\n"
      ],
      "text/markdown": [
       "\n",
       "A data.frame: 6 × 10\n",
       "\n",
       "| <!--/--> | sample_id &lt;chr&gt; | newtot &lt;dbl&gt; | celltype &lt;fct&gt; | fraction &lt;dbl&gt; | site &lt;chr&gt; | cohort &lt;chr&gt; | hiv &lt;chr&gt; | tb &lt;chr&gt; | Biofluid &lt;chr&gt; | newfraction &lt;dbl&gt; |\n",
       "|---|---|---|---|---|---|---|---|---|---|---|\n",
       "| 1 | GHL1_combined_61bp | 0.9563631 | Stromal.cell               | 4.664151e-05 | Mulago | GHL | Negative | negative | plasma | 4.876966e-05 |\n",
       "| 2 | GHL1_combined_61bp | 0.9563631 | Intrahepatic.cholangiocyte | 1.883862e-04 | Mulago | GHL | Negative | negative | plasma | 1.969818e-04 |\n",
       "| 3 | GHL1_combined_61bp | 0.9563631 | Respiratory.secretory.cell | 1.402726e-05 | Mulago | GHL | Negative | negative | plasma | 1.466729e-05 |\n",
       "| 4 | GHL1_combined_61bp | 0.9563631 | Basal.cell                 | 2.804191e-05 | Mulago | GHL | Negative | negative | plasma | 2.932141e-05 |\n",
       "| 5 | GHL1_combined_61bp | 0.9563631 | Endothelial.cell           | 1.738847e-01 | Mulago | GHL | Negative | negative | plasma | 1.818187e-01 |\n",
       "| 6 | GHL1_combined_61bp | 0.9563631 | Basal.prostate.cell        | 3.352356e-05 | Mulago | GHL | Negative | negative | plasma | 3.505317e-05 |\n",
       "\n"
      ],
      "text/plain": [
       "  sample_id          newtot    celltype                   fraction     site  \n",
       "1 GHL1_combined_61bp 0.9563631 Stromal.cell               4.664151e-05 Mulago\n",
       "2 GHL1_combined_61bp 0.9563631 Intrahepatic.cholangiocyte 1.883862e-04 Mulago\n",
       "3 GHL1_combined_61bp 0.9563631 Respiratory.secretory.cell 1.402726e-05 Mulago\n",
       "4 GHL1_combined_61bp 0.9563631 Basal.cell                 2.804191e-05 Mulago\n",
       "5 GHL1_combined_61bp 0.9563631 Endothelial.cell           1.738847e-01 Mulago\n",
       "6 GHL1_combined_61bp 0.9563631 Basal.prostate.cell        3.352356e-05 Mulago\n",
       "  cohort hiv      tb       Biofluid newfraction \n",
       "1 GHL    Negative negative plasma   4.876966e-05\n",
       "2 GHL    Negative negative plasma   1.969818e-04\n",
       "3 GHL    Negative negative plasma   1.466729e-05\n",
       "4 GHL    Negative negative plasma   2.932141e-05\n",
       "5 GHL    Negative negative plasma   1.818187e-01\n",
       "6 GHL    Negative negative plasma   3.505317e-05"
      ]
     },
     "metadata": {},
     "output_type": "display_data"
    },
    {
     "data": {
      "text/html": [
       "<table class=\"dataframe\">\n",
       "<caption>A data.frame: 6 × 10</caption>\n",
       "<thead>\n",
       "\t<tr><th></th><th scope=col>sample_id</th><th scope=col>newtot</th><th scope=col>celltype</th><th scope=col>fraction</th><th scope=col>site</th><th scope=col>cohort</th><th scope=col>hiv</th><th scope=col>tb</th><th scope=col>Biofluid</th><th scope=col>newfraction</th></tr>\n",
       "\t<tr><th></th><th scope=col>&lt;chr&gt;</th><th scope=col>&lt;dbl&gt;</th><th scope=col>&lt;fct&gt;</th><th scope=col>&lt;dbl&gt;</th><th scope=col>&lt;chr&gt;</th><th scope=col>&lt;chr&gt;</th><th scope=col>&lt;chr&gt;</th><th scope=col>&lt;chr&gt;</th><th scope=col>&lt;chr&gt;</th><th scope=col>&lt;dbl&gt;</th></tr>\n",
       "</thead>\n",
       "<tbody>\n",
       "\t<tr><th scope=row>2</th><td>GHL1_combined_61bp</td><td>0.9563631</td><td>Intrahepatic.cholangiocyte</td><td>1.883862e-04</td><td>Mulago</td><td>GHL</td><td>Negative</td><td>negative</td><td>plasma</td><td>1.969818e-04</td></tr>\n",
       "\t<tr><th scope=row>3</th><td>GHL1_combined_61bp</td><td>0.9563631</td><td>Respiratory.secretory.cell</td><td>1.402726e-05</td><td>Mulago</td><td>GHL</td><td>Negative</td><td>negative</td><td>plasma</td><td>1.466729e-05</td></tr>\n",
       "\t<tr><th scope=row>4</th><td>GHL1_combined_61bp</td><td>0.9563631</td><td>Basal.cell                </td><td>2.804191e-05</td><td>Mulago</td><td>GHL</td><td>Negative</td><td>negative</td><td>plasma</td><td>2.932141e-05</td></tr>\n",
       "\t<tr><th scope=row>5</th><td>GHL1_combined_61bp</td><td>0.9563631</td><td>Endothelial.cell          </td><td>1.738847e-01</td><td>Mulago</td><td>GHL</td><td>Negative</td><td>negative</td><td>plasma</td><td>1.818187e-01</td></tr>\n",
       "\t<tr><th scope=row>6</th><td>GHL1_combined_61bp</td><td>0.9563631</td><td>Basal.prostate.cell       </td><td>3.352356e-05</td><td>Mulago</td><td>GHL</td><td>Negative</td><td>negative</td><td>plasma</td><td>3.505317e-05</td></tr>\n",
       "\t<tr><th scope=row>7</th><td>GHL1_combined_61bp</td><td>0.9563631</td><td>Cell.of.skeletal.muscle   </td><td>8.394593e-05</td><td>Mulago</td><td>GHL</td><td>Negative</td><td>negative</td><td>plasma</td><td>8.777621e-05</td></tr>\n",
       "</tbody>\n",
       "</table>\n"
      ],
      "text/latex": [
       "A data.frame: 6 × 10\n",
       "\\begin{tabular}{r|llllllllll}\n",
       "  & sample\\_id & newtot & celltype & fraction & site & cohort & hiv & tb & Biofluid & newfraction\\\\\n",
       "  & <chr> & <dbl> & <fct> & <dbl> & <chr> & <chr> & <chr> & <chr> & <chr> & <dbl>\\\\\n",
       "\\hline\n",
       "\t2 & GHL1\\_combined\\_61bp & 0.9563631 & Intrahepatic.cholangiocyte & 1.883862e-04 & Mulago & GHL & Negative & negative & plasma & 1.969818e-04\\\\\n",
       "\t3 & GHL1\\_combined\\_61bp & 0.9563631 & Respiratory.secretory.cell & 1.402726e-05 & Mulago & GHL & Negative & negative & plasma & 1.466729e-05\\\\\n",
       "\t4 & GHL1\\_combined\\_61bp & 0.9563631 & Basal.cell                 & 2.804191e-05 & Mulago & GHL & Negative & negative & plasma & 2.932141e-05\\\\\n",
       "\t5 & GHL1\\_combined\\_61bp & 0.9563631 & Endothelial.cell           & 1.738847e-01 & Mulago & GHL & Negative & negative & plasma & 1.818187e-01\\\\\n",
       "\t6 & GHL1\\_combined\\_61bp & 0.9563631 & Basal.prostate.cell        & 3.352356e-05 & Mulago & GHL & Negative & negative & plasma & 3.505317e-05\\\\\n",
       "\t7 & GHL1\\_combined\\_61bp & 0.9563631 & Cell.of.skeletal.muscle    & 8.394593e-05 & Mulago & GHL & Negative & negative & plasma & 8.777621e-05\\\\\n",
       "\\end{tabular}\n"
      ],
      "text/markdown": [
       "\n",
       "A data.frame: 6 × 10\n",
       "\n",
       "| <!--/--> | sample_id &lt;chr&gt; | newtot &lt;dbl&gt; | celltype &lt;fct&gt; | fraction &lt;dbl&gt; | site &lt;chr&gt; | cohort &lt;chr&gt; | hiv &lt;chr&gt; | tb &lt;chr&gt; | Biofluid &lt;chr&gt; | newfraction &lt;dbl&gt; |\n",
       "|---|---|---|---|---|---|---|---|---|---|---|\n",
       "| 2 | GHL1_combined_61bp | 0.9563631 | Intrahepatic.cholangiocyte | 1.883862e-04 | Mulago | GHL | Negative | negative | plasma | 1.969818e-04 |\n",
       "| 3 | GHL1_combined_61bp | 0.9563631 | Respiratory.secretory.cell | 1.402726e-05 | Mulago | GHL | Negative | negative | plasma | 1.466729e-05 |\n",
       "| 4 | GHL1_combined_61bp | 0.9563631 | Basal.cell                 | 2.804191e-05 | Mulago | GHL | Negative | negative | plasma | 2.932141e-05 |\n",
       "| 5 | GHL1_combined_61bp | 0.9563631 | Endothelial.cell           | 1.738847e-01 | Mulago | GHL | Negative | negative | plasma | 1.818187e-01 |\n",
       "| 6 | GHL1_combined_61bp | 0.9563631 | Basal.prostate.cell        | 3.352356e-05 | Mulago | GHL | Negative | negative | plasma | 3.505317e-05 |\n",
       "| 7 | GHL1_combined_61bp | 0.9563631 | Cell.of.skeletal.muscle    | 8.394593e-05 | Mulago | GHL | Negative | negative | plasma | 8.777621e-05 |\n",
       "\n"
      ],
      "text/plain": [
       "  sample_id          newtot    celltype                   fraction     site  \n",
       "2 GHL1_combined_61bp 0.9563631 Intrahepatic.cholangiocyte 1.883862e-04 Mulago\n",
       "3 GHL1_combined_61bp 0.9563631 Respiratory.secretory.cell 1.402726e-05 Mulago\n",
       "4 GHL1_combined_61bp 0.9563631 Basal.cell                 2.804191e-05 Mulago\n",
       "5 GHL1_combined_61bp 0.9563631 Endothelial.cell           1.738847e-01 Mulago\n",
       "6 GHL1_combined_61bp 0.9563631 Basal.prostate.cell        3.352356e-05 Mulago\n",
       "7 GHL1_combined_61bp 0.9563631 Cell.of.skeletal.muscle    8.394593e-05 Mulago\n",
       "  cohort hiv      tb       Biofluid newfraction \n",
       "2 GHL    Negative negative plasma   1.969818e-04\n",
       "3 GHL    Negative negative plasma   1.466729e-05\n",
       "4 GHL    Negative negative plasma   2.932141e-05\n",
       "5 GHL    Negative negative plasma   1.818187e-01\n",
       "6 GHL    Negative negative plasma   3.505317e-05\n",
       "7 GHL    Negative negative plasma   8.777621e-05"
      ]
     },
     "metadata": {},
     "output_type": "display_data"
    }
   ],
   "source": [
    "newtot =results  %>% filter(celltype !=\"Platelet\") %>% group_by(sample_id) %>% summarise(newtot = sum(fraction))\n",
    "newresults = results %>% filter(celltype != \"Platelet\")\n",
    "newresults = merge(newtot, newresults, by=\"sample_id\")\n",
    "newresults$newfraction = (newresults$fraction)*(1/newresults$newtot)\n",
    "table(newresults$cohort)\n",
    "newresults$cohort[grepl(\"WBRNA\", newresults$sample_id)]=\"WBRNA\"\n",
    "nrow(newresults)\n",
    "res_melt_solid = newresults[which(newresults$celltype %in% names(val_vector_solid)),]\n",
    "head(res_melt_solid)\n",
    "head(newresults)\n",
    "head(res_melt_solid)\n"
   ]
  },
  {
   "cell_type": "code",
   "execution_count": 24,
   "id": "53fa87e6",
   "metadata": {
    "scrolled": true
   },
   "outputs": [
    {
     "data": {
      "text/html": [
       "<table class=\"dataframe\">\n",
       "<caption>A data.frame: 6 × 10</caption>\n",
       "<thead>\n",
       "\t<tr><th></th><th scope=col>sample_id</th><th scope=col>newtot</th><th scope=col>celltype</th><th scope=col>fraction</th><th scope=col>site</th><th scope=col>cohort</th><th scope=col>hiv</th><th scope=col>tb</th><th scope=col>Biofluid</th><th scope=col>newfraction</th></tr>\n",
       "\t<tr><th></th><th scope=col>&lt;chr&gt;</th><th scope=col>&lt;dbl&gt;</th><th scope=col>&lt;fct&gt;</th><th scope=col>&lt;dbl&gt;</th><th scope=col>&lt;chr&gt;</th><th scope=col>&lt;chr&gt;</th><th scope=col>&lt;chr&gt;</th><th scope=col>&lt;chr&gt;</th><th scope=col>&lt;chr&gt;</th><th scope=col>&lt;dbl&gt;</th></tr>\n",
       "</thead>\n",
       "<tbody>\n",
       "\t<tr><th scope=row>2</th><td>GHL1_combined_61bp</td><td>0.9563631</td><td>Intrahepatic.cholangiocyte</td><td>1.883862e-04</td><td>Mulago</td><td>GHL</td><td>Negative</td><td>negative</td><td>plasma</td><td>1.969818e-04</td></tr>\n",
       "\t<tr><th scope=row>3</th><td>GHL1_combined_61bp</td><td>0.9563631</td><td>Respiratory.secretory.cell</td><td>1.402726e-05</td><td>Mulago</td><td>GHL</td><td>Negative</td><td>negative</td><td>plasma</td><td>1.466729e-05</td></tr>\n",
       "\t<tr><th scope=row>4</th><td>GHL1_combined_61bp</td><td>0.9563631</td><td>Basal.cell                </td><td>2.804191e-05</td><td>Mulago</td><td>GHL</td><td>Negative</td><td>negative</td><td>plasma</td><td>2.932141e-05</td></tr>\n",
       "\t<tr><th scope=row>5</th><td>GHL1_combined_61bp</td><td>0.9563631</td><td>Endothelial.cell          </td><td>1.738847e-01</td><td>Mulago</td><td>GHL</td><td>Negative</td><td>negative</td><td>plasma</td><td>1.818187e-01</td></tr>\n",
       "\t<tr><th scope=row>6</th><td>GHL1_combined_61bp</td><td>0.9563631</td><td>Basal.prostate.cell       </td><td>3.352356e-05</td><td>Mulago</td><td>GHL</td><td>Negative</td><td>negative</td><td>plasma</td><td>3.505317e-05</td></tr>\n",
       "\t<tr><th scope=row>7</th><td>GHL1_combined_61bp</td><td>0.9563631</td><td>Cell.of.skeletal.muscle   </td><td>8.394593e-05</td><td>Mulago</td><td>GHL</td><td>Negative</td><td>negative</td><td>plasma</td><td>8.777621e-05</td></tr>\n",
       "</tbody>\n",
       "</table>\n"
      ],
      "text/latex": [
       "A data.frame: 6 × 10\n",
       "\\begin{tabular}{r|llllllllll}\n",
       "  & sample\\_id & newtot & celltype & fraction & site & cohort & hiv & tb & Biofluid & newfraction\\\\\n",
       "  & <chr> & <dbl> & <fct> & <dbl> & <chr> & <chr> & <chr> & <chr> & <chr> & <dbl>\\\\\n",
       "\\hline\n",
       "\t2 & GHL1\\_combined\\_61bp & 0.9563631 & Intrahepatic.cholangiocyte & 1.883862e-04 & Mulago & GHL & Negative & negative & plasma & 1.969818e-04\\\\\n",
       "\t3 & GHL1\\_combined\\_61bp & 0.9563631 & Respiratory.secretory.cell & 1.402726e-05 & Mulago & GHL & Negative & negative & plasma & 1.466729e-05\\\\\n",
       "\t4 & GHL1\\_combined\\_61bp & 0.9563631 & Basal.cell                 & 2.804191e-05 & Mulago & GHL & Negative & negative & plasma & 2.932141e-05\\\\\n",
       "\t5 & GHL1\\_combined\\_61bp & 0.9563631 & Endothelial.cell           & 1.738847e-01 & Mulago & GHL & Negative & negative & plasma & 1.818187e-01\\\\\n",
       "\t6 & GHL1\\_combined\\_61bp & 0.9563631 & Basal.prostate.cell        & 3.352356e-05 & Mulago & GHL & Negative & negative & plasma & 3.505317e-05\\\\\n",
       "\t7 & GHL1\\_combined\\_61bp & 0.9563631 & Cell.of.skeletal.muscle    & 8.394593e-05 & Mulago & GHL & Negative & negative & plasma & 8.777621e-05\\\\\n",
       "\\end{tabular}\n"
      ],
      "text/markdown": [
       "\n",
       "A data.frame: 6 × 10\n",
       "\n",
       "| <!--/--> | sample_id &lt;chr&gt; | newtot &lt;dbl&gt; | celltype &lt;fct&gt; | fraction &lt;dbl&gt; | site &lt;chr&gt; | cohort &lt;chr&gt; | hiv &lt;chr&gt; | tb &lt;chr&gt; | Biofluid &lt;chr&gt; | newfraction &lt;dbl&gt; |\n",
       "|---|---|---|---|---|---|---|---|---|---|---|\n",
       "| 2 | GHL1_combined_61bp | 0.9563631 | Intrahepatic.cholangiocyte | 1.883862e-04 | Mulago | GHL | Negative | negative | plasma | 1.969818e-04 |\n",
       "| 3 | GHL1_combined_61bp | 0.9563631 | Respiratory.secretory.cell | 1.402726e-05 | Mulago | GHL | Negative | negative | plasma | 1.466729e-05 |\n",
       "| 4 | GHL1_combined_61bp | 0.9563631 | Basal.cell                 | 2.804191e-05 | Mulago | GHL | Negative | negative | plasma | 2.932141e-05 |\n",
       "| 5 | GHL1_combined_61bp | 0.9563631 | Endothelial.cell           | 1.738847e-01 | Mulago | GHL | Negative | negative | plasma | 1.818187e-01 |\n",
       "| 6 | GHL1_combined_61bp | 0.9563631 | Basal.prostate.cell        | 3.352356e-05 | Mulago | GHL | Negative | negative | plasma | 3.505317e-05 |\n",
       "| 7 | GHL1_combined_61bp | 0.9563631 | Cell.of.skeletal.muscle    | 8.394593e-05 | Mulago | GHL | Negative | negative | plasma | 8.777621e-05 |\n",
       "\n"
      ],
      "text/plain": [
       "  sample_id          newtot    celltype                   fraction     site  \n",
       "2 GHL1_combined_61bp 0.9563631 Intrahepatic.cholangiocyte 1.883862e-04 Mulago\n",
       "3 GHL1_combined_61bp 0.9563631 Respiratory.secretory.cell 1.402726e-05 Mulago\n",
       "4 GHL1_combined_61bp 0.9563631 Basal.cell                 2.804191e-05 Mulago\n",
       "5 GHL1_combined_61bp 0.9563631 Endothelial.cell           1.738847e-01 Mulago\n",
       "6 GHL1_combined_61bp 0.9563631 Basal.prostate.cell        3.352356e-05 Mulago\n",
       "7 GHL1_combined_61bp 0.9563631 Cell.of.skeletal.muscle    8.394593e-05 Mulago\n",
       "  cohort hiv      tb       Biofluid newfraction \n",
       "2 GHL    Negative negative plasma   1.969818e-04\n",
       "3 GHL    Negative negative plasma   1.466729e-05\n",
       "4 GHL    Negative negative plasma   2.932141e-05\n",
       "5 GHL    Negative negative plasma   1.818187e-01\n",
       "6 GHL    Negative negative plasma   3.505317e-05\n",
       "7 GHL    Negative negative plasma   8.777621e-05"
      ]
     },
     "metadata": {},
     "output_type": "display_data"
    }
   ],
   "source": [
    "my_comparisons <- list( c(\"END TB\", \"WBRNA\"), c(\"R2D2\", \"WBRNA\"), c(\"TB2\", \"WBRNA\") )\n",
    "head(res_melt_solid)"
   ]
  },
  {
   "cell_type": "code",
   "execution_count": 25,
   "id": "de3e8414",
   "metadata": {
    "scrolled": true
   },
   "outputs": [
    {
     "name": "stderr",
     "output_type": "stream",
     "text": [
      "\u001b[1m\u001b[22m`summarise()` has grouped output by 'sample_id'. You can override using the `.groups` argument.\n",
      "Warning message:\n",
      "“\u001b[1m\u001b[22mComputation failed in `stat_signif()`\n",
      "Caused by error in `if (scales$x$map(comp[1]) == data$group[1] | manual) ...`:\n",
      "\u001b[33m!\u001b[39m missing value where TRUE/FALSE needed”\n",
      "Warning message:\n",
      "“\u001b[1m\u001b[22mComputation failed in `stat_signif()`\n",
      "Caused by error in `if (scales$x$map(comp[1]) == data$group[1] | manual) ...`:\n",
      "\u001b[33m!\u001b[39m missing value where TRUE/FALSE needed”\n",
      "Warning message:\n",
      "“\u001b[1m\u001b[22mComputation failed in `stat_signif()`\n",
      "Caused by error in `if (scales$x$map(comp[1]) == data$group[1] | manual) ...`:\n",
      "\u001b[33m!\u001b[39m missing value where TRUE/FALSE needed”\n"
     ]
    },
    {
     "data": {
      "image/png": "[encoded data removed]",
      "text/plain": [
       "plot without title"
      ]
     },
     "metadata": {
      "image/png": {
       "height": 210,
       "width": 120
      }
     },
     "output_type": "display_data"
    }
   ],
   "source": [
    "options(repr.plot.height=3.5, repr.plot.width=2)\n",
    "p = res_melt_solid %>% \n",
    "    mutate(celltype = factor(celltype,levels=genes)) %>% group_by(sample_id, cohort) %>% summarise(val=sum(newfraction)) %>%\n",
    "    ggplot(aes(x=cohort,y=val, fill=cohort)) + geom_boxplot() + theme_bw(base_size=8) + \n",
    "stat_compare_means(method=\"wilcox.test\", comparisons=my_comparisons) +\n",
    "scale_x_discrete(labels=c(\"END TB\\nn = 98\", \"R2D2\\nn = 100\",\"TB2 (Plasma)\\nn=60\", \"TB2 (WB)\\nn = 60\")) + \n",
    "theme(axis.title.x=element_blank(),\n",
    "      axis.text.x=element_text(color=\"black\", angle=45, hjust=1, vjust=1, size=7.5),\n",
    "     axis.text.y=element_text(color=\"black\", size=7.5),\n",
    "     axis.title.y=element_text(color=\"black\", size=7.5),\n",
    "     legend.position=\"none\", panel.border = element_rect(size = 1, color =\"black\")) + \n",
    "ylab(\"Solid Organ Fraction\") +ylim(0,1) +\n",
    "scale_fill_manual(values=c(\"#00D2DE\", \"#B5179E\", \"#96BE25\", \"#F88C1A\"))\n",
    "\n",
    "\n",
    "p \n",
    "ggsave(\"../Figure_Output/Figure_4/solid_organ_fraction_copy.pdf\", plot = p, width = 2, height = 2, device = \"pdf\")\n",
    "\n",
    "ggsave(\"../Figure_Output/Figure_4/solid_organ_fraction_copy.png\", plot = p, width = 2, height = 2)\n"
   ]
  },
  {
   "cell_type": "code",
   "execution_count": 16,
   "id": "7eeff33a-339f-4e82-86b1-ee0e364ae6c2",
   "metadata": {},
   "outputs": [
    {
     "name": "stderr",
     "output_type": "stream",
     "text": [
      "\u001b[1m\u001b[22m`summarise()` has grouped output by 'sample_id'. You can override using the `.groups` argument.\n",
      "Warning message:\n",
      "“\u001b[1m\u001b[22mComputation failed in `stat_signif()`\n",
      "Caused by error in `if (scales$x$map(comp[1]) == data$group[1] | manual) ...`:\n",
      "\u001b[33m!\u001b[39m missing value where TRUE/FALSE needed”\n",
      "Warning message:\n",
      "“\u001b[1m\u001b[22mComputation failed in `stat_signif()`\n",
      "Caused by error in `if (scales$x$map(comp[1]) == data$group[1] | manual) ...`:\n",
      "\u001b[33m!\u001b[39m missing value where TRUE/FALSE needed”\n",
      "Warning message:\n",
      "“\u001b[1m\u001b[22mComputation failed in `stat_signif()`\n",
      "Caused by error in `if (scales$x$map(comp[1]) == data$group[1] | manual) ...`:\n",
      "\u001b[33m!\u001b[39m missing value where TRUE/FALSE needed”\n"
     ]
    },
    {
     "data": {
      "image/png": "[encoded data removed]",
      "text/plain": [
       "plot without title"
      ]
     },
     "metadata": {
      "image/png": {
       "height": 300,
       "width": 300
      }
     },
     "output_type": "display_data"
    }
   ],
   "source": [
    "options(repr.plot.height=5, repr.plot.width=5)\n",
    "p = res_melt_solid %>% \n",
    "    mutate(celltype = factor(celltype,levels=genes)) %>% group_by(sample_id, cohort) %>% summarise(val=sum(newfraction)) %>%\n",
    "    ggplot(aes(x=cohort,y=val, fill=cohort)) + geom_boxplot() + theme_bw(base_size=8) + \n",
    "stat_compare_means(method=\"wilcox.test\", comparisons=my_comparisons) +\n",
    "scale_x_discrete(labels=c(\"Cohort 1\\nn = 93\", \"Cohort 2\\nn = 98\",\"Cohort 3\\nn=60\", \"Cohort 3\\nn = 60\")) + \n",
    "theme(axis.title.x=element_blank(),\n",
    "      axis.text.x=element_text(color=\"black\", angle=0, size=8.5),\n",
    "     axis.text.y=element_text(color=\"black\", size=8.5),\n",
    "     axis.title.y=element_text(color=\"black\", size=8.5),\n",
    "     legend.position=\"none\", panel.border = element_rect(size = 1, color =\"black\")) + \n",
    "ylab(\"Solid Organ Fraction\") +ylim(0,1) +\n",
    "scale_fill_manual(values=c(\"#00D2DE\", \"#B5179E\", \"#F88C1A\", \"#F88C1A\"))\n",
    "\n",
    "\n",
    "p \n",
    "ggsave(\"../Figure_Output/Figure_4/solid_organ_fraction_copy.pdf\", plot = p, width = 2.85, height = 2, device = \"pdf\")\n",
    "\n",
    "ggsave(\"../Figure_Output/Figure_4/solid_organ_fraction_copy.png\", plot = p, width = 2.85, height = 2)\n"
   ]
  },
  {
   "cell_type": "code",
   "execution_count": 256,
   "id": "dab530a9-4306-4008-8a5e-aa6731c21878",
   "metadata": {},
   "outputs": [
    {
     "data": {
      "text/plain": [
       "\n",
       "     GHL     R2D2 TBSQUARE    WBRNA \n",
       "    2156     2200     1320     1320 "
      ]
     },
     "metadata": {},
     "output_type": "display_data"
    }
   ],
   "source": [
    "table(res_melt_solid$cohort)"
   ]
  },
  {
   "cell_type": "code",
   "execution_count": 11,
   "id": "a9d44d28-3ecd-43b2-a8e1-eae8d7cce735",
   "metadata": {},
   "outputs": [
    {
     "name": "stderr",
     "output_type": "stream",
     "text": [
      "\u001b[1m\u001b[22m`summarise()` has grouped output by 'sample_id'. You can override using the `.groups` argument.\n"
     ]
    }
   ],
   "source": [
    "g = res_melt_solid %>% \n",
    "    mutate(celltype = factor(celltype,levels=genes)) %>% group_by(sample_id, cohort) %>% summarise(val=sum(newfraction))"
   ]
  },
  {
   "cell_type": "code",
   "execution_count": 12,
   "id": "65b14057-47b4-45b7-bfa1-549c86ab45f0",
   "metadata": {},
   "outputs": [
    {
     "data": {
      "text/html": [
       "<table class=\"dataframe\">\n",
       "<caption>A grouped_df: 6 × 3</caption>\n",
       "<thead>\n",
       "\t<tr><th scope=col>sample_id</th><th scope=col>cohort</th><th scope=col>val</th></tr>\n",
       "\t<tr><th scope=col>&lt;chr&gt;</th><th scope=col>&lt;chr&gt;</th><th scope=col>&lt;dbl&gt;</th></tr>\n",
       "</thead>\n",
       "<tbody>\n",
       "\t<tr><td>GHL103_combined_61bp</td><td>GHL</td><td>0.15287011</td></tr>\n",
       "\t<tr><td>GHL105_combined_61bp</td><td>GHL</td><td>0.06401455</td></tr>\n",
       "\t<tr><td>GHL107_combined_61bp</td><td>GHL</td><td>0.27488025</td></tr>\n",
       "\t<tr><td>GHL108_combined_61bp</td><td>GHL</td><td>0.26157777</td></tr>\n",
       "\t<tr><td>GHL109_combined_61bp</td><td>GHL</td><td>0.20954276</td></tr>\n",
       "\t<tr><td>GHL112_combined_61bp</td><td>GHL</td><td>0.20894480</td></tr>\n",
       "</tbody>\n",
       "</table>\n"
      ],
      "text/latex": [
       "A grouped\\_df: 6 × 3\n",
       "\\begin{tabular}{lll}\n",
       " sample\\_id & cohort & val\\\\\n",
       " <chr> & <chr> & <dbl>\\\\\n",
       "\\hline\n",
       "\t GHL103\\_combined\\_61bp & GHL & 0.15287011\\\\\n",
       "\t GHL105\\_combined\\_61bp & GHL & 0.06401455\\\\\n",
       "\t GHL107\\_combined\\_61bp & GHL & 0.27488025\\\\\n",
       "\t GHL108\\_combined\\_61bp & GHL & 0.26157777\\\\\n",
       "\t GHL109\\_combined\\_61bp & GHL & 0.20954276\\\\\n",
       "\t GHL112\\_combined\\_61bp & GHL & 0.20894480\\\\\n",
       "\\end{tabular}\n"
      ],
      "text/markdown": [
       "\n",
       "A grouped_df: 6 × 3\n",
       "\n",
       "| sample_id &lt;chr&gt; | cohort &lt;chr&gt; | val &lt;dbl&gt; |\n",
       "|---|---|---|\n",
       "| GHL103_combined_61bp | GHL | 0.15287011 |\n",
       "| GHL105_combined_61bp | GHL | 0.06401455 |\n",
       "| GHL107_combined_61bp | GHL | 0.27488025 |\n",
       "| GHL108_combined_61bp | GHL | 0.26157777 |\n",
       "| GHL109_combined_61bp | GHL | 0.20954276 |\n",
       "| GHL112_combined_61bp | GHL | 0.20894480 |\n",
       "\n"
      ],
      "text/plain": [
       "  sample_id            cohort val       \n",
       "1 GHL103_combined_61bp GHL    0.15287011\n",
       "2 GHL105_combined_61bp GHL    0.06401455\n",
       "3 GHL107_combined_61bp GHL    0.27488025\n",
       "4 GHL108_combined_61bp GHL    0.26157777\n",
       "5 GHL109_combined_61bp GHL    0.20954276\n",
       "6 GHL112_combined_61bp GHL    0.20894480"
      ]
     },
     "metadata": {},
     "output_type": "display_data"
    }
   ],
   "source": [
    "head(g)"
   ]
  },
  {
   "cell_type": "code",
   "execution_count": 49,
   "id": "3f8e3962-48f2-4819-a1af-9a7327093d54",
   "metadata": {},
   "outputs": [
    {
     "name": "stderr",
     "output_type": "stream",
     "text": [
      "\u001b[1m\u001b[22m`summarise()` has grouped output by 'sample_id'. You can override using the `.groups` argument.\n"
     ]
    },
    {
     "data": {
      "text/html": [
       "60"
      ],
      "text/latex": [
       "60"
      ],
      "text/markdown": [
       "60"
      ],
      "text/plain": [
       "[1] 60"
      ]
     },
     "metadata": {},
     "output_type": "display_data"
    }
   ],
   "source": [
    "res_melt_solid %>% \n",
    "    mutate(celltype = factor(celltype,levels=genes)) %>% group_by(sample_id, cohort) %>% summarise(val=sum(newfraction)) %>% nrow()"
   ]
  },
  {
   "cell_type": "code",
   "execution_count": 51,
   "id": "76859f8e",
   "metadata": {},
   "outputs": [
    {
     "name": "stderr",
     "output_type": "stream",
     "text": [
      "\u001b[1m\u001b[22m`summarise()` has grouped output by 'sample_id'. You can override using the\n",
      "`.groups` argument.\n",
      "\u001b[1m\u001b[22mAdding missing grouping variables: `sample_id`\n"
     ]
    },
    {
     "data": {
      "text/html": [
       "<table class=\"dataframe\">\n",
       "<caption>A tibble: 6 × 8</caption>\n",
       "<thead>\n",
       "\t<tr><th scope=col>.y.</th><th scope=col>group1</th><th scope=col>group2</th><th scope=col>p</th><th scope=col>p.adj</th><th scope=col>p.format</th><th scope=col>p.signif</th><th scope=col>method</th></tr>\n",
       "\t<tr><th scope=col>&lt;chr&gt;</th><th scope=col>&lt;chr&gt;</th><th scope=col>&lt;chr&gt;</th><th scope=col>&lt;dbl&gt;</th><th scope=col>&lt;dbl&gt;</th><th scope=col>&lt;chr&gt;</th><th scope=col>&lt;chr&gt;</th><th scope=col>&lt;chr&gt;</th></tr>\n",
       "</thead>\n",
       "<tbody>\n",
       "\t<tr><td>val</td><td>GHL  </td><td>R2D2    </td><td>5.569487e-09</td><td>1.7e-08</td><td>5.6e-09</td><td>****</td><td>Wilcoxon</td></tr>\n",
       "\t<tr><td>val</td><td><span style=white-space:pre-wrap>GHL  </span></td><td><span style=white-space:pre-wrap>WBRNA   </span></td><td>1.029302e-22</td><td>5.1e-22</td><td>&lt; 2e-16</td><td>****</td><td>Wilcoxon</td></tr>\n",
       "\t<tr><td>val</td><td>GHL  </td><td>TBSQUARE</td><td>9.143014e-01</td><td>9.1e-01</td><td>0.91   </td><td>ns  </td><td>Wilcoxon</td></tr>\n",
       "\t<tr><td>val</td><td>R2D2 </td><td><span style=white-space:pre-wrap>WBRNA   </span></td><td>2.138782e-23</td><td>1.3e-22</td><td>&lt; 2e-16</td><td>****</td><td>Wilcoxon</td></tr>\n",
       "\t<tr><td>val</td><td>R2D2 </td><td>TBSQUARE</td><td>5.112536e-06</td><td>1.0e-05</td><td>5.1e-06</td><td>****</td><td>Wilcoxon</td></tr>\n",
       "\t<tr><td>val</td><td>WBRNA</td><td>TBSQUARE</td><td>4.719802e-19</td><td>1.9e-18</td><td>&lt; 2e-16</td><td>****</td><td>Wilcoxon</td></tr>\n",
       "</tbody>\n",
       "</table>\n"
      ],
      "text/latex": [
       "A tibble: 6 × 8\n",
       "\\begin{tabular}{llllllll}\n",
       " .y. & group1 & group2 & p & p.adj & p.format & p.signif & method\\\\\n",
       " <chr> & <chr> & <chr> & <dbl> & <dbl> & <chr> & <chr> & <chr>\\\\\n",
       "\\hline\n",
       "\t val & GHL   & R2D2     & 5.569487e-09 & 1.7e-08 & 5.6e-09 & **** & Wilcoxon\\\\\n",
       "\t val & GHL   & WBRNA    & 1.029302e-22 & 5.1e-22 & < 2e-16 & **** & Wilcoxon\\\\\n",
       "\t val & GHL   & TBSQUARE & 9.143014e-01 & 9.1e-01 & 0.91    & ns   & Wilcoxon\\\\\n",
       "\t val & R2D2  & WBRNA    & 2.138782e-23 & 1.3e-22 & < 2e-16 & **** & Wilcoxon\\\\\n",
       "\t val & R2D2  & TBSQUARE & 5.112536e-06 & 1.0e-05 & 5.1e-06 & **** & Wilcoxon\\\\\n",
       "\t val & WBRNA & TBSQUARE & 4.719802e-19 & 1.9e-18 & < 2e-16 & **** & Wilcoxon\\\\\n",
       "\\end{tabular}\n"
      ],
      "text/markdown": [
       "\n",
       "A tibble: 6 × 8\n",
       "\n",
       "| .y. &lt;chr&gt; | group1 &lt;chr&gt; | group2 &lt;chr&gt; | p &lt;dbl&gt; | p.adj &lt;dbl&gt; | p.format &lt;chr&gt; | p.signif &lt;chr&gt; | method &lt;chr&gt; |\n",
       "|---|---|---|---|---|---|---|---|\n",
       "| val | GHL   | R2D2     | 5.569487e-09 | 1.7e-08 | 5.6e-09 | **** | Wilcoxon |\n",
       "| val | GHL   | WBRNA    | 1.029302e-22 | 5.1e-22 | &lt; 2e-16 | **** | Wilcoxon |\n",
       "| val | GHL   | TBSQUARE | 9.143014e-01 | 9.1e-01 | 0.91    | ns   | Wilcoxon |\n",
       "| val | R2D2  | WBRNA    | 2.138782e-23 | 1.3e-22 | &lt; 2e-16 | **** | Wilcoxon |\n",
       "| val | R2D2  | TBSQUARE | 5.112536e-06 | 1.0e-05 | 5.1e-06 | **** | Wilcoxon |\n",
       "| val | WBRNA | TBSQUARE | 4.719802e-19 | 1.9e-18 | &lt; 2e-16 | **** | Wilcoxon |\n",
       "\n"
      ],
      "text/plain": [
       "  .y. group1 group2   p            p.adj   p.format p.signif method  \n",
       "1 val GHL    R2D2     5.569487e-09 1.7e-08 5.6e-09  ****     Wilcoxon\n",
       "2 val GHL    WBRNA    1.029302e-22 5.1e-22 < 2e-16  ****     Wilcoxon\n",
       "3 val GHL    TBSQUARE 9.143014e-01 9.1e-01 0.91     ns       Wilcoxon\n",
       "4 val R2D2   WBRNA    2.138782e-23 1.3e-22 < 2e-16  ****     Wilcoxon\n",
       "5 val R2D2   TBSQUARE 5.112536e-06 1.0e-05 5.1e-06  ****     Wilcoxon\n",
       "6 val WBRNA  TBSQUARE 4.719802e-19 1.9e-18 < 2e-16  ****     Wilcoxon"
      ]
     },
     "metadata": {},
     "output_type": "display_data"
    }
   ],
   "source": [
    "res_melt_solid %>% \n",
    "    mutate(celltype = factor(celltype,levels=genes)) %>%\n",
    "group_by(sample_id, cohort) %>% summarise(val=sum(newfraction))  %>%\n",
    "compare_means(val~cohort, data=.)\n"
   ]
  },
  {
   "cell_type": "markdown",
   "id": "8e7fb86c",
   "metadata": {},
   "source": [
    "## FIG 4D"
   ]
  },
  {
   "cell_type": "markdown",
   "id": "4d4e3ef1-e42b-4c63-85b2-ed38aba8dcfc",
   "metadata": {},
   "source": [
    "## DESEQ for cfRNA"
   ]
  },
  {
   "cell_type": "code",
   "execution_count": 28,
   "id": "93b0c869-821c-42cf-9dd0-763a20012e55",
   "metadata": {},
   "outputs": [],
   "source": [
    "#Set Seed \n",
    "set.seed(87)\n",
    "\n",
    "\n",
    "# counts_train_norm = read.delim(paste0(dir,\"Adrienne_work/Final_TB_August/Real_analysis/100_2_tb2val/output/seed_87_all/1_feature_selection/seed_87_all.counts.train.VST.tsv\"))\n",
    "# counts_test_norm = read.delim(paste0(dir, \"Adrienne_work/Final_TB_August/Real_analysis/100_2_tb2val/output/seed_87_all/1_feature_selection/seed_87_all.counts.test.VST.tsv\"))\n",
    "# counts_val_norm = read.delim(paste0(dir, \"Adrienne_work/Final_TB_August/Real_analysis/100_2_tb2val/output/seed_87_all/1_feature_selection/seed_87_all.counts.val.VST.tsv\"))\n",
    "\n",
    "# Read in  Counts\n",
    "counts_train = read.delim(\"../Files_For_Manuscript/counts.train.tsv\") %>%t()\n",
    "counts_test = read.delim(\"../Files_For_Manuscript/counts.test.tsv\") %>%t()\n",
    "counts_val = read.delim(\"../Files_For_Manuscript/counts.val.tsv\") %>%t()\n",
    "\n",
    "counts_all = rbind(counts_train, counts_test, counts_val) %>% t()\n",
    "\n",
    "\n",
    "# Read in Metadata\n",
    "metadata_train = read.delim(\"../Files_For_Manuscript/metadata.train.tsv\")\n",
    "metadata_test = read.delim(\"../Files_For_Manuscript/metadata.test.tsv\")\n",
    "metadata_val = read.delim(\"../Files_For_Manuscript/metadata.val.tsv\")\n",
    "\n",
    "alt_met = read.delim(\"../Files_For_Manuscript/metadata_passQC.tsv\")\n",
    "altt = alt_met %>% select(\"sample_id\", \"semiquant\")\n",
    "\n",
    "# Combine with metadata_all\n",
    "metadata_train = left_join(metadata_train, altt, by = \"sample_id\")\n",
    "metadata_test = left_join(metadata_test, altt, by = \"sample_id\")\n",
    "metadata_val = left_join(metadata_val, altt, by = \"sample_id\")\n",
    "\n",
    "metadata_all = rbind(metadata_train, metadata_test, metadata_val)\n",
    "\n",
    "#counts"
   ]
  },
  {
   "cell_type": "code",
   "execution_count": 29,
   "id": "27f6fd2d-5b48-4bd6-8668-075bc487640d",
   "metadata": {
    "collapsed": true,
    "jupyter": {
     "outputs_hidden": true
    },
    "tags": []
   },
   "outputs": [
    {
     "data": {
      "text/html": [
       "<table class=\"dataframe\">\n",
       "<caption>A data.frame: 6 × 2</caption>\n",
       "<thead>\n",
       "\t<tr><th></th><th scope=col>sample_id</th><th scope=col>tb</th></tr>\n",
       "\t<tr><th></th><th scope=col>&lt;chr&gt;</th><th scope=col>&lt;chr&gt;</th></tr>\n",
       "</thead>\n",
       "<tbody>\n",
       "\t<tr><th scope=row>GHL1_combined_61bp</th><td>GHL1_combined_61bp  </td><td>negative</td></tr>\n",
       "\t<tr><th scope=row>GHL103_combined_61bp</th><td>GHL103_combined_61bp</td><td>positive</td></tr>\n",
       "\t<tr><th scope=row>GHL105_combined_61bp</th><td>GHL105_combined_61bp</td><td>positive</td></tr>\n",
       "\t<tr><th scope=row>GHL107_combined_61bp</th><td>GHL107_combined_61bp</td><td>negative</td></tr>\n",
       "\t<tr><th scope=row>GHL108_combined_61bp</th><td>GHL108_combined_61bp</td><td>positive</td></tr>\n",
       "\t<tr><th scope=row>GHL112_combined_61bp</th><td>GHL112_combined_61bp</td><td>positive</td></tr>\n",
       "</tbody>\n",
       "</table>\n"
      ],
      "text/latex": [
       "A data.frame: 6 × 2\n",
       "\\begin{tabular}{r|ll}\n",
       "  & sample\\_id & tb\\\\\n",
       "  & <chr> & <chr>\\\\\n",
       "\\hline\n",
       "\tGHL1\\_combined\\_61bp & GHL1\\_combined\\_61bp   & negative\\\\\n",
       "\tGHL103\\_combined\\_61bp & GHL103\\_combined\\_61bp & positive\\\\\n",
       "\tGHL105\\_combined\\_61bp & GHL105\\_combined\\_61bp & positive\\\\\n",
       "\tGHL107\\_combined\\_61bp & GHL107\\_combined\\_61bp & negative\\\\\n",
       "\tGHL108\\_combined\\_61bp & GHL108\\_combined\\_61bp & positive\\\\\n",
       "\tGHL112\\_combined\\_61bp & GHL112\\_combined\\_61bp & positive\\\\\n",
       "\\end{tabular}\n"
      ],
      "text/markdown": [
       "\n",
       "A data.frame: 6 × 2\n",
       "\n",
       "| <!--/--> | sample_id &lt;chr&gt; | tb &lt;chr&gt; |\n",
       "|---|---|---|\n",
       "| GHL1_combined_61bp | GHL1_combined_61bp   | negative |\n",
       "| GHL103_combined_61bp | GHL103_combined_61bp | positive |\n",
       "| GHL105_combined_61bp | GHL105_combined_61bp | positive |\n",
       "| GHL107_combined_61bp | GHL107_combined_61bp | negative |\n",
       "| GHL108_combined_61bp | GHL108_combined_61bp | positive |\n",
       "| GHL112_combined_61bp | GHL112_combined_61bp | positive |\n",
       "\n"
      ],
      "text/plain": [
       "                     sample_id            tb      \n",
       "GHL1_combined_61bp   GHL1_combined_61bp   negative\n",
       "GHL103_combined_61bp GHL103_combined_61bp positive\n",
       "GHL105_combined_61bp GHL105_combined_61bp positive\n",
       "GHL107_combined_61bp GHL107_combined_61bp negative\n",
       "GHL108_combined_61bp GHL108_combined_61bp positive\n",
       "GHL112_combined_61bp GHL112_combined_61bp positive"
      ]
     },
     "metadata": {},
     "output_type": "display_data"
    },
    {
     "data": {
      "text/html": [
       "<table class=\"dataframe\">\n",
       "<caption>A matrix: 6 × 251 of type int</caption>\n",
       "<thead>\n",
       "\t<tr><th></th><th scope=col>GHL1_combined_61bp</th><th scope=col>GHL103_combined_61bp</th><th scope=col>GHL105_combined_61bp</th><th scope=col>GHL107_combined_61bp</th><th scope=col>GHL108_combined_61bp</th><th scope=col>GHL112_combined_61bp</th><th scope=col>GHL121_combined_61bp</th><th scope=col>GHL124_combined_61bp</th><th scope=col>GHL126_combined_61bp</th><th scope=col>GHL13_combined_61bp</th><th scope=col>⋯</th><th scope=col>TBSQUARE_694_combined_61bp</th><th scope=col>TBSQUARE_695_combined_61bp</th><th scope=col>TBSQUARE_696_combined_61bp</th><th scope=col>TBSQUARE_697_combined_61bp</th><th scope=col>TBSQUARE_698_combined_61bp</th><th scope=col>TBSQUARE_699_combined_61bp</th><th scope=col>TBSQUARE_702_combined_61bp</th><th scope=col>TBSQUARE_703_combined_61bp</th><th scope=col>TBSQUARE_708_combined_61bp</th><th scope=col>TBSQUARE_711_combined_61bp</th></tr>\n",
       "</thead>\n",
       "<tbody>\n",
       "\t<tr><th scope=row>ENSG00000223972.5</th><td>0</td><td>1</td><td>0</td><td>0</td><td>0</td><td>0</td><td>0</td><td>0</td><td>0</td><td>1</td><td>⋯</td><td>0</td><td>0</td><td>2</td><td>0</td><td> 1</td><td>11</td><td>0</td><td>5</td><td>2</td><td>4</td></tr>\n",
       "\t<tr><th scope=row>ENSG00000227232.5</th><td>0</td><td>2</td><td>0</td><td>0</td><td>0</td><td>0</td><td>0</td><td>0</td><td>1</td><td>0</td><td>⋯</td><td>0</td><td>0</td><td>2</td><td>1</td><td>17</td><td> 8</td><td>0</td><td>2</td><td>5</td><td>0</td></tr>\n",
       "\t<tr><th scope=row>ENSG00000278267.1</th><td>0</td><td>0</td><td>0</td><td>0</td><td>0</td><td>0</td><td>0</td><td>0</td><td>0</td><td>0</td><td>⋯</td><td>0</td><td>0</td><td>0</td><td>0</td><td> 0</td><td> 0</td><td>0</td><td>0</td><td>0</td><td>0</td></tr>\n",
       "\t<tr><th scope=row>ENSG00000243485.5</th><td>0</td><td>0</td><td>0</td><td>0</td><td>0</td><td>0</td><td>0</td><td>0</td><td>0</td><td>0</td><td>⋯</td><td>0</td><td>0</td><td>0</td><td>0</td><td> 0</td><td> 0</td><td>0</td><td>0</td><td>0</td><td>0</td></tr>\n",
       "\t<tr><th scope=row>ENSG00000284332.1</th><td>0</td><td>0</td><td>0</td><td>0</td><td>0</td><td>0</td><td>0</td><td>0</td><td>0</td><td>0</td><td>⋯</td><td>0</td><td>0</td><td>0</td><td>0</td><td> 0</td><td> 0</td><td>0</td><td>0</td><td>0</td><td>0</td></tr>\n",
       "\t<tr><th scope=row>ENSG00000237613.2</th><td>0</td><td>0</td><td>0</td><td>0</td><td>1</td><td>0</td><td>0</td><td>0</td><td>1</td><td>0</td><td>⋯</td><td>0</td><td>0</td><td>0</td><td>0</td><td> 0</td><td> 0</td><td>0</td><td>0</td><td>0</td><td>0</td></tr>\n",
       "</tbody>\n",
       "</table>\n"
      ],
      "text/latex": [
       "A matrix: 6 × 251 of type int\n",
       "\\begin{tabular}{r|lllllllllllllllllllll}\n",
       "  & GHL1\\_combined\\_61bp & GHL103\\_combined\\_61bp & GHL105\\_combined\\_61bp & GHL107\\_combined\\_61bp & GHL108\\_combined\\_61bp & GHL112\\_combined\\_61bp & GHL121\\_combined\\_61bp & GHL124\\_combined\\_61bp & GHL126\\_combined\\_61bp & GHL13\\_combined\\_61bp & ⋯ & TBSQUARE\\_694\\_combined\\_61bp & TBSQUARE\\_695\\_combined\\_61bp & TBSQUARE\\_696\\_combined\\_61bp & TBSQUARE\\_697\\_combined\\_61bp & TBSQUARE\\_698\\_combined\\_61bp & TBSQUARE\\_699\\_combined\\_61bp & TBSQUARE\\_702\\_combined\\_61bp & TBSQUARE\\_703\\_combined\\_61bp & TBSQUARE\\_708\\_combined\\_61bp & TBSQUARE\\_711\\_combined\\_61bp\\\\\n",
       "\\hline\n",
       "\tENSG00000223972.5 & 0 & 1 & 0 & 0 & 0 & 0 & 0 & 0 & 0 & 1 & ⋯ & 0 & 0 & 2 & 0 &  1 & 11 & 0 & 5 & 2 & 4\\\\\n",
       "\tENSG00000227232.5 & 0 & 2 & 0 & 0 & 0 & 0 & 0 & 0 & 1 & 0 & ⋯ & 0 & 0 & 2 & 1 & 17 &  8 & 0 & 2 & 5 & 0\\\\\n",
       "\tENSG00000278267.1 & 0 & 0 & 0 & 0 & 0 & 0 & 0 & 0 & 0 & 0 & ⋯ & 0 & 0 & 0 & 0 &  0 &  0 & 0 & 0 & 0 & 0\\\\\n",
       "\tENSG00000243485.5 & 0 & 0 & 0 & 0 & 0 & 0 & 0 & 0 & 0 & 0 & ⋯ & 0 & 0 & 0 & 0 &  0 &  0 & 0 & 0 & 0 & 0\\\\\n",
       "\tENSG00000284332.1 & 0 & 0 & 0 & 0 & 0 & 0 & 0 & 0 & 0 & 0 & ⋯ & 0 & 0 & 0 & 0 &  0 &  0 & 0 & 0 & 0 & 0\\\\\n",
       "\tENSG00000237613.2 & 0 & 0 & 0 & 0 & 1 & 0 & 0 & 0 & 1 & 0 & ⋯ & 0 & 0 & 0 & 0 &  0 &  0 & 0 & 0 & 0 & 0\\\\\n",
       "\\end{tabular}\n"
      ],
      "text/markdown": [
       "\n",
       "A matrix: 6 × 251 of type int\n",
       "\n",
       "| <!--/--> | GHL1_combined_61bp | GHL103_combined_61bp | GHL105_combined_61bp | GHL107_combined_61bp | GHL108_combined_61bp | GHL112_combined_61bp | GHL121_combined_61bp | GHL124_combined_61bp | GHL126_combined_61bp | GHL13_combined_61bp | ⋯ | TBSQUARE_694_combined_61bp | TBSQUARE_695_combined_61bp | TBSQUARE_696_combined_61bp | TBSQUARE_697_combined_61bp | TBSQUARE_698_combined_61bp | TBSQUARE_699_combined_61bp | TBSQUARE_702_combined_61bp | TBSQUARE_703_combined_61bp | TBSQUARE_708_combined_61bp | TBSQUARE_711_combined_61bp |\n",
       "|---|---|---|---|---|---|---|---|---|---|---|---|---|---|---|---|---|---|---|---|---|---|\n",
       "| ENSG00000223972.5 | 0 | 1 | 0 | 0 | 0 | 0 | 0 | 0 | 0 | 1 | ⋯ | 0 | 0 | 2 | 0 |  1 | 11 | 0 | 5 | 2 | 4 |\n",
       "| ENSG00000227232.5 | 0 | 2 | 0 | 0 | 0 | 0 | 0 | 0 | 1 | 0 | ⋯ | 0 | 0 | 2 | 1 | 17 |  8 | 0 | 2 | 5 | 0 |\n",
       "| ENSG00000278267.1 | 0 | 0 | 0 | 0 | 0 | 0 | 0 | 0 | 0 | 0 | ⋯ | 0 | 0 | 0 | 0 |  0 |  0 | 0 | 0 | 0 | 0 |\n",
       "| ENSG00000243485.5 | 0 | 0 | 0 | 0 | 0 | 0 | 0 | 0 | 0 | 0 | ⋯ | 0 | 0 | 0 | 0 |  0 |  0 | 0 | 0 | 0 | 0 |\n",
       "| ENSG00000284332.1 | 0 | 0 | 0 | 0 | 0 | 0 | 0 | 0 | 0 | 0 | ⋯ | 0 | 0 | 0 | 0 |  0 |  0 | 0 | 0 | 0 | 0 |\n",
       "| ENSG00000237613.2 | 0 | 0 | 0 | 0 | 1 | 0 | 0 | 0 | 1 | 0 | ⋯ | 0 | 0 | 0 | 0 |  0 |  0 | 0 | 0 | 0 | 0 |\n",
       "\n"
      ],
      "text/plain": [
       "                  GHL1_combined_61bp GHL103_combined_61bp GHL105_combined_61bp\n",
       "ENSG00000223972.5 0                  1                    0                   \n",
       "ENSG00000227232.5 0                  2                    0                   \n",
       "ENSG00000278267.1 0                  0                    0                   \n",
       "ENSG00000243485.5 0                  0                    0                   \n",
       "ENSG00000284332.1 0                  0                    0                   \n",
       "ENSG00000237613.2 0                  0                    0                   \n",
       "                  GHL107_combined_61bp GHL108_combined_61bp\n",
       "ENSG00000223972.5 0                    0                   \n",
       "ENSG00000227232.5 0                    0                   \n",
       "ENSG00000278267.1 0                    0                   \n",
       "ENSG00000243485.5 0                    0                   \n",
       "ENSG00000284332.1 0                    0                   \n",
       "ENSG00000237613.2 0                    1                   \n",
       "                  GHL112_combined_61bp GHL121_combined_61bp\n",
       "ENSG00000223972.5 0                    0                   \n",
       "ENSG00000227232.5 0                    0                   \n",
       "ENSG00000278267.1 0                    0                   \n",
       "ENSG00000243485.5 0                    0                   \n",
       "ENSG00000284332.1 0                    0                   \n",
       "ENSG00000237613.2 0                    0                   \n",
       "                  GHL124_combined_61bp GHL126_combined_61bp GHL13_combined_61bp\n",
       "ENSG00000223972.5 0                    0                    1                  \n",
       "ENSG00000227232.5 0                    1                    0                  \n",
       "ENSG00000278267.1 0                    0                    0                  \n",
       "ENSG00000243485.5 0                    0                    0                  \n",
       "ENSG00000284332.1 0                    0                    0                  \n",
       "ENSG00000237613.2 0                    1                    0                  \n",
       "                  ⋯ TBSQUARE_694_combined_61bp TBSQUARE_695_combined_61bp\n",
       "ENSG00000223972.5 ⋯ 0                          0                         \n",
       "ENSG00000227232.5 ⋯ 0                          0                         \n",
       "ENSG00000278267.1 ⋯ 0                          0                         \n",
       "ENSG00000243485.5 ⋯ 0                          0                         \n",
       "ENSG00000284332.1 ⋯ 0                          0                         \n",
       "ENSG00000237613.2 ⋯ 0                          0                         \n",
       "                  TBSQUARE_696_combined_61bp TBSQUARE_697_combined_61bp\n",
       "ENSG00000223972.5 2                          0                         \n",
       "ENSG00000227232.5 2                          1                         \n",
       "ENSG00000278267.1 0                          0                         \n",
       "ENSG00000243485.5 0                          0                         \n",
       "ENSG00000284332.1 0                          0                         \n",
       "ENSG00000237613.2 0                          0                         \n",
       "                  TBSQUARE_698_combined_61bp TBSQUARE_699_combined_61bp\n",
       "ENSG00000223972.5  1                         11                        \n",
       "ENSG00000227232.5 17                          8                        \n",
       "ENSG00000278267.1  0                          0                        \n",
       "ENSG00000243485.5  0                          0                        \n",
       "ENSG00000284332.1  0                          0                        \n",
       "ENSG00000237613.2  0                          0                        \n",
       "                  TBSQUARE_702_combined_61bp TBSQUARE_703_combined_61bp\n",
       "ENSG00000223972.5 0                          5                         \n",
       "ENSG00000227232.5 0                          2                         \n",
       "ENSG00000278267.1 0                          0                         \n",
       "ENSG00000243485.5 0                          0                         \n",
       "ENSG00000284332.1 0                          0                         \n",
       "ENSG00000237613.2 0                          0                         \n",
       "                  TBSQUARE_708_combined_61bp TBSQUARE_711_combined_61bp\n",
       "ENSG00000223972.5 2                          4                         \n",
       "ENSG00000227232.5 5                          0                         \n",
       "ENSG00000278267.1 0                          0                         \n",
       "ENSG00000243485.5 0                          0                         \n",
       "ENSG00000284332.1 0                          0                         \n",
       "ENSG00000237613.2 0                          0                         "
      ]
     },
     "metadata": {},
     "output_type": "display_data"
    },
    {
     "data": {
      "text/html": [
       "TRUE"
      ],
      "text/latex": [
       "TRUE"
      ],
      "text/markdown": [
       "TRUE"
      ],
      "text/plain": [
       "[1] TRUE"
      ]
     },
     "metadata": {},
     "output_type": "display_data"
    },
    {
     "name": "stderr",
     "output_type": "stream",
     "text": [
      "Warning message in DESeqDataSet(se, design = design, ignoreRank):\n",
      "“some variables in design formula are characters, converting to factors”\n",
      "estimating size factors\n",
      "\n",
      "estimating dispersions\n",
      "\n",
      "gene-wise dispersion estimates\n",
      "\n",
      "mean-dispersion relationship\n",
      "\n",
      "final dispersion estimates\n",
      "\n",
      "fitting model and testing\n",
      "\n",
      "-- replacing outliers and refitting for 357 genes\n",
      "-- DESeq argument 'minReplicatesForReplace' = 7 \n",
      "-- original counts are preserved in counts(dds)\n",
      "\n",
      "estimating dispersions\n",
      "\n",
      "fitting model and testing\n",
      "\n"
     ]
    },
    {
     "ename": "ERROR",
     "evalue": "Error in h(simpleError(msg, call)): error in evaluating the argument 'x' in selecting a method for function 'rownames': object 'res_df' not found\n",
     "output_type": "error",
     "traceback": [
      "Error in h(simpleError(msg, call)): error in evaluating the argument 'x' in selecting a method for function 'rownames': object 'res_df' not found\nTraceback:\n",
      "1. rownames(res_df)",
      "2. .handleSimpleError(function (cond) \n . .Internal(C_tryCatchHelper(addr, 1L, cond)), \"object 'res_df' not found\", \n .     base::quote(rownames(res_df)))",
      "3. h(simpleError(msg, call))"
     ]
    }
   ],
   "source": [
    "## Prepare data for Deseq2\n",
    "meta_col = metadata_all\n",
    "disc_cts = counts_all\n",
    "meta_col = meta_col %>% select(\"sample_id\", \"tb\")           # subset columns\n",
    "rownames(meta_col) = meta_col$sample_id  \n",
    "head(meta_col)\n",
    "head(disc_cts)\n",
    "all(colnames(disc_cts) == rownames(meta_col))               # check for alignment\n",
    "\n",
    "\n",
    "## run Deseq2 & extract results\n",
    "dds <- DESeqDataSetFromMatrix(countData = disc_cts,\n",
    "                             colData = meta_col,\n",
    "                             design = ~ tb)\n",
    "dds <- DESeq(dds)\n",
    "res <- results(dds)\n",
    "\n",
    "## Extract results\n",
    "res_df_cf = results(dds,alpha=0.05,contrast = c(\"tb\",\"positive\", \"negative\")) %>% data.frame()\n",
    "res_df_cf$gene_num = rownames(res_df_cf)\n",
    "sigs_cf = res_df_cf %>% filter(padj<0.05)\n",
    "nrow(sigs_cf)\n",
    "#res_df = merge(res_df, gene.list, by.x = \"gene_num\", by.y = \"gene_id\")\n",
    "#sigs = res_df %>% arrange(padj) %>% filter(padj < 0.05)"
   ]
  },
  {
   "cell_type": "code",
   "execution_count": 30,
   "id": "17709c38-3c5c-4ea3-acc1-5ee428a31ec7",
   "metadata": {},
   "outputs": [
    {
     "data": {
      "text/html": [
       "1956"
      ],
      "text/latex": [
       "1956"
      ],
      "text/markdown": [
       "1956"
      ],
      "text/plain": [
       "[1] 1956"
      ]
     },
     "metadata": {},
     "output_type": "display_data"
    }
   ],
   "source": []
  },
  {
   "cell_type": "code",
   "execution_count": 31,
   "id": "cbb6ad26-ca37-450e-a7b2-13d7fd758665",
   "metadata": {},
   "outputs": [
    {
     "data": {
      "text/html": [
       "1956"
      ],
      "text/latex": [
       "1956"
      ],
      "text/markdown": [
       "1956"
      ],
      "text/plain": [
       "[1] 1956"
      ]
     },
     "metadata": {},
     "output_type": "display_data"
    },
    {
     "data": {
      "text/html": [
       "1956"
      ],
      "text/latex": [
       "1956"
      ],
      "text/markdown": [
       "1956"
      ],
      "text/plain": [
       "[1] 1956"
      ]
     },
     "metadata": {},
     "output_type": "display_data"
    }
   ],
   "source": [
    "#res_df = results(dds,alpha=0.05,contrast = c(\"tb\",\"positive\", \"negative\")) %>% data.frame()\n",
    "res_df_cf$gene_num = rownames(res_df_cf)\n",
    "sigs_cf = res_df_cf %>% filter(padj<0.05)\n",
    "nrow(sigs_cf)\n",
    "sigs_cf = res_df_cf %>% filter(padj<0.05) #%>% filter(log2FoldChange > 0.5)\n",
    "nrow(sigs_cf)\n"
   ]
  },
  {
   "cell_type": "markdown",
   "id": "2cf349e1-cb1c-4217-8b54-36cc24aa0cf7",
   "metadata": {},
   "source": [
    "## DESEQ Whole Blood"
   ]
  },
  {
   "cell_type": "code",
   "execution_count": 32,
   "id": "21c6bc7e-6c78-48e9-aaa1-5356f60d49a1",
   "metadata": {},
   "outputs": [],
   "source": [
    "counts_wb = read.delim(\"../Files_For_Manuscript/count_matrix_wbrna.txt\")\n",
    "row.names(counts_wb) = counts_wb$geneID\n",
    "counts_wb = counts_wb %>% select(-geneID)\n",
    "meta_wb = read.delim(\"../Files_For_Manuscript/wb_metadata.txt\")\n"
   ]
  },
  {
   "cell_type": "code",
   "execution_count": 33,
   "id": "f8756b94-8852-47f3-9ed9-9597b4721195",
   "metadata": {},
   "outputs": [
    {
     "data": {
      "text/html": [
       "<table class=\"dataframe\">\n",
       "<caption>A data.frame: 6 × 2</caption>\n",
       "<thead>\n",
       "\t<tr><th></th><th scope=col>sample_id</th><th scope=col>tb</th></tr>\n",
       "\t<tr><th></th><th scope=col>&lt;chr&gt;</th><th scope=col>&lt;chr&gt;</th></tr>\n",
       "</thead>\n",
       "<tbody>\n",
       "\t<tr><th scope=row>TBSQUARE_WBRNA_553</th><td>TBSQUARE_WBRNA_553</td><td>Positive</td></tr>\n",
       "\t<tr><th scope=row>TBSQUARE_WBRNA_561</th><td>TBSQUARE_WBRNA_561</td><td>Positive</td></tr>\n",
       "\t<tr><th scope=row>TBSQUARE_WBRNA_554</th><td>TBSQUARE_WBRNA_554</td><td>Negative</td></tr>\n",
       "\t<tr><th scope=row>TBSQUARE_WBRNA_555</th><td>TBSQUARE_WBRNA_555</td><td>Positive</td></tr>\n",
       "\t<tr><th scope=row>TBSQUARE_WBRNA_564</th><td>TBSQUARE_WBRNA_564</td><td>Negative</td></tr>\n",
       "\t<tr><th scope=row>TBSQUARE_WBRNA_557</th><td>TBSQUARE_WBRNA_557</td><td>Negative</td></tr>\n",
       "</tbody>\n",
       "</table>\n"
      ],
      "text/latex": [
       "A data.frame: 6 × 2\n",
       "\\begin{tabular}{r|ll}\n",
       "  & sample\\_id & tb\\\\\n",
       "  & <chr> & <chr>\\\\\n",
       "\\hline\n",
       "\tTBSQUARE\\_WBRNA\\_553 & TBSQUARE\\_WBRNA\\_553 & Positive\\\\\n",
       "\tTBSQUARE\\_WBRNA\\_561 & TBSQUARE\\_WBRNA\\_561 & Positive\\\\\n",
       "\tTBSQUARE\\_WBRNA\\_554 & TBSQUARE\\_WBRNA\\_554 & Negative\\\\\n",
       "\tTBSQUARE\\_WBRNA\\_555 & TBSQUARE\\_WBRNA\\_555 & Positive\\\\\n",
       "\tTBSQUARE\\_WBRNA\\_564 & TBSQUARE\\_WBRNA\\_564 & Negative\\\\\n",
       "\tTBSQUARE\\_WBRNA\\_557 & TBSQUARE\\_WBRNA\\_557 & Negative\\\\\n",
       "\\end{tabular}\n"
      ],
      "text/markdown": [
       "\n",
       "A data.frame: 6 × 2\n",
       "\n",
       "| <!--/--> | sample_id &lt;chr&gt; | tb &lt;chr&gt; |\n",
       "|---|---|---|\n",
       "| TBSQUARE_WBRNA_553 | TBSQUARE_WBRNA_553 | Positive |\n",
       "| TBSQUARE_WBRNA_561 | TBSQUARE_WBRNA_561 | Positive |\n",
       "| TBSQUARE_WBRNA_554 | TBSQUARE_WBRNA_554 | Negative |\n",
       "| TBSQUARE_WBRNA_555 | TBSQUARE_WBRNA_555 | Positive |\n",
       "| TBSQUARE_WBRNA_564 | TBSQUARE_WBRNA_564 | Negative |\n",
       "| TBSQUARE_WBRNA_557 | TBSQUARE_WBRNA_557 | Negative |\n",
       "\n"
      ],
      "text/plain": [
       "                   sample_id          tb      \n",
       "TBSQUARE_WBRNA_553 TBSQUARE_WBRNA_553 Positive\n",
       "TBSQUARE_WBRNA_561 TBSQUARE_WBRNA_561 Positive\n",
       "TBSQUARE_WBRNA_554 TBSQUARE_WBRNA_554 Negative\n",
       "TBSQUARE_WBRNA_555 TBSQUARE_WBRNA_555 Positive\n",
       "TBSQUARE_WBRNA_564 TBSQUARE_WBRNA_564 Negative\n",
       "TBSQUARE_WBRNA_557 TBSQUARE_WBRNA_557 Negative"
      ]
     },
     "metadata": {},
     "output_type": "display_data"
    },
    {
     "data": {
      "text/html": [
       "<table class=\"dataframe\">\n",
       "<caption>A data.frame: 6 × 60</caption>\n",
       "<thead>\n",
       "\t<tr><th></th><th scope=col>TBSQUARE_WBRNA_554</th><th scope=col>TBSQUARE_WBRNA_555</th><th scope=col>TBSQUARE_WBRNA_557</th><th scope=col>TBSQUARE_WBRNA_564</th><th scope=col>TBSQUARE_WBRNA_568</th><th scope=col>TBSQUARE_WBRNA_569</th><th scope=col>TBSQUARE_WBRNA_570</th><th scope=col>TBSQUARE_WBRNA_572</th><th scope=col>TBSQUARE_WBRNA_573</th><th scope=col>TBSQUARE_WBRNA_577</th><th scope=col>⋯</th><th scope=col>TBSQUARE_WBRNA_661</th><th scope=col>TBSQUARE_WBRNA_693</th><th scope=col>TBSQUARE_WBRNA_694</th><th scope=col>TBSQUARE_WBRNA_699</th><th scope=col>TBSQUARE_WBRNA_702</th><th scope=col>TBSQUARE_WBRNA_703</th><th scope=col>TBSQUARE_WBRNA_708</th><th scope=col>TBSQUARE_WBRNA_711</th><th scope=col>TBSQUARE_WBRNA_695</th><th scope=col>TBSQUARE_WBRNA_698</th></tr>\n",
       "\t<tr><th></th><th scope=col>&lt;int&gt;</th><th scope=col>&lt;int&gt;</th><th scope=col>&lt;int&gt;</th><th scope=col>&lt;int&gt;</th><th scope=col>&lt;int&gt;</th><th scope=col>&lt;int&gt;</th><th scope=col>&lt;int&gt;</th><th scope=col>&lt;int&gt;</th><th scope=col>&lt;int&gt;</th><th scope=col>&lt;int&gt;</th><th scope=col>⋯</th><th scope=col>&lt;int&gt;</th><th scope=col>&lt;int&gt;</th><th scope=col>&lt;int&gt;</th><th scope=col>&lt;int&gt;</th><th scope=col>&lt;int&gt;</th><th scope=col>&lt;int&gt;</th><th scope=col>&lt;int&gt;</th><th scope=col>&lt;int&gt;</th><th scope=col>&lt;int&gt;</th><th scope=col>&lt;int&gt;</th></tr>\n",
       "</thead>\n",
       "<tbody>\n",
       "\t<tr><th scope=row>ENSG00000223972.5</th><td>0</td><td>0</td><td>0</td><td>0</td><td>0</td><td>0</td><td>0</td><td>0</td><td>0</td><td>0</td><td>⋯</td><td>0</td><td>0</td><td>0</td><td>0</td><td>0</td><td>0</td><td>0</td><td>0</td><td>0</td><td>0</td></tr>\n",
       "\t<tr><th scope=row>ENSG00000227232.5</th><td>0</td><td>1</td><td>1</td><td>2</td><td>1</td><td>1</td><td>1</td><td>1</td><td>0</td><td>0</td><td>⋯</td><td>0</td><td>0</td><td>0</td><td>1</td><td>1</td><td>0</td><td>0</td><td>0</td><td>0</td><td>1</td></tr>\n",
       "\t<tr><th scope=row>ENSG00000278267.1</th><td>0</td><td>0</td><td>0</td><td>0</td><td>0</td><td>0</td><td>0</td><td>0</td><td>0</td><td>0</td><td>⋯</td><td>0</td><td>0</td><td>0</td><td>0</td><td>0</td><td>0</td><td>0</td><td>1</td><td>0</td><td>0</td></tr>\n",
       "\t<tr><th scope=row>ENSG00000243485.5</th><td>0</td><td>0</td><td>0</td><td>0</td><td>0</td><td>0</td><td>0</td><td>0</td><td>0</td><td>0</td><td>⋯</td><td>0</td><td>0</td><td>0</td><td>0</td><td>0</td><td>0</td><td>0</td><td>0</td><td>0</td><td>0</td></tr>\n",
       "\t<tr><th scope=row>ENSG00000284332.1</th><td>0</td><td>0</td><td>0</td><td>0</td><td>0</td><td>0</td><td>0</td><td>0</td><td>0</td><td>0</td><td>⋯</td><td>0</td><td>0</td><td>0</td><td>0</td><td>0</td><td>0</td><td>0</td><td>0</td><td>0</td><td>0</td></tr>\n",
       "\t<tr><th scope=row>ENSG00000237613.2</th><td>0</td><td>0</td><td>0</td><td>0</td><td>0</td><td>0</td><td>0</td><td>0</td><td>0</td><td>0</td><td>⋯</td><td>0</td><td>0</td><td>0</td><td>0</td><td>0</td><td>0</td><td>0</td><td>0</td><td>0</td><td>0</td></tr>\n",
       "</tbody>\n",
       "</table>\n"
      ],
      "text/latex": [
       "A data.frame: 6 × 60\n",
       "\\begin{tabular}{r|lllllllllllllllllllll}\n",
       "  & TBSQUARE\\_WBRNA\\_554 & TBSQUARE\\_WBRNA\\_555 & TBSQUARE\\_WBRNA\\_557 & TBSQUARE\\_WBRNA\\_564 & TBSQUARE\\_WBRNA\\_568 & TBSQUARE\\_WBRNA\\_569 & TBSQUARE\\_WBRNA\\_570 & TBSQUARE\\_WBRNA\\_572 & TBSQUARE\\_WBRNA\\_573 & TBSQUARE\\_WBRNA\\_577 & ⋯ & TBSQUARE\\_WBRNA\\_661 & TBSQUARE\\_WBRNA\\_693 & TBSQUARE\\_WBRNA\\_694 & TBSQUARE\\_WBRNA\\_699 & TBSQUARE\\_WBRNA\\_702 & TBSQUARE\\_WBRNA\\_703 & TBSQUARE\\_WBRNA\\_708 & TBSQUARE\\_WBRNA\\_711 & TBSQUARE\\_WBRNA\\_695 & TBSQUARE\\_WBRNA\\_698\\\\\n",
       "  & <int> & <int> & <int> & <int> & <int> & <int> & <int> & <int> & <int> & <int> & ⋯ & <int> & <int> & <int> & <int> & <int> & <int> & <int> & <int> & <int> & <int>\\\\\n",
       "\\hline\n",
       "\tENSG00000223972.5 & 0 & 0 & 0 & 0 & 0 & 0 & 0 & 0 & 0 & 0 & ⋯ & 0 & 0 & 0 & 0 & 0 & 0 & 0 & 0 & 0 & 0\\\\\n",
       "\tENSG00000227232.5 & 0 & 1 & 1 & 2 & 1 & 1 & 1 & 1 & 0 & 0 & ⋯ & 0 & 0 & 0 & 1 & 1 & 0 & 0 & 0 & 0 & 1\\\\\n",
       "\tENSG00000278267.1 & 0 & 0 & 0 & 0 & 0 & 0 & 0 & 0 & 0 & 0 & ⋯ & 0 & 0 & 0 & 0 & 0 & 0 & 0 & 1 & 0 & 0\\\\\n",
       "\tENSG00000243485.5 & 0 & 0 & 0 & 0 & 0 & 0 & 0 & 0 & 0 & 0 & ⋯ & 0 & 0 & 0 & 0 & 0 & 0 & 0 & 0 & 0 & 0\\\\\n",
       "\tENSG00000284332.1 & 0 & 0 & 0 & 0 & 0 & 0 & 0 & 0 & 0 & 0 & ⋯ & 0 & 0 & 0 & 0 & 0 & 0 & 0 & 0 & 0 & 0\\\\\n",
       "\tENSG00000237613.2 & 0 & 0 & 0 & 0 & 0 & 0 & 0 & 0 & 0 & 0 & ⋯ & 0 & 0 & 0 & 0 & 0 & 0 & 0 & 0 & 0 & 0\\\\\n",
       "\\end{tabular}\n"
      ],
      "text/markdown": [
       "\n",
       "A data.frame: 6 × 60\n",
       "\n",
       "| <!--/--> | TBSQUARE_WBRNA_554 &lt;int&gt; | TBSQUARE_WBRNA_555 &lt;int&gt; | TBSQUARE_WBRNA_557 &lt;int&gt; | TBSQUARE_WBRNA_564 &lt;int&gt; | TBSQUARE_WBRNA_568 &lt;int&gt; | TBSQUARE_WBRNA_569 &lt;int&gt; | TBSQUARE_WBRNA_570 &lt;int&gt; | TBSQUARE_WBRNA_572 &lt;int&gt; | TBSQUARE_WBRNA_573 &lt;int&gt; | TBSQUARE_WBRNA_577 &lt;int&gt; | ⋯ ⋯ | TBSQUARE_WBRNA_661 &lt;int&gt; | TBSQUARE_WBRNA_693 &lt;int&gt; | TBSQUARE_WBRNA_694 &lt;int&gt; | TBSQUARE_WBRNA_699 &lt;int&gt; | TBSQUARE_WBRNA_702 &lt;int&gt; | TBSQUARE_WBRNA_703 &lt;int&gt; | TBSQUARE_WBRNA_708 &lt;int&gt; | TBSQUARE_WBRNA_711 &lt;int&gt; | TBSQUARE_WBRNA_695 &lt;int&gt; | TBSQUARE_WBRNA_698 &lt;int&gt; |\n",
       "|---|---|---|---|---|---|---|---|---|---|---|---|---|---|---|---|---|---|---|---|---|---|\n",
       "| ENSG00000223972.5 | 0 | 0 | 0 | 0 | 0 | 0 | 0 | 0 | 0 | 0 | ⋯ | 0 | 0 | 0 | 0 | 0 | 0 | 0 | 0 | 0 | 0 |\n",
       "| ENSG00000227232.5 | 0 | 1 | 1 | 2 | 1 | 1 | 1 | 1 | 0 | 0 | ⋯ | 0 | 0 | 0 | 1 | 1 | 0 | 0 | 0 | 0 | 1 |\n",
       "| ENSG00000278267.1 | 0 | 0 | 0 | 0 | 0 | 0 | 0 | 0 | 0 | 0 | ⋯ | 0 | 0 | 0 | 0 | 0 | 0 | 0 | 1 | 0 | 0 |\n",
       "| ENSG00000243485.5 | 0 | 0 | 0 | 0 | 0 | 0 | 0 | 0 | 0 | 0 | ⋯ | 0 | 0 | 0 | 0 | 0 | 0 | 0 | 0 | 0 | 0 |\n",
       "| ENSG00000284332.1 | 0 | 0 | 0 | 0 | 0 | 0 | 0 | 0 | 0 | 0 | ⋯ | 0 | 0 | 0 | 0 | 0 | 0 | 0 | 0 | 0 | 0 |\n",
       "| ENSG00000237613.2 | 0 | 0 | 0 | 0 | 0 | 0 | 0 | 0 | 0 | 0 | ⋯ | 0 | 0 | 0 | 0 | 0 | 0 | 0 | 0 | 0 | 0 |\n",
       "\n"
      ],
      "text/plain": [
       "                  TBSQUARE_WBRNA_554 TBSQUARE_WBRNA_555 TBSQUARE_WBRNA_557\n",
       "ENSG00000223972.5 0                  0                  0                 \n",
       "ENSG00000227232.5 0                  1                  1                 \n",
       "ENSG00000278267.1 0                  0                  0                 \n",
       "ENSG00000243485.5 0                  0                  0                 \n",
       "ENSG00000284332.1 0                  0                  0                 \n",
       "ENSG00000237613.2 0                  0                  0                 \n",
       "                  TBSQUARE_WBRNA_564 TBSQUARE_WBRNA_568 TBSQUARE_WBRNA_569\n",
       "ENSG00000223972.5 0                  0                  0                 \n",
       "ENSG00000227232.5 2                  1                  1                 \n",
       "ENSG00000278267.1 0                  0                  0                 \n",
       "ENSG00000243485.5 0                  0                  0                 \n",
       "ENSG00000284332.1 0                  0                  0                 \n",
       "ENSG00000237613.2 0                  0                  0                 \n",
       "                  TBSQUARE_WBRNA_570 TBSQUARE_WBRNA_572 TBSQUARE_WBRNA_573\n",
       "ENSG00000223972.5 0                  0                  0                 \n",
       "ENSG00000227232.5 1                  1                  0                 \n",
       "ENSG00000278267.1 0                  0                  0                 \n",
       "ENSG00000243485.5 0                  0                  0                 \n",
       "ENSG00000284332.1 0                  0                  0                 \n",
       "ENSG00000237613.2 0                  0                  0                 \n",
       "                  TBSQUARE_WBRNA_577 ⋯ TBSQUARE_WBRNA_661 TBSQUARE_WBRNA_693\n",
       "ENSG00000223972.5 0                  ⋯ 0                  0                 \n",
       "ENSG00000227232.5 0                  ⋯ 0                  0                 \n",
       "ENSG00000278267.1 0                  ⋯ 0                  0                 \n",
       "ENSG00000243485.5 0                  ⋯ 0                  0                 \n",
       "ENSG00000284332.1 0                  ⋯ 0                  0                 \n",
       "ENSG00000237613.2 0                  ⋯ 0                  0                 \n",
       "                  TBSQUARE_WBRNA_694 TBSQUARE_WBRNA_699 TBSQUARE_WBRNA_702\n",
       "ENSG00000223972.5 0                  0                  0                 \n",
       "ENSG00000227232.5 0                  1                  1                 \n",
       "ENSG00000278267.1 0                  0                  0                 \n",
       "ENSG00000243485.5 0                  0                  0                 \n",
       "ENSG00000284332.1 0                  0                  0                 \n",
       "ENSG00000237613.2 0                  0                  0                 \n",
       "                  TBSQUARE_WBRNA_703 TBSQUARE_WBRNA_708 TBSQUARE_WBRNA_711\n",
       "ENSG00000223972.5 0                  0                  0                 \n",
       "ENSG00000227232.5 0                  0                  0                 \n",
       "ENSG00000278267.1 0                  0                  1                 \n",
       "ENSG00000243485.5 0                  0                  0                 \n",
       "ENSG00000284332.1 0                  0                  0                 \n",
       "ENSG00000237613.2 0                  0                  0                 \n",
       "                  TBSQUARE_WBRNA_695 TBSQUARE_WBRNA_698\n",
       "ENSG00000223972.5 0                  0                 \n",
       "ENSG00000227232.5 0                  1                 \n",
       "ENSG00000278267.1 0                  0                 \n",
       "ENSG00000243485.5 0                  0                 \n",
       "ENSG00000284332.1 0                  0                 \n",
       "ENSG00000237613.2 0                  0                 "
      ]
     },
     "metadata": {},
     "output_type": "display_data"
    },
    {
     "data": {
      "text/html": [
       "TRUE"
      ],
      "text/latex": [
       "TRUE"
      ],
      "text/markdown": [
       "TRUE"
      ],
      "text/plain": [
       "[1] TRUE"
      ]
     },
     "metadata": {},
     "output_type": "display_data"
    },
    {
     "name": "stderr",
     "output_type": "stream",
     "text": [
      "Warning message in DESeqDataSet(se, design = design, ignoreRank):\n",
      "“some variables in design formula are characters, converting to factors”\n",
      "estimating size factors\n",
      "\n",
      "estimating dispersions\n",
      "\n",
      "gene-wise dispersion estimates\n",
      "\n",
      "mean-dispersion relationship\n",
      "\n",
      "-- note: fitType='parametric', but the dispersion trend was not well captured by the\n",
      "   function: y = a/x + b, and a local regression fit was automatically substituted.\n",
      "   specify fitType='local' or 'mean' to avoid this message next time.\n",
      "\n",
      "final dispersion estimates\n",
      "\n",
      "fitting model and testing\n",
      "\n",
      "-- replacing outliers and refitting for 27869 genes\n",
      "-- DESeq argument 'minReplicatesForReplace' = 7 \n",
      "-- original counts are preserved in counts(dds)\n",
      "\n",
      "estimating dispersions\n",
      "\n",
      "fitting model and testing\n",
      "\n"
     ]
    },
    {
     "data": {
      "text/html": [
       "2018"
      ],
      "text/latex": [
       "2018"
      ],
      "text/markdown": [
       "2018"
      ],
      "text/plain": [
       "[1] 2018"
      ]
     },
     "metadata": {},
     "output_type": "display_data"
    }
   ],
   "source": [
    "## Prepare data for Deseq2\n",
    "blacklist = read.delim(\"/workdir/cfrna/references/human/hg38/genes_to_exlude.tsv\",header=F)\n",
    "counts_wb = read.delim(\"../Files_For_Manuscript/count_matrix_wbrna.txt\")\n",
    "row.names(counts_wb) = counts_wb$geneID\n",
    "counts_wb = counts_wb %>% select(-geneID)\n",
    "counts_wb = counts_wb[!(gsub(\"\\\\..*\",\"\",rownames(counts_wb)) %in% blacklist$V2),]\n",
    "meta_wb = read.delim(\"../Files_For_Manuscript/wb_metadata.txt\")\n",
    "\n",
    "\n",
    "meta_col = meta_wb\n",
    "\n",
    "disc_cts = counts_wb\n",
    "\n",
    "meta_col = meta_col %>% select(\"sample_id\", \"tb\")           # subset columns\n",
    "rownames(meta_col) = meta_col$sample_id \n",
    "head(meta_col)\n",
    "head(disc_cts)\n",
    "disc_cts<- disc_cts[, match(rownames(meta_col), colnames(disc_cts))]\n",
    "\n",
    "all(colnames(disc_cts) == rownames(meta_col))               # check for alignment\n",
    "\n",
    "\n",
    "## run Deseq2 & extract results\n",
    "dds <- DESeqDataSetFromMatrix(countData = disc_cts,\n",
    "                             colData = meta_col,\n",
    "                             design = ~ tb)\n",
    "dds <- DESeq(dds)\n",
    "res <- results(dds)\n",
    "\n",
    "## Extract results\n",
    "res_df = results(dds,alpha=0.05,contrast = c(\"tb\",\"Positive\", \"Negative\")) %>% data.frame()\n",
    "res_df$gene_num = rownames(res_df)\n",
    "sigs_wb = res_df %>% filter(padj<0.05)\n",
    "nrow(sigs_wb)\n",
    "# res_df$gene_num = rownames(res_df)\n",
    "# #res_df = merge(res_df, gene.list, by.x = \"gene_num\", by.y = \"gene_id\")\n",
    "# sigs = res_df %>% arrange(padj) %>% filter(padj < 0.05)\n",
    "# res_df = results(dds,alpha=0.05,contrast = c(\"tb\",\"positive\", \"negative\")) %>% data.frame()\n",
    "# sigs_wb = res_df %>% filter(padj<0.05) #%>% filter(log2FoldChange > 0.5)\n"
   ]
  },
  {
   "cell_type": "code",
   "execution_count": 56,
   "id": "07ec67dd-dd3a-421d-bbac-9fb495224fdf",
   "metadata": {},
   "outputs": [],
   "source": [
    "sigs_wb = res_df %>% filter(padj<0.5)"
   ]
  },
  {
   "cell_type": "code",
   "execution_count": 35,
   "id": "c1b71ce3-98e1-4f3e-b777-1827f0f77f5e",
   "metadata": {},
   "outputs": [
    {
     "data": {
      "text/html": [
       "377"
      ],
      "text/latex": [
       "377"
      ],
      "text/markdown": [
       "377"
      ],
      "text/plain": [
       "[1] 377"
      ]
     },
     "metadata": {},
     "output_type": "display_data"
    },
    {
     "data": {
      "text/html": [
       "421"
      ],
      "text/latex": [
       "421"
      ],
      "text/markdown": [
       "421"
      ],
      "text/plain": [
       "[1] 421"
      ]
     },
     "metadata": {},
     "output_type": "display_data"
    }
   ],
   "source": [
    "\n",
    "sigs_wb %>% filter(log2FoldChange > 0.5) %>% nrow()\n",
    "sigs_cf%>% filter(log2FoldChange > 0.5) %>% nrow()"
   ]
  },
  {
   "cell_type": "code",
   "execution_count": null,
   "id": "a79d5392-9186-4ef3-9242-542460d48e2d",
   "metadata": {},
   "outputs": [],
   "source": []
  },
  {
   "cell_type": "code",
   "execution_count": 52,
   "id": "ebb50f27",
   "metadata": {},
   "outputs": [],
   "source": [
    "SIG_THRESH = 0.01\n",
    "FC_THRESH =0.5\n"
   ]
  },
  {
   "cell_type": "code",
   "execution_count": 342,
   "id": "8780ba42",
   "metadata": {},
   "outputs": [],
   "source": [
    "# ## DESEQ - WBRNA\n",
    "# meta_wb = meta[meta$Biofluid==\"wb\",]\n",
    "# meta_wb = meta_wb[!is.na(meta_wb$tb),]\n",
    "# meta_wb = meta_wb[meta_wb$tb!=\"\",]\n",
    "# rownames(meta_wb)=meta_wb$sample_id\n",
    "\n",
    "# counts_wb = read.delim(count_matrix_wb, row.names=c(\"geneID\")) %>% select(-c(row.names))\n",
    "# counts_wb = counts_wb[,colnames(counts_wb) %in% meta_wb$sample_id]\n",
    "\n",
    "# GROUPS = c(\"Positive\",\"Negative\")\n",
    "# meta_wb$expGroup = meta_wb$tb\n",
    "# meta_wb$expGroup=factor(meta_wb$expGroup, levels=GROUPS)\n",
    "\n",
    "# gene.list <- read.delim(gene_name_key,col.names = c(\"type,\",\"ENSMBL\",\"gene_symbol\"))\n",
    "# gene.ids <- gsub(\"\\\\..*\",\"\",rownames(counts_wb))\n",
    "\n",
    "# exclude.idx <- gene.ids %in% gene.list[,1]\n",
    "# counts_wb = counts_wb[!exclude.idx,]   \n",
    "# counts_wb = counts_wb[,meta_wb$sample_id]\n",
    "\n",
    "# ##------------------------------------\n",
    "# # Contstruct DESeq Data Set\n",
    "# dds_wb <- DESeqDataSetFromMatrix(round(counts_wb),\n",
    "#                                 colData = meta_wb,\n",
    "#                                 design = ~ expGroup  +  0)\n",
    "\n",
    "\n",
    "# ##------------------------------------\n",
    "# # Add Gene metadata\n",
    "# annotation = fread(file=gene_name_key)\n",
    "# annotation <- annotation[match(rownames(dds_wb), annotation$gene_id),]\n",
    "# all(rownames(dds_wb) == annotation$ftcount_id)\n",
    "# mcols(dds_wb) <- cbind(mcols(dds_wb), annotation)\n",
    "\n",
    "\n",
    "# ##------------------------------------\n",
    "# # Re-factor\n",
    "# dds_wb$expGroup <- factor(dds_wb$expGroup, levels = GROUPS)\n",
    "\n",
    "# ##------------------------------------\n",
    "# # DAA\n",
    "# dds_wb <- DESeq(dds_wb)\n",
    "\n",
    "# res_wb <- results(dds_wb,alpha=0.01, contrast = c(\"expGroup\",\"Positive\", \"Negative\"))\n",
    "\n",
    "# res_wb$gene_name <- mcols(dds_wb)$gene_name\n",
    "# res_wb$gene_type <- mcols(dds_wb)$gene_type\n",
    "\n",
    "# sig_genes_wb <- data.frame(res_wb) %>% filter(padj < SIG_THRESH & abs(log2FoldChange) > FC_THRESH) %>% rownames()"
   ]
  },
  {
   "cell_type": "code",
   "execution_count": 36,
   "id": "f50595ea",
   "metadata": {
    "scrolled": true
   },
   "outputs": [],
   "source": [
    "sig_genes_plasma = sigs_cf %>% row.names()#read.table(\"../files_for_manuscript/DESEq2_output_w_validation.tsv\", header=T)\n",
    "sig_genes_wb = sigs_wb %>% row.names() #gene.list[gene.list$`type.` %in% sig_genes_wb,]"
   ]
  },
  {
   "cell_type": "code",
   "execution_count": 43,
   "id": "137d3ba7-3d48-491d-8f5b-c860b373dab4",
   "metadata": {},
   "outputs": [],
   "source": [
    "sigs_cf_name = merge(sigs_cf, gene.list, by.x = \"gene_num\", by.y = \"gene_id\")"
   ]
  },
  {
   "cell_type": "code",
   "execution_count": 57,
   "id": "de2874cd-1e65-4f2d-ba00-6e4a81bebf67",
   "metadata": {},
   "outputs": [],
   "source": [
    "sigs_wb_name = merge(sigs_wb, gene.list, by.x = \"gene_num\", by.y = \"gene_id\")"
   ]
  },
  {
   "cell_type": "code",
   "execution_count": 60,
   "id": "7740f49f-9180-4610-8f29-fe888e327a3e",
   "metadata": {},
   "outputs": [
    {
     "data": {
      "text/html": [
       "<table class=\"dataframe\">\n",
       "<caption>A data.frame: 7 × 4</caption>\n",
       "<thead>\n",
       "\t<tr><th scope=col>baseMean</th><th scope=col>log2FoldChange</th><th scope=col>padj</th><th scope=col>gene_name</th></tr>\n",
       "\t<tr><th scope=col>&lt;dbl&gt;</th><th scope=col>&lt;dbl&gt;</th><th scope=col>&lt;dbl&gt;</th><th scope=col>&lt;chr&gt;</th></tr>\n",
       "</thead>\n",
       "<tbody>\n",
       "\t<tr><td> 13.40218</td><td>0.8999978</td><td>9.562281e-07</td><td>MARCO</td></tr>\n",
       "\t<tr><td>240.21048</td><td>0.8037697</td><td>2.134870e-17</td><td>STAT1</td></tr>\n",
       "\t<tr><td>148.10655</td><td>1.2309764</td><td>6.553130e-23</td><td>GBP1 </td></tr>\n",
       "\t<tr><td>227.69894</td><td>1.5250772</td><td>3.407139e-38</td><td>GBP5 </td></tr>\n",
       "\t<tr><td>204.49624</td><td>0.8157508</td><td>1.713048e-18</td><td>GBP2 </td></tr>\n",
       "\t<tr><td> 69.82283</td><td>0.7773689</td><td>3.776064e-13</td><td>GBP4 </td></tr>\n",
       "\t<tr><td>106.67675</td><td>0.4976718</td><td>8.733113e-16</td><td>CASP4</td></tr>\n",
       "</tbody>\n",
       "</table>\n"
      ],
      "text/latex": [
       "A data.frame: 7 × 4\n",
       "\\begin{tabular}{llll}\n",
       " baseMean & log2FoldChange & padj & gene\\_name\\\\\n",
       " <dbl> & <dbl> & <dbl> & <chr>\\\\\n",
       "\\hline\n",
       "\t  13.40218 & 0.8999978 & 9.562281e-07 & MARCO\\\\\n",
       "\t 240.21048 & 0.8037697 & 2.134870e-17 & STAT1\\\\\n",
       "\t 148.10655 & 1.2309764 & 6.553130e-23 & GBP1 \\\\\n",
       "\t 227.69894 & 1.5250772 & 3.407139e-38 & GBP5 \\\\\n",
       "\t 204.49624 & 0.8157508 & 1.713048e-18 & GBP2 \\\\\n",
       "\t  69.82283 & 0.7773689 & 3.776064e-13 & GBP4 \\\\\n",
       "\t 106.67675 & 0.4976718 & 8.733113e-16 & CASP4\\\\\n",
       "\\end{tabular}\n"
      ],
      "text/markdown": [
       "\n",
       "A data.frame: 7 × 4\n",
       "\n",
       "| baseMean &lt;dbl&gt; | log2FoldChange &lt;dbl&gt; | padj &lt;dbl&gt; | gene_name &lt;chr&gt; |\n",
       "|---|---|---|---|\n",
       "|  13.40218 | 0.8999978 | 9.562281e-07 | MARCO |\n",
       "| 240.21048 | 0.8037697 | 2.134870e-17 | STAT1 |\n",
       "| 148.10655 | 1.2309764 | 6.553130e-23 | GBP1  |\n",
       "| 227.69894 | 1.5250772 | 3.407139e-38 | GBP5  |\n",
       "| 204.49624 | 0.8157508 | 1.713048e-18 | GBP2  |\n",
       "|  69.82283 | 0.7773689 | 3.776064e-13 | GBP4  |\n",
       "| 106.67675 | 0.4976718 | 8.733113e-16 | CASP4 |\n",
       "\n"
      ],
      "text/plain": [
       "  baseMean  log2FoldChange padj         gene_name\n",
       "1  13.40218 0.8999978      9.562281e-07 MARCO    \n",
       "2 240.21048 0.8037697      2.134870e-17 STAT1    \n",
       "3 148.10655 1.2309764      6.553130e-23 GBP1     \n",
       "4 227.69894 1.5250772      3.407139e-38 GBP5     \n",
       "5 204.49624 0.8157508      1.713048e-18 GBP2     \n",
       "6  69.82283 0.7773689      3.776064e-13 GBP4     \n",
       "7 106.67675 0.4976718      8.733113e-16 CASP4    "
      ]
     },
     "metadata": {},
     "output_type": "display_data"
    }
   ],
   "source": [
    "sigs_cf_name %>% select(baseMean,log2FoldChange,padj,gene_name) %>% filter(gene_name %in% c(\"MARCO\",\"CASP4\", \"GBP1\", \"GBP2\", \"GBP4\", \"GBP5\", \"STAT1\"))"
   ]
  },
  {
   "cell_type": "code",
   "execution_count": 59,
   "id": "4fe127db-f84f-4273-914d-f1e73b7db458",
   "metadata": {},
   "outputs": [
    {
     "data": {
      "text/html": [
       "<table class=\"dataframe\">\n",
       "<caption>A data.frame: 7 × 4</caption>\n",
       "<thead>\n",
       "\t<tr><th scope=col>baseMean</th><th scope=col>log2FoldChange</th><th scope=col>padj</th><th scope=col>gene_name</th></tr>\n",
       "\t<tr><th scope=col>&lt;dbl&gt;</th><th scope=col>&lt;dbl&gt;</th><th scope=col>&lt;dbl&gt;</th><th scope=col>&lt;chr&gt;</th></tr>\n",
       "</thead>\n",
       "<tbody>\n",
       "\t<tr><td>   4.654467</td><td>0.7467059</td><td>1.401335e-01</td><td>MARCO</td></tr>\n",
       "\t<tr><td> 592.983359</td><td>0.8191039</td><td>6.212929e-04</td><td>STAT1</td></tr>\n",
       "\t<tr><td> 406.685367</td><td>1.4678449</td><td>3.847302e-05</td><td>GBP1 </td></tr>\n",
       "\t<tr><td>1286.318343</td><td>1.8764741</td><td>3.729214e-08</td><td>GBP5 </td></tr>\n",
       "\t<tr><td> 547.176481</td><td>1.0717037</td><td>1.546867e-08</td><td>GBP2 </td></tr>\n",
       "\t<tr><td> 126.777458</td><td>1.1018541</td><td>4.390454e-04</td><td>GBP4 </td></tr>\n",
       "\t<tr><td> 294.404343</td><td>0.7956775</td><td>9.212458e-07</td><td>CASP4</td></tr>\n",
       "</tbody>\n",
       "</table>\n"
      ],
      "text/latex": [
       "A data.frame: 7 × 4\n",
       "\\begin{tabular}{llll}\n",
       " baseMean & log2FoldChange & padj & gene\\_name\\\\\n",
       " <dbl> & <dbl> & <dbl> & <chr>\\\\\n",
       "\\hline\n",
       "\t    4.654467 & 0.7467059 & 1.401335e-01 & MARCO\\\\\n",
       "\t  592.983359 & 0.8191039 & 6.212929e-04 & STAT1\\\\\n",
       "\t  406.685367 & 1.4678449 & 3.847302e-05 & GBP1 \\\\\n",
       "\t 1286.318343 & 1.8764741 & 3.729214e-08 & GBP5 \\\\\n",
       "\t  547.176481 & 1.0717037 & 1.546867e-08 & GBP2 \\\\\n",
       "\t  126.777458 & 1.1018541 & 4.390454e-04 & GBP4 \\\\\n",
       "\t  294.404343 & 0.7956775 & 9.212458e-07 & CASP4\\\\\n",
       "\\end{tabular}\n"
      ],
      "text/markdown": [
       "\n",
       "A data.frame: 7 × 4\n",
       "\n",
       "| baseMean &lt;dbl&gt; | log2FoldChange &lt;dbl&gt; | padj &lt;dbl&gt; | gene_name &lt;chr&gt; |\n",
       "|---|---|---|---|\n",
       "|    4.654467 | 0.7467059 | 1.401335e-01 | MARCO |\n",
       "|  592.983359 | 0.8191039 | 6.212929e-04 | STAT1 |\n",
       "|  406.685367 | 1.4678449 | 3.847302e-05 | GBP1  |\n",
       "| 1286.318343 | 1.8764741 | 3.729214e-08 | GBP5  |\n",
       "|  547.176481 | 1.0717037 | 1.546867e-08 | GBP2  |\n",
       "|  126.777458 | 1.1018541 | 4.390454e-04 | GBP4  |\n",
       "|  294.404343 | 0.7956775 | 9.212458e-07 | CASP4 |\n",
       "\n"
      ],
      "text/plain": [
       "  baseMean    log2FoldChange padj         gene_name\n",
       "1    4.654467 0.7467059      1.401335e-01 MARCO    \n",
       "2  592.983359 0.8191039      6.212929e-04 STAT1    \n",
       "3  406.685367 1.4678449      3.847302e-05 GBP1     \n",
       "4 1286.318343 1.8764741      3.729214e-08 GBP5     \n",
       "5  547.176481 1.0717037      1.546867e-08 GBP2     \n",
       "6  126.777458 1.1018541      4.390454e-04 GBP4     \n",
       "7  294.404343 0.7956775      9.212458e-07 CASP4    "
      ]
     },
     "metadata": {},
     "output_type": "display_data"
    }
   ],
   "source": [
    "sigs_wb_name %>% select(baseMean,log2FoldChange,padj,gene_name)\t%>% filter(gene_name %in% c(\"MARCO\",\"CASP4\", \"GBP1\", \"GBP2\", \"GBP4\", \"GBP5\", \"STAT1\"))"
   ]
  },
  {
   "cell_type": "code",
   "execution_count": 37,
   "id": "cdff48e6-3055-4b5b-aa5a-0177863fdf33",
   "metadata": {},
   "outputs": [
    {
     "data": {
      "text/html": [
       "517"
      ],
      "text/latex": [
       "517"
      ],
      "text/markdown": [
       "517"
      ],
      "text/plain": [
       "[1] 517"
      ]
     },
     "metadata": {},
     "output_type": "display_data"
    }
   ],
   "source": [
    "intersect(sig_genes_plasma,sig_genes_wb) %>% length()"
   ]
  },
  {
   "cell_type": "code",
   "execution_count": 22,
   "id": "0c5337c1-ae82-4e45-ac46-bfebd2b03fb5",
   "metadata": {},
   "outputs": [
    {
     "data": {
      "text/html": [
       "<style>\n",
       ".list-inline {list-style: none; margin:0; padding: 0}\n",
       ".list-inline>li {display: inline-block}\n",
       ".list-inline>li:not(:last-child)::after {content: \"\\00b7\"; padding: 0 .5ex}\n",
       "</style>\n",
       "<ol class=list-inline><li>'ENSG00000154451.14'</li><li>'ENSG00000213626.13'</li><li>'ENSG00000156650.14'</li></ol>\n"
      ],
      "text/latex": [
       "\\begin{enumerate*}\n",
       "\\item 'ENSG00000154451.14'\n",
       "\\item 'ENSG00000213626.13'\n",
       "\\item 'ENSG00000156650.14'\n",
       "\\end{enumerate*}\n"
      ],
      "text/markdown": [
       "1. 'ENSG00000154451.14'\n",
       "2. 'ENSG00000213626.13'\n",
       "3. 'ENSG00000156650.14'\n",
       "\n",
       "\n"
      ],
      "text/plain": [
       "[1] \"ENSG00000154451.14\" \"ENSG00000213626.13\" \"ENSG00000156650.14\""
      ]
     },
     "metadata": {},
     "output_type": "display_data"
    }
   ],
   "source": [
    "int = intersect(sig_genes_plasma,sig_genes_wb)\n",
    "intersect(int, c('ENSG00000154451.14','ENSG00000213626.13','ENSG00000156650.14','ENSG00000096060.15','ENSG00000110092.4','ENSG00000162817.7','ENSG00000158869.11'))\n",
    "    \n",
    "   # "
   ]
  },
  {
   "cell_type": "code",
   "execution_count": 354,
   "id": "3bb9e477-ce05-496e-be5a-cadfacfc3d92",
   "metadata": {},
   "outputs": [
    {
     "ename": "ERROR",
     "evalue": "Error in fit_diagram(combinations, \"euler\", input, shape, loss, loss_aggregator, : names of elements in `combinations` cannot be duplicated\n",
     "output_type": "error",
     "traceback": [
      "Error in fit_diagram(combinations, \"euler\", input, shape, loss, loss_aggregator, : names of elements in `combinations` cannot be duplicated\nTraceback:\n",
      "1. euler(input_sets)",
      "2. euler.list(input_sets)",
      "3. euler(out, input = \"union\", ...)",
      "4. euler.default(out, input = \"union\", ...)",
      "5. fit_diagram(combinations, \"euler\", input, shape, loss, loss_aggregator, \n .     control, ...)",
      "6. stop(\"names of elements in `combinations` cannot be duplicated\")"
     ]
    }
   ],
   "source": [
    "# Correct input format for euler function\n",
    "int = intersect(sig_genes_plasma,sig_genes_wb)\n",
    "input_sets <- list(\n",
    "  Plasma = sig_genes_plasma,  # Count for Plasma only\n",
    "  WB = sig_genes_wb,      # Count for WB only\n",
    "  \"Plasma&WB\" = int # Count for the intersection of Plasma and WB\n",
    ")\n",
    "\n",
    "# Generate Euler diagram\n",
    "VennDiag <- euler(input_sets)\n",
    "plot(VennDiag, counts = TRUE, fill = c(\"#F88C1A\", \"#00AC00\"), alpha = 0.3)\n"
   ]
  },
  {
   "cell_type": "code",
   "execution_count": 353,
   "id": "9f7b37ec",
   "metadata": {},
   "outputs": [
    {
     "data": {
      "text/plain": [
       "NULL"
      ]
     },
     "metadata": {},
     "output_type": "display_data"
    },
    {
     "data": {
      "text/html": [],
      "text/latex": [],
      "text/markdown": [],
      "text/plain": [
       "integer(0)"
      ]
     },
     "metadata": {},
     "output_type": "display_data"
    }
   ],
   "source": [
    "int = dim(intersect(sig_genes_plasma,sig_genes_wb))[1]\n",
    "int\n",
    "u_wb = dim(sig_genes_wb)[1]-int\n",
    "u_pl = dim(sig_genes_plasma)[1]-int\n",
    "\n",
    "u_pl"
   ]
  },
  {
   "cell_type": "code",
   "execution_count": 403,
   "id": "242ce9dd-41c5-4d1b-8694-0e571360db97",
   "metadata": {},
   "outputs": [
    {
     "data": {
      "text/html": [
       "258"
      ],
      "text/latex": [
       "258"
      ],
      "text/markdown": [
       "258"
      ],
      "text/plain": [
       "[1] 258"
      ]
     },
     "metadata": {},
     "output_type": "display_data"
    }
   ],
   "source": [
    "int"
   ]
  },
  {
   "cell_type": "code",
   "execution_count": 402,
   "id": "f492e3b9-d00e-4b40-9d80-3d8fa03e0029",
   "metadata": {},
   "outputs": [
    {
     "data": {
      "text/plain": [
       "\n",
       "Negative Positive \n",
       "      44       10 "
      ]
     },
     "metadata": {},
     "output_type": "display_data"
    },
    {
     "data": {
      "text/html": [
       "0.583333333333333"
      ],
      "text/latex": [
       "0.583333333333333"
      ],
      "text/markdown": [
       "0.583333333333333"
      ],
      "text/plain": [
       "[1] 0.5833333"
      ]
     },
     "metadata": {},
     "output_type": "display_data"
    }
   ],
   "source": [
    "table(meta_wb$hiv)\n",
    "35/60"
   ]
  },
  {
   "cell_type": "code",
   "execution_count": 24,
   "id": "eaa74da1-30b1-42ed-a56d-1746cc05d92d",
   "metadata": {},
   "outputs": [],
   "source": [
    "u_pl = length(sig_genes_plasma)\n",
    "u_wb = length(sig_genes_wb)\n",
    "int =  intersect(sig_genes_plasma,sig_genes_wb) %>% length()"
   ]
  },
  {
   "cell_type": "code",
   "execution_count": 30,
   "id": "b337f3ad-296e-42f8-9a9d-37e38c0b8552",
   "metadata": {},
   "outputs": [
    {
     "data": {
      "text/html": [
       "<style>\n",
       ".list-inline {list-style: none; margin:0; padding: 0}\n",
       ".list-inline>li {display: inline-block}\n",
       ".list-inline>li:not(:last-child)::after {content: \"\\00b7\"; padding: 0 .5ex}\n",
       "</style>\n",
       "<ol class=list-inline><li>'ENSG00000008130.15'</li><li>'ENSG00000157873.18'</li><li>'ENSG00000142599.19'</li><li>'ENSG00000171603.18'</li><li>'ENSG00000116663.11'</li><li>'ENSG00000177674.16'</li></ol>\n"
      ],
      "text/latex": [
       "\\begin{enumerate*}\n",
       "\\item 'ENSG00000008130.15'\n",
       "\\item 'ENSG00000157873.18'\n",
       "\\item 'ENSG00000142599.19'\n",
       "\\item 'ENSG00000171603.18'\n",
       "\\item 'ENSG00000116663.11'\n",
       "\\item 'ENSG00000177674.16'\n",
       "\\end{enumerate*}\n"
      ],
      "text/markdown": [
       "1. 'ENSG00000008130.15'\n",
       "2. 'ENSG00000157873.18'\n",
       "3. 'ENSG00000142599.19'\n",
       "4. 'ENSG00000171603.18'\n",
       "5. 'ENSG00000116663.11'\n",
       "6. 'ENSG00000177674.16'\n",
       "\n",
       "\n"
      ],
      "text/plain": [
       "[1] \"ENSG00000008130.15\" \"ENSG00000157873.18\" \"ENSG00000142599.19\"\n",
       "[4] \"ENSG00000171603.18\" \"ENSG00000116663.11\" \"ENSG00000177674.16\""
      ]
     },
     "metadata": {},
     "output_type": "display_data"
    }
   ],
   "source": [
    "r = intersect(sig_genes_plasma,sig_genes_wb)\n",
    "head(r)"
   ]
  },
  {
   "cell_type": "code",
   "execution_count": 33,
   "id": "6927cf8d-c896-417f-860e-139499139973",
   "metadata": {},
   "outputs": [
    {
     "data": {
      "text/html": [
       "'ENSG00000008130.15'"
      ],
      "text/latex": [
       "'ENSG00000008130.15'"
      ],
      "text/markdown": [
       "'ENSG00000008130.15'"
      ],
      "text/plain": [
       "[1] \"ENSG00000008130.15\""
      ]
     },
     "metadata": {},
     "output_type": "display_data"
    }
   ],
   "source": [
    "intersect(r, 'ENSG00000008130.15')"
   ]
  },
  {
   "cell_type": "code",
   "execution_count": 31,
   "id": "c363bd7e-2918-45ac-b3df-deacc20c400b",
   "metadata": {},
   "outputs": [
    {
     "data": {
      "text/html": [
       "<style>\n",
       ".list-inline {list-style: none; margin:0; padding: 0}\n",
       ".list-inline>li {display: inline-block}\n",
       ".list-inline>li:not(:last-child)::after {content: \"\\00b7\"; padding: 0 .5ex}\n",
       "</style>\n",
       "<ol class=list-inline><li>'ENSG00000154451.14'</li><li>'ENSG00000135636.15'</li><li>'ENSG00000104765.16'</li></ol>\n"
      ],
      "text/latex": [
       "\\begin{enumerate*}\n",
       "\\item 'ENSG00000154451.14'\n",
       "\\item 'ENSG00000135636.15'\n",
       "\\item 'ENSG00000104765.16'\n",
       "\\end{enumerate*}\n"
      ],
      "text/markdown": [
       "1. 'ENSG00000154451.14'\n",
       "2. 'ENSG00000135636.15'\n",
       "3. 'ENSG00000104765.16'\n",
       "\n",
       "\n"
      ],
      "text/plain": [
       "[1] \"ENSG00000154451.14\" \"ENSG00000135636.15\" \"ENSG00000104765.16\""
      ]
     },
     "metadata": {},
     "output_type": "display_data"
    }
   ],
   "source": [
    "intersect(r, c('ENSG00000154451.14','ENSG00000104765.16','ENSG00000067082.15','ENSG00000135636.15','ENSG00000002834.18','ENSG00000169564.7'))\n",
    "\n"
   ]
  },
  {
   "cell_type": "code",
   "execution_count": null,
   "id": "f04e3664-d377-4a7b-a75a-3c8eb72da335",
   "metadata": {},
   "outputs": [],
   "source": []
  },
  {
   "cell_type": "code",
   "execution_count": 28,
   "id": "5cd59233-b1ac-481d-be89-4f3cfc0ba9e6",
   "metadata": {},
   "outputs": [
    {
     "data": {
      "text/html": [
       "1956"
      ],
      "text/latex": [
       "1956"
      ],
      "text/markdown": [
       "1956"
      ],
      "text/plain": [
       "[1] 1956"
      ]
     },
     "metadata": {},
     "output_type": "display_data"
    },
    {
     "data": {
      "text/html": [
       "2018"
      ],
      "text/latex": [
       "2018"
      ],
      "text/markdown": [
       "2018"
      ],
      "text/plain": [
       "[1] 2018"
      ]
     },
     "metadata": {},
     "output_type": "display_data"
    },
    {
     "data": {
      "text/html": [
       "517"
      ],
      "text/latex": [
       "517"
      ],
      "text/markdown": [
       "517"
      ],
      "text/plain": [
       "[1] 517"
      ]
     },
     "metadata": {},
     "output_type": "display_data"
    }
   ],
   "source": [
    "u_pl\n",
    "u_wb\n",
    "int"
   ]
  },
  {
   "cell_type": "code",
   "execution_count": 361,
   "id": "b0c30040",
   "metadata": {},
   "outputs": [
    {
     "data": {
      "image/png": "[encoded data removed]",
      "text/plain": [
       "plot without title"
      ]
     },
     "metadata": {
      "image/png": {
       "height": 54,
       "width": 90
      }
     },
     "output_type": "display_data"
    }
   ],
   "source": [
    "options(repr.plot.height=0.9, repr.plot.width=1.5)\n",
    "\n",
    "VennDiag = euler(c(\"P\"=u_pl, \"W\"=u_wb, \"&\"=int))\n",
    "plot(VennDiag, counts=TRUE, fill=c(\"#F88C1A\",\"#00AC00\"), alpha=0.3)"
   ]
  },
  {
   "cell_type": "code",
   "execution_count": 45,
   "id": "d06dacf9-2f7c-42b6-aab7-ceb16ee9748b",
   "metadata": {},
   "outputs": [
    {
     "data": {
      "image/png": "[encoded data removed]",
      "text/plain": [
       "plot without title"
      ]
     },
     "metadata": {
      "image/png": {
       "height": 108,
       "width": 180
      }
     },
     "output_type": "display_data"
    }
   ],
   "source": [
    "options(repr.plot.height=1.8, repr.plot.width=3)\n",
    "\n",
    "VennDiag = euler(c(\"P\"=u_pl, \"W\"=u_wb, \"P&W\"=int))\n",
    "p = plot(VennDiag, counts=TRUE, fill=c(\"#D71B5A\", \"#F88C1A\"), alpha=0.3)\n",
    "p"
   ]
  },
  {
   "cell_type": "code",
   "execution_count": null,
   "id": "0024d82e-a44e-458e-a796-8cbaa3d43089",
   "metadata": {},
   "outputs": [],
   "source": [
    "#D71B5A\n",
    "\n",
    "#F88C1A\n",
    "\n",
    "#00AC00"
   ]
  },
  {
   "cell_type": "code",
   "execution_count": 46,
   "id": "5141f575-8111-4b48-8c45-49babb875947",
   "metadata": {},
   "outputs": [],
   "source": [
    "ggsave(\"../Figure_Output/Figure_4/venn_diag.pdf\", plot = p, width = 7.2, height = 12, device = \"pdf\")\n",
    "\n",
    "ggsave(\"../Figure_Output/Figure_4/venn_diag.png\", plot = p, width = 7.2, height = 12)\n"
   ]
  },
  {
   "cell_type": "code",
   "execution_count": 57,
   "id": "d479bd89",
   "metadata": {},
   "outputs": [
    {
     "data": {
      "text/html": [
       "<table class=\"dataframe\">\n",
       "<caption>A data.frame: 5 × 3</caption>\n",
       "<thead>\n",
       "\t<tr><th scope=col>type.</th><th scope=col>ENSMBL</th><th scope=col>gene_symbol</th></tr>\n",
       "\t<tr><th scope=col>&lt;chr&gt;</th><th scope=col>&lt;chr&gt;</th><th scope=col>&lt;chr&gt;</th></tr>\n",
       "</thead>\n",
       "<tbody>\n",
       "\t<tr><td>ENSG00000162645.13</td><td>GBP2  </td><td>protein_coding</td></tr>\n",
       "\t<tr><td>ENSG00000154451.14</td><td>GBP5  </td><td>protein_coding</td></tr>\n",
       "\t<tr><td>ENSG00000162747.12</td><td>FCGR3B</td><td>protein_coding</td></tr>\n",
       "\t<tr><td>ENSG00000135636.15</td><td>DYSF  </td><td>protein_coding</td></tr>\n",
       "\t<tr><td>ENSG00000146592.17</td><td>CREB5 </td><td>protein_coding</td></tr>\n",
       "</tbody>\n",
       "</table>\n"
      ],
      "text/latex": [
       "A data.frame: 5 × 3\n",
       "\\begin{tabular}{lll}\n",
       " type. & ENSMBL & gene\\_symbol\\\\\n",
       " <chr> & <chr> & <chr>\\\\\n",
       "\\hline\n",
       "\t ENSG00000162645.13 & GBP2   & protein\\_coding\\\\\n",
       "\t ENSG00000154451.14 & GBP5   & protein\\_coding\\\\\n",
       "\t ENSG00000162747.12 & FCGR3B & protein\\_coding\\\\\n",
       "\t ENSG00000135636.15 & DYSF   & protein\\_coding\\\\\n",
       "\t ENSG00000146592.17 & CREB5  & protein\\_coding\\\\\n",
       "\\end{tabular}\n"
      ],
      "text/markdown": [
       "\n",
       "A data.frame: 5 × 3\n",
       "\n",
       "| type. &lt;chr&gt; | ENSMBL &lt;chr&gt; | gene_symbol &lt;chr&gt; |\n",
       "|---|---|---|\n",
       "| ENSG00000162645.13 | GBP2   | protein_coding |\n",
       "| ENSG00000154451.14 | GBP5   | protein_coding |\n",
       "| ENSG00000162747.12 | FCGR3B | protein_coding |\n",
       "| ENSG00000135636.15 | DYSF   | protein_coding |\n",
       "| ENSG00000146592.17 | CREB5  | protein_coding |\n",
       "\n"
      ],
      "text/plain": [
       "  type.              ENSMBL gene_symbol   \n",
       "1 ENSG00000162645.13 GBP2   protein_coding\n",
       "2 ENSG00000154451.14 GBP5   protein_coding\n",
       "3 ENSG00000162747.12 FCGR3B protein_coding\n",
       "4 ENSG00000135636.15 DYSF   protein_coding\n",
       "5 ENSG00000146592.17 CREB5  protein_coding"
      ]
     },
     "metadata": {},
     "output_type": "display_data"
    }
   ],
   "source": [
    "intersect(sig_genes_plasma, sig_genes_wb) %>% filter(ENSMBL %in% gene.list[gene.list$`type` %in% signature,2])"
   ]
  },
  {
   "cell_type": "markdown",
   "id": "d8f9f8b8",
   "metadata": {},
   "source": [
    "## FIG 4E"
   ]
  },
  {
   "cell_type": "code",
   "execution_count": 58,
   "id": "61f4d5e8",
   "metadata": {},
   "outputs": [],
   "source": [
    "counts_wb = read.delim(count_matrix_wb, row.names=c(\"geneID\")) %>% select(-c(row.names))\n",
    "counts_plasma = read.delim(count_file_plasma, row.names=c(1))"
   ]
  },
  {
   "cell_type": "code",
   "execution_count": 59,
   "id": "be7508b6",
   "metadata": {},
   "outputs": [],
   "source": [
    "GeomSplitViolin <- ggproto(\"GeomSplitViolin\", GeomViolin, \n",
    "                           draw_group = function(self, data, ..., draw_quantiles = NULL) {\n",
    "                               data <- transform(data, xminv = x - violinwidth * (x - xmin), xmaxv = x + violinwidth * (xmax - x))\n",
    "                               grp <- data[1, \"group\"]\n",
    "                               newdata <- plyr::arrange(transform(data, x = if (grp %% 2 == 1) xminv else xmaxv), if (grp %% 2 == 1) y else -y)\n",
    "                               newdata <- rbind(newdata[1, ], newdata, newdata[nrow(newdata), ], newdata[1, ])\n",
    "                               newdata[c(1, nrow(newdata) - 1, nrow(newdata)), \"x\"] <- round(newdata[1, \"x\"])\n",
    "                               \n",
    "                               if (length(draw_quantiles) > 0 & !scales::zero_range(range(data$y))) {\n",
    "                                   stopifnot(all(draw_quantiles >= 0), all(draw_quantiles <=\n",
    "                                                                               1))\n",
    "                                   quantiles <- ggplot2:::create_quantile_segment_frame(data, draw_quantiles)\n",
    "                                   aesthetics <- data[rep(1, nrow(quantiles)), setdiff(names(data), c(\"x\", \"y\")), drop = FALSE]\n",
    "                                   aesthetics$alpha <- rep(1, nrow(quantiles))\n",
    "                                   both <- cbind(quantiles, aesthetics)\n",
    "                                   quantile_grob <- GeomPath$draw_panel(both, ...)\n",
    "                                   ggplot2:::ggname(\"geom_split_violin\", grid::grobTree(GeomPolygon$draw_panel(newdata, ...), quantile_grob))\n",
    "                               }\n",
    "                               else {\n",
    "                                   ggplot2:::ggname(\"geom_split_violin\", GeomPolygon$draw_panel(newdata, ...))\n",
    "                               }\n",
    "                           })\n",
    "geom_split_violin <- function(mapping = NULL, data = NULL, stat = \"ydensity\", position = \"identity\", ..., \n",
    "                              draw_quantiles = NULL, trim = TRUE, scale = \"area\", na.rm = FALSE, \n",
    "                              show.legend = NA, inherit.aes = TRUE) {\n",
    "    layer(data = data, mapping = mapping, stat = stat, geom = GeomSplitViolin, \n",
    "          position = position, show.legend = show.legend, inherit.aes = inherit.aes, \n",
    "          params = list(trim = trim, scale = scale, draw_quantiles = draw_quantiles, na.rm = na.rm, ...))\n",
    "}"
   ]
  },
  {
   "cell_type": "code",
   "execution_count": 60,
   "id": "5f508f39",
   "metadata": {},
   "outputs": [
    {
     "data": {
      "image/png": "[encoded data removed]",
      "text/plain": [
       "plot without title"
      ]
     },
     "metadata": {
      "image/png": {
       "height": 78,
       "width": 66
      }
     },
     "output_type": "display_data"
    }
   ],
   "source": [
    " options(repr.plot.height=1.3, repr.plot.width=1.1)\n",
    "\n",
    "rbind( counts_wb[rownames(counts_wb) %in% keep.gene,] %>% edgeR::cpm() %>% data.frame() %>%\n",
    "filter(rownames(.) %in% gene.list[gene.list$ENSMBL %in% c(\"MARCO\"),1]) %>% \n",
    "data.frame() %>% mutate_all(as.numeric) %>% \n",
    "mutate( log2( . +1)) %>% t() %>% data.frame() %>% tibble::add_column(\"sample\"=rownames(.)) %>%\n",
    "reshape2::melt(. ,id.var=\"sample\") %>% merge(.,meta, by.x=\"sample\", by.y=\"sample_id\") ,\n",
    "counts_plasma[rownames(counts_plasma) %in% keep.gene,] %>% edgeR::cpm() %>% data.frame() %>%\n",
    "filter(rownames(.) %in% gene.list[gene.list$ENSMBL %in% c(\"MARCO\"),1]) %>% \n",
    "data.frame() %>% mutate_all(as.numeric) %>% \n",
    "mutate( log2( . +1)) %>% t() %>% data.frame() %>% tibble::add_column(\"sample\"=rownames(.)) %>%\n",
    "reshape2::melt(. ,id.var=\"sample\") %>% merge(.,meta, by.x=\"sample\", by.y=\"sample_id\") )%>% \n",
    "filter(value!=0)%>%data.frame() %>%\n",
    "    ggplot(aes(x=Biofluid, y=value, fill=tb))+ geom_split_violin()+\n",
    "    scale_fill_manual(values=c(\"#433F60\", \"#FF70A6\")) + theme_bw(base_size=8)+\n",
    "    ylab(\"log2(counts per million + 1)\")  +  scale_x_discrete(labels=c(\"Plasma\\ncfRNA\", \"WB\\nRNA\"))+\n",
    "theme(legend.position=\"none\",\n",
    "     axis.title.x=element_blank(),\n",
    "     axis.title=element_text(size=8, color=\"black\"),\n",
    "     axis.text=element_text(color=\"black\", size=8)) "
   ]
  },
  {
   "cell_type": "code",
   "execution_count": 61,
   "id": "8a978f39",
   "metadata": {
    "scrolled": true
   },
   "outputs": [
    {
     "data": {
      "text/html": [
       "<table class=\"dataframe\">\n",
       "<caption>A tibble: 2 × 9</caption>\n",
       "<thead>\n",
       "\t<tr><th scope=col>Biofluid</th><th scope=col>.y.</th><th scope=col>group1</th><th scope=col>group2</th><th scope=col>p</th><th scope=col>p.adj</th><th scope=col>p.format</th><th scope=col>p.signif</th><th scope=col>method</th></tr>\n",
       "\t<tr><th scope=col>&lt;chr&gt;</th><th scope=col>&lt;chr&gt;</th><th scope=col>&lt;chr&gt;</th><th scope=col>&lt;chr&gt;</th><th scope=col>&lt;dbl&gt;</th><th scope=col>&lt;dbl&gt;</th><th scope=col>&lt;chr&gt;</th><th scope=col>&lt;chr&gt;</th><th scope=col>&lt;chr&gt;</th></tr>\n",
       "</thead>\n",
       "<tbody>\n",
       "\t<tr><td>wb    </td><td>value</td><td>Negative</td><td>Positive</td><td>0.1483142509</td><td>0.1500</td><td>0.1483</td><td>ns </td><td>Wilcoxon</td></tr>\n",
       "\t<tr><td>plasma</td><td>value</td><td>Negative</td><td>Positive</td><td>0.0007993474</td><td>0.0016</td><td>0.0008</td><td>***</td><td>Wilcoxon</td></tr>\n",
       "</tbody>\n",
       "</table>\n"
      ],
      "text/latex": [
       "A tibble: 2 × 9\n",
       "\\begin{tabular}{lllllllll}\n",
       " Biofluid & .y. & group1 & group2 & p & p.adj & p.format & p.signif & method\\\\\n",
       " <chr> & <chr> & <chr> & <chr> & <dbl> & <dbl> & <chr> & <chr> & <chr>\\\\\n",
       "\\hline\n",
       "\t wb     & value & Negative & Positive & 0.1483142509 & 0.1500 & 0.1483 & ns  & Wilcoxon\\\\\n",
       "\t plasma & value & Negative & Positive & 0.0007993474 & 0.0016 & 0.0008 & *** & Wilcoxon\\\\\n",
       "\\end{tabular}\n"
      ],
      "text/markdown": [
       "\n",
       "A tibble: 2 × 9\n",
       "\n",
       "| Biofluid &lt;chr&gt; | .y. &lt;chr&gt; | group1 &lt;chr&gt; | group2 &lt;chr&gt; | p &lt;dbl&gt; | p.adj &lt;dbl&gt; | p.format &lt;chr&gt; | p.signif &lt;chr&gt; | method &lt;chr&gt; |\n",
       "|---|---|---|---|---|---|---|---|---|\n",
       "| wb     | value | Negative | Positive | 0.1483142509 | 0.1500 | 0.1483 | ns  | Wilcoxon |\n",
       "| plasma | value | Negative | Positive | 0.0007993474 | 0.0016 | 0.0008 | *** | Wilcoxon |\n",
       "\n"
      ],
      "text/plain": [
       "  Biofluid .y.   group1   group2   p            p.adj  p.format p.signif\n",
       "1 wb       value Negative Positive 0.1483142509 0.1500 0.1483   ns      \n",
       "2 plasma   value Negative Positive 0.0007993474 0.0016 0.0008   ***     \n",
       "  method  \n",
       "1 Wilcoxon\n",
       "2 Wilcoxon"
      ]
     },
     "metadata": {},
     "output_type": "display_data"
    }
   ],
   "source": [
    "rbind( counts_wb[rownames(counts_wb) %in% keep.gene,] %>% edgeR::cpm() %>% data.frame() %>%\n",
    "filter(rownames(.) %in% gene.list[gene.list$ENSMBL %in% c(\"MARCO\"),1]) %>% \n",
    "data.frame() %>% mutate_all(as.numeric) %>% \n",
    "mutate( log2( . +1)) %>% t() %>% data.frame() %>% tibble::add_column(\"sample\"=rownames(.)) %>%\n",
    "reshape2::melt(. ,id.var=\"sample\") %>% merge(.,meta, by.x=\"sample\", by.y=\"sample_id\") ,\n",
    "counts_plasma[rownames(counts_plasma) %in% keep.gene,] %>% edgeR::cpm() %>% data.frame() %>%\n",
    "filter(rownames(.) %in% gene.list[gene.list$ENSMBL %in% c(\"MARCO\"),1]) %>% \n",
    "data.frame() %>% mutate_all(as.numeric) %>% \n",
    "mutate( log2( . +1)) %>% t() %>% data.frame() %>% tibble::add_column(\"sample\"=rownames(.)) %>%\n",
    "reshape2::melt(. ,id.var=\"sample\") %>% merge(.,meta, by.x=\"sample\", by.y=\"sample_id\") )%>% \n",
    "filter(value!=0)%>%data.frame()  %>%\n",
    "compare_means(data = ., value~tb, group.by=\"Biofluid\")"
   ]
  },
  {
   "cell_type": "code",
   "execution_count": 62,
   "id": "27a9ade7",
   "metadata": {},
   "outputs": [
    {
     "data": {
      "text/html": [
       "852"
      ],
      "text/latex": [
       "852"
      ],
      "text/markdown": [
       "852"
      ],
      "text/plain": [
       "[1] 852"
      ]
     },
     "metadata": {},
     "output_type": "display_data"
    },
    {
     "data": {
      "text/html": [
       "357"
      ],
      "text/latex": [
       "357"
      ],
      "text/markdown": [
       "357"
      ],
      "text/plain": [
       "[1] 357"
      ]
     },
     "metadata": {},
     "output_type": "display_data"
    },
    {
     "data": {
      "text/html": [
       "432"
      ],
      "text/latex": [
       "432"
      ],
      "text/markdown": [
       "432"
      ],
      "text/plain": [
       "[1] 432"
      ]
     },
     "metadata": {},
     "output_type": "display_data"
    }
   ],
   "source": [
    "int+u_wb+u_pl\n",
    "u_wb\n",
    "u_pl"
   ]
  },
  {
   "cell_type": "code",
   "execution_count": 63,
   "id": "7ec98455",
   "metadata": {},
   "outputs": [
    {
     "name": "stderr",
     "output_type": "stream",
     "text": [
      "Warning message:\n",
      "“Detected the following probable line magics. They do not work in R Markdown.\n",
      "\n",
      "  colors = pal”\n"
     ]
    }
   ],
   "source": [
    "library(rmarkdown)\n",
    "convert_ipynb(\"Fig4_code.ipynb\", output = xfun::with_ext(\"Fig4_code\", \"Rmd\"))"
   ]
  },
  {
   "cell_type": "code",
   "execution_count": 61,
   "id": "3903baa9-0f96-426f-b19b-1d455d9813a6",
   "metadata": {},
   "outputs": [
    {
     "data": {
      "text/html": [
       "<table class=\"dataframe\">\n",
       "<caption>A data.frame: 6 × 10</caption>\n",
       "<thead>\n",
       "\t<tr><th></th><th scope=col>sample_id</th><th scope=col>newtot</th><th scope=col>celltype</th><th scope=col>fraction</th><th scope=col>site</th><th scope=col>cohort</th><th scope=col>hiv</th><th scope=col>tb</th><th scope=col>Biofluid</th><th scope=col>newfraction</th></tr>\n",
       "\t<tr><th></th><th scope=col>&lt;chr&gt;</th><th scope=col>&lt;dbl&gt;</th><th scope=col>&lt;fct&gt;</th><th scope=col>&lt;dbl&gt;</th><th scope=col>&lt;chr&gt;</th><th scope=col>&lt;chr&gt;</th><th scope=col>&lt;chr&gt;</th><th scope=col>&lt;chr&gt;</th><th scope=col>&lt;chr&gt;</th><th scope=col>&lt;dbl&gt;</th></tr>\n",
       "</thead>\n",
       "<tbody>\n",
       "\t<tr><th scope=row>2</th><td>GHL1_combined_61bp</td><td>0.9563631</td><td>Intrahepatic.cholangiocyte</td><td>1.883862e-04</td><td>Mulago</td><td>GHL</td><td>Negative</td><td>negative</td><td>plasma</td><td>1.969818e-04</td></tr>\n",
       "\t<tr><th scope=row>3</th><td>GHL1_combined_61bp</td><td>0.9563631</td><td>Respiratory.secretory.cell</td><td>1.402726e-05</td><td>Mulago</td><td>GHL</td><td>Negative</td><td>negative</td><td>plasma</td><td>1.466729e-05</td></tr>\n",
       "\t<tr><th scope=row>4</th><td>GHL1_combined_61bp</td><td>0.9563631</td><td>Basal.cell                </td><td>2.804191e-05</td><td>Mulago</td><td>GHL</td><td>Negative</td><td>negative</td><td>plasma</td><td>2.932141e-05</td></tr>\n",
       "\t<tr><th scope=row>5</th><td>GHL1_combined_61bp</td><td>0.9563631</td><td>Endothelial.cell          </td><td>1.738847e-01</td><td>Mulago</td><td>GHL</td><td>Negative</td><td>negative</td><td>plasma</td><td>1.818187e-01</td></tr>\n",
       "\t<tr><th scope=row>6</th><td>GHL1_combined_61bp</td><td>0.9563631</td><td>Basal.prostate.cell       </td><td>3.352356e-05</td><td>Mulago</td><td>GHL</td><td>Negative</td><td>negative</td><td>plasma</td><td>3.505317e-05</td></tr>\n",
       "\t<tr><th scope=row>7</th><td>GHL1_combined_61bp</td><td>0.9563631</td><td>Cell.of.skeletal.muscle   </td><td>8.394593e-05</td><td>Mulago</td><td>GHL</td><td>Negative</td><td>negative</td><td>plasma</td><td>8.777621e-05</td></tr>\n",
       "</tbody>\n",
       "</table>\n"
      ],
      "text/latex": [
       "A data.frame: 6 × 10\n",
       "\\begin{tabular}{r|llllllllll}\n",
       "  & sample\\_id & newtot & celltype & fraction & site & cohort & hiv & tb & Biofluid & newfraction\\\\\n",
       "  & <chr> & <dbl> & <fct> & <dbl> & <chr> & <chr> & <chr> & <chr> & <chr> & <dbl>\\\\\n",
       "\\hline\n",
       "\t2 & GHL1\\_combined\\_61bp & 0.9563631 & Intrahepatic.cholangiocyte & 1.883862e-04 & Mulago & GHL & Negative & negative & plasma & 1.969818e-04\\\\\n",
       "\t3 & GHL1\\_combined\\_61bp & 0.9563631 & Respiratory.secretory.cell & 1.402726e-05 & Mulago & GHL & Negative & negative & plasma & 1.466729e-05\\\\\n",
       "\t4 & GHL1\\_combined\\_61bp & 0.9563631 & Basal.cell                 & 2.804191e-05 & Mulago & GHL & Negative & negative & plasma & 2.932141e-05\\\\\n",
       "\t5 & GHL1\\_combined\\_61bp & 0.9563631 & Endothelial.cell           & 1.738847e-01 & Mulago & GHL & Negative & negative & plasma & 1.818187e-01\\\\\n",
       "\t6 & GHL1\\_combined\\_61bp & 0.9563631 & Basal.prostate.cell        & 3.352356e-05 & Mulago & GHL & Negative & negative & plasma & 3.505317e-05\\\\\n",
       "\t7 & GHL1\\_combined\\_61bp & 0.9563631 & Cell.of.skeletal.muscle    & 8.394593e-05 & Mulago & GHL & Negative & negative & plasma & 8.777621e-05\\\\\n",
       "\\end{tabular}\n"
      ],
      "text/markdown": [
       "\n",
       "A data.frame: 6 × 10\n",
       "\n",
       "| <!--/--> | sample_id &lt;chr&gt; | newtot &lt;dbl&gt; | celltype &lt;fct&gt; | fraction &lt;dbl&gt; | site &lt;chr&gt; | cohort &lt;chr&gt; | hiv &lt;chr&gt; | tb &lt;chr&gt; | Biofluid &lt;chr&gt; | newfraction &lt;dbl&gt; |\n",
       "|---|---|---|---|---|---|---|---|---|---|---|\n",
       "| 2 | GHL1_combined_61bp | 0.9563631 | Intrahepatic.cholangiocyte | 1.883862e-04 | Mulago | GHL | Negative | negative | plasma | 1.969818e-04 |\n",
       "| 3 | GHL1_combined_61bp | 0.9563631 | Respiratory.secretory.cell | 1.402726e-05 | Mulago | GHL | Negative | negative | plasma | 1.466729e-05 |\n",
       "| 4 | GHL1_combined_61bp | 0.9563631 | Basal.cell                 | 2.804191e-05 | Mulago | GHL | Negative | negative | plasma | 2.932141e-05 |\n",
       "| 5 | GHL1_combined_61bp | 0.9563631 | Endothelial.cell           | 1.738847e-01 | Mulago | GHL | Negative | negative | plasma | 1.818187e-01 |\n",
       "| 6 | GHL1_combined_61bp | 0.9563631 | Basal.prostate.cell        | 3.352356e-05 | Mulago | GHL | Negative | negative | plasma | 3.505317e-05 |\n",
       "| 7 | GHL1_combined_61bp | 0.9563631 | Cell.of.skeletal.muscle    | 8.394593e-05 | Mulago | GHL | Negative | negative | plasma | 8.777621e-05 |\n",
       "\n"
      ],
      "text/plain": [
       "  sample_id          newtot    celltype                   fraction     site  \n",
       "2 GHL1_combined_61bp 0.9563631 Intrahepatic.cholangiocyte 1.883862e-04 Mulago\n",
       "3 GHL1_combined_61bp 0.9563631 Respiratory.secretory.cell 1.402726e-05 Mulago\n",
       "4 GHL1_combined_61bp 0.9563631 Basal.cell                 2.804191e-05 Mulago\n",
       "5 GHL1_combined_61bp 0.9563631 Endothelial.cell           1.738847e-01 Mulago\n",
       "6 GHL1_combined_61bp 0.9563631 Basal.prostate.cell        3.352356e-05 Mulago\n",
       "7 GHL1_combined_61bp 0.9563631 Cell.of.skeletal.muscle    8.394593e-05 Mulago\n",
       "  cohort hiv      tb       Biofluid newfraction \n",
       "2 GHL    Negative negative plasma   1.969818e-04\n",
       "3 GHL    Negative negative plasma   1.466729e-05\n",
       "4 GHL    Negative negative plasma   2.932141e-05\n",
       "5 GHL    Negative negative plasma   1.818187e-01\n",
       "6 GHL    Negative negative plasma   3.505317e-05\n",
       "7 GHL    Negative negative plasma   8.777621e-05"
      ]
     },
     "metadata": {},
     "output_type": "display_data"
    }
   ],
   "source": [
    "head(res_melt_solid)"
   ]
  },
  {
   "cell_type": "code",
   "execution_count": 57,
   "id": "938c286f-6a7d-4b86-a3dd-b7b7e6a298ac",
   "metadata": {},
   "outputs": [],
   "source": [
    "my_comparisons <- list(c(\"Cohort1\", \"Cohort2\"), c(\"Cohort1\", \"Cohort3\"))\n",
    "my_comparisons <- list( c(\"END TB\", \"WBRNA\"), c(\"R2D2\", \"WBRNA\"), c(\"TBSQUARE\", \"WBRNA\") )"
   ]
  },
  {
   "cell_type": "code",
   "execution_count": 58,
   "id": "99c92b8a-590e-450b-b65b-0296dd7e31af",
   "metadata": {},
   "outputs": [
    {
     "data": {
      "text/plain": [
       "\n",
       "     GHL     R2D2 TBSQUARE    WBRNA \n",
       "    2046     2156     1320     1320 "
      ]
     },
     "metadata": {},
     "output_type": "display_data"
    }
   ],
   "source": [
    "table(res_melt_solid$cohort)"
   ]
  },
  {
   "cell_type": "code",
   "execution_count": 59,
   "id": "23131913-113c-472c-97f6-9b53a1486dbb",
   "metadata": {},
   "outputs": [
    {
     "name": "stderr",
     "output_type": "stream",
     "text": [
      "Warning message:\n",
      "“\u001b[1m\u001b[22mComputation failed in `stat_signif()`\n",
      "Caused by error in `if (scales$x$map(comp[1]) == data$group[1] | manual) ...`:\n",
      "\u001b[33m!\u001b[39m missing value where TRUE/FALSE needed”\n"
     ]
    },
    {
     "data": {
      "image/png": "[encoded data removed]",
      "text/plain": [
       "plot without title"
      ]
     },
     "metadata": {
      "image/png": {
       "height": 108,
       "width": 180
      }
     },
     "output_type": "display_data"
    }
   ],
   "source": [
    "p <- res_melt_solid %>% \n",
    "  mutate(celltype = factor(celltype, levels = genes)) %>% \n",
    "  group_by(sample_id, cohort) %>% \n",
    "  summarise(val = sum(newfraction), .groups = \"drop\") %>%\n",
    "  ggplot(aes(x = cohort, y = val, fill = cohort)) + \n",
    "  geom_boxplot() + \n",
    "  theme_bw(base_size = 8) + \n",
    "  stat_compare_means(method = \"wilcox.test\", comparisons = my_comparisons) +\n",
    "  scale_x_discrete(labels = c(\"END TB\\nn = 98\", \"R2D2\\nn = 100\", \"TB2 (Plasma)\\nn = 60\", \"TB2 (WB)\\nn = 60\")) + \n",
    "  theme(axis.title.x = element_blank(),\n",
    "        axis.text.x = element_text(color = \"black\", angle = 45, hjust = 1, vjust = 1, size = 9),\n",
    "        axis.text.y = element_text(color = \"black\", size = 9),\n",
    "        axis.title.y = element_text(color = \"black\", size = 12),\n",
    "        legend.position = \"none\", panel.border = element_rect(size = 1.5, color = \"black\")) + \n",
    "  ylab(\"Solid Organ Fraction\") +\n",
    "  ylim(0, 1) +\n",
    "  scale_fill_manual(values = c(\"#00D2DE\", \"#B5179E\", \"#96BE25\", \"#F88C1A\"))\n",
    "\n",
    "p"
   ]
  },
  {
   "cell_type": "code",
   "execution_count": 49,
   "id": "911d6b04-68a9-46d1-8eb2-2d2e22487446",
   "metadata": {},
   "outputs": [
    {
     "ename": "ERROR",
     "evalue": "Error in group_by(sample_id, cohort): object 'sample_id' not found\n",
     "output_type": "error",
     "traceback": [
      "Error in group_by(sample_id, cohort): object 'sample_id' not found\nTraceback:\n",
      "1. group_by(sample_id, cohort) %>% summarise(val = sum(newfraction), \n .     .groups = \"drop\")",
      "2. summarise(., val = sum(newfraction), .groups = \"drop\")",
      "3. group_by(sample_id, cohort)"
     ]
    }
   ],
   "source": [
    "group_by(sample_id, cohort) %>% \n",
    "summarise(val = sum(newfraction), .groups = \"drop\")\n"
   ]
  },
  {
   "cell_type": "code",
   "execution_count": 60,
   "id": "d7f183ad-36ed-4175-809c-e0dfa7e5ceec",
   "metadata": {},
   "outputs": [
    {
     "name": "stderr",
     "output_type": "stream",
     "text": [
      "Warning message:\n",
      "“\u001b[1m\u001b[22mComputation failed in `stat_signif()`\n",
      "Caused by error in `if (scales$x$map(comp[1]) == data$group[1] | manual) ...`:\n",
      "\u001b[33m!\u001b[39m missing value where TRUE/FALSE needed”\n"
     ]
    },
    {
     "data": {
      "image/png": "[encoded data removed]",
      "text/plain": [
       "plot without title"
      ]
     },
     "metadata": {
      "image/png": {
       "height": 108,
       "width": 180
      }
     },
     "output_type": "display_data"
    }
   ],
   "source": [
    "# Ensure this list matches your data's cohort names\n",
    "my_comparisons <- list(c(\"END TB\", \"TB2 (Plasma)\"), c(\"R2D2\", \"TB2 (Plasma)\"), c(\"TB2 (Plasma)\", \"TB2 (WB)\"))\n",
    "\n",
    "p <- res_melt_solid %>% \n",
    "  mutate(celltype = factor(celltype, levels = genes)) %>% \n",
    "  group_by(sample_id, cohort) %>% \n",
    "  summarise(val = sum(newfraction), .groups = \"drop\") %>%\n",
    "  ggplot(aes(x = cohort, y = val, fill = cohort)) + \n",
    "  geom_boxplot() + \n",
    "  theme_bw(base_size = 8) + \n",
    "  stat_compare_means(method = \"wilcox.test\", comparisons = my_comparisons) +\n",
    "  scale_x_discrete(labels = c(\"END TB\\nn = 98\", \"R2D2\\nn = 100\", \"TB2 (Plasma)\\nn = 60\", \"TB2 (WB)\\nn = 60\")) + \n",
    "  theme(axis.title.x = element_blank(),\n",
    "        axis.text.x = element_text(color = \"black\", angle = 45, hjust = 1, vjust = 1, size = 9),\n",
    "        axis.text.y = element_text(color = \"black\", size = 9),\n",
    "        axis.title.y = element_text(color = \"black\", size = 12),\n",
    "        legend.position = \"none\", panel.border = element_rect(size = 1.5, color = \"black\")) + \n",
    "  ylab(\"Solid Organ Fraction\") +\n",
    "  ylim(0, 1) +\n",
    "  scale_fill_manual(values = c(\"#00D2DE\", \"#B5179E\", \"#96BE25\", \"#F88C1A\"))\n",
    "\n",
    "p\n"
   ]
  },
  {
   "cell_type": "code",
   "execution_count": 62,
   "id": "d468d4e6-cd08-495e-8f30-2091f3238cc9",
   "metadata": {},
   "outputs": [
    {
     "name": "stdout",
     "output_type": "stream",
     "text": [
      "\u001b[90m# A tibble: 4 × 3\u001b[39m\n",
      "  cohort   average std_dev\n",
      "  \u001b[3m\u001b[90m<chr>\u001b[39m\u001b[23m      \u001b[3m\u001b[90m<dbl>\u001b[39m\u001b[23m   \u001b[3m\u001b[90m<dbl>\u001b[39m\u001b[23m\n",
      "\u001b[90m1\u001b[39m GHL       0.234   0.076\u001b[4m8\u001b[24m\n",
      "\u001b[90m2\u001b[39m R2D2      0.391   0.139 \n",
      "\u001b[90m3\u001b[39m TBSQUARE  0.333   0.181 \n",
      "\u001b[90m4\u001b[39m WBRNA     0.025\u001b[4m6\u001b[24m  0.024\u001b[4m3\u001b[24m\n"
     ]
    }
   ],
   "source": [
    "library(dplyr)\n",
    "\n",
    "# First, summarize the data as you did for the plot\n",
    "summarized_data <- res_melt_solid %>% \n",
    "  mutate(celltype = factor(celltype, levels = genes)) %>% \n",
    "  group_by(sample_id, cohort) %>% \n",
    "  summarise(val = sum(newfraction), .groups = \"drop\")\n",
    "\n",
    "# Now, calculate mean and standard deviation for each cohort\n",
    "cohort_summary <- summarized_data %>%\n",
    "  group_by(cohort) %>%\n",
    "  summarise(\n",
    "    average = mean(val), \n",
    "    std_dev = sd(val)\n",
    "  )\n",
    "\n",
    "# View the summary\n",
    "print(cohort_summary)\n"
   ]
  },
  {
   "cell_type": "code",
   "execution_count": 64,
   "id": "a4b2dffe-dcce-4752-9f78-3ad5708469ab",
   "metadata": {},
   "outputs": [
    {
     "name": "stdout",
     "output_type": "stream",
     "text": [
      "                  GHL         R2D2     TBSQUARE\n",
      "R2D2     5.031371e-17           NA           NA\n",
      "TBSQUARE 1.139116e-04 1.223543e-03           NA\n",
      "WBRNA    1.313833e-24 3.723268e-25 9.135682e-21\n"
     ]
    },
    {
     "data": {
      "text/html": [
       "<style>\n",
       ".dl-inline {width: auto; margin:0; padding: 0}\n",
       ".dl-inline>dt, .dl-inline>dd {float: none; width: auto; display: inline-block}\n",
       ".dl-inline>dt::after {content: \":\\0020\"; padding-right: .5ex}\n",
       ".dl-inline>dt:not(:first-of-type) {padding-left: .5ex}\n",
       "</style><dl class=dl-inline><dt>GHL</dt><dd>4.37944192032707e-25</dd><dt>R2D2</dt><dd>6.20544646061426e-26</dd><dt>TBSQUARE</dt><dd>4.56784091382928e-21</dd></dl>\n"
      ],
      "text/latex": [
       "\\begin{description*}\n",
       "\\item[GHL] 4.37944192032707e-25\n",
       "\\item[R2D2] 6.20544646061426e-26\n",
       "\\item[TBSQUARE] 4.56784091382928e-21\n",
       "\\end{description*}\n"
      ],
      "text/markdown": [
       "GHL\n",
       ":   4.37944192032707e-25R2D2\n",
       ":   6.20544646061426e-26TBSQUARE\n",
       ":   4.56784091382928e-21\n",
       "\n"
      ],
      "text/plain": [
       "         GHL         R2D2     TBSQUARE \n",
       "4.379442e-25 6.205446e-26 4.567841e-21 "
      ]
     },
     "metadata": {},
     "output_type": "display_data"
    }
   ],
   "source": [
    "library(dplyr)\n",
    "\n",
    "# First, prepare the data as you did for the plot\n",
    "summarized_data <- res_melt_solid %>% \n",
    "  mutate(celltype = factor(celltype, levels = genes)) %>% \n",
    "  group_by(sample_id, cohort) %>% \n",
    "  summarise(val = sum(newfraction), .groups = \"drop\")\n",
    "\n",
    "# Perform pairwise Wilcoxon tests\n",
    "pairwise_results <- pairwise.wilcox.test(summarized_data$val, summarized_data$cohort, \n",
    "                                         p.adjust.method = \"BH\")  # Adjust for multiple comparisons using Benjamini-Hochberg method\n",
    "\n",
    "# Extract the p-values\n",
    "p_values <- pairwise_results$p.value\n",
    "\n",
    "# Display the p-values\n",
    "print(p_values)\n",
    "\n",
    "# If you want to specifically compare each cohort against \"WBRNA\"\n",
    "specific_comparisons <- sapply(unique(summarized_data$cohort), function(x) {\n",
    "  if (x != \"WBRNA\") {\n",
    "    test_result <- wilcox.test(summarized_data$val[summarized_data$cohort == x],\n",
    "                               summarized_data$val[summarized_data$cohort == \"WBRNA\"])\n",
    "    return(test_result$p.value)\n",
    "  }\n",
    "  return(NA)\n",
    "})\n",
    "\n",
    "names(specific_comparisons) <- unique(summarized_data$cohort)\n",
    "specific_comparisons <- specific_comparisons[!is.na(specific_comparisons)]\n",
    "\n",
    "# Display the specific comparison p-values\n",
    "(specific_comparisons)\n"
   ]
  },
  {
   "cell_type": "code",
   "execution_count": 84,
   "id": "b41e9698-b5d8-423d-b2b8-482617527056",
   "metadata": {},
   "outputs": [
    {
     "data": {
      "text/html": [
       "<table class=\"dataframe\">\n",
       "<caption>A data.frame: 6 × 5</caption>\n",
       "<thead>\n",
       "\t<tr><th></th><th scope=col>sample_id</th><th scope=col>site</th><th scope=col>cohort</th><th scope=col>hiv</th><th scope=col>tb</th></tr>\n",
       "\t<tr><th></th><th scope=col>&lt;chr&gt;</th><th scope=col>&lt;chr&gt;</th><th scope=col>&lt;chr&gt;</th><th scope=col>&lt;chr&gt;</th><th scope=col>&lt;chr&gt;</th></tr>\n",
       "</thead>\n",
       "<tbody>\n",
       "\t<tr><th scope=row>1</th><td>TBSQUARE_WBRNA_553</td><td>Uganda</td><td>TBSQUARE</td><td>Negative</td><td>Positive</td></tr>\n",
       "\t<tr><th scope=row>2</th><td>TBSQUARE_WBRNA_561</td><td>Uganda</td><td>TBSQUARE</td><td>Negative</td><td>Positive</td></tr>\n",
       "\t<tr><th scope=row>3</th><td>TBSQUARE_WBRNA_554</td><td>Uganda</td><td>TBSQUARE</td><td>Negative</td><td>Negative</td></tr>\n",
       "\t<tr><th scope=row>4</th><td>TBSQUARE_WBRNA_555</td><td>Uganda</td><td>TBSQUARE</td><td>Negative</td><td>Positive</td></tr>\n",
       "\t<tr><th scope=row>5</th><td>TBSQUARE_WBRNA_564</td><td>Uganda</td><td>TBSQUARE</td><td>Negative</td><td>Negative</td></tr>\n",
       "\t<tr><th scope=row>6</th><td>TBSQUARE_WBRNA_557</td><td>Uganda</td><td>TBSQUARE</td><td>Negative</td><td>Negative</td></tr>\n",
       "</tbody>\n",
       "</table>\n"
      ],
      "text/latex": [
       "A data.frame: 6 × 5\n",
       "\\begin{tabular}{r|lllll}\n",
       "  & sample\\_id & site & cohort & hiv & tb\\\\\n",
       "  & <chr> & <chr> & <chr> & <chr> & <chr>\\\\\n",
       "\\hline\n",
       "\t1 & TBSQUARE\\_WBRNA\\_553 & Uganda & TBSQUARE & Negative & Positive\\\\\n",
       "\t2 & TBSQUARE\\_WBRNA\\_561 & Uganda & TBSQUARE & Negative & Positive\\\\\n",
       "\t3 & TBSQUARE\\_WBRNA\\_554 & Uganda & TBSQUARE & Negative & Negative\\\\\n",
       "\t4 & TBSQUARE\\_WBRNA\\_555 & Uganda & TBSQUARE & Negative & Positive\\\\\n",
       "\t5 & TBSQUARE\\_WBRNA\\_564 & Uganda & TBSQUARE & Negative & Negative\\\\\n",
       "\t6 & TBSQUARE\\_WBRNA\\_557 & Uganda & TBSQUARE & Negative & Negative\\\\\n",
       "\\end{tabular}\n"
      ],
      "text/markdown": [
       "\n",
       "A data.frame: 6 × 5\n",
       "\n",
       "| <!--/--> | sample_id &lt;chr&gt; | site &lt;chr&gt; | cohort &lt;chr&gt; | hiv &lt;chr&gt; | tb &lt;chr&gt; |\n",
       "|---|---|---|---|---|---|\n",
       "| 1 | TBSQUARE_WBRNA_553 | Uganda | TBSQUARE | Negative | Positive |\n",
       "| 2 | TBSQUARE_WBRNA_561 | Uganda | TBSQUARE | Negative | Positive |\n",
       "| 3 | TBSQUARE_WBRNA_554 | Uganda | TBSQUARE | Negative | Negative |\n",
       "| 4 | TBSQUARE_WBRNA_555 | Uganda | TBSQUARE | Negative | Positive |\n",
       "| 5 | TBSQUARE_WBRNA_564 | Uganda | TBSQUARE | Negative | Negative |\n",
       "| 6 | TBSQUARE_WBRNA_557 | Uganda | TBSQUARE | Negative | Negative |\n",
       "\n"
      ],
      "text/plain": [
       "  sample_id          site   cohort   hiv      tb      \n",
       "1 TBSQUARE_WBRNA_553 Uganda TBSQUARE Negative Positive\n",
       "2 TBSQUARE_WBRNA_561 Uganda TBSQUARE Negative Positive\n",
       "3 TBSQUARE_WBRNA_554 Uganda TBSQUARE Negative Negative\n",
       "4 TBSQUARE_WBRNA_555 Uganda TBSQUARE Negative Positive\n",
       "5 TBSQUARE_WBRNA_564 Uganda TBSQUARE Negative Negative\n",
       "6 TBSQUARE_WBRNA_557 Uganda TBSQUARE Negative Negative"
      ]
     },
     "metadata": {},
     "output_type": "display_data"
    },
    {
     "data": {
      "text/html": [
       "<table class=\"dataframe\">\n",
       "<caption>A data.frame: 6 × 37</caption>\n",
       "<thead>\n",
       "\t<tr><th></th><th scope=col>sample_id</th><th scope=col>micro_ref_stndrd</th><th scope=col>hiv</th><th scope=col>sex</th><th scope=col>age</th><th scope=col>site</th><th scope=col>CAD4TB_score</th><th scope=col>qXR_score</th><th scope=col>Lunit_score</th><th scope=col>cohort</th><th scope=col>⋯</th><th scope=col>intergenic_reads</th><th scope=col>rRNA_reads</th><th scope=col>mtRNA_reads</th><th scope=col>nuclear_reads</th><th scope=col>passQC</th><th scope=col>rRNA_fraction</th><th scope=col>tb</th><th scope=col>tb_binary</th><th scope=col>sample_group_granular</th><th scope=col>semiquant</th></tr>\n",
       "\t<tr><th></th><th scope=col>&lt;chr&gt;</th><th scope=col>&lt;chr&gt;</th><th scope=col>&lt;chr&gt;</th><th scope=col>&lt;chr&gt;</th><th scope=col>&lt;int&gt;</th><th scope=col>&lt;chr&gt;</th><th scope=col>&lt;dbl&gt;</th><th scope=col>&lt;dbl&gt;</th><th scope=col>&lt;dbl&gt;</th><th scope=col>&lt;chr&gt;</th><th scope=col>⋯</th><th scope=col>&lt;dbl&gt;</th><th scope=col>&lt;int&gt;</th><th scope=col>&lt;int&gt;</th><th scope=col>&lt;int&gt;</th><th scope=col>&lt;lgl&gt;</th><th scope=col>&lt;dbl&gt;</th><th scope=col>&lt;chr&gt;</th><th scope=col>&lt;int&gt;</th><th scope=col>&lt;chr&gt;</th><th scope=col>&lt;chr&gt;</th></tr>\n",
       "</thead>\n",
       "<tbody>\n",
       "\t<tr><th scope=row>1</th><td>TBSQUARE_553_combined_61bp</td><td>TB Positive</td><td>Negative</td><td>Male  </td><td>40</td><td>Uganda</td><td>52.18</td><td>0.750</td><td>10.45</td><td>TBSQUARE</td><td>⋯</td><td> 110844.5</td><td> 49715</td><td> 27582</td><td> 222117</td><td>TRUE</td><td>0.1660410</td><td>positive</td><td>1</td><td>positive_TBSQUARE_HIVNegative</td><td>High  </td></tr>\n",
       "\t<tr><th scope=row>2</th><td>TBSQUARE_554_combined_61bp</td><td>TB Negative</td><td>Negative</td><td>Female</td><td>32</td><td>Uganda</td><td>46.19</td><td>0.029</td><td> 4.05</td><td>TBSQUARE</td><td>⋯</td><td>1284694.5</td><td>711421</td><td>671337</td><td>1597402</td><td>TRUE</td><td>0.2387191</td><td>negative</td><td>0</td><td>negative_TBSQUARE_HIVNegative</td><td>NA    </td></tr>\n",
       "\t<tr><th scope=row>3</th><td>TBSQUARE_555_combined_61bp</td><td>TB Positive</td><td>Negative</td><td>Female</td><td>22</td><td>Uganda</td><td>95.08</td><td>0.931</td><td>31.83</td><td>TBSQUARE</td><td>⋯</td><td> 621262.0</td><td>254790</td><td> 47048</td><td>1075502</td><td>TRUE</td><td>0.1849870</td><td>positive</td><td>1</td><td>positive_TBSQUARE_HIVNegative</td><td>Medium</td></tr>\n",
       "\t<tr><th scope=row>4</th><td>TBSQUARE_557_combined_61bp</td><td>TB Negative</td><td>Negative</td><td>Male  </td><td>39</td><td>Uganda</td><td>60.99</td><td>0.848</td><td>39.51</td><td>TBSQUARE</td><td>⋯</td><td>2612985.0</td><td>981575</td><td>337375</td><td>2949395</td><td>TRUE</td><td>0.2299662</td><td>negative</td><td>0</td><td>negative_TBSQUARE_HIVNegative</td><td>NA    </td></tr>\n",
       "\t<tr><th scope=row>5</th><td>TBSQUARE_561_combined_61bp</td><td>TB Positive</td><td>Negative</td><td>Male  </td><td>30</td><td>Uganda</td><td>84.33</td><td>0.827</td><td>55.04</td><td>TBSQUARE</td><td>⋯</td><td> 280061.0</td><td>116883</td><td> 52633</td><td> 576244</td><td>TRUE</td><td>0.1567300</td><td>positive</td><td>1</td><td>positive_TBSQUARE_HIVNegative</td><td>Medium</td></tr>\n",
       "\t<tr><th scope=row>6</th><td>TBSQUARE_564_combined_61bp</td><td>TB Negative</td><td>Negative</td><td>Male  </td><td>31</td><td>Uganda</td><td>43.59</td><td>0.515</td><td> 8.71</td><td>TBSQUARE</td><td>⋯</td><td> 656620.5</td><td>266199</td><td> 64047</td><td>1245500</td><td>TRUE</td><td>0.1689352</td><td>negative</td><td>0</td><td>negative_TBSQUARE_HIVNegative</td><td>NA    </td></tr>\n",
       "</tbody>\n",
       "</table>\n"
      ],
      "text/latex": [
       "A data.frame: 6 × 37\n",
       "\\begin{tabular}{r|lllllllllllllllllllll}\n",
       "  & sample\\_id & micro\\_ref\\_stndrd & hiv & sex & age & site & CAD4TB\\_score & qXR\\_score & Lunit\\_score & cohort & ⋯ & intergenic\\_reads & rRNA\\_reads & mtRNA\\_reads & nuclear\\_reads & passQC & rRNA\\_fraction & tb & tb\\_binary & sample\\_group\\_granular & semiquant\\\\\n",
       "  & <chr> & <chr> & <chr> & <chr> & <int> & <chr> & <dbl> & <dbl> & <dbl> & <chr> & ⋯ & <dbl> & <int> & <int> & <int> & <lgl> & <dbl> & <chr> & <int> & <chr> & <chr>\\\\\n",
       "\\hline\n",
       "\t1 & TBSQUARE\\_553\\_combined\\_61bp & TB Positive & Negative & Male   & 40 & Uganda & 52.18 & 0.750 & 10.45 & TBSQUARE & ⋯ &  110844.5 &  49715 &  27582 &  222117 & TRUE & 0.1660410 & positive & 1 & positive\\_TBSQUARE\\_HIVNegative & High  \\\\\n",
       "\t2 & TBSQUARE\\_554\\_combined\\_61bp & TB Negative & Negative & Female & 32 & Uganda & 46.19 & 0.029 &  4.05 & TBSQUARE & ⋯ & 1284694.5 & 711421 & 671337 & 1597402 & TRUE & 0.2387191 & negative & 0 & negative\\_TBSQUARE\\_HIVNegative & NA    \\\\\n",
       "\t3 & TBSQUARE\\_555\\_combined\\_61bp & TB Positive & Negative & Female & 22 & Uganda & 95.08 & 0.931 & 31.83 & TBSQUARE & ⋯ &  621262.0 & 254790 &  47048 & 1075502 & TRUE & 0.1849870 & positive & 1 & positive\\_TBSQUARE\\_HIVNegative & Medium\\\\\n",
       "\t4 & TBSQUARE\\_557\\_combined\\_61bp & TB Negative & Negative & Male   & 39 & Uganda & 60.99 & 0.848 & 39.51 & TBSQUARE & ⋯ & 2612985.0 & 981575 & 337375 & 2949395 & TRUE & 0.2299662 & negative & 0 & negative\\_TBSQUARE\\_HIVNegative & NA    \\\\\n",
       "\t5 & TBSQUARE\\_561\\_combined\\_61bp & TB Positive & Negative & Male   & 30 & Uganda & 84.33 & 0.827 & 55.04 & TBSQUARE & ⋯ &  280061.0 & 116883 &  52633 &  576244 & TRUE & 0.1567300 & positive & 1 & positive\\_TBSQUARE\\_HIVNegative & Medium\\\\\n",
       "\t6 & TBSQUARE\\_564\\_combined\\_61bp & TB Negative & Negative & Male   & 31 & Uganda & 43.59 & 0.515 &  8.71 & TBSQUARE & ⋯ &  656620.5 & 266199 &  64047 & 1245500 & TRUE & 0.1689352 & negative & 0 & negative\\_TBSQUARE\\_HIVNegative & NA    \\\\\n",
       "\\end{tabular}\n"
      ],
      "text/markdown": [
       "\n",
       "A data.frame: 6 × 37\n",
       "\n",
       "| <!--/--> | sample_id &lt;chr&gt; | micro_ref_stndrd &lt;chr&gt; | hiv &lt;chr&gt; | sex &lt;chr&gt; | age &lt;int&gt; | site &lt;chr&gt; | CAD4TB_score &lt;dbl&gt; | qXR_score &lt;dbl&gt; | Lunit_score &lt;dbl&gt; | cohort &lt;chr&gt; | ⋯ ⋯ | intergenic_reads &lt;dbl&gt; | rRNA_reads &lt;int&gt; | mtRNA_reads &lt;int&gt; | nuclear_reads &lt;int&gt; | passQC &lt;lgl&gt; | rRNA_fraction &lt;dbl&gt; | tb &lt;chr&gt; | tb_binary &lt;int&gt; | sample_group_granular &lt;chr&gt; | semiquant &lt;chr&gt; |\n",
       "|---|---|---|---|---|---|---|---|---|---|---|---|---|---|---|---|---|---|---|---|---|---|\n",
       "| 1 | TBSQUARE_553_combined_61bp | TB Positive | Negative | Male   | 40 | Uganda | 52.18 | 0.750 | 10.45 | TBSQUARE | ⋯ |  110844.5 |  49715 |  27582 |  222117 | TRUE | 0.1660410 | positive | 1 | positive_TBSQUARE_HIVNegative | High   |\n",
       "| 2 | TBSQUARE_554_combined_61bp | TB Negative | Negative | Female | 32 | Uganda | 46.19 | 0.029 |  4.05 | TBSQUARE | ⋯ | 1284694.5 | 711421 | 671337 | 1597402 | TRUE | 0.2387191 | negative | 0 | negative_TBSQUARE_HIVNegative | NA     |\n",
       "| 3 | TBSQUARE_555_combined_61bp | TB Positive | Negative | Female | 22 | Uganda | 95.08 | 0.931 | 31.83 | TBSQUARE | ⋯ |  621262.0 | 254790 |  47048 | 1075502 | TRUE | 0.1849870 | positive | 1 | positive_TBSQUARE_HIVNegative | Medium |\n",
       "| 4 | TBSQUARE_557_combined_61bp | TB Negative | Negative | Male   | 39 | Uganda | 60.99 | 0.848 | 39.51 | TBSQUARE | ⋯ | 2612985.0 | 981575 | 337375 | 2949395 | TRUE | 0.2299662 | negative | 0 | negative_TBSQUARE_HIVNegative | NA     |\n",
       "| 5 | TBSQUARE_561_combined_61bp | TB Positive | Negative | Male   | 30 | Uganda | 84.33 | 0.827 | 55.04 | TBSQUARE | ⋯ |  280061.0 | 116883 |  52633 |  576244 | TRUE | 0.1567300 | positive | 1 | positive_TBSQUARE_HIVNegative | Medium |\n",
       "| 6 | TBSQUARE_564_combined_61bp | TB Negative | Negative | Male   | 31 | Uganda | 43.59 | 0.515 |  8.71 | TBSQUARE | ⋯ |  656620.5 | 266199 |  64047 | 1245500 | TRUE | 0.1689352 | negative | 0 | negative_TBSQUARE_HIVNegative | NA     |\n",
       "\n"
      ],
      "text/plain": [
       "  sample_id                  micro_ref_stndrd hiv      sex    age site  \n",
       "1 TBSQUARE_553_combined_61bp TB Positive      Negative Male   40  Uganda\n",
       "2 TBSQUARE_554_combined_61bp TB Negative      Negative Female 32  Uganda\n",
       "3 TBSQUARE_555_combined_61bp TB Positive      Negative Female 22  Uganda\n",
       "4 TBSQUARE_557_combined_61bp TB Negative      Negative Male   39  Uganda\n",
       "5 TBSQUARE_561_combined_61bp TB Positive      Negative Male   30  Uganda\n",
       "6 TBSQUARE_564_combined_61bp TB Negative      Negative Male   31  Uganda\n",
       "  CAD4TB_score qXR_score Lunit_score cohort   ⋯ intergenic_reads rRNA_reads\n",
       "1 52.18        0.750     10.45       TBSQUARE ⋯  110844.5         49715    \n",
       "2 46.19        0.029      4.05       TBSQUARE ⋯ 1284694.5        711421    \n",
       "3 95.08        0.931     31.83       TBSQUARE ⋯  621262.0        254790    \n",
       "4 60.99        0.848     39.51       TBSQUARE ⋯ 2612985.0        981575    \n",
       "5 84.33        0.827     55.04       TBSQUARE ⋯  280061.0        116883    \n",
       "6 43.59        0.515      8.71       TBSQUARE ⋯  656620.5        266199    \n",
       "  mtRNA_reads nuclear_reads passQC rRNA_fraction tb       tb_binary\n",
       "1  27582       222117       TRUE   0.1660410     positive 1        \n",
       "2 671337      1597402       TRUE   0.2387191     negative 0        \n",
       "3  47048      1075502       TRUE   0.1849870     positive 1        \n",
       "4 337375      2949395       TRUE   0.2299662     negative 0        \n",
       "5  52633       576244       TRUE   0.1567300     positive 1        \n",
       "6  64047      1245500       TRUE   0.1689352     negative 0        \n",
       "  sample_group_granular         semiquant\n",
       "1 positive_TBSQUARE_HIVNegative High     \n",
       "2 negative_TBSQUARE_HIVNegative NA       \n",
       "3 positive_TBSQUARE_HIVNegative Medium   \n",
       "4 negative_TBSQUARE_HIVNegative NA       \n",
       "5 positive_TBSQUARE_HIVNegative Medium   \n",
       "6 negative_TBSQUARE_HIVNegative NA       "
      ]
     },
     "metadata": {},
     "output_type": "display_data"
    }
   ],
   "source": [
    "head(meta_wb)\n",
    "head(metadata_val)"
   ]
  },
  {
   "cell_type": "code",
   "execution_count": 79,
   "id": "bdcd5329-4648-46ac-8df5-ec0135a891ad",
   "metadata": {},
   "outputs": [
    {
     "data": {
      "text/html": [
       "<table class=\"dataframe\">\n",
       "<caption>A data.frame: 6 × 37</caption>\n",
       "<thead>\n",
       "\t<tr><th></th><th scope=col>sample_id</th><th scope=col>micro_ref_stndrd</th><th scope=col>hiv</th><th scope=col>sex</th><th scope=col>age</th><th scope=col>site</th><th scope=col>CAD4TB_score</th><th scope=col>qXR_score</th><th scope=col>Lunit_score</th><th scope=col>cohort</th><th scope=col>⋯</th><th scope=col>intergenic_reads</th><th scope=col>rRNA_reads</th><th scope=col>mtRNA_reads</th><th scope=col>nuclear_reads</th><th scope=col>passQC</th><th scope=col>rRNA_fraction</th><th scope=col>tb</th><th scope=col>tb_binary</th><th scope=col>sample_group_granular</th><th scope=col>semiquant</th></tr>\n",
       "\t<tr><th></th><th scope=col>&lt;chr&gt;</th><th scope=col>&lt;chr&gt;</th><th scope=col>&lt;chr&gt;</th><th scope=col>&lt;chr&gt;</th><th scope=col>&lt;int&gt;</th><th scope=col>&lt;chr&gt;</th><th scope=col>&lt;dbl&gt;</th><th scope=col>&lt;dbl&gt;</th><th scope=col>&lt;dbl&gt;</th><th scope=col>&lt;chr&gt;</th><th scope=col>⋯</th><th scope=col>&lt;dbl&gt;</th><th scope=col>&lt;int&gt;</th><th scope=col>&lt;int&gt;</th><th scope=col>&lt;int&gt;</th><th scope=col>&lt;lgl&gt;</th><th scope=col>&lt;dbl&gt;</th><th scope=col>&lt;chr&gt;</th><th scope=col>&lt;int&gt;</th><th scope=col>&lt;chr&gt;</th><th scope=col>&lt;chr&gt;</th></tr>\n",
       "</thead>\n",
       "<tbody>\n",
       "\t<tr><th scope=row>1</th><td>TBSQUARE_553</td><td>TB Positive</td><td>Negative</td><td>Male  </td><td>40</td><td>Uganda</td><td>52.18</td><td>0.750</td><td>10.45</td><td>TBSQUARE</td><td>⋯</td><td> 110844.5</td><td> 49715</td><td> 27582</td><td> 222117</td><td>TRUE</td><td>0.1660410</td><td>positive</td><td>1</td><td>positive_TBSQUARE_HIVNegative</td><td>High  </td></tr>\n",
       "\t<tr><th scope=row>2</th><td>TBSQUARE_554</td><td>TB Negative</td><td>Negative</td><td>Female</td><td>32</td><td>Uganda</td><td>46.19</td><td>0.029</td><td> 4.05</td><td>TBSQUARE</td><td>⋯</td><td>1284694.5</td><td>711421</td><td>671337</td><td>1597402</td><td>TRUE</td><td>0.2387191</td><td>negative</td><td>0</td><td>negative_TBSQUARE_HIVNegative</td><td>NA    </td></tr>\n",
       "\t<tr><th scope=row>3</th><td>TBSQUARE_555</td><td>TB Positive</td><td>Negative</td><td>Female</td><td>22</td><td>Uganda</td><td>95.08</td><td>0.931</td><td>31.83</td><td>TBSQUARE</td><td>⋯</td><td> 621262.0</td><td>254790</td><td> 47048</td><td>1075502</td><td>TRUE</td><td>0.1849870</td><td>positive</td><td>1</td><td>positive_TBSQUARE_HIVNegative</td><td>Medium</td></tr>\n",
       "\t<tr><th scope=row>4</th><td>TBSQUARE_557</td><td>TB Negative</td><td>Negative</td><td>Male  </td><td>39</td><td>Uganda</td><td>60.99</td><td>0.848</td><td>39.51</td><td>TBSQUARE</td><td>⋯</td><td>2612985.0</td><td>981575</td><td>337375</td><td>2949395</td><td>TRUE</td><td>0.2299662</td><td>negative</td><td>0</td><td>negative_TBSQUARE_HIVNegative</td><td>NA    </td></tr>\n",
       "\t<tr><th scope=row>5</th><td>TBSQUARE_561</td><td>TB Positive</td><td>Negative</td><td>Male  </td><td>30</td><td>Uganda</td><td>84.33</td><td>0.827</td><td>55.04</td><td>TBSQUARE</td><td>⋯</td><td> 280061.0</td><td>116883</td><td> 52633</td><td> 576244</td><td>TRUE</td><td>0.1567300</td><td>positive</td><td>1</td><td>positive_TBSQUARE_HIVNegative</td><td>Medium</td></tr>\n",
       "\t<tr><th scope=row>6</th><td>TBSQUARE_564</td><td>TB Negative</td><td>Negative</td><td>Male  </td><td>31</td><td>Uganda</td><td>43.59</td><td>0.515</td><td> 8.71</td><td>TBSQUARE</td><td>⋯</td><td> 656620.5</td><td>266199</td><td> 64047</td><td>1245500</td><td>TRUE</td><td>0.1689352</td><td>negative</td><td>0</td><td>negative_TBSQUARE_HIVNegative</td><td>NA    </td></tr>\n",
       "</tbody>\n",
       "</table>\n"
      ],
      "text/latex": [
       "A data.frame: 6 × 37\n",
       "\\begin{tabular}{r|lllllllllllllllllllll}\n",
       "  & sample\\_id & micro\\_ref\\_stndrd & hiv & sex & age & site & CAD4TB\\_score & qXR\\_score & Lunit\\_score & cohort & ⋯ & intergenic\\_reads & rRNA\\_reads & mtRNA\\_reads & nuclear\\_reads & passQC & rRNA\\_fraction & tb & tb\\_binary & sample\\_group\\_granular & semiquant\\\\\n",
       "  & <chr> & <chr> & <chr> & <chr> & <int> & <chr> & <dbl> & <dbl> & <dbl> & <chr> & ⋯ & <dbl> & <int> & <int> & <int> & <lgl> & <dbl> & <chr> & <int> & <chr> & <chr>\\\\\n",
       "\\hline\n",
       "\t1 & TBSQUARE\\_553 & TB Positive & Negative & Male   & 40 & Uganda & 52.18 & 0.750 & 10.45 & TBSQUARE & ⋯ &  110844.5 &  49715 &  27582 &  222117 & TRUE & 0.1660410 & positive & 1 & positive\\_TBSQUARE\\_HIVNegative & High  \\\\\n",
       "\t2 & TBSQUARE\\_554 & TB Negative & Negative & Female & 32 & Uganda & 46.19 & 0.029 &  4.05 & TBSQUARE & ⋯ & 1284694.5 & 711421 & 671337 & 1597402 & TRUE & 0.2387191 & negative & 0 & negative\\_TBSQUARE\\_HIVNegative & NA    \\\\\n",
       "\t3 & TBSQUARE\\_555 & TB Positive & Negative & Female & 22 & Uganda & 95.08 & 0.931 & 31.83 & TBSQUARE & ⋯ &  621262.0 & 254790 &  47048 & 1075502 & TRUE & 0.1849870 & positive & 1 & positive\\_TBSQUARE\\_HIVNegative & Medium\\\\\n",
       "\t4 & TBSQUARE\\_557 & TB Negative & Negative & Male   & 39 & Uganda & 60.99 & 0.848 & 39.51 & TBSQUARE & ⋯ & 2612985.0 & 981575 & 337375 & 2949395 & TRUE & 0.2299662 & negative & 0 & negative\\_TBSQUARE\\_HIVNegative & NA    \\\\\n",
       "\t5 & TBSQUARE\\_561 & TB Positive & Negative & Male   & 30 & Uganda & 84.33 & 0.827 & 55.04 & TBSQUARE & ⋯ &  280061.0 & 116883 &  52633 &  576244 & TRUE & 0.1567300 & positive & 1 & positive\\_TBSQUARE\\_HIVNegative & Medium\\\\\n",
       "\t6 & TBSQUARE\\_564 & TB Negative & Negative & Male   & 31 & Uganda & 43.59 & 0.515 &  8.71 & TBSQUARE & ⋯ &  656620.5 & 266199 &  64047 & 1245500 & TRUE & 0.1689352 & negative & 0 & negative\\_TBSQUARE\\_HIVNegative & NA    \\\\\n",
       "\\end{tabular}\n"
      ],
      "text/markdown": [
       "\n",
       "A data.frame: 6 × 37\n",
       "\n",
       "| <!--/--> | sample_id &lt;chr&gt; | micro_ref_stndrd &lt;chr&gt; | hiv &lt;chr&gt; | sex &lt;chr&gt; | age &lt;int&gt; | site &lt;chr&gt; | CAD4TB_score &lt;dbl&gt; | qXR_score &lt;dbl&gt; | Lunit_score &lt;dbl&gt; | cohort &lt;chr&gt; | ⋯ ⋯ | intergenic_reads &lt;dbl&gt; | rRNA_reads &lt;int&gt; | mtRNA_reads &lt;int&gt; | nuclear_reads &lt;int&gt; | passQC &lt;lgl&gt; | rRNA_fraction &lt;dbl&gt; | tb &lt;chr&gt; | tb_binary &lt;int&gt; | sample_group_granular &lt;chr&gt; | semiquant &lt;chr&gt; |\n",
       "|---|---|---|---|---|---|---|---|---|---|---|---|---|---|---|---|---|---|---|---|---|---|\n",
       "| 1 | TBSQUARE_553 | TB Positive | Negative | Male   | 40 | Uganda | 52.18 | 0.750 | 10.45 | TBSQUARE | ⋯ |  110844.5 |  49715 |  27582 |  222117 | TRUE | 0.1660410 | positive | 1 | positive_TBSQUARE_HIVNegative | High   |\n",
       "| 2 | TBSQUARE_554 | TB Negative | Negative | Female | 32 | Uganda | 46.19 | 0.029 |  4.05 | TBSQUARE | ⋯ | 1284694.5 | 711421 | 671337 | 1597402 | TRUE | 0.2387191 | negative | 0 | negative_TBSQUARE_HIVNegative | NA     |\n",
       "| 3 | TBSQUARE_555 | TB Positive | Negative | Female | 22 | Uganda | 95.08 | 0.931 | 31.83 | TBSQUARE | ⋯ |  621262.0 | 254790 |  47048 | 1075502 | TRUE | 0.1849870 | positive | 1 | positive_TBSQUARE_HIVNegative | Medium |\n",
       "| 4 | TBSQUARE_557 | TB Negative | Negative | Male   | 39 | Uganda | 60.99 | 0.848 | 39.51 | TBSQUARE | ⋯ | 2612985.0 | 981575 | 337375 | 2949395 | TRUE | 0.2299662 | negative | 0 | negative_TBSQUARE_HIVNegative | NA     |\n",
       "| 5 | TBSQUARE_561 | TB Positive | Negative | Male   | 30 | Uganda | 84.33 | 0.827 | 55.04 | TBSQUARE | ⋯ |  280061.0 | 116883 |  52633 |  576244 | TRUE | 0.1567300 | positive | 1 | positive_TBSQUARE_HIVNegative | Medium |\n",
       "| 6 | TBSQUARE_564 | TB Negative | Negative | Male   | 31 | Uganda | 43.59 | 0.515 |  8.71 | TBSQUARE | ⋯ |  656620.5 | 266199 |  64047 | 1245500 | TRUE | 0.1689352 | negative | 0 | negative_TBSQUARE_HIVNegative | NA     |\n",
       "\n"
      ],
      "text/plain": [
       "  sample_id    micro_ref_stndrd hiv      sex    age site   CAD4TB_score\n",
       "1 TBSQUARE_553 TB Positive      Negative Male   40  Uganda 52.18       \n",
       "2 TBSQUARE_554 TB Negative      Negative Female 32  Uganda 46.19       \n",
       "3 TBSQUARE_555 TB Positive      Negative Female 22  Uganda 95.08       \n",
       "4 TBSQUARE_557 TB Negative      Negative Male   39  Uganda 60.99       \n",
       "5 TBSQUARE_561 TB Positive      Negative Male   30  Uganda 84.33       \n",
       "6 TBSQUARE_564 TB Negative      Negative Male   31  Uganda 43.59       \n",
       "  qXR_score Lunit_score cohort   ⋯ intergenic_reads rRNA_reads mtRNA_reads\n",
       "1 0.750     10.45       TBSQUARE ⋯  110844.5         49715      27582     \n",
       "2 0.029      4.05       TBSQUARE ⋯ 1284694.5        711421     671337     \n",
       "3 0.931     31.83       TBSQUARE ⋯  621262.0        254790      47048     \n",
       "4 0.848     39.51       TBSQUARE ⋯ 2612985.0        981575     337375     \n",
       "5 0.827     55.04       TBSQUARE ⋯  280061.0        116883      52633     \n",
       "6 0.515      8.71       TBSQUARE ⋯  656620.5        266199      64047     \n",
       "  nuclear_reads passQC rRNA_fraction tb       tb_binary\n",
       "1  222117       TRUE   0.1660410     positive 1        \n",
       "2 1597402       TRUE   0.2387191     negative 0        \n",
       "3 1075502       TRUE   0.1849870     positive 1        \n",
       "4 2949395       TRUE   0.2299662     negative 0        \n",
       "5  576244       TRUE   0.1567300     positive 1        \n",
       "6 1245500       TRUE   0.1689352     negative 0        \n",
       "  sample_group_granular         semiquant\n",
       "1 positive_TBSQUARE_HIVNegative High     \n",
       "2 negative_TBSQUARE_HIVNegative NA       \n",
       "3 positive_TBSQUARE_HIVNegative Medium   \n",
       "4 negative_TBSQUARE_HIVNegative NA       \n",
       "5 positive_TBSQUARE_HIVNegative Medium   \n",
       "6 negative_TBSQUARE_HIVNegative NA       "
      ]
     },
     "metadata": {},
     "output_type": "display_data"
    },
    {
     "data": {
      "text/html": [
       "<table class=\"dataframe\">\n",
       "<caption>A data.frame: 6 × 5</caption>\n",
       "<thead>\n",
       "\t<tr><th></th><th scope=col>sample_id</th><th scope=col>site</th><th scope=col>cohort</th><th scope=col>hiv</th><th scope=col>tb</th></tr>\n",
       "\t<tr><th></th><th scope=col>&lt;chr&gt;</th><th scope=col>&lt;chr&gt;</th><th scope=col>&lt;chr&gt;</th><th scope=col>&lt;chr&gt;</th><th scope=col>&lt;chr&gt;</th></tr>\n",
       "</thead>\n",
       "<tbody>\n",
       "\t<tr><th scope=row>1</th><td>TBSQUARE_553</td><td>Uganda</td><td>TBSQUARE</td><td>Negative</td><td>Positive</td></tr>\n",
       "\t<tr><th scope=row>2</th><td>TBSQUARE_561</td><td>Uganda</td><td>TBSQUARE</td><td>Negative</td><td>Positive</td></tr>\n",
       "\t<tr><th scope=row>3</th><td>TBSQUARE_554</td><td>Uganda</td><td>TBSQUARE</td><td>Negative</td><td>Negative</td></tr>\n",
       "\t<tr><th scope=row>4</th><td>TBSQUARE_555</td><td>Uganda</td><td>TBSQUARE</td><td>Negative</td><td>Positive</td></tr>\n",
       "\t<tr><th scope=row>5</th><td>TBSQUARE_564</td><td>Uganda</td><td>TBSQUARE</td><td>Negative</td><td>Negative</td></tr>\n",
       "\t<tr><th scope=row>6</th><td>TBSQUARE_557</td><td>Uganda</td><td>TBSQUARE</td><td>Negative</td><td>Negative</td></tr>\n",
       "</tbody>\n",
       "</table>\n"
      ],
      "text/latex": [
       "A data.frame: 6 × 5\n",
       "\\begin{tabular}{r|lllll}\n",
       "  & sample\\_id & site & cohort & hiv & tb\\\\\n",
       "  & <chr> & <chr> & <chr> & <chr> & <chr>\\\\\n",
       "\\hline\n",
       "\t1 & TBSQUARE\\_553 & Uganda & TBSQUARE & Negative & Positive\\\\\n",
       "\t2 & TBSQUARE\\_561 & Uganda & TBSQUARE & Negative & Positive\\\\\n",
       "\t3 & TBSQUARE\\_554 & Uganda & TBSQUARE & Negative & Negative\\\\\n",
       "\t4 & TBSQUARE\\_555 & Uganda & TBSQUARE & Negative & Positive\\\\\n",
       "\t5 & TBSQUARE\\_564 & Uganda & TBSQUARE & Negative & Negative\\\\\n",
       "\t6 & TBSQUARE\\_557 & Uganda & TBSQUARE & Negative & Negative\\\\\n",
       "\\end{tabular}\n"
      ],
      "text/markdown": [
       "\n",
       "A data.frame: 6 × 5\n",
       "\n",
       "| <!--/--> | sample_id &lt;chr&gt; | site &lt;chr&gt; | cohort &lt;chr&gt; | hiv &lt;chr&gt; | tb &lt;chr&gt; |\n",
       "|---|---|---|---|---|---|\n",
       "| 1 | TBSQUARE_553 | Uganda | TBSQUARE | Negative | Positive |\n",
       "| 2 | TBSQUARE_561 | Uganda | TBSQUARE | Negative | Positive |\n",
       "| 3 | TBSQUARE_554 | Uganda | TBSQUARE | Negative | Negative |\n",
       "| 4 | TBSQUARE_555 | Uganda | TBSQUARE | Negative | Positive |\n",
       "| 5 | TBSQUARE_564 | Uganda | TBSQUARE | Negative | Negative |\n",
       "| 6 | TBSQUARE_557 | Uganda | TBSQUARE | Negative | Negative |\n",
       "\n"
      ],
      "text/plain": [
       "  sample_id    site   cohort   hiv      tb      \n",
       "1 TBSQUARE_553 Uganda TBSQUARE Negative Positive\n",
       "2 TBSQUARE_561 Uganda TBSQUARE Negative Positive\n",
       "3 TBSQUARE_554 Uganda TBSQUARE Negative Negative\n",
       "4 TBSQUARE_555 Uganda TBSQUARE Negative Positive\n",
       "5 TBSQUARE_564 Uganda TBSQUARE Negative Negative\n",
       "6 TBSQUARE_557 Uganda TBSQUARE Negative Negative"
      ]
     },
     "metadata": {},
     "output_type": "display_data"
    }
   ],
   "source": [
    "wb_meta = meta_wb\n",
    "wb_meta$sample_id <- gsub(\"_WBRNA\", \"\", wb_meta$sample_id)\n",
    "val_meta = metadata_val\n",
    "val_meta$sample_id = gsub(\"_combined_61bp\", \"\", val_meta$sample_id)\n",
    "head(val_meta)\n",
    "head(wb_meta)"
   ]
  },
  {
   "cell_type": "code",
   "execution_count": 81,
   "id": "276e29aa-5feb-45c2-86ad-6502dec5322f",
   "metadata": {},
   "outputs": [
    {
     "data": {
      "text/html": [
       "60"
      ],
      "text/latex": [
       "60"
      ],
      "text/markdown": [
       "60"
      ],
      "text/plain": [
       "[1] 60"
      ]
     },
     "metadata": {},
     "output_type": "display_data"
    }
   ],
   "source": [
    "length(intersect(val_meta$sample_id, wb_meta$sample_id))"
   ]
  },
  {
   "cell_type": "code",
   "execution_count": null,
   "id": "953bbcb7-6b00-43a4-b56f-35b7f736b849",
   "metadata": {},
   "outputs": [],
   "source": []
  }
 ],
 "metadata": {
  "kernelspec": {
   "display_name": "R",
   "language": "R",
   "name": "ir"
  },
  "language_info": {
   "codemirror_mode": "r",
   "file_extension": ".r",
   "mimetype": "text/x-r-source",
   "name": "R",
   "pygments_lexer": "r",
   "version": "4.2.0"
  }
 },
 "nbformat": 4,
 "nbformat_minor": 5
}
